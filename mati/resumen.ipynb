{
 "cells": [
  {
   "cell_type": "code",
   "execution_count": 6,
   "metadata": {},
   "outputs": [],
   "source": [
    "#TODA FUNCIÓN TIENE SU PROPIO CONJUNTO DE VARIABLES, LAS CUALES NO TIENEN POR QUÉ ESTAR RELACIONADAS CON LAS VARIABLES\n",
    "#DE OTRA FUNCIÓN\n",
    "#Por esto mismo, se define el scope, que es el espacio local donde una variable es útil. \n",
    "#Podriamos decir que el scope crea la noción de localidad y globalidad.\n",
    "#La gracia de definir un scope es identificar cuantas variables son usadas en una función particular, o en otras palabras\n",
    "#cuantas están siendo locales.\n",
    "#En PYTHON podemos identificar estas variables a traves de la función locals()\n",
    "\n",
    "import math\n",
    "\n",
    "def hipotenusa(cateto_opuesto:int, cateto_adyacente:int)->int:\n",
    "    \n",
    "    valor_hipotenusa = math.sqrt(cateto_opuesto ** 2 + cateto_adyacente ** 2)\n",
    "    print(f'ESTAS SON TUS VARIABLES: {locals()}')\n",
    "    return valor_hipotenusa"
   ]
  },
  {
   "cell_type": "code",
   "execution_count": 7,
   "metadata": {},
   "outputs": [
    {
     "name": "stdout",
     "output_type": "stream",
     "text": [
      "ESTAS SON TUS VARIABLES: {'cateto_opuesto': 3, 'cateto_adyacente': 4, 'valor_hipotenusa': 5.0}\n"
     ]
    },
    {
     "data": {
      "text/plain": [
       "5.0"
      ]
     },
     "execution_count": 7,
     "metadata": {},
     "output_type": "execute_result"
    }
   ],
   "source": [
    "hipotenusa(3,4)"
   ]
  },
  {
   "cell_type": "code",
   "execution_count": 8,
   "metadata": {},
   "outputs": [
    {
     "ename": "NameError",
     "evalue": "name 'cateto_opuesto' is not defined",
     "output_type": "error",
     "traceback": [
      "\u001b[1;31m---------------------------------------------------------------------------\u001b[0m",
      "\u001b[1;31mNameError\u001b[0m                                 Traceback (most recent call last)",
      "\u001b[1;32m~\\AppData\\Local\\Temp\\ipykernel_18116\\409277042.py\u001b[0m in \u001b[0;36m<module>\u001b[1;34m\u001b[0m\n\u001b[0;32m      1\u001b[0m \u001b[1;31m#CUANDO UNA VARIABLE SE CREA DENTRO DE UNA FUNCIÓN, ESTA SOLO SERA ÚTIL DENTRO DE ESA FUNCIÓN\u001b[0m\u001b[1;33m\u001b[0m\u001b[1;33m\u001b[0m\u001b[0m\n\u001b[1;32m----> 2\u001b[1;33m \u001b[0mcateto_opuesto\u001b[0m\u001b[1;33m\u001b[0m\u001b[1;33m\u001b[0m\u001b[0m\n\u001b[0m",
      "\u001b[1;31mNameError\u001b[0m: name 'cateto_opuesto' is not defined"
     ]
    }
   ],
   "source": [
    "#CUANDO UNA VARIABLE SE CREA DENTRO DE UNA FUNCIÓN, ESTA SOLO SERA ÚTIL DENTRO DE ESA FUNCIÓN\n",
    "cateto_opuesto"
   ]
  },
  {
   "cell_type": "code",
   "execution_count": 3,
   "metadata": {},
   "outputs": [],
   "source": [
    "#PODEMOS FIJAR UNA VARIABLE GLOBAL, DEFINIENDOLA ANTES DE CREAR NUESTRA FUNCIÓN\n",
    "cateto_opuesto = 3\n",
    "\n",
    "def hipotenusa_2(cateto_adyacente):\n",
    "    \n",
    "    global cateto_opuesto\n",
    "    valor_hipotenusa = math.sqrt(cateto_opuesto ** 2 + cateto_adyacente ** 2)\n",
    "\n",
    "    return valor_hipotenusa"
   ]
  },
  {
   "cell_type": "code",
   "execution_count": 10,
   "metadata": {},
   "outputs": [
    {
     "data": {
      "text/plain": [
       "13.0"
      ]
     },
     "execution_count": 10,
     "metadata": {},
     "output_type": "execute_result"
    }
   ],
   "source": [
    "hipotenusa_2(5)"
   ]
  },
  {
   "cell_type": "code",
   "execution_count": 11,
   "metadata": {},
   "outputs": [
    {
     "data": {
      "text/plain": [
       "3"
      ]
     },
     "execution_count": 11,
     "metadata": {},
     "output_type": "execute_result"
    }
   ],
   "source": [
    "cateto_opuesto"
   ]
  },
  {
   "cell_type": "code",
   "execution_count": 12,
   "metadata": {},
   "outputs": [
    {
     "data": {
      "text/plain": [
       "0.6"
      ]
     },
     "execution_count": 12,
     "metadata": {},
     "output_type": "execute_result"
    }
   ],
   "source": [
    "def seno(hipotenusa):\n",
    "    funcion_seno = cateto_opuesto/hipotenusa\n",
    "\n",
    "    return funcion_seno\n",
    "seno(5)"
   ]
  },
  {
   "cell_type": "code",
   "execution_count": 19,
   "metadata": {},
   "outputs": [
    {
     "name": "stdout",
     "output_type": "stream",
     "text": [
      "ESTAS SON TUS VARIABLES: {'cateto_opuesto': 4, 'cateto_adyacente': 5, 'valor_hipotenusa': 6.4031242374328485}\n"
     ]
    },
    {
     "ename": "AssertionError",
     "evalue": "EL VALOR DE LA HIPOTENUSA JAMÁS ES NEGATIVO",
     "output_type": "error",
     "traceback": [
      "\u001b[1;31m---------------------------------------------------------------------------\u001b[0m",
      "\u001b[1;31mAssertionError\u001b[0m                            Traceback (most recent call last)",
      "\u001b[1;32m~\\AppData\\Local\\Temp\\ipykernel_936\\2120760493.py\u001b[0m in \u001b[0;36m<module>\u001b[1;34m\u001b[0m\n\u001b[0;32m      8\u001b[0m \u001b[1;31m#Y NUESTRO CODIGO SE DETIENE.\u001b[0m\u001b[1;33m\u001b[0m\u001b[1;33m\u001b[0m\u001b[0m\n\u001b[0;32m      9\u001b[0m \u001b[1;33m\u001b[0m\u001b[0m\n\u001b[1;32m---> 10\u001b[1;33m \u001b[1;32massert\u001b[0m \u001b[0mhipotenusa\u001b[0m\u001b[1;33m(\u001b[0m\u001b[1;36m4\u001b[0m\u001b[1;33m,\u001b[0m\u001b[1;36m5\u001b[0m\u001b[1;33m)\u001b[0m \u001b[1;33m<\u001b[0m \u001b[1;36m0\u001b[0m\u001b[1;33m,\u001b[0m \u001b[1;34m'EL VALOR DE LA HIPOTENUSA JAMÁS ES NEGATIVO'\u001b[0m\u001b[1;33m\u001b[0m\u001b[1;33m\u001b[0m\u001b[0m\n\u001b[0m\u001b[0;32m     11\u001b[0m \u001b[0mhipotenusa\u001b[0m\u001b[1;33m(\u001b[0m\u001b[1;36m4\u001b[0m\u001b[1;33m,\u001b[0m\u001b[1;36m5\u001b[0m\u001b[1;33m)\u001b[0m\u001b[1;33m\u001b[0m\u001b[1;33m\u001b[0m\u001b[0m\n",
      "\u001b[1;31mAssertionError\u001b[0m: EL VALOR DE LA HIPOTENUSA JAMÁS ES NEGATIVO"
     ]
    }
   ],
   "source": [
    "#UNIT TESTING: METODO PARA COMPROBAR QUE EL CODIGO FUNCIONE CORRECTAMENTE.\n",
    "#LA IDEA ES CREAR CASOS DE PRUEBA PARA EL CODIGO, DONDE LOS VALORES DE LOS\n",
    "#PARÁMETROS O VARIABLES SEAN CORRECTOS, TAL QUE LA FUNCIÓN CREADA SEA CAPAZ DE \n",
    "#RETORNAR UN VALOR.\n",
    "#PARA COMPROBAR QUE NUESTRO PROGRAMA SE EJECUTA BIEN Y NOS ENTREGA UN RESULTADO LÓGICO,\n",
    "#PYTHON TIENE LA FUNCIÓN ASSERT, LA CUAL VERIFICA CONDICIONES\n",
    "#CUANDO UNA CONDICIÓN NO SE CUMPLE EN NUESTRO PROGRAMA, LA FUNCIÓN ASSERT LANZA UN ERROR,\n",
    "#Y NUESTRO CODIGO SE DETIENE.\n",
    "\n",
    "assert hipotenusa(4,5) < 0, 'EL VALOR DE LA HIPOTENUSA JAMÁS ES NEGATIVO'\n",
    "hipotenusa(4,5)"
   ]
  },
  {
   "cell_type": "code",
   "execution_count": 20,
   "metadata": {},
   "outputs": [
    {
     "name": "stdout",
     "output_type": "stream",
     "text": [
      "ESTAS SON TUS VARIABLES: {'cateto_opuesto': 4, 'cateto_adyacente': 5, 'valor_hipotenusa': 6.4031242374328485}\n",
      "ESTAS SON TUS VARIABLES: {'cateto_opuesto': 4, 'cateto_adyacente': 5, 'valor_hipotenusa': 6.4031242374328485}\n"
     ]
    },
    {
     "data": {
      "text/plain": [
       "6.4031242374328485"
      ]
     },
     "execution_count": 20,
     "metadata": {},
     "output_type": "execute_result"
    }
   ],
   "source": [
    "#CUANDO UNA CONDICIÓN SE VERIFICA, ENTONCES EL CODIGO DE LA FUNCIÓN QUE DEFINIMOS\n",
    "#SE EJECUTA HASTA EL FINAL.\n",
    "assert hipotenusa(4,5) > 0, 'EL VALOR DE LA HIPOTENUSA JAMÁS ES NEGATIVO'\n",
    "hipotenusa(4,5)"
   ]
  },
  {
   "cell_type": "code",
   "execution_count": 9,
   "metadata": {},
   "outputs": [
    {
     "name": "stdout",
     "output_type": "stream",
     "text": [
      "['bobby', 'hadz', 'com']\n"
     ]
    }
   ],
   "source": [
    "list_of_strings = ['BOBBY', 'HADZ', 'COM']\n",
    "\n",
    "result = list(map(str.lower, list_of_strings))\n",
    "print(result) "
   ]
  },
  {
   "cell_type": "code",
   "execution_count": 1,
   "metadata": {},
   "outputs": [
    {
     "name": "stdout",
     "output_type": "stream",
     "text": [
      "tu texto es: HOLA COMO ESTAS\n"
     ]
    }
   ],
   "source": [
    "#En strings el método .upper() permite transformar el contenido en mayúsculas. Cree la función to_upper(texto) que toma un caracter\n",
    "#(un string de largo 1) y retorna una versión en mayúsculas. Luego, utilice la función map() sobre cada caracter del string.\n",
    "\n",
    "def mayus(n):   #defino una funcion con una variable\n",
    "    return str.upper(n) #defino la accion que le ocurrira a la variable y que se devolvera hacia mi\n",
    "\n",
    "lista_vacia = []    #creo una lista para rellenar   \n",
    "numero_de_palabras = int(input('ingresa un numero'))    #le agrego el número de elementos que tendrá la lista, los cuales definiran un texto\n",
    "\n",
    "for _ in range(0,numero_de_palabras):   #para cada número designado entre la primera y la ultima palabra\n",
    "    ingresa_palabras = input('ingresa una o varias palabras en minúsculas')   #le preguntamos al usuario qué palabras desea escoger\n",
    "    lista_vacia.append(ingresa_palabras)    #y estas palabras las agregamos en la lista vacia\n",
    "\n",
    "map(mayus,lista_vacia)  #despues aplicamos la funcion mayus sobre cada una de las palabras ingresadas en la lista previamente vacia\n",
    "nueva_lista = list(map(mayus,lista_vacia))  #transformamos estas palabras en mayusculas\n",
    "concatenacion = ' '.join(nueva_lista)   #les agregamos un espacio entre ellas\n",
    "print(f'tu texto es: {concatenacion}')  #imprimimos un texto\n"
   ]
  },
  {
   "cell_type": "code",
   "execution_count": 6,
   "metadata": {},
   "outputs": [
    {
     "name": "stdout",
     "output_type": "stream",
     "text": [
      "1) tu texto antiguo es: soy aquella fuerza que siempre quiere el mal y siempre practica el bien\n",
      "2) tu nuevo texto es: aquella fuerza siempre quiere siempre practica bien\n",
      "3) tu nuevo texto -sin palabras repetidas- es: aquella fuerza siempre quiere practica bien\n",
      "4) tu nuevo texto -pero en otro orden- es: bien fuerza siempre quiere practica aquella\n"
     ]
    }
   ],
   "source": [
    "#El método .split() permite obtener todas las palabras de un string. \n",
    "#Por otra parte, la función len() permite obtener el largo de un arreglo o cantidad de letras en una palabra. \n",
    "#Cree la función separador() que separe un texto por espacios (' ') y quite todas aquellas palabras de tamaño 3 o menos usando filter().\n",
    "\n",
    "import random\n",
    "\n",
    "interaccion_con_usuario = input('INGRESA UN TEXTO') #se le pide un string al usuario, como por ejemplo el dialogo de un libro\n",
    "cortado_de_texto = interaccion_con_usuario.split(\" \")   #se crea una lista, donde los elementos escogidos son cortados del string cada 1 espacio\n",
    "print(f'1) tu texto antiguo es: {interaccion_con_usuario}') #por otro lado imprimimos el string que ingreso el usuario para compararlo despues\n",
    "\n",
    "filtro_de_texto = filter(lambda palabras: 3 < len(palabras), cortado_de_texto)  #ademas, a la lista con todas las palabras le aplicamos un filtro\n",
    "nueva_lista = list(filtro_de_texto) #el filtro es que a todas las palabras de la lista \"cortado de texto\" que tengan 3 o menos caracteres se les elimina\n",
    "\n",
    "concatenacion_1 = ' '.join(nueva_lista) #a la lista con las palabras que quedaron, las concatenamos para crear un texto nuevo con las palabras sobrantes \n",
    "print(f'2) tu nuevo texto es: {concatenacion_1}')  #imprimimos ese texto\n",
    "\n",
    "lista_para_llenar = []\n",
    "for i in nueva_lista:\n",
    "    if i not in lista_para_llenar:\n",
    "        lista_para_llenar.append(i)\n",
    "        lista_para_llenar\n",
    "\n",
    "concatenacion_2 = ' '.join(lista_para_llenar) #a la lista con las palabras que quedaron, las concatenamos para crear un texto nuevo con las palabras sobrantes \n",
    "print(f'3) tu nuevo texto -sin palabras repetidas- es: {concatenacion_2}')  #imprimimos ese texto\n",
    "\n",
    "random.shuffle(lista_para_llenar)\n",
    "concatenacion_3 = ' '.join(lista_para_llenar) #a la lista con las palabras que quedaron, las concatenamos para crear un texto nuevo con las palabras sobrantes \n",
    "print(f'4) tu nuevo texto -pero en otro orden- es: {concatenacion_3}')  #imprimimos ese texto"
   ]
  },
  {
   "cell_type": "code",
   "execution_count": 10,
   "metadata": {},
   "outputs": [
    {
     "name": "stdout",
     "output_type": "stream",
     "text": [
      "la lista con los elementos que escogiste es: [1, 2]\n",
      "la suma total de estos elementos es de: 3\n",
      "el numero de elementos de tu lista es: 2\n",
      "el promedio de los elementos de tu lista es: 1.5\n"
     ]
    }
   ],
   "source": [
    "#Cree la función promedio(lista) la cual calcule el promedio usando solo las funciones reduce() y len()\n",
    "\n",
    "from functools import reduce    #functools permite usar los funcionales de python, objetos que retornan una funcion a una variable seleccionada\n",
    "\n",
    "def promedio(lista_vacia):  #se define un funcional sobre una lista vacia que va a llenarse mas abajo\n",
    "    return reduce(lambda x, y: x + y, lista_vacia) / len(lista_vacia)   #se le pide al funcional promedio que me retorne el promedio de los elementos de la lista\n",
    "#el promedio esta hecho con el comando reduce, la cual aplica una funcion suma sobre los elementos que colocamos en la lista vacia\n",
    "#la funcion suma funciona asi: se toma el primer y segundo elemento de la lista y ese resultado se suma con el tercero, el resultado de esta suma se sumara al cuarto termino y asi\n",
    "#el reduce lo dividiremos por el numero de elementos de la lista, definiendo un promedio\n",
    "\n",
    "lista_vacia = []    #se crea una lista que vamos a llenar\n",
    "numero_de_elementos = int(input('cuantos elementos quiere en su lista'))    \n",
    "\n",
    "for _ in range(0,numero_de_elementos):\n",
    "    elementos = int(input('ingrese qué elementos quiere en su lista'))\n",
    "    lista_vacia.append(elementos)\n",
    "print(f'la lista con los elementos que escogiste es: {lista_vacia}')\n",
    "\n",
    "\n",
    "Promedio = promedio(lista_vacia)\n",
    "assert Promedio > 0, 'EL PROMEDIO ES POSITIVO'\n",
    "\n",
    "print(f'la suma total de estos elementos es de: {reduce(lambda x, y: x + y, lista_vacia)}')\n",
    "print(f'el numero de elementos de tu lista es: {len(lista_vacia) }')\n",
    "print(f'el promedio de los elementos de tu lista es: {Promedio}')\n"
   ]
  },
  {
   "cell_type": "code",
   "execution_count": 3,
   "metadata": {},
   "outputs": [
    {
     "name": "stdout",
     "output_type": "stream",
     "text": [
      "1) La tira de números que ingresaste es: 29-32-1-5-65-12345-0-12-2\n",
      "2) La lista hecha con la tira de números que ingresaste es: ['29', '32', '1', '5', '65', '12345', '0', '12', '2']\n",
      "3) La base enemiga es la número: 2\n",
      "4) Los elementos divisibles por el último digito ingresado (2) son: ['32', '0', '12', '2']\n",
      "5) Por lo tanto, la suma de enemigos en la base 2, según el criterio del enunciado, es de: 46\n"
     ]
    }
   ],
   "source": [
    "#RESPUESTA 2 -O MEJORADA- DEL JUEGO DE ESPIAS:\n",
    "\n",
    "entrada_de_numeros = input('ingresa una tira de numeros separados por un guion')    #SE LE PIDE AL USUARIO INGRESAR UNA TIRA DE NÚMEROS\n",
    "print(f'1) La tira de números que ingresaste es: {entrada_de_numeros}') #EL PROGRAMA COMENTA QUÉ NUMEROS INGRESASTE\n",
    "\n",
    "clasificador_de_textos = entrada_de_numeros.split(\"-\")  #SE CREA UNA LISTA DONDE LOS ELEMENTOS QUE LA COMPONEN SON LOS NUMEROS SEPARADOS POR UN GUION\n",
    "print(f'2) La lista hecha con la tira de números que ingresaste es: {clasificador_de_textos}')  #SE IMPRIME LA LISTA LISTA MENCIONADA ANTERIORMENTE\n",
    "print(f'3) La base enemiga es la número: {clasificador_de_textos[-1]}') #SE IMPRIME EL NÚMERO DE LA BASE ENEMIGA\n",
    "\n",
    "lista_que_llenaremos = []   #SE CREA UNA LISTA QUE VAMOS A LLENAR\n",
    "for i in clasificador_de_textos:    #PARA CADA ELEMENTO EN LA LISTA HECHA POR EL SPLIT\n",
    "    if int(i) % int(clasificador_de_textos[-1]) == 0:   #SI ESTE ELEMENTO ES DIVISIBLE POR EL ÚLTIMO DE LA LISTA\n",
    "        lista_que_llenaremos.append(i)  #LO AGREGAREMOS A LA LISTA QUE QUEREMOS LLENAR\n",
    "print(f'4) Los elementos divisibles por el último digito ingresado ({clasificador_de_textos[-1]}) son: {lista_que_llenaremos}') #SE COMENTA SOLO LOS ELEMENTOS DIVISIBLES POR EL ULTIMO DIGITO\n",
    "\n",
    "lista_de_enteros = [int(x) for x in lista_que_llenaremos]   #TRANSFORMAMOS A ENTERO CADA ELEMENTO DE LA LISTA LLENADA (SON STR)\n",
    "print(f'5) Por lo tanto, la suma de enemigos en la base {clasificador_de_textos[-1]}, según el criterio del enunciado, es de: {sum(lista_de_enteros)}') #COMENTAMOS LA SUMA TOTAL DE ENEMIGOS"
   ]
  },
  {
   "cell_type": "code",
   "execution_count": 2,
   "metadata": {},
   "outputs": [
    {
     "name": "stdout",
     "output_type": "stream",
     "text": [
      "los elementos divisibles por 2 son: ['32', '0', '12', '2']\n",
      "la suma de enemigos en la base 2 es de: 46\n",
      "2\n"
     ]
    }
   ],
   "source": [
    "#Juego de espías (Fácil)\n",
    "#El espía Ramsay debe codificar los mensajes que le mandan otros espías sobre la cantidad de tropas que tiene el enemigo en distintos cuarteles.\n",
    "#Para esto, otro espía le manda una tira de números con un pequeño truco. Esta tira de números estan separados por -, pero para que no sea \n",
    "#tan fácil saber que esta informando, la cantidad de tropas esta levemente escondida y también esta escondido el número del cuartel. \n",
    "#El cuartel estará escondido en el último lugar de la tira y para obtener la cantidad de tropas aproximadas se deben sumar todos los números \n",
    "#que son divisibles por el número del cuartel de la tira. Crear una función que reciba el string de la tira de números y\n",
    "#devuelva la cantidad de tropas que hay en el cuartel enemigo como una tupla. \n",
    "#Adicionalmente, podria imprimir un mensaje con la información requerida.\n",
    "\n",
    "#RESPUESTA 1:\n",
    "\n",
    "\n",
    "tira_numeros = '29-32-1-5-65-12345-0-12-2'  #se crea un str con un codigo de ejemplo\n",
    "cortador_de_texto = tira_numeros.split(\"-\") #se crea una lista donde los elementos son todos aquellos separados por un -\n",
    "cortador_de_texto   #se imprime la lista\n",
    "\n",
    "lista_sin_nada = [] #se crea una lista que llenaremos\n",
    "for i in cortador_de_texto: #para cada elemento de la lista \"cortador_de_texto\"\n",
    "    if int(i) % 2 == 0: #si el elemento especifico i es divisible por 2\n",
    "        lista_sin_nada.append(i)    #agrega este elemento i a la \"lista_sin_nada\"\n",
    "print(f'los elementos divisibles por 2 son: {lista_sin_nada}')  #pido que se me indique qué elementos son divisibles en este caso por 2\n",
    "\n",
    "lista_con_enteros = [int(x) for x in lista_sin_nada]    #ahora transformamos los elementos de la lista que llenamos en enteros\n",
    "print(f'la suma de enemigos en la base 2 es de: {sum(lista_con_enteros)}')  #pedimos que estos elementos se sumen\n",
    "print(lista_con_enteros[-1]) #se me indica el ultimo numero del str\n"
   ]
  },
  {
   "cell_type": "code",
   "execution_count": 1,
   "metadata": {},
   "outputs": [
    {
     "name": "stdout",
     "output_type": "stream",
     "text": [
      "['hola cuelga la ropa']\n"
     ]
    }
   ],
   "source": [
    "def mayus(n):   #defino una funcion con una variable\n",
    "    return str.upper(n) #defino la accion que le ocurrira a la variable y que se devolvera hacia mi\n",
    "\n",
    "lista_para_llenar = []\n",
    "n = int(input('ingrese 1 si quiere escribir y 0 si es que no'))\n",
    "\n",
    "for _ in range(0,n):\n",
    "    interaccion_de_usuario = input('ingrese una o varias palabras')\n",
    "    lista_para_llenar.append(interaccion_de_usuario)\n",
    "    lista_para_llenar\n",
    "\n",
    "filtrado = filter(lambda elementos: \"r\" in elementos, lista_para_llenar)\n",
    "lista_nueva = list(filtrado)\n",
    "print(lista_nueva)\n",
    "            \n",
    "        \n",
    "    \n",
    "\n"
   ]
  },
  {
   "cell_type": "code",
   "execution_count": 63,
   "metadata": {},
   "outputs": [
    {
     "name": "stdout",
     "output_type": "stream",
     "text": [
      "<map object at 0x000002590B5E95E0>\n"
     ]
    }
   ],
   "source": [
    "#PROGRAMACIÓN FUNCIONAL CON MAP, LAMBDA Y FILTER:\n",
    "#SE DEFINE ESTAS OPERACIONES COMO DE ORDEN SUPERIOR, EN EL SENTIDO DE QUE LOS ARGUMENTOS DE ESTAS FUNCIONALES\n",
    "#SON FUNCIONES.\n",
    "#FUNCIONAL MAP: APLICA UNA FUNCIÓN PRIMERAMENTE DEFINIDA SOBRE TODOS LOS ELEMENTOS DE UNA LISTA CREADA POSTERIORMENTE \n",
    "\n",
    "def formula_de_gauss(n):\n",
    "    return n * (n + 1)/2\n",
    "\n",
    "sucesion_de_numeros = [1,2,3,4,5]\n",
    "mapeo = map(formula_de_gauss, sucesion_de_numeros)\n",
    "print(mapeo)"
   ]
  },
  {
   "cell_type": "code",
   "execution_count": 64,
   "metadata": {},
   "outputs": [
    {
     "data": {
      "text/plain": [
       "[1.0, 3.0, 6.0, 10.0, 15.0]"
      ]
     },
     "execution_count": 64,
     "metadata": {},
     "output_type": "execute_result"
    }
   ],
   "source": [
    "#EL FUNCIONAL MAP ENTREGA UN OBJETO ITERABLE PERO QUE NO ESTÁ GENERADO PARA SER VISTO AMIGABLEMENTE.\n",
    "#PARA VER COMO SE APLICÓ NUESTRA FUNCIÓN SOBRE CADA ELEMENTO DEBES TRANSFORMAR EL OBJETO MAPEADO A UNA LISTA\n",
    "list(mapeo)"
   ]
  },
  {
   "cell_type": "code",
   "execution_count": 65,
   "metadata": {},
   "outputs": [
    {
     "data": {
      "text/plain": [
       "15.0"
      ]
     },
     "execution_count": 65,
     "metadata": {},
     "output_type": "execute_result"
    }
   ],
   "source": [
    "#PARA SABER CUANTO VALE UN VALOR PARTICULAR DE NUESTRA FUNCIÓN, PODEMOS SIMPLEMENTE INVOCARLA POR SU NOMBRE Y FIJARLE UN VALOR\n",
    "#A NUESTRA VARIABLE, SIN EMBARGO, PARA SABER ESTE VALOR SE HAN ESCRITO LINEAS INNECESARIAS DE CODIGO\n",
    "formula_de_gauss(5)"
   ]
  },
  {
   "cell_type": "code",
   "execution_count": 58,
   "metadata": {},
   "outputs": [],
   "source": [
    "#PARA AHORRAR LINEAS, PODEMOS OCUPAR EL FUNCIONAL LAMBDA. ESTA DESIGNA UNA VARIABLE A UNA FUNCIÓN PARTICULAR Y ESTA FUNCION PARTICULAR\n",
    "# ES AHORA PARTE DE UN FUNCIONAL\n",
    "gauss = lambda n: n * (n + 1)/2"
   ]
  },
  {
   "cell_type": "code",
   "execution_count": 59,
   "metadata": {},
   "outputs": [
    {
     "data": {
      "text/plain": [
       "15.0"
      ]
     },
     "execution_count": 59,
     "metadata": {},
     "output_type": "execute_result"
    }
   ],
   "source": [
    "gauss(5)"
   ]
  },
  {
   "cell_type": "code",
   "execution_count": 2,
   "metadata": {},
   "outputs": [
    {
     "data": {
      "text/plain": [
       "15"
      ]
     },
     "execution_count": 2,
     "metadata": {},
     "output_type": "execute_result"
    }
   ],
   "source": []
  },
  {
   "cell_type": "code",
   "execution_count": null,
   "metadata": {},
   "outputs": [],
   "source": []
  }
 ],
 "metadata": {
  "kernelspec": {
   "display_name": "base",
   "language": "python",
   "name": "python3"
  },
  "language_info": {
   "codemirror_mode": {
    "name": "ipython",
    "version": 3
   },
   "file_extension": ".py",
   "mimetype": "text/x-python",
   "name": "python",
   "nbconvert_exporter": "python",
   "pygments_lexer": "ipython3",
   "version": "3.9.13"
  },
  "orig_nbformat": 4,
  "vscode": {
   "interpreter": {
    "hash": "ad2bdc8ecc057115af97d19610ffacc2b4e99fae6737bb82f5d7fb13d2f2c186"
   }
  }
 },
 "nbformat": 4,
 "nbformat_minor": 2
}
