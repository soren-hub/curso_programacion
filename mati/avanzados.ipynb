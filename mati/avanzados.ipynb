{
 "cells": [
  {
   "cell_type": "code",
   "execution_count": 1,
   "metadata": {},
   "outputs": [
    {
     "name": "stdout",
     "output_type": "stream",
     "text": [
      "EL NÚMERO QUE INGRESASTE ES: 53421\n",
      "LA SUMA DE LOS DIGITOS DE ESTE NÚMERO ES: 15\n"
     ]
    }
   ],
   "source": [
    "#Ejercicio 5: Haz un programa que calcule la suma de los dígitos\n",
    "#de un número ingresado por el usuario. Por ejemplo, la suma de los dígitos del número 123 es 6 (1 + 2 + 3).\n",
    "\n",
    "empty_list = [] #se crea una lista para rellenar\n",
    "\n",
    "number_of_elements = int(input('INGRESE EL NÚMERO DE ELEMENTOS DE LA LISTA')) #se le pide al usuario que ingrese\n",
    "#el número de elementos que tendra la lista\n",
    "\n",
    "for _ in range(0,number_of_elements): #se crea una iteración, por cada elemento del rango, se le pregunta al usuario que ingrese un número a la lista\n",
    "    enter_a_number = int(input('INGRESE UN ELEMENTO PARA ESTA LISTA'))\n",
    "    empty_list.append(enter_a_number) #se le agrega el elemento ingresado por el usuario a la lista\n",
    "\n",
    "empty_list_2 = [str(x) for x in empty_list] #se transforman los elementos enteros de la primera lista en elementos tipo str\n",
    "mi_str = ''.join(empty_list_2) #se concatenan estos elementos\n",
    "\n",
    "print(f'EL NÚMERO QUE INGRESASTE ES: {mi_str}')\n",
    "print(f'LA SUMA DE LOS DIGITOS DE ESTE NÚMERO ES: {sum(empty_list)}')"
   ]
  },
  {
   "cell_type": "code",
   "execution_count": 3,
   "metadata": {},
   "outputs": [
    {
     "name": "stdout",
     "output_type": "stream",
     "text": [
      "range(0, 5)\n",
      "el elemento escogido es 9\n",
      "el elemento escogido es 2\n",
      "el elemento escogido es 1\n",
      "el elemento escogido es 4\n",
      "el elemento escogido es 4\n",
      "[9, 2, 1, 4, 4]\n",
      "4.0\n"
     ]
    }
   ],
   "source": [
    "#Ejercicio 6: Haz un programa que calcule el promedio de una lista de números ingresados por el usuario. \n",
    "#Recuerda que el promedio se calcula como la suma de los valores dividida entre la cantidad de valores.\n",
    "\n",
    "lista_para_llenar = []\n",
    "\n",
    "numero_de_elementos_1 = int(input('Desde que numero quieres estudiar'))\n",
    "numero_de_elementos_2 = int(input('Hasta que numero quieres estudiar'))\n",
    "rango = range(numero_de_elementos_1,numero_de_elementos_2)\n",
    "print(rango)\n",
    "\n",
    "for elemento in rango:\n",
    "    eleccion_usuario = int(input('Escoge un número al azar'))\n",
    "    print(f'el elemento escogido es {eleccion_usuario}')\n",
    "    lista_para_llenar.append(eleccion_usuario)\n",
    "print(lista_para_llenar)\n",
    "\n",
    "suma_total = sum(lista_para_llenar)\n",
    "total_elementos = len(lista_para_llenar)\n",
    "promedio = suma_total/total_elementos\n",
    "print(promedio)\n"
   ]
  },
  {
   "cell_type": "code",
   "execution_count": 6,
   "metadata": {},
   "outputs": [
    {
     "name": "stdout",
     "output_type": "stream",
     "text": [
      "LA PALABRA ESCOGIDA ES: MATIAS\n",
      "ESTA PALABRA NO ES UN PALÍNDROMO\n"
     ]
    }
   ],
   "source": [
    "#Ejercicio 7: Haz un programa que determine si una palabra ingresada por el usuario es un palíndromo. Una palabra es un palíndromo si se lee igual de izquierda a derecha que de derecha a izquierda.\n",
    "#Por ejemplo, \"ana\" es un palíndromo, pero \"perro\" no lo es.\n",
    "\n",
    "string = input('INGRESA UNA PALABRA')\n",
    "print(f'LA PALABRA ESCOGIDA ES: {string}')\n",
    "\n",
    "if string == string[::-1]:\n",
    "    print('ESTA PALABRA ES UN PALÍNDROMO')\n",
    "else:\n",
    "    print('ESTA PALABRA NO ES UN PALÍNDROMO')"
   ]
  },
  {
   "cell_type": "code",
   "execution_count": 14,
   "metadata": {},
   "outputs": [
    {
     "name": "stdout",
     "output_type": "stream",
     "text": [
      "[1, 2, 3, 4, 5]\n",
      "LA SUMA DE LOS NÚMEROS PARES DE ESTA LISTA ES: 6\n"
     ]
    }
   ],
   "source": [
    "#Ejercicio 2: Haz un programa que calcule\n",
    "#la suma de los números pares de una lista de números enteros ingresada por el usuario.\n",
    "\n",
    "lista_vacia = [] #creamos una lista para rellenar\n",
    "lista_vacia_2 = []\n",
    "\n",
    "cota_superior = int(input('INGRESA EL NÚMERO MÁXIMO QUE TENDRÁ TU LISTA')) #indicamos el número de elementos que\n",
    "#tendra nuestra lista\n",
    "\n",
    "for _ in range(0,cota_superior): #creamos una iteración donde por cada elemento del dominio, agregamos un elemento a la lista vacia\n",
    "    elemento_agregado = int(input('INGRESE EL NÚMERO QUE USTED QUIERA'))\n",
    "    lista_vacia.append(elemento_agregado)\n",
    "    if elemento_agregado % 2 == 0:\n",
    "        lista_vacia_2.append(elemento_agregado)\n",
    "\n",
    "print(lista_vacia)\n",
    "print(f'LA SUMA DE LOS NÚMEROS PARES DE ESTA LISTA ES: {sum(lista_vacia_2)}')\n",
    "\n",
    "\n",
    "\n"
   ]
  },
  {
   "cell_type": "code",
   "execution_count": null,
   "metadata": {},
   "outputs": [],
   "source": []
  }
 ],
 "metadata": {
  "kernelspec": {
   "display_name": "base",
   "language": "python",
   "name": "python3"
  },
  "language_info": {
   "codemirror_mode": {
    "name": "ipython",
    "version": 3
   },
   "file_extension": ".py",
   "mimetype": "text/x-python",
   "name": "python",
   "nbconvert_exporter": "python",
   "pygments_lexer": "ipython3",
   "version": "3.9.13"
  },
  "orig_nbformat": 4,
  "vscode": {
   "interpreter": {
    "hash": "ad2bdc8ecc057115af97d19610ffacc2b4e99fae6737bb82f5d7fb13d2f2c186"
   }
  }
 },
 "nbformat": 4,
 "nbformat_minor": 2
}
