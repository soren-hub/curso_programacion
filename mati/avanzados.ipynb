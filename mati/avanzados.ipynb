{
 "cells": [
  {
   "cell_type": "code",
   "execution_count": 10,
   "metadata": {},
   "outputs": [
    {
     "name": "stdout",
     "output_type": "stream",
     "text": [
      "[5, 4, 3, 2, 1]\n",
      "3.0\n"
     ]
    }
   ],
   "source": [
    "#Ejercicio 6: Haz un programa que calcule el promedio de una lista de números ingresados por el usuario. \n",
    "#Recuerda que el promedio se calcula como la suma de los valores dividida entre la cantidad de valores.\n",
    "\n",
    "lista_para_llenar = []\n",
    "\n",
    "numero_de_elementos_1 = int(input('Desde que numero quieres estudiar'))\n",
    "numero_de_elementos_2 = int(input('Hasta que numero quieres estudiar'))\n",
    "\n",
    "for elemento in range(numero_de_elementos_1,numero_de_elementos_2 + 1):\n",
    "    eleccion_usuario = int(input('Escoge un número al azar'))\n",
    "    lista_para_llenar.append(eleccion_usuario)\n",
    "print(lista_para_llenar)\n",
    "\n",
    "suma_total = sum(lista_para_llenar)\n",
    "total_elementos = len(lista_para_llenar)\n",
    "promedio = suma_total/total_elementos\n",
    "print(promedio)\n"
   ]
  },
  {
   "cell_type": "code",
   "execution_count": null,
   "metadata": {},
   "outputs": [],
   "source": []
  }
 ],
 "metadata": {
  "kernelspec": {
   "display_name": "base",
   "language": "python",
   "name": "python3"
  },
  "language_info": {
   "codemirror_mode": {
    "name": "ipython",
    "version": 3
   },
   "file_extension": ".py",
   "mimetype": "text/x-python",
   "name": "python",
   "nbconvert_exporter": "python",
   "pygments_lexer": "ipython3",
   "version": "3.9.13 (main, Aug 25 2022, 23:51:50) [MSC v.1916 64 bit (AMD64)]"
  },
  "orig_nbformat": 4,
  "vscode": {
   "interpreter": {
    "hash": "ad2bdc8ecc057115af97d19610ffacc2b4e99fae6737bb82f5d7fb13d2f2c186"
   }
  }
 },
 "nbformat": 4,
 "nbformat_minor": 2
}
