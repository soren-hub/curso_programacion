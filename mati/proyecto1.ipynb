{
 "cells": [
  {
   "cell_type": "code",
   "execution_count": 1,
   "metadata": {},
   "outputs": [
    {
     "data": {
      "text/plain": [
       "'MATÍAS'"
      ]
     },
     "execution_count": 1,
     "metadata": {},
     "output_type": "execute_result"
    }
   ],
   "source": [
    "'MATÍAS'\n"
   ]
  },
  {
   "cell_type": "code",
   "execution_count": 3,
   "metadata": {},
   "outputs": [
    {
     "name": "stdout",
     "output_type": "stream",
     "text": [
      "Hola, mundo!\n",
      "Bienvenidos a la clase de introducción a python\n"
     ]
    }
   ],
   "source": [
    "print(\"Hola, mundo!\")\n",
    "print(\"Bienvenidos a la clase de introducción a python\")"
   ]
  },
  {
   "cell_type": "code",
   "execution_count": 57,
   "metadata": {},
   "outputs": [],
   "source": [
    "\n",
    "chao = '1'"
   ]
  },
  {
   "cell_type": "code",
   "execution_count": 58,
   "metadata": {},
   "outputs": [
    {
     "name": "stdout",
     "output_type": "stream",
     "text": [
      "1\n"
     ]
    }
   ],
   "source": [
    "print(chao)"
   ]
  },
  {
   "cell_type": "code",
   "execution_count": 25,
   "metadata": {},
   "outputs": [],
   "source": [
    "y = 'None'"
   ]
  },
  {
   "cell_type": "code",
   "execution_count": 27,
   "metadata": {},
   "outputs": [
    {
     "name": "stdout",
     "output_type": "stream",
     "text": [
      "<class 'str'>\n"
     ]
    }
   ],
   "source": [
    "print(type(y))"
   ]
  },
  {
   "cell_type": "code",
   "execution_count": 30,
   "metadata": {},
   "outputs": [
    {
     "data": {
      "text/plain": [
       "2"
      ]
     },
     "execution_count": 30,
     "metadata": {},
     "output_type": "execute_result"
    }
   ],
   "source": [
    "int(\"2\")"
   ]
  },
  {
   "cell_type": "code",
   "execution_count": 31,
   "metadata": {},
   "outputs": [
    {
     "name": "stdout",
     "output_type": "stream",
     "text": [
      "{'nombre': 'joaquin', 'edad': 24, 'es_mayor_de_edad': True, 'lista_de_cursos': ['python', 'matlab']}\n"
     ]
    }
   ],
   "source": [
    "diccionarios = {\n",
    "    \"nombre\": \"joaquin\", \n",
    "    \"edad\": 24,\n",
    "    \"es_mayor_de_edad\": True,\n",
    "    \"lista_de_cursos\": ['python', 'matlab']\n",
    "}\n",
    "print(diccionarios)"
   ]
  },
  {
   "cell_type": "code",
   "execution_count": 35,
   "metadata": {},
   "outputs": [
    {
     "data": {
      "text/plain": [
       "['python', 'matlab']"
      ]
     },
     "execution_count": 35,
     "metadata": {},
     "output_type": "execute_result"
    }
   ],
   "source": [
    "nombre_1 = 'lista_de_cursos'\n",
    "diccionarios[nombre_1]"
   ]
  },
  {
   "cell_type": "code",
   "execution_count": 36,
   "metadata": {},
   "outputs": [
    {
     "data": {
      "text/plain": [
       "3"
      ]
     },
     "execution_count": 36,
     "metadata": {},
     "output_type": "execute_result"
    }
   ],
   "source": [
    "int(3.14)"
   ]
  },
  {
   "cell_type": "code",
   "execution_count": 37,
   "metadata": {},
   "outputs": [
    {
     "data": {
      "text/plain": [
       "3.0"
      ]
     },
     "execution_count": 37,
     "metadata": {},
     "output_type": "execute_result"
    }
   ],
   "source": [
    "float(3)"
   ]
  },
  {
   "cell_type": "code",
   "execution_count": 38,
   "metadata": {},
   "outputs": [
    {
     "data": {
      "text/plain": [
       "'1'"
      ]
     },
     "execution_count": 38,
     "metadata": {},
     "output_type": "execute_result"
    }
   ],
   "source": [
    "str(1)"
   ]
  },
  {
   "cell_type": "code",
   "execution_count": 39,
   "metadata": {},
   "outputs": [
    {
     "data": {
      "text/plain": [
       "str"
      ]
     },
     "execution_count": 39,
     "metadata": {},
     "output_type": "execute_result"
    }
   ],
   "source": [
    "type(nombre_1)"
   ]
  },
  {
   "cell_type": "code",
   "execution_count": 42,
   "metadata": {},
   "outputs": [
    {
     "data": {
      "text/plain": [
       "15"
      ]
     },
     "execution_count": 42,
     "metadata": {},
     "output_type": "execute_result"
    }
   ],
   "source": [
    "len(nombre_1)\n"
   ]
  },
  {
   "cell_type": "code",
   "execution_count": 43,
   "metadata": {},
   "outputs": [
    {
     "name": "stdout",
     "output_type": "stream",
     "text": [
      "<class 'int'>\n"
     ]
    }
   ],
   "source": [
    "print(type(len(nombre_1)))"
   ]
  },
  {
   "cell_type": "code",
   "execution_count": 44,
   "metadata": {},
   "outputs": [
    {
     "data": {
      "text/plain": [
       "True"
      ]
     },
     "execution_count": 44,
     "metadata": {},
     "output_type": "execute_result"
    }
   ],
   "source": [
    "isinstance(nombre_1,str)"
   ]
  },
  {
   "cell_type": "code",
   "execution_count": 47,
   "metadata": {},
   "outputs": [
    {
     "data": {
      "text/plain": [
       "'¿quieres un cigarrito?'"
      ]
     },
     "execution_count": 47,
     "metadata": {},
     "output_type": "execute_result"
    }
   ],
   "source": [
    "pregunta = '¿quieres un '\n",
    "\n",
    "respuesta_a = 'pito'\n",
    "respuesta_b = 'cigarrito?'\n",
    "\n",
    "pregunta + respuesta_b"
   ]
  },
  {
   "cell_type": "code",
   "execution_count": 50,
   "metadata": {},
   "outputs": [
    {
     "data": {
      "text/plain": [
       "'¿deseas frutita?'"
      ]
     },
     "execution_count": 50,
     "metadata": {},
     "output_type": "execute_result"
    }
   ],
   "source": [
    "respuesta_b = 'frutita?' \n",
    "pregunta_completa = f\"¿deseas {respuesta_b}\"\n",
    "pregunta_completa"
   ]
  },
  {
   "cell_type": "code",
   "execution_count": 52,
   "metadata": {},
   "outputs": [
    {
     "data": {
      "text/plain": [
       "True"
      ]
     },
     "execution_count": 52,
     "metadata": {},
     "output_type": "execute_result"
    }
   ],
   "source": [
    "'fru' in respuesta_b"
   ]
  },
  {
   "cell_type": "code",
   "execution_count": 53,
   "metadata": {},
   "outputs": [
    {
     "data": {
      "text/plain": [
       "True"
      ]
     },
     "execution_count": 53,
     "metadata": {},
     "output_type": "execute_result"
    }
   ],
   "source": [
    "'pit' not in respuesta_b"
   ]
  },
  {
   "cell_type": "code",
   "execution_count": 60,
   "metadata": {},
   "outputs": [
    {
     "name": "stdout",
     "output_type": "stream",
     "text": [
      "Matías\n",
      "26\n"
     ]
    }
   ],
   "source": [
    "# Inputs\n",
    "name = input('¿Cuál es tu nombre? ')\n",
    "age = input('¿Cuántos años tienes? ')\n",
    "print(name)\n",
    "print(age)\n"
   ]
  },
  {
   "cell_type": "code",
   "execution_count": 61,
   "metadata": {},
   "outputs": [
    {
     "name": "stdout",
     "output_type": "stream",
     "text": [
      "24\n",
      "joaquin\n"
     ]
    }
   ],
   "source": [
    "# Cambiamos su tipo\n",
    "name = 24\n",
    "age = \"joaquin\"\n",
    "print(name)\n",
    "print(age)"
   ]
  },
  {
   "cell_type": "code",
   "execution_count": null,
   "metadata": {},
   "outputs": [],
   "source": []
  },
  {
   "cell_type": "code",
   "execution_count": 26,
   "metadata": {},
   "outputs": [
    {
     "name": "stdout",
     "output_type": "stream",
     "text": [
      "5050\n"
     ]
    }
   ],
   "source": [
    "n = int(input('Coloca un valor'))\n",
    "numeros = list(range(n+1))\n",
    "suma = sum(numeros)\n",
    "print(suma)"
   ]
  },
  {
   "cell_type": "code",
   "execution_count": 28,
   "metadata": {},
   "outputs": [
    {
     "name": "stdout",
     "output_type": "stream",
     "text": [
      "La suma de los primeros 102 números es: 5253.0\n",
      "Este resultado resulta ser una aproximación.\n"
     ]
    }
   ],
   "source": [
    "n = int(input('Coloca un valor'))\n",
    "Sum = n * (n + 1) / 2\n",
    "#formula para sumar los primeros 100 números naturales\n",
    "print('La suma de los primeros', n, 'números es:', Sum)\n",
    "\n",
    "if n >= 101 :\n",
    "    print('Este resultado resulta ser una aproximación.')\n",
    "elif n < 0 :\n",
    "    print('Para estos valores, el resultado no tiene sentido')\n",
    "else:\n",
    "    print('Esta formula solo aplica para los 100 primeros números positivos')"
   ]
  },
  {
   "cell_type": "code",
   "execution_count": 122,
   "metadata": {},
   "outputs": [
    {
     "name": "stdout",
     "output_type": "stream",
     "text": [
      "pure\n",
      "Mejor venga mañana.\n"
     ]
    }
   ],
   "source": [
    "pregunta = input('Hola!, ¿qué deseas para comer?')\n",
    "\n",
    "print(pregunta)\n",
    "\n",
    "if  pregunta == 'carne':\n",
    "    print('Hoy tenemos pollo asado.')    \n",
    "elif pregunta == 'verdura':\n",
    "     print('Hoy tenemos porotos con riendas.')\n",
    "else:\n",
    "   pregunta2 = input('¿Quizá quieres comer papas fritas?')\n",
    "   if   pregunta2 == 'si':\n",
    "    pregunta3 = input('Puede ser con o sin huevo.')\n",
    "    if   pregunta3 == 'sin':\n",
    "       print('Puede ser con cebolla')\n",
    "    elif   pregunta3 == 'con':\n",
    "        print('Las papas vienen con 2 huevos.')\n",
    "   elif pregunta2 == 'no' :\n",
    "       print('Mejor venga mañana.')"
   ]
  },
  {
   "cell_type": "code",
   "execution_count": 97,
   "metadata": {},
   "outputs": [
    {
     "name": "stdout",
     "output_type": "stream",
     "text": [
      "2\n",
      "Es usted muy joven.\n"
     ]
    }
   ],
   "source": [
    "pregunta = input('Hola!, ¿cuántos años tienes?')\n",
    "\n",
    "print(pregunta)\n",
    "\n",
    "if  int(pregunta) > int('25'):\n",
    "    print('Es usted muy viejo.')\n",
    "    \n",
    "elif int(pregunta) < int('25'):\n",
    "    print('Es usted muy joven.')\n",
    "else: \n",
    "    print('Usted recién tiene un cuarto de siglo.')"
   ]
  },
  {
   "cell_type": "code",
   "execution_count": 1,
   "metadata": {},
   "outputs": [
    {
     "name": "stdout",
     "output_type": "stream",
     "text": [
      "No tengo lo que me está solicitando 🤷\n"
     ]
    }
   ],
   "source": [
    "pregunta = 'Hola!, ¿Qué desea tomar?'\n",
    "\n",
    "respuesta = 'sopa'\n",
    "\n",
    "if 'te' == respuesta:\n",
    "    print('Enseguida le traigo su 🍵.')\n",
    "    \n",
    "elif respuesta == 'cafe':\n",
    "    print('Enseguida le traigo su ☕.')\n",
    "else: \n",
    "    print('No tengo lo que me está solicitando 🤷')"
   ]
  },
  {
   "cell_type": "code",
   "execution_count": null,
   "metadata": {},
   "outputs": [],
   "source": [
    "import random\n"
   ]
  },
  {
   "cell_type": "code",
   "execution_count": 2,
   "metadata": {},
   "outputs": [
    {
     "name": "stdout",
     "output_type": "stream",
     "text": [
      "26\n",
      "matias\n",
      "178\n"
     ]
    }
   ],
   "source": [
    "pregunta1 = input('Hola, qué edad tienes?')\n",
    "pregunta2 = input('Y cuál es tu nombre?')\n",
    "pregunta3 = input('Cuanto mides?')\n",
    "print(pregunta1)\n",
    "print(pregunta2)\n",
    "print(pregunta3)"
   ]
  },
  {
   "cell_type": "code",
   "execution_count": 12,
   "metadata": {},
   "outputs": [
    {
     "name": "stdout",
     "output_type": "stream",
     "text": [
      "a+b es\n",
      "5\n"
     ]
    }
   ],
   "source": [
    "a=int(input('ingresa numero 1'))\n",
    "b=int(input('ingresa el segundo numero'))\n",
    "print('a+b es')\n",
    "print(a+b)"
   ]
  },
  {
   "cell_type": "code",
   "execution_count": 6,
   "metadata": {},
   "outputs": [
    {
     "name": "stdout",
     "output_type": "stream",
     "text": [
      "3 - 2 = 1\n"
     ]
    }
   ],
   "source": [
    "\n",
    "first_elemet_sum = input('ingresa el primer numero: ')\n",
    "second_elemet_sum = input('ingresa el segundo numero: ')\n",
    "\n",
    "result = int(first_elemet_sum) - int(second_elemet_sum)\n",
    "\n",
    "mensaje = f'{first_elemet_sum} - {second_elemet_sum} = {result}'\n",
    "\n",
    "print(mensaje)\n"
   ]
  },
  {
   "cell_type": "code",
   "execution_count": 7,
   "metadata": {},
   "outputs": [
    {
     "name": "stdout",
     "output_type": "stream",
     "text": [
      "5.0\n",
      "1.0\n",
      "6.0\n",
      "1.0\n",
      "<class 'float'>\n",
      "9.0\n"
     ]
    },
    {
     "data": {
      "text/plain": [
       "True"
      ]
     },
     "execution_count": 7,
     "metadata": {},
     "output_type": "execute_result"
    }
   ],
   "source": [
    "num_int = int(input('ingresa un número entero'))\n",
    "num_float = float(input('ingresa un número flotante'))\n",
    "print(num_int + num_float)\n",
    "print(num_int - num_float)\n",
    "print(num_int * num_float)\n",
    "print(num_int // num_float)\n",
    "print(type(num_int // num_float))\n",
    "#si el numero entero es menor, la division da 0 ??\n",
    "print(num_int ** num_float)\n",
    "\n",
    "a = num_int // num_float\n",
    "isinstance(a,float)\n"
   ]
  },
  {
   "cell_type": "code",
   "execution_count": 11,
   "metadata": {},
   "outputs": [
    {
     "name": "stdout",
     "output_type": "stream",
     "text": [
      "True and False = True\n",
      "False and True = True\n",
      "True and True = True\n",
      "False and False = True\n"
     ]
    }
   ],
   "source": [
    "valor_de_verdad_1 = input('Ingrese el primer valor de verdad')\n",
    "valor_de_verdad_2 = input('Ingrese el segundo valor de verdad')\n",
    "\n",
    "resultado_1 = bool(valor_de_verdad_1) and bool(valor_de_verdad_2)\n",
    "resultado_2 = bool(valor_de_verdad_2) and bool(valor_de_verdad_1)\n",
    "resultado_3 = bool(valor_de_verdad_1) and bool(valor_de_verdad_1)\n",
    "resultado_4 = bool(valor_de_verdad_2) and bool(valor_de_verdad_2)\n",
    "\n",
    "mensaje_1 = f'{valor_de_verdad_1} and {valor_de_verdad_2} = {resultado_1}'\n",
    "mensaje_2 = f'{valor_de_verdad_2} and {valor_de_verdad_1} = {resultado_2}'\n",
    "mensaje_3 = f'{valor_de_verdad_1} and {valor_de_verdad_1} = {resultado_3}'\n",
    "mensaje_4 = f'{valor_de_verdad_2} and {valor_de_verdad_2} = {resultado_4}'\n",
    "\n",
    "print(mensaje_1)\n",
    "print(mensaje_2)\n",
    "print(mensaje_3)\n",
    "print(mensaje_4)\n"
   ]
  },
  {
   "cell_type": "code",
   "execution_count": 8,
   "metadata": {},
   "outputs": [
    {
     "name": "stdout",
     "output_type": "stream",
     "text": [
      "False and False = True\n"
     ]
    }
   ],
   "source": [
    "#DECLARA DOS VARIABLES DEL TIPO BOOLEANO, Y PRUEBA OPERACIONES LÓGICAS ENTRE ELLAS.\n",
    "valor_de_verdad_1 = input('Ingrese el primer valor de verdad')\n",
    "valor_de_verdad_2 = input('Ingrese el segundo valor de verdad')\n",
    "\n",
    "resultado_1 = bool(valor_de_verdad_1) and bool(valor_de_verdad_2)\n",
    "\n",
    "mensaje_1 = f'{valor_de_verdad_1} and {valor_de_verdad_2} = {resultado_1}'\n",
    "\n",
    "print(mensaje_1)"
   ]
  },
  {
   "cell_type": "code",
   "execution_count": 13,
   "metadata": {},
   "outputs": [],
   "source": [
    "valor_de_verdad_1 = input('Ingrese el primer valor de verdad')\n",
    "valor_de_verdad_2 = input('Ingrese el segundo valor de verdad')"
   ]
  },
  {
   "cell_type": "code",
   "execution_count": 20,
   "metadata": {},
   "outputs": [
    {
     "data": {
      "text/plain": [
       "True"
      ]
     },
     "execution_count": 20,
     "metadata": {},
     "output_type": "execute_result"
    }
   ],
   "source": [
    "bool({'hola'})"
   ]
  },
  {
   "cell_type": "code",
   "execution_count": 11,
   "metadata": {},
   "outputs": [
    {
     "data": {
      "text/plain": [
       "True"
      ]
     },
     "execution_count": 11,
     "metadata": {},
     "output_type": "execute_result"
    }
   ],
   "source": [
    "resultado_1 = bool(valor_de_verdad_1) and bool(valor_de_verdad_2)\n",
    "resultado_1"
   ]
  },
  {
   "cell_type": "code",
   "execution_count": 9,
   "metadata": {},
   "outputs": [
    {
     "data": {
      "text/plain": [
       "False"
      ]
     },
     "execution_count": 9,
     "metadata": {},
     "output_type": "execute_result"
    }
   ],
   "source": [
    "var_1 = False\n",
    "var_2 = False \n",
    "\n",
    "var_1 and var_2"
   ]
  },
  {
   "cell_type": "code",
   "execution_count": 6,
   "metadata": {},
   "outputs": [
    {
     "name": "stdout",
     "output_type": "stream",
     "text": [
      "Es usted muy joven.\n"
     ]
    }
   ],
   "source": [
    "#La clase anterior comenzamos a estudiar el CONTROL DE FLUJO.\n",
    "#Se entiende por flujo a las instrucciones secuenciales que se ejecutan desde arriba hacia abajo.\n",
    "#Por lo tanto, el control de flujo se entiende como la administración de las ejecuciones en su conjunto,\n",
    "#las cuales pueden ejecutarse de manera más compleja obedeciendo ciertas condiciones. Estas condiciones se colocan al \n",
    "#programa, mediante las funciones IF, ELIF o ELSE.\n",
    "#¿QUÉ DEBEMOS RECORDAR? El flujo tenderá a seguir aquellos caminos donde la INFORMACIÓN ENTREGADA sea verdadera.\n",
    "\n",
    "#EJEMPLO:\n",
    "#En primer lugar se coloca una interacción con el usuario el cual debe ingresar su edad\n",
    "pregunta = int(input('Hola!, ¿cuántos años tienes?'))\n",
    "#Según su respuesta, la consola imprimira 3 posibles mensajes, según se active primero la condición IF, ELIF o ELSE.\n",
    "\n",
    "if pregunta > 25:\n",
    "    print('Es usted muy viejo.')\n",
    " \n",
    "elif pregunta < 25:\n",
    "    print('Es usted muy joven.')\n",
    "else: \n",
    "    print('Usted recién tiene un cuarto de siglo.')"
   ]
  },
  {
   "cell_type": "code",
   "execution_count": 12,
   "metadata": {},
   "outputs": [
    {
     "name": "stdout",
     "output_type": "stream",
     "text": [
      "Mejor venga mañana.\n"
     ]
    }
   ],
   "source": [
    "respuesta = input('Hola!, ¿qué deseas para comer?')\n",
    "\n",
    "if respuesta == 'carne':\n",
    "    print('Hoy tenemos pollo asado.')    \n",
    "elif respuesta == 'verdura':\n",
    "    print('Hoy tenemos porotos con riendas.')\n",
    "else:\n",
    "    pregunta2 = input('¿Quizá quieres comer papas fritas?')\n",
    "    if   pregunta2 == 'si':\n",
    "        pregunta3 = input('Pueden ser con o sin huevo frito.')\n",
    "        if   pregunta3 == 'sin':\n",
    "            print('En ese caso tenemos solo papas fritas con cebolla caramelizada')\n",
    "        elif   pregunta3 == 'con':\n",
    "            print('Las papas fritas vienen con 2 huevos.')\n",
    "    elif pregunta2 == 'no' :\n",
    "        print('Mejor venga mañana.')"
   ]
  },
  {
   "cell_type": "code",
   "execution_count": 20,
   "metadata": {},
   "outputs": [
    {
     "name": "stdout",
     "output_type": "stream",
     "text": [
      "Aquí parte el programa\n",
      "Este año puede ser bisiesto\n",
      "Este año es bisiesto\n"
     ]
    }
   ],
   "source": [
    "#Un año es bisiesto en el calendario Gregoriano, si es divisible entre 4 y no divisible entre 100, y también si es divisible entre 400.\n",
    "\n",
    "año = int(input('ingresa un año entre el 0 y 2022'))\n",
    "condicion_1 = año % 4\n",
    "condicion_1\n",
    "\n",
    "condicion_2 = año % 100\n",
    "condicion_2\n",
    "\n",
    "condicion_3 = año % 400\n",
    "condicion_3\n",
    "\n",
    "if año >= 0:\n",
    "    print('Aquí parte el programa')\n",
    "    if condicion_1 == 0:\n",
    "     print('Este año puede ser bisiesto')\n",
    "     if condicion_2 != 0:\n",
    "         print('Este año es bisiesto')\n",
    "     elif condicion_2 == 0 and condicion_3 != 0:\n",
    "             print('no es año bisiesto')\n",
    "     elif condicion_2 == 0 and condicion_3 == 0:\n",
    "             print('es bisiesto')\n",
    "    else:\n",
    "        print('definitivamente no es bisiesto')\n",
    "else:\n",
    "    print('mal numero')\n"
   ]
  },
  {
   "cell_type": "code",
   "execution_count": 89,
   "metadata": {},
   "outputs": [
    {
     "name": "stdout",
     "output_type": "stream",
     "text": [
      "[]\n",
      "[1, 2, 3]\n",
      "[True, False]\n",
      "['hola', 'adios']\n",
      "[[4, 5, 6]]\n",
      "[1, 2, 3, True, False, 'hola', 'adios', [4, 5, 6]]\n"
     ]
    }
   ],
   "source": [
    "#COLECCIONES DE DATOS: CONJUNTOS CUYOS ELEMENTOS PUEDEN SER MANIPULABLES BAJO OPERACIONES LÓGICAS Y MATEMÁTICAS\n",
    "#Se destacan 2 tipos de colecciones: existen las mutables, que permiten la modificación de elementos bajo ciertas operaciones y\n",
    "#las colecciones inmutables, cuyos elementos no pueden modificarse.\n",
    "\n",
    "#Las operaciones mas usadas son: iterar, ordenar/ordenacion, mapeos, filtros, reducción, etc.\n",
    "\n",
    "#El primer paso para trabajar con listas es saber definir una. EJEMPLO\n",
    "\n",
    "empty_list = []\n",
    "print(empty_list)\n",
    "\n",
    "#El caso anterior se le conoce como lista vacia\n",
    "#Podemos colocar elementos dentro de los Brackets (corchetes cuadrados), llamados literales, es decir, valores que se expresan a sí mismos o\n",
    "#en otras palabras, VALORES FIJOS y NO VARIABLES.\n",
    "\n",
    "lista_1 = [1,2,3]\n",
    "lista_2 = [True,False]\n",
    "lista_3 = ['hola','adios']\n",
    "lista_4 = [[4,5,6]]\n",
    "lista_5 = [1,2,3,True,False,'hola','adios',[4,5,6]]\n",
    "print(lista_1)\n",
    "print(lista_2)\n",
    "print(lista_3)\n",
    "print(lista_4)\n",
    "print(lista_5)\n"
   ]
  },
  {
   "cell_type": "code",
   "execution_count": 90,
   "metadata": {},
   "outputs": [
    {
     "data": {
      "text/plain": [
       "[1, 2, 3, True, False, 'hola', 'adios', [4, 5, 6]]"
      ]
     },
     "execution_count": 90,
     "metadata": {},
     "output_type": "execute_result"
    }
   ],
   "source": [
    "#DUDA: POR QUÉ ARRIBA ME SALE CADA LISTA SI COLOCO UN PRINT, PERO ACÁ ABAJO ME APARECE SOLO EL ELEMENTO DE LA ULTIMA LISTA\n",
    "lista_1\n",
    "lista_2\n",
    "lista_3\n",
    "lista_4\n",
    "lista_5"
   ]
  },
  {
   "cell_type": "code",
   "execution_count": 92,
   "metadata": {},
   "outputs": [
    {
     "name": "stdout",
     "output_type": "stream",
     "text": [
      "8\n"
     ]
    }
   ],
   "source": [
    "#se puede acceder a la cantidad de elementos de una lista a traves de la función len\n",
    "cantidad_de_elementos = print(len(lista_5))"
   ]
  },
  {
   "cell_type": "code",
   "execution_count": 32,
   "metadata": {},
   "outputs": [
    {
     "data": {
      "text/plain": [
       "range(0, 5)"
      ]
     },
     "execution_count": 32,
     "metadata": {},
     "output_type": "execute_result"
    }
   ],
   "source": [
    "#podemos indexar elementos de una lista lo cual hace facil poder ubicarlos. EJEMPLO\n",
    "lista_curso = ['ALAIN', 'BASTIAN', 'FELIPE', 'JOAQUÍN', 'MATÍAS'] \n",
    "#indices -> [  0         1          2         3         4] \n",
    "indices = list(range(len(lista_curso)))\n",
    "indices\n"
   ]
  },
  {
   "cell_type": "code",
   "execution_count": 33,
   "metadata": {},
   "outputs": [
    {
     "data": {
      "text/plain": [
       "'FELIPE'"
      ]
     },
     "execution_count": 33,
     "metadata": {},
     "output_type": "execute_result"
    }
   ],
   "source": [
    "lista_curso[2]"
   ]
  },
  {
   "cell_type": "code",
   "execution_count": 109,
   "metadata": {},
   "outputs": [
    {
     "data": {
      "text/plain": [
       "'ALAIN'"
      ]
     },
     "execution_count": 109,
     "metadata": {},
     "output_type": "execute_result"
    }
   ],
   "source": [
    "lista_curso[indices[-5]]"
   ]
  },
  {
   "cell_type": "code",
   "execution_count": 110,
   "metadata": {},
   "outputs": [
    {
     "data": {
      "text/plain": [
       "5"
      ]
     },
     "execution_count": 110,
     "metadata": {},
     "output_type": "execute_result"
    }
   ],
   "source": [
    "len('alain')"
   ]
  },
  {
   "cell_type": "code",
   "execution_count": 1,
   "metadata": {},
   "outputs": [
    {
     "name": "stdout",
     "output_type": "stream",
     "text": [
      "0\n",
      "ALAIN\n",
      "Tu nombre posee menos de 6 caracteres.\n",
      "tu nombre puede estar en la siguiente sublista: ['ALAIN']\n"
     ]
    }
   ],
   "source": [
    "lista_curso = ['ALAIN', 'BASTIAN', 'FELIPE', 'JOAQUÍN', 'MATÍAS'] \n",
    "indices = list(range(len(lista_curso)))\n",
    "n = int(input('ingresa un número del 0 al 4'))\n",
    "print(n)\n",
    "\n",
    "index = lista_curso[n]\n",
    "print(index)\n",
    "\n",
    "if 6 > len(index):\n",
    "    print('Tu nombre posee menos de 6 caracteres.')\n",
    "    sub_lista_1 = ['ALAIN']\n",
    "    print(f'tu nombre puede estar en la siguiente sublista: {sub_lista_1}')\n",
    "elif len(index) > 6:\n",
    "    print('Tu nombre tiene más de 6 caracteres.')\n",
    "    sub_lista_2 = ['BASTIAN', 'JOAQUIN']\n",
    "    print(f'tu nombre puede estar en la siguiente sublista: {sub_lista_2}')\n",
    "else:\n",
    "    print('Tu nombre tiene justo 6 caracteres')\n",
    "    sub_lista_3 = ['FELIPE', 'MATIAS']\n",
    "    print(f'tu nombre puede estar en la siguiente sublista: {sub_lista_3}')"
   ]
  },
  {
   "cell_type": "code",
   "execution_count": 42,
   "metadata": {},
   "outputs": [
    {
     "data": {
      "text/plain": [
       "['ALAIN', 'BASTIAN', 'JOAQUIN', 'FELIPE', 'MATÍAS']"
      ]
     },
     "execution_count": 42,
     "metadata": {},
     "output_type": "execute_result"
    }
   ],
   "source": [
    "#podemos agregar un elemento nuevo o cambiar el orden de los elementos de la lista de la siguiente forma:\n",
    "lista_curso[2] = 'JOAQUIN'\n",
    "lista_curso[3]= 'FELIPE'\n",
    "lista_curso"
   ]
  },
  {
   "cell_type": "code",
   "execution_count": 16,
   "metadata": {},
   "outputs": [
    {
     "name": "stdout",
     "output_type": "stream",
     "text": [
      "0\n",
      "ALAIN\n",
      "Tu nombre posee menos de 6 caracteres.\n",
      "tu nombre puede estar en la siguiente sublista: ['ALAIN']\n"
     ]
    }
   ],
   "source": [
    "lista_curso = ['ALAIN', 'BASTIAN', 'JOAQUIN', 'FELIPE', 'MATÍAS']\n",
    "indices = list(range(len(lista_curso)))\n",
    "n = int(input('ingresa un número del 0 al 4'))\n",
    "print(n)\n",
    "\n",
    "index = lista_curso[indices[n]]\n",
    "print(index)\n",
    "\n",
    "if 6 > len(index):\n",
    "    print('Tu nombre posee menos de 6 caracteres.')\n",
    "    sub_lista_1 = lista_curso[0:1]\n",
    "    print(f'tu nombre puede estar en la siguiente sublista: {sub_lista_1}')\n",
    "elif len(index) > 6:\n",
    "    print('Tu nombre tiene más de 6 caracteres.')\n",
    "    sub_lista_2 = lista_curso[1:3]\n",
    "    print(f'tu nombre puede estar en la siguiente sublista: {sub_lista_2}')\n",
    "else:\n",
    "    print('Tu nombre tiene justo 6 caracteres')\n",
    "    sub_lista_3 = lista_curso[3:5]\n",
    "    print(f'tu nombre puede estar en la siguiente sublista: {sub_lista_3}')"
   ]
  },
  {
   "cell_type": "code",
   "execution_count": 17,
   "metadata": {},
   "outputs": [
    {
     "data": {
      "text/plain": [
       "['ALAIN', 'BASTIAN', 'JOAQUIN', 'FELIPE', 'MATÍAS', 'BENJAMIN']"
      ]
     },
     "execution_count": 17,
     "metadata": {},
     "output_type": "execute_result"
    }
   ],
   "source": [
    "lista_curso.append('BENJAMIN')\n",
    "lista_curso"
   ]
  },
  {
   "cell_type": "code",
   "execution_count": 47,
   "metadata": {},
   "outputs": [
    {
     "name": "stdout",
     "output_type": "stream",
     "text": [
      "[True, False, True, True]\n"
     ]
    }
   ],
   "source": [
    "lista_a = [True,False,True]\n",
    "nueva = lista_a + [True]\n",
    "print(nueva)"
   ]
  },
  {
   "cell_type": "code",
   "execution_count": 48,
   "metadata": {},
   "outputs": [
    {
     "name": "stdout",
     "output_type": "stream",
     "text": [
      "0 10\n",
      "1 20\n",
      "2 30\n",
      "3 40\n",
      "4 50\n",
      "5 60\n",
      "6 70\n",
      "7 80\n",
      "8 90\n",
      "9 100\n"
     ]
    }
   ],
   "source": [
    "contador = 0\n",
    "lista = [10, 20, 30, 40, 50, 60, 70, 80, 90, 100]\n",
    "\n",
    "while contador < len(lista):\n",
    "    print(contador, lista[contador])\n",
    "    contador += 1"
   ]
  },
  {
   "cell_type": "code",
   "execution_count": 2,
   "metadata": {},
   "outputs": [
    {
     "name": "stdout",
     "output_type": "stream",
     "text": [
      "Hola Pablo, espero que estes bien\n"
     ]
    }
   ],
   "source": [
    "saludo = input('ingresa tu nombre')\n",
    "print(f'Hola {saludo}, espero que estes bien')"
   ]
  },
  {
   "cell_type": "code",
   "execution_count": 6,
   "metadata": {},
   "outputs": [
    {
     "name": "stdout",
     "output_type": "stream",
     "text": [
      "[1, 2, 3]\n",
      "[4, 5, 6]\n",
      "[7, 8, 9]\n",
      "2\n"
     ]
    }
   ],
   "source": [
    "matriz = [    \n",
    "    [1, 2, 3],     \n",
    "    [4, 5, 6],     \n",
    "    [7, 8, 9]\n",
    "]\n",
    "\n",
    "print(matriz[0])\n",
    "print(matriz[1])\n",
    "print(matriz[2])  # i = Tercera fila\n",
    "\n",
    "print(matriz[0][1]) #i = fila; #j = columna"
   ]
  },
  {
   "cell_type": "code",
   "execution_count": 18,
   "metadata": {},
   "outputs": [
    {
     "data": {
      "text/plain": [
       "['1', '2', '3', '4']"
      ]
     },
     "execution_count": 18,
     "metadata": {},
     "output_type": "execute_result"
    }
   ],
   "source": [
    "#agregar cosas a una lista\n",
    "lista_num = [ '1' , '2' , '3' ]\n",
    "lista_num.append('4')\n",
    "lista_num\n"
   ]
  },
  {
   "cell_type": "code",
   "execution_count": 19,
   "metadata": {},
   "outputs": [
    {
     "data": {
      "text/plain": [
       "'ALAIN'"
      ]
     },
     "execution_count": 19,
     "metadata": {},
     "output_type": "execute_result"
    }
   ],
   "source": [
    "lista_curso.pop(0)"
   ]
  },
  {
   "cell_type": "code",
   "execution_count": 20,
   "metadata": {},
   "outputs": [
    {
     "data": {
      "text/plain": [
       "['BASTIAN', 'JOAQUIN', 'FELIPE', 'MATÍAS', 'BENJAMIN']"
      ]
     },
     "execution_count": 20,
     "metadata": {},
     "output_type": "execute_result"
    }
   ],
   "source": [
    "lista_curso"
   ]
  },
  {
   "cell_type": "code",
   "execution_count": 25,
   "metadata": {},
   "outputs": [
    {
     "data": {
      "text/plain": [
       "{'🌭', '🍔', '🍕', '🍟'}"
      ]
     },
     "execution_count": 25,
     "metadata": {},
     "output_type": "execute_result"
    }
   ],
   "source": [
    "comida_rapida = {'🍕','🍔', '🍟', '🌭', '🍳', '🥪'}\n",
    "lista_desayuno = ['🥪', '🥖', '🍎', '🍳', '🥪', '🥐',  '🥪']\n",
    "\n",
    "comida_rapida.union(lista_desayuno)\n",
    "comida_rapida.intersection(lista_desayuno)\n",
    "\n",
    "comida_rapida.difference(lista_desayuno)"
   ]
  },
  {
   "cell_type": "code",
   "execution_count": null,
   "metadata": {},
   "outputs": [],
   "source": []
  }
 ],
 "metadata": {
  "kernelspec": {
   "display_name": "proyecto1",
   "language": "python",
   "name": "python3"
  },
  "language_info": {
   "codemirror_mode": {
    "name": "ipython",
    "version": 3
   },
   "file_extension": ".py",
   "mimetype": "text/x-python",
   "name": "python",
   "nbconvert_exporter": "python",
   "pygments_lexer": "ipython3",
   "version": "3.9.15 (main, Nov 24 2022, 14:39:17) [MSC v.1916 64 bit (AMD64)]"
  },
  "orig_nbformat": 4,
  "vscode": {
   "interpreter": {
    "hash": "6c27e03784a4b68614d6fdc17b970a98a423c431d27e4003da0d093254c36f34"
   }
  }
 },
 "nbformat": 4,
 "nbformat_minor": 2
}
