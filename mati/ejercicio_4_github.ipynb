{
 "cells": [
  {
   "cell_type": "code",
   "execution_count": 1,
   "metadata": {},
   "outputs": [
    {
     "name": "stdout",
     "output_type": "stream",
     "text": [
      "2\n",
      "4\n",
      "6\n",
      "8\n",
      "10\n",
      "12\n",
      "14\n",
      "16\n",
      "18\n",
      "20\n",
      "22\n",
      "24\n",
      "26\n",
      "28\n",
      "30\n",
      "32\n",
      "34\n",
      "36\n",
      "38\n",
      "40\n",
      "42\n",
      "44\n",
      "46\n",
      "48\n",
      "50\n",
      "52\n",
      "54\n",
      "56\n",
      "58\n",
      "60\n",
      "62\n",
      "64\n",
      "66\n",
      "68\n",
      "70\n",
      "72\n",
      "74\n",
      "76\n",
      "78\n",
      "80\n",
      "82\n",
      "84\n",
      "86\n",
      "88\n",
      "90\n",
      "92\n",
      "94\n",
      "96\n",
      "98\n",
      "100\n"
     ]
    }
   ],
   "source": [
    "num = 2\n",
    "while num <= 100:\n",
    "    print(num)\n",
    "    num = num + 2"
   ]
  },
  {
   "cell_type": "code",
   "execution_count": null,
   "metadata": {},
   "outputs": [],
   "source": [
    "num = num + 2"
   ]
  },
  {
   "cell_type": "code",
   "execution_count": 2,
   "metadata": {},
   "outputs": [
    {
     "name": "stdout",
     "output_type": "stream",
     "text": [
      "hola\n"
     ]
    }
   ],
   "source": [
    "print('hola')"
   ]
  },
  {
   "cell_type": "code",
   "execution_count": 32,
   "metadata": {},
   "outputs": [
    {
     "name": "stdout",
     "output_type": "stream",
     "text": [
      "6.283185307179586\n",
      "3.141592653589793\n"
     ]
    }
   ],
   "source": [
    "#Ejercicio 3: Haz un programa que calcule el área y el perímetro de un círculo a partir del radio ingresado por el usuario.\n",
    "#Recuerda que el área de un círculo se calcula como pi * r^2, y el perímetro como 2 * pi * r.\n",
    "\n",
    "import math\n",
    "\n",
    "radio = int(input('ingresa el valor del radio'))\n",
    "\n",
    "perimetro = 2 * math.pi * radio\n",
    "area = math.pi * radio ** 2\n",
    "print(perimetro)\n",
    "print(area) "
   ]
  },
  {
   "cell_type": "code",
   "execution_count": 10,
   "metadata": {},
   "outputs": [
    {
     "name": "stdout",
     "output_type": "stream",
     "text": [
      "range(0, 100)\n",
      "0\n",
      "2\n",
      "4\n",
      "6\n",
      "8\n",
      "10\n",
      "12\n",
      "14\n",
      "16\n",
      "18\n",
      "20\n",
      "22\n",
      "24\n",
      "26\n",
      "28\n",
      "30\n",
      "32\n",
      "34\n",
      "36\n",
      "38\n",
      "40\n",
      "42\n",
      "44\n",
      "46\n",
      "48\n",
      "50\n",
      "52\n",
      "54\n",
      "56\n",
      "58\n",
      "60\n",
      "62\n",
      "64\n",
      "66\n",
      "68\n",
      "70\n",
      "72\n",
      "74\n",
      "76\n",
      "78\n",
      "80\n",
      "82\n",
      "84\n",
      "86\n",
      "88\n",
      "90\n",
      "92\n",
      "94\n",
      "96\n",
      "98\n"
     ]
    }
   ],
   "source": [
    "#Ejercicio 1: Haz un programa que imprima todos los números pares entre 1 y 100.\n",
    "\n",
    "cota_inferior = int(input('Coloca un mínimo incluyente al dominio'))\n",
    "cota_superior = int(input('Coloca un máximo excluyente al dominio'))\n",
    "rango = range(cota_inferior, cota_superior)\n",
    "\n",
    "#numeros = list(rango)\n",
    "\n",
    "print(rango)\n",
    "\n",
    "for num in rango:\n",
    "    if num % 2 == 0:\n",
    "        print(num)"
   ]
  },
  {
   "cell_type": "code",
   "execution_count": 8,
   "metadata": {},
   "outputs": [
    {
     "name": "stdout",
     "output_type": "stream",
     "text": [
      "no se permiten números fuera del dominio\n",
      "[6, 6, 6, 6, 6]\n",
      "[6, 6, 6, 6, 6]\n",
      "6\n",
      "6\n"
     ]
    }
   ],
   "source": [
    "#Ejercicio 4: Haz un programa que pida al usuario ingresar una lista de números enteros,\n",
    "#y luego imprima el mayor y el menor de los números de la lista.\n",
    "\n",
    "import random\n",
    "\n",
    "lista_para_llenar = []\n",
    "\n",
    "numero_de_elementos = int(input('Cuantos elementos quieres estudiar'))\n",
    "\n",
    "for elemento in range(0,numero_de_elementos):\n",
    "    eleccion_usuario = int(input('Escoge un número al azar'))\n",
    "    lista_para_llenar.append(eleccion_usuario)\n",
    "\n",
    "if eleccion_usuario > numero_de_elementos:\n",
    "    print('no se permiten números fuera del dominio')    \n",
    "elif eleccion_usuario < numero_de_elementos:\n",
    "    print(lista_para_llenar)\n",
    "\n",
    "random.shuffle(lista_para_llenar)\n",
    "print(lista_para_llenar)\n",
    "\n",
    "lista_para_llenar.sort()\n",
    "print(lista_para_llenar)\n",
    "\n",
    "print(lista_para_llenar[-1])\n",
    "print(lista_para_llenar[0])"
   ]
  },
  {
   "cell_type": "code",
   "execution_count": 6,
   "metadata": {},
   "outputs": [
    {
     "name": "stdout",
     "output_type": "stream",
     "text": [
      "[1]\n",
      "20\n"
     ]
    }
   ],
   "source": [
    "# creating an empty list\n",
    "lst = []\n",
    "  \n",
    "# number of elements as input\n",
    "n = int(input(\"Enter number of elements : \"))\n",
    "  \n",
    "# iterating till the range\n",
    "for i in range(0, n):\n",
    "    ele = int(input('que numero deseas'))\n",
    "    lst.append(ele) # adding the element\n",
    "      \n",
    "print(lst)"
   ]
  },
  {
   "cell_type": "code",
   "execution_count": 5,
   "metadata": {},
   "outputs": [
    {
     "name": "stdout",
     "output_type": "stream",
     "text": [
      "EL ELEMENTO ESCOGIDO ES ESTE: 1\n",
      "EL ELEMENTO ESCOGIDO ES ESTE: 2\n",
      "EL ELEMENTO ESCOGIDO ES ESTE: 3\n",
      "[1, 2, 3]\n"
     ]
    },
    {
     "data": {
      "text/plain": [
       "2"
      ]
     },
     "execution_count": 5,
     "metadata": {},
     "output_type": "execute_result"
    }
   ],
   "source": [
    "#Ejercicio 5: Declara una variable llamada lista y asigna una lista de números enteros como valor. \n",
    "# Luego imprime el segundo elemento de la lista.\n",
    "\n",
    "lista_para_rellenar = [] #lista vacia que llenaremos usando un for\n",
    "\n",
    "numero_de_elementos = int(input('CUANTOS ELEMENTOS VAS A ESTUDIAR'))\n",
    "\n",
    "for _ in range(0,numero_de_elementos):\n",
    "    elementos_del_usuario = int(input('AGREGA ALGÚN NÚMERO'))\n",
    "    print(f'EL ELEMENTO ESCOGIDO ES ESTE: {elementos_del_usuario}')\n",
    "    lista_para_rellenar.append(elementos_del_usuario)\n",
    "    \n",
    "print(lista_para_rellenar)\n",
    "lista_para_rellenar[1]"
   ]
  },
  {
   "cell_type": "code",
   "execution_count": null,
   "metadata": {},
   "outputs": [],
   "source": []
  }
 ],
 "metadata": {
  "kernelspec": {
   "display_name": "base",
   "language": "python",
   "name": "python3"
  },
  "language_info": {
   "codemirror_mode": {
    "name": "ipython",
    "version": 3
   },
   "file_extension": ".py",
   "mimetype": "text/x-python",
   "name": "python",
   "nbconvert_exporter": "python",
   "pygments_lexer": "ipython3",
   "version": "3.9.13"
  },
  "orig_nbformat": 4,
  "vscode": {
   "interpreter": {
    "hash": "ad2bdc8ecc057115af97d19610ffacc2b4e99fae6737bb82f5d7fb13d2f2c186"
   }
  }
 },
 "nbformat": 4,
 "nbformat_minor": 2
}
