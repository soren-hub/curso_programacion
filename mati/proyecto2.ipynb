{
 "cells": [
  {
   "cell_type": "code",
   "execution_count": 1,
   "metadata": {},
   "outputs": [
    {
     "name": "stdout",
     "output_type": "stream",
     "text": [
      "500500\n"
     ]
    }
   ],
   "source": [
    "n = int(input('Coloca un valor'))\n",
    "numeros = list(range(n+1))\n",
    "suma = sum(numeros)\n",
    "print(suma)"
   ]
  },
  {
   "cell_type": "code",
   "execution_count": 1,
   "metadata": {},
   "outputs": [
    {
     "name": "stdout",
     "output_type": "stream",
     "text": [
      "0 10\n",
      "1 10\n",
      "2 10\n",
      "3 10\n",
      "4 10\n"
     ]
    }
   ],
   "source": [
    "n = int(input('Coloca un valor'))\n",
    "numeros = list(range(n+1))\n",
    "for nro in numeros:\n",
    "    print(nro, sum(numeros))\n",
    "    if nro < 0:\n",
    "        break"
   ]
  },
  {
   "cell_type": "code",
   "execution_count": 2,
   "metadata": {},
   "outputs": [
    {
     "name": "stdout",
     "output_type": "stream",
     "text": [
      "The result is 10\n"
     ]
    }
   ],
   "source": [
    "# Sum of natural numbers up to num\n",
    "\n",
    "num = int(input(\"Enter a number: \")) \n",
    "\n",
    "if num < 0:\n",
    "   print(\"Please enter a positive number\")\n",
    "else:\n",
    "   sum = 0\n",
    "   \n",
    "   # use while loop to iterate until zero\n",
    "   while(num > 0):\n",
    "       sum += num\n",
    "       num -= 1\n",
    "   print(\"The result is\", sum)"
   ]
  },
  {
   "cell_type": "code",
   "execution_count": 14,
   "metadata": {},
   "outputs": [
    {
     "name": "stdout",
     "output_type": "stream",
     "text": [
      "0\n",
      "ALAIN\n"
     ]
    }
   ],
   "source": [
    "lista_curso = ['ALAIN', 'BASTIAN', 'FELIPE', 'JOAQUÍN', 'MATÍAS'] #se crea la lista\n",
    "indices = list(range(len(lista_curso))) #se le asocia un número a cada elemento de la lista y se crea una lista con dichos numeros\n",
    "n = int(input('ingresa un número del 0 al 4')) #se crea una interaccion con el usuario para que ingrese un numero de la lista anterior\n",
    "print(n)\n",
    "\n",
    "index = lista_curso[n] #se llama a un elemento de la primera lista a traves del numero que ingresa el usuario\n",
    "print(index)"
   ]
  },
  {
   "cell_type": "code",
   "execution_count": 3,
   "metadata": {},
   "outputs": [
    {
     "name": "stdout",
     "output_type": "stream",
     "text": [
      "1\n",
      "papel\n",
      "papel\n",
      "1\n",
      "HAN ELEGIDO DISTINTAS OPCIONES\n"
     ]
    }
   ],
   "source": [
    "import random\n",
    "\n",
    "opciones_usuario = ['piedra', 'papel', 'tijeras']\n",
    "indices_usuario = list(range(len(opciones_usuario)))\n",
    "interaccion_usuario = int(input('ingresa un numero del 0 al 2'))\n",
    "print(interaccion_usuario)\n",
    "\n",
    "index = opciones_usuario[interaccion_usuario]\n",
    "print(index)\n",
    "\n",
    "opciones_computadora = ['piedra', 'papel', 'tijeras']\n",
    "indices = random.randint(0,len(opciones_computadora)-1)\n",
    "\n",
    "print(opciones_computadora[indices])\n",
    "print(indices)\n",
    "\n",
    "if index != indices:\n",
    "    print('HAN ELEGIDO DISTINTAS OPCIONES')\n",
    "else:\n",
    "    print('HAN EMPATADO')"
   ]
  },
  {
   "cell_type": "code",
   "execution_count": 4,
   "metadata": {},
   "outputs": [
    {
     "name": "stdout",
     "output_type": "stream",
     "text": [
      "papel\n",
      "1\n"
     ]
    }
   ],
   "source": [
    "print(index)\n",
    "print(indices)"
   ]
  },
  {
   "cell_type": "code",
   "execution_count": 3,
   "metadata": {},
   "outputs": [
    {
     "data": {
      "text/plain": [
       "True"
      ]
     },
     "execution_count": 3,
     "metadata": {},
     "output_type": "execute_result"
    }
   ],
   "source": [
    "2 == 2"
   ]
  },
  {
   "cell_type": "code",
   "execution_count": null,
   "metadata": {},
   "outputs": [],
   "source": [
    "import random\n",
    "\n",
    "opciones_usuario = ['piedra', 'papel', 'tijeras'] #lista de opciones\n",
    "indices_disponibles = list(range(len(opciones_usuario))) #indexado de elementos: se asocia un número a cada elemento de la lista\n",
    "indices_usuario = int(input('ingresa un numero del 0 al 2')) #se crea una interaccion con el usuario\n",
    "eleccion_usuario = opciones_usuario[indices_usuario] #se llama a un elemento de la primera lista a traves de un indice puesto x el usuario\n",
    "\n",
    "print(indices_usuario) #se imprime el indice que marca el usuario\n",
    "print(f'LA ELECCIÓN DEL USUARIO ES: {eleccion_usuario}') #se imprime el elemento asociado al indice escogido\n",
    "\n",
    "opciones_computadora = ['piedra', 'papel', 'tijeras'] #lista de opciones iguales para la computadora y en el mismo orden\n",
    "indices_computadora = random.randint(0,len(opciones_computadora)-1) #comando exotico que elige un indice al azar de la lista anterior\n",
    "\n",
    "print(indices_computadora) #imprime el indice que escoge la computadora\n",
    "print(f'LA ELECCIÓN DE LA COMPUTADORA ES: {opciones_computadora[indices_computadora]}') #imprime la eleccion explicita de la computadora\n",
    "\n",
    "#CONTROL DE FLUJO:\n",
    "\n",
    "if (indices_usuario == 0) and (indices_computadora == 1):\n",
    "    print('ha ganado la computadora')\n",
    "    if (indices_usuario == 0) and (indices_computadora == 2):\n",
    "        print('ha ganado el usuario')\n",
    "        if (indices_usuario == 1) and (indices_computadora == 2):\n",
    "            print('ha ganado la computadora')\n",
    "        elif (indices_usuario == 2) and (indices_computadora == 1):\n",
    "            print('ha ganado el usuario')\n",
    "    elif (indices_usuario == 2) and (indices_computadora == 0):\n",
    "        print('ha ganado la computadora')\n",
    "elif (indices_usuario == 1) and (indices_computadora == 0):\n",
    "    print('ha ganado el usuario')\n",
    "else:\n",
    "    print('empate')\n",
    "#DETALLE: CUALQUIER COMBINACION QUE INVOLUCRE A TIJERAS SALE EMPATE ????"
   ]
  },
  {
   "cell_type": "code",
   "execution_count": null,
   "metadata": {},
   "outputs": [],
   "source": [
    "for elemento in opciones_usuario:\n",
    "    if indices_usuario == 0:\n",
    "        print(f'EL NUMERO DE CARACTERES DE TU ELECCIÓN ES {elemento} ES:', len(elemento))\n",
    "    elif indices_usuario == 1:\n",
    "        print(f'EL NUMERO DE CARACTERES DE TU ELECCIÓN ES {elemento} ES:', len(elemento))\n",
    "    else:\n",
    "        print(f'EL NUMERO DE CARACTERES DE TU ELECCIÓN ES {elemento} ES:', len(elemento))"
   ]
  },
  {
   "cell_type": "code",
   "execution_count": 17,
   "metadata": {},
   "outputs": [
    {
     "name": "stdout",
     "output_type": "stream",
     "text": [
      "1\n",
      "2\n"
     ]
    }
   ],
   "source": [
    "print(indices_usuario)\n",
    "print(indices_computadora)"
   ]
  },
  {
   "cell_type": "code",
   "execution_count": 30,
   "metadata": {},
   "outputs": [
    {
     "name": "stdout",
     "output_type": "stream",
     "text": [
      "0\n",
      "piedra\n"
     ]
    }
   ],
   "source": [
    "opciones_usuario = ['piedra', 'papel', 'tijeras'] #lista de opciones\n",
    "indices_disponibles = list(range(len(opciones_usuario))) #indexado de elementos: se asocia un número a cada elemento de la lista\n",
    "indices_usuario = int(input('ingresa un numero del 0 al 2')) #se crea una interaccion con el usuario\n",
    "eleccion_usuario = opciones_usuario[indices_usuario] #se llama a un elemento de la primera lista a traves de un indice\n",
    "\n",
    "print(indices_usuario) #se imprime el indice que marca el usuario\n",
    "print(eleccion_usuario) #se imprime el elemento asociado al indice escogido"
   ]
  },
  {
   "cell_type": "code",
   "execution_count": null,
   "metadata": {},
   "outputs": [],
   "source": []
  }
 ],
 "metadata": {
  "kernelspec": {
   "display_name": "base",
   "language": "python",
   "name": "python3"
  },
  "language_info": {
   "codemirror_mode": {
    "name": "ipython",
    "version": 3
   },
   "file_extension": ".py",
   "mimetype": "text/x-python",
   "name": "python",
   "nbconvert_exporter": "python",
   "pygments_lexer": "ipython3",
   "version": "3.9.13"
  },
  "orig_nbformat": 4,
  "vscode": {
   "interpreter": {
    "hash": "ad2bdc8ecc057115af97d19610ffacc2b4e99fae6737bb82f5d7fb13d2f2c186"
   }
  }
 },
 "nbformat": 4,
 "nbformat_minor": 2
}
