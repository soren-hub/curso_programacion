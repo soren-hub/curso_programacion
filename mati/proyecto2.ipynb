{
 "cells": [
  {
   "cell_type": "code",
   "execution_count": 1,
   "metadata": {},
   "outputs": [
    {
     "name": "stdout",
     "output_type": "stream",
     "text": [
      "500500\n"
     ]
    }
   ],
   "source": [
    "n = int(input('Coloca un valor'))\n",
    "numeros = list(range(n+1))\n",
    "suma = sum(numeros)\n",
    "print(suma)"
   ]
  },
  {
   "cell_type": "code",
   "execution_count": 1,
   "metadata": {},
   "outputs": [
    {
     "name": "stdout",
     "output_type": "stream",
     "text": [
      "10\n",
      "10\n",
      "10\n",
      "10\n",
      "10\n"
     ]
    }
   ],
   "source": [
    "n = int(input('Coloca un valor'))\n",
    "numeros = list(range(n+1))\n",
    "for nro in numeros:\n",
    "    print(sum(numeros))\n",
    "    if nro < 0:\n",
    "        break"
   ]
  },
  {
   "cell_type": "code",
   "execution_count": 2,
   "metadata": {},
   "outputs": [
    {
     "name": "stdout",
     "output_type": "stream",
     "text": [
      "The result is 3\n"
     ]
    }
   ],
   "source": [
    "# Sum of natural numbers up to num\n",
    "\n",
    "num = int(input(\"Enter a number: \")) \n",
    "\n",
    "if num < 0:\n",
    "   print(\"Please enter a positive number\")\n",
    "else:\n",
    "   sum = 0\n",
    "   \n",
    "   # use while loop to iterate until zero\n",
    "   while(num > 0):\n",
    "       sum += num\n",
    "       num -= 1\n",
    "   print(\"The result is\", sum)"
   ]
  },
  {
   "cell_type": "code",
   "execution_count": 3,
   "metadata": {},
   "outputs": [
    {
     "name": "stdout",
     "output_type": "stream",
     "text": [
      "2\n",
      "FELIPE\n",
      "6\n",
      "6\n",
      "6\n",
      "6\n",
      "6\n"
     ]
    }
   ],
   "source": [
    "lista_curso = ['ALAIN', 'BASTIAN', 'FELIPE', 'JOAQUÍN', 'MATÍAS'] \n",
    "indices = list(range(len(lista_curso)))\n",
    "n = int(input('ingresa un número del 0 al 4'))\n",
    "print(n)\n",
    "\n",
    "index = lista_curso[n]\n",
    "print(index)\n",
    "\n",
    "for nombre in lista_curso:\n",
    "    print(len(index))"
   ]
  },
  {
   "cell_type": "code",
   "execution_count": 6,
   "metadata": {},
   "outputs": [
    {
     "name": "stdout",
     "output_type": "stream",
     "text": [
      "2\n",
      "tijeras\n",
      "tijeras\n",
      "2\n",
      "HAN ELEGIDO DISTINTAS OPCIONES\n"
     ]
    }
   ],
   "source": [
    "import random\n",
    "\n",
    "opciones_usuario = ['piedra', 'papel', 'tijeras']\n",
    "indices_usuario = list(range(len(opciones_usuario)))\n",
    "interaccion_usuario = int(input('ingresa un numero del 0 al 2'))\n",
    "print(interaccion_usuario)\n",
    "\n",
    "index = opciones_usuario[interaccion_usuario]\n",
    "print(index)\n",
    "\n",
    "opciones_computadora = ['piedra', 'papel', 'tijeras']\n",
    "indices = random.randint(0,len(opciones_computadora)-1)\n",
    "\n",
    "print(opciones_computadora[indices])\n",
    "print(indices)\n",
    "\n",
    "if index != indices:\n",
    "    print('HAN ELEGIDO DISTINTAS OPCIONES')\n",
    "else:\n",
    "    print('HAN EMPATADO')"
   ]
  },
  {
   "cell_type": "code",
   "execution_count": 3,
   "metadata": {},
   "outputs": [
    {
     "data": {
      "text/plain": [
       "True"
      ]
     },
     "execution_count": 3,
     "metadata": {},
     "output_type": "execute_result"
    }
   ],
   "source": [
    "2 == 2"
   ]
  },
  {
   "cell_type": "code",
   "execution_count": 4,
   "metadata": {},
   "outputs": [
    {
     "name": "stdout",
     "output_type": "stream",
     "text": [
      "2\n",
      "tijeras\n",
      "papel\n",
      "1\n",
      "han empatado\n"
     ]
    }
   ],
   "source": [
    "import random\n",
    "\n",
    "opciones_usuario = ['piedra', 'papel', 'tijeras']\n",
    "indices_usuario = list(range(len(opciones_usuario)))\n",
    "interaccion_usuario = int(input('ingresa un numero del 0 al 2'))\n",
    "print(interaccion_usuario)\n",
    "\n",
    "index = opciones_usuario[interaccion_usuario]\n",
    "print(index)\n",
    "\n",
    "opciones_computadora = ['piedra', 'papel', 'tijeras']\n",
    "indices = random.randint(0,len(opciones_computadora)-1)\n",
    "\n",
    "print(opciones_computadora[indices])\n",
    "print(indices)\n",
    "\n",
    "if index == 0 and indices == 1:\n",
    "    print('ha ganado la computadora')\n",
    "    if index == 0 and indices == 2:\n",
    "        print('ha ganado el usuario')\n",
    "        if index == 1 and indices == 2:\n",
    "            print('ha ganado la computadora')\n",
    "        elif index == 2 and indices == 1:\n",
    "            print('ha ganado el usuario')    \n",
    "    elif index == 2 and indices == 0:\n",
    "        print('ha ganado la computadora')\n",
    "elif index == 1 and indices == 0:\n",
    "    print('ha ganado el usuario')\n",
    "else:\n",
    "    print('han empatado')"
   ]
  },
  {
   "cell_type": "code",
   "execution_count": null,
   "metadata": {},
   "outputs": [],
   "source": []
  }
 ],
 "metadata": {
  "kernelspec": {
   "display_name": "base",
   "language": "python",
   "name": "python3"
  },
  "language_info": {
   "codemirror_mode": {
    "name": "ipython",
    "version": 3
   },
   "file_extension": ".py",
   "mimetype": "text/x-python",
   "name": "python",
   "nbconvert_exporter": "python",
   "pygments_lexer": "ipython3",
   "version": "3.9.13"
  },
  "orig_nbformat": 4,
  "vscode": {
   "interpreter": {
    "hash": "ad2bdc8ecc057115af97d19610ffacc2b4e99fae6737bb82f5d7fb13d2f2c186"
   }
  }
 },
 "nbformat": 4,
 "nbformat_minor": 2
}
