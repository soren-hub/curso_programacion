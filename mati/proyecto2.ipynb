{
 "cells": [
  {
   "cell_type": "code",
   "execution_count": 1,
   "metadata": {},
   "outputs": [
    {
     "name": "stdout",
     "output_type": "stream",
     "text": [
      "500500\n"
     ]
    }
   ],
   "source": [
    "n = int(input('Coloca un valor'))\n",
    "numeros = list(range(n+1))\n",
    "suma = sum(numeros)\n",
    "print(suma)"
   ]
  },
  {
   "cell_type": "code",
   "execution_count": 11,
   "metadata": {},
   "outputs": [
    {
     "name": "stdout",
     "output_type": "stream",
     "text": [
      "4 10\n"
     ]
    }
   ],
   "source": [
    "n = int(input('Coloca un valor'))\n",
    "numeros = list(range(n+1))\n",
    "for nro in numeros:\n",
    "    \n",
    "    if nro < 0:\n",
    "        break\n",
    "print(nro, sum(numeros))"
   ]
  },
  {
   "cell_type": "code",
   "execution_count": 2,
   "metadata": {},
   "outputs": [
    {
     "name": "stdout",
     "output_type": "stream",
     "text": [
      "The result is 10\n"
     ]
    }
   ],
   "source": [
    "# Sum of natural numbers up to num\n",
    "\n",
    "num = int(input(\"Enter a number: \")) \n",
    "\n",
    "if num < 0:\n",
    "   print(\"Please enter a positive number\")\n",
    "else:\n",
    "   sum = 0\n",
    "   \n",
    "   # use while loop to iterate until zero\n",
    "   while(num > 0):\n",
    "       sum += num\n",
    "       num -= 1\n",
    "   print(\"The result is\", sum)"
   ]
  },
  {
   "cell_type": "code",
   "execution_count": 14,
   "metadata": {},
   "outputs": [
    {
     "name": "stdout",
     "output_type": "stream",
     "text": [
      "0\n",
      "ALAIN\n"
     ]
    }
   ],
   "source": [
    "lista_curso = ['ALAIN', 'BASTIAN', 'FELIPE', 'JOAQUÍN', 'MATÍAS'] #se crea la lista\n",
    "indices = list(range(len(lista_curso))) #se le asocia un número a cada elemento de la lista y se crea una lista con dichos numeros\n",
    "n = int(input('ingresa un número del 0 al 4')) #se crea una interaccion con el usuario para que ingrese un numero de la lista anterior\n",
    "print(n)\n",
    "\n",
    "index = lista_curso[n] #se llama a un elemento de la primera lista a traves del numero que ingresa el usuario\n",
    "print(index)"
   ]
  },
  {
   "cell_type": "code",
   "execution_count": 1,
   "metadata": {},
   "outputs": [
    {
     "name": "stdout",
     "output_type": "stream",
     "text": [
      "0\n",
      "piedra\n",
      "tijeras\n",
      "2\n"
     ]
    },
    {
     "ename": "AssertionError",
     "evalue": "",
     "output_type": "error",
     "traceback": [
      "\u001b[1;31m---------------------------------------------------------------------------\u001b[0m",
      "\u001b[1;31mAssertionError\u001b[0m                            Traceback (most recent call last)",
      "\u001b[1;32m~\\AppData\\Local\\Temp\\ipykernel_19372\\2916653733.py\u001b[0m in \u001b[0;36m<module>\u001b[1;34m\u001b[0m\n\u001b[0;32m     15\u001b[0m \u001b[0mprint\u001b[0m\u001b[1;33m(\u001b[0m\u001b[0mindices\u001b[0m\u001b[1;33m)\u001b[0m\u001b[1;33m\u001b[0m\u001b[1;33m\u001b[0m\u001b[0m\n\u001b[0;32m     16\u001b[0m \u001b[1;33m\u001b[0m\u001b[0m\n\u001b[1;32m---> 17\u001b[1;33m \u001b[1;32massert\u001b[0m \u001b[0misinstance\u001b[0m\u001b[1;33m(\u001b[0m\u001b[0mindex\u001b[0m\u001b[1;33m,\u001b[0m\u001b[0mint\u001b[0m\u001b[1;33m)\u001b[0m\u001b[1;33m\u001b[0m\u001b[1;33m\u001b[0m\u001b[0m\n\u001b[0m\u001b[0;32m     18\u001b[0m \u001b[1;32massert\u001b[0m \u001b[0misinstance\u001b[0m\u001b[1;33m(\u001b[0m\u001b[0mindices\u001b[0m\u001b[1;33m,\u001b[0m\u001b[0mint\u001b[0m\u001b[1;33m)\u001b[0m\u001b[1;33m\u001b[0m\u001b[1;33m\u001b[0m\u001b[0m\n\u001b[0;32m     19\u001b[0m \u001b[1;33m\u001b[0m\u001b[0m\n",
      "\u001b[1;31mAssertionError\u001b[0m: "
     ]
    }
   ],
   "source": [
    "import random\n",
    "\n",
    "opciones_usuario = ['piedra', 'papel', 'tijeras']\n",
    "indices_usuario = list(range(len(opciones_usuario)))\n",
    "interaccion_usuario = int(input('ingresa un numero del 0 al 2'))\n",
    "print(interaccion_usuario)\n",
    "\n",
    "index = opciones_usuario[interaccion_usuario]\n",
    "print(index)\n",
    "\n",
    "opciones_computadora = ['piedra', 'papel', 'tijeras']\n",
    "indices = random.randint(0,len(opciones_computadora)-1)\n",
    "\n",
    "print(opciones_computadora[indices])\n",
    "print(indices)\n",
    "\n",
    "assert isinstance(index,int) #PA TESTEAR\n",
    "assert isinstance(indices,int) \n",
    "\n",
    "if index != indices:\n",
    "    print('HAN ELEGIDO DISTINTAS OPCIONES')\n",
    "else:\n",
    "    print('HAN EMPATADO')"
   ]
  },
  {
   "cell_type": "code",
   "execution_count": 4,
   "metadata": {},
   "outputs": [
    {
     "name": "stdout",
     "output_type": "stream",
     "text": [
      "papel\n",
      "1\n"
     ]
    }
   ],
   "source": [
    "print(index)\n",
    "print(indices)"
   ]
  },
  {
   "cell_type": "code",
   "execution_count": 3,
   "metadata": {},
   "outputs": [
    {
     "data": {
      "text/plain": [
       "True"
      ]
     },
     "execution_count": 3,
     "metadata": {},
     "output_type": "execute_result"
    }
   ],
   "source": [
    "2 == 2"
   ]
  },
  {
   "cell_type": "code",
   "execution_count": 6,
   "metadata": {},
   "outputs": [
    {
     "name": "stdout",
     "output_type": "stream",
     "text": [
      "2\n",
      "LA ELECCIÓN DEL USUARIO ES: tijeras\n",
      "2\n",
      "LA ELECCIÓN DE LA COMPUTADORA ES: tijeras\n",
      "empate\n"
     ]
    }
   ],
   "source": [
    "import random\n",
    "\n",
    "opciones_usuario = ['piedra', 'papel', 'tijeras'] #lista de opciones\n",
    "indices_disponibles = list(range(len(opciones_usuario))) #indexado de elementos: se asocia un número a cada elemento de la lista\n",
    "indices_usuario = int(input('ingresa un numero del 0 al 2')) #se crea una interaccion con el usuario\n",
    "eleccion_usuario = opciones_usuario[indices_usuario] #se llama a un elemento de la primera lista a traves de un indice puesto x el usuario\n",
    "\n",
    "print(indices_usuario) #se imprime el indice que marca el usuario\n",
    "print(f'LA ELECCIÓN DEL USUARIO ES: {eleccion_usuario}') #se imprime el elemento asociado al indice escogido\n",
    "\n",
    "opciones_computadora = ['piedra', 'papel', 'tijeras'] #lista de opciones iguales para la computadora y en el mismo orden\n",
    "indices_computadora = random.randint(0,len(opciones_computadora)-1) #comando exotico que elige un indice al azar de la lista anterior\n",
    "\n",
    "print(indices_computadora) #imprime el indice que escoge la computadora\n",
    "print(f'LA ELECCIÓN DE LA COMPUTADORA ES: {opciones_computadora[indices_computadora]}') #imprime la eleccion explicita de la computadora\n",
    "\n",
    "#CONTROL DE FLUJO:\n",
    "\n",
    "if indices_usuario == indices_computadora:\n",
    "    print('empate')\n",
    "else:\n",
    "    if (indices_usuario == 0) and (indices_computadora == 1):\n",
    "        print('ha ganado la computadora')\n",
    "        if (indices_usuario == 0) and (indices_computadora == 2):\n",
    "            print('ha ganado el usuario')\n",
    "            if (indices_usuario == 1) and (indices_computadora == 2):\n",
    "                print('ha ganado la computadora')\n",
    "            elif (indices_usuario == 2) and (indices_computadora == 1):\n",
    "                print('ha ganado el usuario')\n",
    "        elif (indices_usuario == 2) and (indices_computadora == 0):\n",
    "            print('ha ganado la computadora')\n",
    "    elif (indices_usuario == 1) and (indices_computadora == 0):\n",
    "        print('ha ganado el usuario')"
   ]
  },
  {
   "cell_type": "code",
   "execution_count": null,
   "metadata": {},
   "outputs": [],
   "source": [
    "#QUIERO QUE AL ELEGIR UNA OPCIÓN, PYTHON CUENTE CUANTOS CARACTERES TIENE TAL OPCION"
   ]
  },
  {
   "cell_type": "code",
   "execution_count": 10,
   "metadata": {},
   "outputs": [
    {
     "name": "stdout",
     "output_type": "stream",
     "text": [
      "EL NUMERO DE CARACTERES DE TU ELECCIÓN ES piedra ES: 6\n",
      "EL NUMERO DE CARACTERES DE TU ELECCIÓN ES papel ES: 5\n",
      "EL NUMERO DE CARACTERES DE TU ELECCIÓN ES tijeras ES: 7\n"
     ]
    }
   ],
   "source": [
    "if eleccion_usuario == piedra:\n",
    "    print(f'EL NUMERO DE CARACTERES DE TU ELECCIÓN ES {elemento} ES:', len(elemento))\n",
    "if eleccion_usuario == :\n",
    "    print(f'EL NUMERO DE CARACTERES DE TU ELECCIÓN ES {elemento} ES:', len(elemento))\n",
    "else:\n",
    "    print(f'EL NUMERO DE CARACTERES DE TU ELECCIÓN ES {elemento} ES:', len(elemento))"
   ]
  },
  {
   "cell_type": "code",
   "execution_count": 17,
   "metadata": {},
   "outputs": [
    {
     "name": "stdout",
     "output_type": "stream",
     "text": [
      "1\n",
      "2\n"
     ]
    }
   ],
   "source": [
    "print(indices_usuario)\n",
    "print(indices_computadora)"
   ]
  },
  {
   "cell_type": "code",
   "execution_count": 30,
   "metadata": {},
   "outputs": [
    {
     "name": "stdout",
     "output_type": "stream",
     "text": [
      "0\n",
      "piedra\n"
     ]
    }
   ],
   "source": [
    "opciones_usuario = ['piedra', 'papel', 'tijeras'] #lista de opciones\n",
    "indices_disponibles = list(range(len(opciones_usuario))) #indexado de elementos: se asocia un número a cada elemento de la lista\n",
    "indices_usuario = int(input('ingresa un numero del 0 al 2')) #se crea una interaccion con el usuario\n",
    "eleccion_usuario = opciones_usuario[indices_usuario] #se llama a un elemento de la primera lista a traves de un indice\n",
    "\n",
    "print(indices_usuario) #se imprime el indice que marca el usuario\n",
    "print(eleccion_usuario) #se imprime el elemento asociado al indice escogido"
   ]
  },
  {
   "cell_type": "code",
   "execution_count": null,
   "metadata": {},
   "outputs": [],
   "source": []
  }
 ],
 "metadata": {
  "kernelspec": {
   "display_name": "base",
   "language": "python",
   "name": "python3"
  },
  "language_info": {
   "codemirror_mode": {
    "name": "ipython",
    "version": 3
   },
   "file_extension": ".py",
   "mimetype": "text/x-python",
   "name": "python",
   "nbconvert_exporter": "python",
   "pygments_lexer": "ipython3",
   "version": "3.9.13"
  },
  "orig_nbformat": 4,
  "vscode": {
   "interpreter": {
    "hash": "ad2bdc8ecc057115af97d19610ffacc2b4e99fae6737bb82f5d7fb13d2f2c186"
   }
  }
 },
 "nbformat": 4,
 "nbformat_minor": 2
}
