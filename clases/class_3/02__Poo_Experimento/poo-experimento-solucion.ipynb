{
 "cells": [
  {
   "cell_type": "markdown",
   "metadata": {},
   "source": [
    "<a href=\"https://colab.research.google.com/github/institutohumai/cursos-python/blob/master/Introduccion/5_Poo_Experimento/poo-experimento-solucion.ipynb\"> <img src='https://colab.research.google.com/assets/colab-badge.svg' /> </a>\n",
    "<div align=\"center\"> Recordá abrir en una nueva pestaña </div>"
   ]
  },
  {
   "cell_type": "code",
   "execution_count": 1,
   "metadata": {},
   "outputs": [
    {
     "name": "stdout",
     "output_type": "stream",
     "text": [
      "Collecting python-docx\n",
      "  Downloading python-docx-0.8.10.tar.gz (5.5 MB)\n",
      "Requirement already satisfied: lxml>=2.3.2 in c:\\programdata\\anaconda3\\lib\\site-packages (from python-docx) (4.6.1)\n",
      "Building wheels for collected packages: python-docx\n",
      "  Building wheel for python-docx (setup.py): started\n",
      "  Building wheel for python-docx (setup.py): finished with status 'done'\n",
      "  Created wheel for python-docx: filename=python_docx-0.8.10-py3-none-any.whl size=184495 sha256=7ac472d624e86d6b75f659cc885c7e1a998ccec8eb7a343ae9a6b17cb77d76a5\n",
      "  Stored in directory: c:\\users\\matias\\appdata\\local\\pip\\cache\\wheels\\97\\4c\\2e\\68066cbf12b9b2e66403da8982aaf4f656d9f5cb5dc3179e82\n",
      "Successfully built python-docx\n",
      "Installing collected packages: python-docx\n",
      "Successfully installed python-docx-0.8.10\n"
     ]
    }
   ],
   "source": [
    "!pip install python-docx"
   ]
  },
  {
   "cell_type": "markdown",
   "metadata": {},
   "source": [
    "##### Aplicación de POO: Experimento de Tiempo de Reacción\n",
    "\n",
    "En esta clase vamos a utilizar un diseño de POO para crear una batería de experimentos:\n",
    "\n",
    "- Tiempo de Reacción\n",
    "- Cuestionario\n",
    "\n",
    "Para eso, tendremos una clase Sujeto que contendrá un id de sujeto, una clase abstracta **Experimento** de la cual heredarán las de **Tiempo de Reacción** y **Cuestionario**, y una clase para generar un **Reporte** de los resultados automáticamente."
   ]
  },
  {
   "cell_type": "markdown",
   "metadata": {},
   "source": [
    "Empezamos creando una clase para definir el *sujeto* del experimento."
   ]
  },
  {
   "cell_type": "code",
   "execution_count": 6,
   "metadata": {},
   "outputs": [],
   "source": [
    "class Sujeto():\n",
    "    '''Clase para un Sujeto experimental.\n",
    "    info contiene datos por ejemplo sociodemográficos previos\n",
    "    en resultados guardaremos los resultados de las pruebas'''\n",
    "    def __init__(self, sujeto_id, info: dict):\n",
    "        self.id = sujeto_id\n",
    "        self.info = info\n",
    "        self.resultados = dict()\n",
    "        \n",
    "    def __repr__(self):\n",
    "        # Funcion mágica para mostrar los datos del sujeto\n",
    "        # el :<20 hace un relleno de máximo 20 espacios\n",
    "        s = f'Datos de ID {self.id:<20}\\n\\n'\n",
    "        for k, v in self.info.items():\n",
    "            s += f\"{k:<20} {v:<20}\\n\"\n",
    "        for k, v in self.resultados.items():\n",
    "            s += f\"{k:<20} {v:<20}\\n\"\n",
    "        return s"
   ]
  },
  {
   "cell_type": "markdown",
   "metadata": {},
   "source": [
    "Veamos como funciona nuestra clase."
   ]
  },
  {
   "cell_type": "code",
   "execution_count": 7,
   "metadata": {},
   "outputs": [],
   "source": [
    "# Instanciamos\n",
    "info = {'edad':22, 'fecha_nacimiento':'01-01-1998', 'años_educacion':6}\n",
    "sujeto = Sujeto('123456789', info)"
   ]
  },
  {
   "cell_type": "code",
   "execution_count": 8,
   "metadata": {},
   "outputs": [
    {
     "name": "stdout",
     "output_type": "stream",
     "text": [
      "Datos de ID 123456789           \n",
      "\n",
      "edad                 22                  \n",
      "fecha_nacimiento     01-01-1998          \n",
      "años_educacion       6                   \n",
      "\n"
     ]
    }
   ],
   "source": [
    "print(sujeto)"
   ]
  },
  {
   "cell_type": "markdown",
   "metadata": {},
   "source": [
    "Una vez que ya contamos con sujeto. Definimos una clase para la realización del experimento.  \n",
    "\n",
    "La clase tendrá tres métodos:\n",
    ">- instruccion: dará una pauta sobre como realizar el experimento.\n",
    ">- corregir_datos: toma los datos crudos y calcula un resultado\n",
    ">- tomar_experimento: realizará el experimento."
   ]
  },
  {
   "cell_type": "code",
   "execution_count": 9,
   "metadata": {},
   "outputs": [],
   "source": [
    "class Experimento():\n",
    "    def __init__(self, sujeto: Sujeto, consigna='atencion!', nombre='Experimento'):\n",
    "        self.nombre = nombre\n",
    "        self.sujeto = sujeto\n",
    "        self.consigna = consigna\n",
    "        self.datos = []\n",
    "        \n",
    "    def instruccion(self):\n",
    "        print(self.consigna)\n",
    "    \n",
    "    def corregir_datos(self):\n",
    "        pass\n",
    "    \n",
    "    def tomar_experimento(self):\n",
    "        pass"
   ]
  },
  {
   "cell_type": "code",
   "execution_count": 15,
   "metadata": {},
   "outputs": [],
   "source": [
    "exp = Experimento(sujeto)"
   ]
  },
  {
   "cell_type": "code",
   "execution_count": 16,
   "metadata": {},
   "outputs": [
    {
     "data": {
      "text/plain": [
       "'Experimento'"
      ]
     },
     "execution_count": 16,
     "metadata": {},
     "output_type": "execute_result"
    }
   ],
   "source": [
    "exp.nombre"
   ]
  },
  {
   "cell_type": "markdown",
   "metadata": {},
   "source": [
    "### Tiempo de Reacción"
   ]
  },
  {
   "cell_type": "markdown",
   "metadata": {},
   "source": [
    "Para tomar el experimento se utilizarán dos modulos/librerias: **time** y **random**. \n",
    "\n",
    ">- **time**, nos va a ayudar a calcular el tiempo durante nuestro experimento.  \n",
    ">- **random**, nos va a permitir generar números aleatorios."
   ]
  },
  {
   "cell_type": "markdown",
   "metadata": {},
   "source": [
    "### Ejercicio: \n",
    "\n",
    "Crear una función *tomar_experimento* que ejecute una prueba de tiempo de reacción. Para esto, recibe como argumento \"rango_pausa\", que es el rango de segundos máximo que puede demorar entre un estímulo y el siguiente.\n",
    "\n",
    "Usando:\n",
    "\n",
    "- La función **time.time()** para devolver el tiempo actual en segundos\n",
    "- La función **random.random()** para generar un número aleatorio entre 0 y 1 y variar el tiempo de pausa\n",
    "- La función **time.sleep(s)** para hacer una pausa de *s* segundos\n",
    "- Y la función **input()** que aguarda una entrada del usuario, bloqueando la ejecución hasta que ingresa la tecla *ENTER*. "
   ]
  },
  {
   "cell_type": "markdown",
   "metadata": {},
   "source": [
    "Pista en pseudocódigo:"
   ]
  },
  {
   "cell_type": "raw",
   "metadata": {},
   "source": [
    "Dada una lista vacía \n",
    "Dado un entero \"n_trials\"\n",
    "\n",
    "Hacer \"n_trials\" veces:\n",
    "  Tomar un tiempo 0\n",
    "  Aguardar input\n",
    "  Tomar un tiempo 1\n",
    "  Calcular diferencia entre tiempos\n",
    "  Agregar diferencia a la lista\n",
    "  Hacer una pausa random de tiempo"
   ]
  },
  {
   "cell_type": "code",
   "execution_count": 12,
   "metadata": {},
   "outputs": [],
   "source": [
    "import time\n",
    "import random"
   ]
  },
  {
   "cell_type": "code",
   "execution_count": 13,
   "metadata": {},
   "outputs": [],
   "source": [
    "def tomar_experimento(n_trials, rango_pausa=10):\n",
    "    pass"
   ]
  },
  {
   "cell_type": "code",
   "execution_count": 44,
   "metadata": {},
   "outputs": [],
   "source": [
    "class TiempoDeReaccion(Experimento): \n",
    "    '''Hereda la clase Experimento'''\n",
    "    def __init__(self, *args, **kwargs):\n",
    "        super().__init__(*args, **kwargs)\n",
    "        \n",
    "    def corregir_datos(self):\n",
    "        mu = sum(self.datos) / len(self.datos)\n",
    "        var = sum([(x - mu)**2 for x in self.datos]) / len(self.datos)\n",
    "        self.sujeto.resultados['MediaReaccion'] = mu\n",
    "        self.sujeto.resultados['VarianzaReaccion'] = var\n",
    "\n",
    "    # COMPLETAR\n",
    "    # Usar la función tomar_experimento, esta vez con self en los argumentos\n",
    "    # y guardar el resultado en self.datos\n",
    "    # Al final del experimento, llamar a la función \"corregir_datos\"\n",
    "    def tomar_experimento(self, n_trials, rango_pausa=10):\n",
    "        for n in range(n_trials):\n",
    "            t0 = time.time()      # tiempo inicial\n",
    "            pausa = random.random() * rango_pausa\n",
    "            time.sleep(pausa)     # esperar tiempo aleatorio\n",
    "            self.instruccion()    # repetir consigna\n",
    "            input()               # esperar reacción\n",
    "            t1 = time.time() - t0 - pausa # cálculo diferencia de tiempo\n",
    "            self.datos.append(t1) # guardar dato\n",
    "        self.corregir_datos()     # corregir datos\n",
    "        print('Fin!')"
   ]
  },
  {
   "cell_type": "markdown",
   "metadata": {},
   "source": [
    "### Utilizando nuestra clase\n"
   ]
  },
  {
   "cell_type": "code",
   "execution_count": 45,
   "metadata": {},
   "outputs": [
    {
     "data": {
      "text/plain": [
       "'6001435778545179'"
      ]
     },
     "execution_count": 45,
     "metadata": {},
     "output_type": "execute_result"
    }
   ],
   "source": [
    "# Generar un str random como ID\n",
    "import random\n",
    "\n",
    "sujeto_id = str(random.random())[2:]\n",
    "sujeto_id"
   ]
  },
  {
   "cell_type": "code",
   "execution_count": 46,
   "metadata": {},
   "outputs": [],
   "source": [
    "# Instanciar Sujeto\n",
    "info = {'edad':'32', 'fecha_nacimiento':'01-01-1998', 'años_educacion':12}\n",
    "sujeto = Sujeto(sujeto_id, info)"
   ]
  },
  {
   "cell_type": "code",
   "execution_count": 51,
   "metadata": {},
   "outputs": [],
   "source": [
    "# Instanciar TiempoDeReaccion\n",
    "tr = TiempoDeReaccion(sujeto, nombre='Tiempo de Reacción', consigna='¡Apretá ENTER!')"
   ]
  },
  {
   "cell_type": "code",
   "execution_count": 52,
   "metadata": {},
   "outputs": [
    {
     "name": "stdout",
     "output_type": "stream",
     "text": [
      "¡Apretá ENTER!\n"
     ]
    },
    {
     "name": "stdin",
     "output_type": "stream",
     "text": [
      " \n"
     ]
    },
    {
     "name": "stdout",
     "output_type": "stream",
     "text": [
      "¡Apretá ENTER!\n"
     ]
    },
    {
     "name": "stdin",
     "output_type": "stream",
     "text": [
      " \n"
     ]
    },
    {
     "name": "stdout",
     "output_type": "stream",
     "text": [
      "¡Apretá ENTER!\n"
     ]
    },
    {
     "name": "stdin",
     "output_type": "stream",
     "text": [
      " \n"
     ]
    },
    {
     "name": "stdout",
     "output_type": "stream",
     "text": [
      "¡Apretá ENTER!\n"
     ]
    },
    {
     "name": "stdin",
     "output_type": "stream",
     "text": [
      " \n"
     ]
    },
    {
     "name": "stdout",
     "output_type": "stream",
     "text": [
      "¡Apretá ENTER!\n"
     ]
    },
    {
     "name": "stdin",
     "output_type": "stream",
     "text": [
      " \n"
     ]
    }
   ],
   "source": [
    "# Llamar metodo tomar_experimento\n",
    "tr.tomar_experimento(n_trials=5, rango_pausa=3)"
   ]
  },
  {
   "cell_type": "markdown",
   "metadata": {},
   "source": [
    "¿Que datos contiene?"
   ]
  },
  {
   "cell_type": "code",
   "execution_count": 53,
   "metadata": {},
   "outputs": [
    {
     "data": {
      "text/plain": [
       "[0.404484979132967,\n",
       " 0.371731739182558,\n",
       " 0.24487228976578523,\n",
       " 0.2375034213267071,\n",
       " 0.2995231529291398]"
      ]
     },
     "execution_count": 53,
     "metadata": {},
     "output_type": "execute_result"
    }
   ],
   "source": [
    "# Llamamos un atributo\n",
    "tr.datos"
   ]
  },
  {
   "cell_type": "code",
   "execution_count": 32,
   "metadata": {},
   "outputs": [
    {
     "data": {
      "text/plain": [
       "Datos de ID 28072878222234365   \n",
       "\n",
       "edad                 32                  \n",
       "fecha_nacimiento     01-01-1998          \n",
       "años_educacion       12                  \n",
       "MediaReaccion        1.715753173828125   \n",
       "VarianzaReaccion     0.4562664776855764  "
      ]
     },
     "execution_count": 32,
     "metadata": {},
     "output_type": "execute_result"
    }
   ],
   "source": [
    "sujeto"
   ]
  },
  {
   "cell_type": "markdown",
   "metadata": {},
   "source": [
    "### Cuestionario"
   ]
  },
  {
   "cell_type": "markdown",
   "metadata": {},
   "source": [
    "Generamos un cuestionario de ejemplo. Cada pregunta debe estar separada en un renglón (es decir por un caracter de *newline*, generalmente '\\n')"
   ]
  },
  {
   "cell_type": "code",
   "execution_count": 88,
   "metadata": {},
   "outputs": [],
   "source": [
    "with open('cuestionario.txt', 'w') as out:\n",
    "    out.write(\n",
    "'''1. Me siento calmado.\n",
    "2. Me siento seguro.\n",
    "3. Estoy tenso.\n",
    "4. Estoy contrariado.\n",
    "5. Me siento a gusto.''')"
   ]
  },
  {
   "cell_type": "code",
   "execution_count": 89,
   "metadata": {},
   "outputs": [],
   "source": [
    "class Cuestionario(Experimento):\n",
    "    '''Otro caso de prueba que hereda de experimento. Esta vez la inicialización\n",
    "    incluye cargar las preguntas en el atributo self.preguntas'''\n",
    "    def __init__(self, path_cuestionario, *args, **kwargs):\n",
    "        super().__init__(*args, **kwargs)\n",
    "        self.cargar_preguntas(path_cuestionario)\n",
    "        \n",
    "    def cargar_preguntas(self, path):\n",
    "        # COMPLETAR\n",
    "        # Función que lee el txt y guarda cada renglón en self.preguntas\n",
    "        with open(path, 'r') as f:\n",
    "            preguntas = f.read().split('\\n') # separamos por renglon \n",
    "        self.preguntas = preguntas\n",
    "        \n",
    "    def corregir_datos(self):\n",
    "        self.sujeto.resultados[f'Total{self.nombre}'] = sum(self.datos)\n",
    "        \n",
    "    def tomar_experimento(self):\n",
    "        # COMPLETAR\n",
    "        # Dar la instruccion\n",
    "        # Tomar cada pregunta con input()\n",
    "        # Convertir la entrada a entero\n",
    "        # Guardar la respuesta en self.datos\n",
    "        # Al finalizar, ejecutar corregir_datos\n",
    "        self.instruccion()\n",
    "        for pre in self.preguntas:\n",
    "            respuesta = input(pre)\n",
    "            self.datos.append(int(respuesta))\n",
    "        self.corregir_datos()\n",
    "        \n",
    "        # Extra: agregar un chequeo de respuesta correcta y que sea int"
   ]
  },
  {
   "cell_type": "markdown",
   "metadata": {},
   "source": [
    "Usamos la clase anterior para tomar el cuestionario"
   ]
  },
  {
   "cell_type": "code",
   "execution_count": 90,
   "metadata": {},
   "outputs": [],
   "source": [
    "consigna = '''Aparecerán abajo algunas expresiones que las personas usan para describirse. \n",
    "Lea cada frase y presione el número que indique cómo se siente ahora mismo, siendo \n",
    "0 = NO, 1 = POCO, 2 = BASTANTE, 3 = MUCHO. \n",
    "'''\n",
    "\n",
    "stai = Cuestionario('cuestionario.txt',sujeto, consigna = consigna, nombre='Cuestionario')"
   ]
  },
  {
   "cell_type": "code",
   "execution_count": 91,
   "metadata": {},
   "outputs": [
    {
     "name": "stdout",
     "output_type": "stream",
     "text": [
      "Aparecerán abajo algunas expresiones que las personas usan para describirse. \n",
      "Lea cada frase y presione el número que indique cómo se siente ahora mismo, siendo \n",
      "0 = NO, 1 = POCO, 2 = BASTANTE, 3 = MUCHO. \n",
      "\n"
     ]
    },
    {
     "name": "stdin",
     "output_type": "stream",
     "text": [
      "1. Me siento calmado. 3\n",
      "2. Me siento seguro. 3\n",
      "3. Estoy tenso. 0\n",
      "4. Estoy contrariado. 2\n",
      "5. Me siento a gusto. 3\n"
     ]
    }
   ],
   "source": [
    "stai.tomar_experimento()"
   ]
  },
  {
   "cell_type": "code",
   "execution_count": 92,
   "metadata": {},
   "outputs": [
    {
     "data": {
      "text/plain": [
       "Datos de ID 9422781775311632    \n",
       "\n",
       "edad                 32                  \n",
       "fecha_nacimiento     01-01-1998          \n",
       "años_educacion       6                   \n",
       "MediaReaccion        1.57454514503479    \n",
       "VarianzaReaccion     1.1579792508427773  \n",
       "TotalCuestionario    11                  "
      ]
     },
     "execution_count": 92,
     "metadata": {},
     "output_type": "execute_result"
    }
   ],
   "source": [
    "sujeto"
   ]
  },
  {
   "cell_type": "markdown",
   "metadata": {},
   "source": [
    "### Generando Reporte"
   ]
  },
  {
   "cell_type": "markdown",
   "metadata": {},
   "source": [
    "Una vez realizado el ejercicio vamos a generar una clase para realizar el reporte del experimento.\n",
    "\n",
    "La clase Reporte va a generar un documento que contendrá: \n",
    "- Un método para analizar los datos resultado del experimento;\n",
    "- Un método para crear gráficos a partir de los resultados.\n",
    "- Un método para para generar el informe final"
   ]
  },
  {
   "cell_type": "markdown",
   "metadata": {},
   "source": [
    "Para los gráficos vamos a usar matplotlib, que tiene métodos como \"plot\" donde recibe listas de números y genera un objeto \"Figura\". En este tema de visualización se ahonda en el curso de Análisis de Datos.\n",
    "La función **sns.set()** simplemente aplica un estilo."
   ]
  },
  {
   "cell_type": "code",
   "execution_count": 54,
   "metadata": {},
   "outputs": [
    {
     "data": {
      "image/png": "[encoded data removed]",
      "text/plain": [
       "<Figure size 432x288 with 1 Axes>"
      ]
     },
     "metadata": {},
     "output_type": "display_data"
    }
   ],
   "source": [
    "import matplotlib.pyplot as plt\n",
    "import seaborn as sns\n",
    "sns.set()\n",
    "\n",
    "# Pequeño ejemplo de matplotlib\n",
    "plt.hist([1,2,3,6,4,1,2,3,2,4]);"
   ]
  },
  {
   "cell_type": "code",
   "execution_count": 55,
   "metadata": {},
   "outputs": [],
   "source": [
    "from docx import Document\n",
    "from docx.shared import Cm        "
   ]
  },
  {
   "cell_type": "code",
   "execution_count": 56,
   "metadata": {},
   "outputs": [],
   "source": [
    "class Reporte():\n",
    "    '''Esta clase va a generar un reporte para un Sujeto a partir de un Experimento'''\n",
    "    def __init__(self, sujeto: Sujeto, experimento: Experimento, img_path = 'tmp.png'):\n",
    "        self.suj = sujeto\n",
    "        self.exp = experimento\n",
    "        self.img_path = img_path\n",
    "    \n",
    "    def crear_graficos(self):\n",
    "        '''Genera un gráfico de lineas y un histograma para \n",
    "        los datos de los experimentos'''\n",
    "        fig, ax = plt.subplots(1,2, figsize=(11,4))\n",
    "        ax[0].plot(self.exp.datos)\n",
    "        ax[0].set_ylabel('Error (ms)')\n",
    "        ax[0].set_xlabel('Trials')\n",
    "        sns.distplot(self.exp.datos, ax=ax[1])\n",
    "        ax[1].set_ylabel('Frequencia')\n",
    "        ax[1].set_xlabel('Error (ms)')\n",
    "        return ax\n",
    "        \n",
    "    def generar_reporte(self):\n",
    "        '''Función que genera un documento de Word en base a los datos\n",
    "        de Sujeto y Experimento. Ver más en: \n",
    "        \n",
    "        https://python-docx.readthedocs.io/en/latest/\n",
    "        '''\n",
    "        # Instanciamos un Documento\n",
    "        documento = Document()\n",
    "        \n",
    "        # Agregamos un Titulo\n",
    "        documento.add_heading(f'Informe de Resultados', 0)\n",
    "        # Info del sujeto\n",
    "        p = documento.add_paragraph(f'Sujeto ID: ')\n",
    "        p.add_run(f'{self.suj.id}').bold = True\n",
    "        \n",
    "        # Agregamos una lista de items iterando\n",
    "        # el diccionario de info del Sujeto\n",
    "        for k, v in self.suj.info.items():\n",
    "            documento.add_paragraph(f'{k}= {v}',\n",
    "                                   style='List Bullet')\n",
    "        \n",
    "        # Agregamos resultados, hay distintos estilos disponibles\n",
    "        p = documento.add_paragraph(f'Resultados de {self.exp.nombre}', \n",
    "                                   style='Intense Quote')\n",
    "                \n",
    "        # COMPLETAR\n",
    "        # iterar los resultados en self.suj.resultados\n",
    "        # agregando otra lista de items \n",
    "        for k, v in self.suj.resultados.items():\n",
    "            documento.add_paragraph(f'{k}= {v}', \n",
    "                                   style='List Bullet')\n",
    "\n",
    "        # Agregamos los gráficos\n",
    "        ax = self.crear_graficos()\n",
    "        plt.savefig(self.img_path) # usamos esta ruta provisorialmente\n",
    "        plt.close() # para no mostrar el plot y solo guardarlo\n",
    "        documento.add_picture(self.img_path, width=Cm(14)) \n",
    "\n",
    "        # Guardamos el archivo docx \n",
    "        fp = f'reporte_{self.suj.id}.docx'\n",
    "        documento.save(fp)\n",
    "        return fp"
   ]
  },
  {
   "cell_type": "code",
   "execution_count": 57,
   "metadata": {},
   "outputs": [],
   "source": [
    "# Instanciamos\n",
    "rep = Reporte(sujeto, tr)"
   ]
  },
  {
   "cell_type": "code",
   "execution_count": 58,
   "metadata": {},
   "outputs": [
    {
     "name": "stderr",
     "output_type": "stream",
     "text": [
      "C:\\ProgramData\\Anaconda3\\lib\\site-packages\\seaborn\\distributions.py:2551: FutureWarning: `distplot` is a deprecated function and will be removed in a future version. Please adapt your code to use either `displot` (a figure-level function with similar flexibility) or `histplot` (an axes-level function for histograms).\n",
      "  warnings.warn(msg, FutureWarning)\n"
     ]
    }
   ],
   "source": [
    "# Generar reporte\n",
    "fp = rep.generar_reporte()"
   ]
  },
  {
   "cell_type": "code",
   "execution_count": null,
   "metadata": {},
   "outputs": [],
   "source": [
    "# Para descargar el doc en Colab\n",
    "from google.colab import files\n",
    "\n",
    "files.download(fp)"
   ]
  }
 ],
 "metadata": {
  "kernelspec": {
   "display_name": "Python 3",
   "language": "python",
   "name": "python3"
  },
  "language_info": {
   "codemirror_mode": {
    "name": "ipython",
    "version": 3
   },
   "file_extension": ".py",
   "mimetype": "text/x-python",
   "name": "python",
   "nbconvert_exporter": "python",
   "pygments_lexer": "ipython3",
   "version": "3.8.5"
  }
 },
 "nbformat": 4,
 "nbformat_minor": 4
}
