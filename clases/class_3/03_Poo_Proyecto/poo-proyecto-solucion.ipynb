{
 "cells": [
  {
   "cell_type": "markdown",
   "metadata": {},
   "source": [
    "<a href=\"https://colab.research.google.com/github/institutohumai/cursos-python/blob/master/Introduccion/6_Poo_Proyecto/poo-proyecto-solucion.ipynb\"> <img src='https://colab.research.google.com/assets/colab-badge.svg' /> </a>\n",
    "<div align=\"center\"> Recordá abrir en una nueva pestaña </div>"
   ]
  },
  {
   "cell_type": "markdown",
   "metadata": {
    "colab_type": "text",
    "id": "q04PDYQI1m1a"
   },
   "source": [
    "## Aplicación de POO: PACMAN"
   ]
  },
  {
   "cell_type": "markdown",
   "metadata": {
    "colab_type": "text",
    "id": "bAfA1aNk1m1d"
   },
   "source": [
    "En esta guía vamos a empezar a diseñar una versión básica del tradicional juego PACMAN, organizando el código a partir de algunos conceptos de POO."
   ]
  },
  {
   "cell_type": "markdown",
   "metadata": {
    "colab_type": "text",
    "id": "W74JeU0c1m1j"
   },
   "source": [
    "Qué elementos van a ser clases? Pensemos en cómo es el juego...\n",
    "En primer lugar, existe un juego, que surje de la interacción entre el PACMAN, los FANTASMAS, el MAPA... Antes de pensar cómo modelar el juego pensemos en el mapa."
   ]
  },
  {
   "cell_type": "markdown",
   "metadata": {
    "colab_type": "text",
    "id": "P9zX-bN61m1m"
   },
   "source": [
    "¿Cómo describirían un mapa?"
   ]
  },
  {
   "cell_type": "markdown",
   "metadata": {
    "colab_type": "text",
    "id": "BjT576xB1m1n"
   },
   "source": [
    "Una versión simple de un mapa podría considerar:\n",
    "- Ser como una matriz, lo cual lo podríamos hacer con una lista de listas\n",
    "- Ser accesible en sus posiciones, ya que vamos a querer posicionar a los fantasmas, a pacman y posiblemente otros objetos\n",
    "- Ser printeable/printable\n",
    "- Poder preguntarle si una posición existe en el mapa, o qué hay en una determinada posición"
   ]
  },
  {
   "cell_type": "markdown",
   "metadata": {},
   "source": [
    "Escribamos primero la clase \"Mapa\". "
   ]
  },
  {
   "cell_type": "code",
   "execution_count": 1,
   "metadata": {
    "colab": {},
    "colab_type": "code",
    "id": "obnaGbtk1m2g"
   },
   "outputs": [],
   "source": [
    "import random\n",
    "import sys"
   ]
  },
  {
   "cell_type": "code",
   "execution_count": 2,
   "metadata": {
    "colab": {},
    "colab_type": "code",
    "id": "sGH7YhRt1m1t"
   },
   "outputs": [],
   "source": [
    "class Mapa:\n",
    "    def __init__(self, n_rows, n_cols):\n",
    "        # primero guardo la cantidad de filas y la cantidad de columnas\n",
    "        self.n_rows = n_rows\n",
    "        self.n_cols = n_cols\n",
    "        # luego, genero un mapa vacío. Nota: ésto se puede hacer mejor usando setters, dejémoslo para otra oportunidad\n",
    "        self._map = [[CeldaVacia() for i in range(self.n_cols)] for x in range(self.n_rows)]\n",
    "    \n",
    "    def __getitem__(self, row):\n",
    "        # esta es una función mágica, nos va a permitir acceder de una forma muy pythonezca\n",
    "        return self._map[row] # pueden adivinar qué nos va a devolver?\n",
    "    \n",
    "    def __str__(self):\n",
    "        # esta es otra función mágica, nos va a dar un print muy canchero, y luego la vamos a modificar más\n",
    "        str_map = \"\"\n",
    "        for row in self._map:\n",
    "            for col_idx in range(len(row)):\n",
    "                str_map += str(row[col_idx])\n",
    "                if col_idx == len(row) - 1:\n",
    "                    str_map += \"\\n\"\n",
    "                \n",
    "        return str_map"
   ]
  },
  {
   "cell_type": "markdown",
   "metadata": {},
   "source": [
    "Y ahora vamos a generar el primer objeto que puede pertenecer a un mapa: una celda vacía. Queremos que esta celda vacía se muestre desde una clase que no es la original, usamos el método <code> __repr__ </code> en lugar de <code> __str__ </code>"
   ]
  },
  {
   "cell_type": "code",
   "execution_count": 3,
   "metadata": {
    "colab": {},
    "colab_type": "code",
    "id": "aWBgtZpp1m3T"
   },
   "outputs": [],
   "source": [
    "class CeldaVacia:\n",
    "    def __repr__(self):\n",
    "        return \" . \""
   ]
  },
  {
   "cell_type": "markdown",
   "metadata": {
    "colab_type": "text",
    "id": "JRgOTlTl1m16"
   },
   "source": [
    "Primero, veamos para qué sirve..."
   ]
  },
  {
   "cell_type": "code",
   "execution_count": 4,
   "metadata": {
    "colab": {},
    "colab_type": "code",
    "id": "Ch_ZF8Wd1m16"
   },
   "outputs": [],
   "source": [
    "# instanciamos un mapa de 5 filas por 3 columnas\n",
    "mapa = Mapa(5,3)"
   ]
  },
  {
   "cell_type": "code",
   "execution_count": 5,
   "metadata": {
    "colab": {
     "base_uri": "https://localhost:8080/",
     "height": 34
    },
    "colab_type": "code",
    "executionInfo": {
     "elapsed": 2644,
     "status": "ok",
     "timestamp": 1589496164353,
     "user": {
      "displayName": "Maria Frances Gaska",
      "photoUrl": "",
      "userId": "00507418052719867119"
     },
     "user_tz": 180
    },
    "id": "2JDgZyoA1m2E",
    "outputId": "663ce186-a268-464a-9735-ba1a68ea9039"
   },
   "outputs": [
    {
     "data": {
      "text/plain": [
       "[ . ,  . ,  . ]"
      ]
     },
     "execution_count": 5,
     "metadata": {},
     "output_type": "execute_result"
    }
   ],
   "source": [
    "mapa[4]"
   ]
  },
  {
   "cell_type": "code",
   "execution_count": 6,
   "metadata": {
    "colab": {
     "base_uri": "https://localhost:8080/",
     "height": 121
    },
    "colab_type": "code",
    "executionInfo": {
     "elapsed": 2791,
     "status": "ok",
     "timestamp": 1589496164719,
     "user": {
      "displayName": "Maria Frances Gaska",
      "photoUrl": "",
      "userId": "00507418052719867119"
     },
     "user_tz": 180
    },
    "id": "zrX6oNZX1m2Q",
    "outputId": "c4963000-607b-4655-eae0-d68cce7d98d5"
   },
   "outputs": [
    {
     "name": "stdout",
     "output_type": "stream",
     "text": [
      " .  .  . \n",
      " .  .  . \n",
      " .  .  . \n",
      " .  .  . \n",
      " .  .  . \n",
      "\n"
     ]
    }
   ],
   "source": [
    "print(mapa)"
   ]
  },
  {
   "cell_type": "code",
   "execution_count": 8,
   "metadata": {},
   "outputs": [
    {
     "data": {
      "text/plain": [
       "3"
      ]
     },
     "execution_count": 8,
     "metadata": {},
     "output_type": "execute_result"
    }
   ],
   "source": [
    "mapa.n_cols"
   ]
  },
  {
   "cell_type": "markdown",
   "metadata": {
    "colab_type": "text",
    "id": "I10AIRkP1m2X"
   },
   "source": [
    "¿Qué va a pasar a continuación...?"
   ]
  },
  {
   "cell_type": "code",
   "execution_count": 7,
   "metadata": {
    "colab": {
     "base_uri": "https://localhost:8080/",
     "height": 165
    },
    "colab_type": "code",
    "executionInfo": {
     "elapsed": 2400,
     "status": "error",
     "timestamp": 1589496164719,
     "user": {
      "displayName": "Maria Frances Gaska",
      "photoUrl": "",
      "userId": "00507418052719867119"
     },
     "user_tz": 180
    },
    "id": "_HVUeDLs1m2Y",
    "outputId": "ffdf1d3a-9332-4186-e4ed-fe77f5981a95"
   },
   "outputs": [
    {
     "ename": "IndexError",
     "evalue": "list index out of range",
     "output_type": "error",
     "traceback": [
      "\u001b[0;31m---------------------------------------------------------------------------\u001b[0m",
      "\u001b[0;31mIndexError\u001b[0m                                Traceback (most recent call last)",
      "\u001b[0;32m<ipython-input-7-c3fb823ac113>\u001b[0m in \u001b[0;36m<module>\u001b[0;34m\u001b[0m\n\u001b[0;32m----> 1\u001b[0;31m \u001b[0mmapa\u001b[0m\u001b[0;34m[\u001b[0m\u001b[0;36m4\u001b[0m\u001b[0;34m]\u001b[0m\u001b[0;34m[\u001b[0m\u001b[0;36m4\u001b[0m\u001b[0;34m]\u001b[0m\u001b[0;34m\u001b[0m\u001b[0;34m\u001b[0m\u001b[0m\n\u001b[0m",
      "\u001b[0;31mIndexError\u001b[0m: list index out of range"
     ]
    }
   ],
   "source": [
    "mapa[4][4]"
   ]
  },
  {
   "cell_type": "markdown",
   "metadata": {
    "colab_type": "text",
    "id": "S7IqiWlP1m2f"
   },
   "source": [
    "¿Qué más podemos imprimir dentro del mapa? A continuación vamos a crear las clases Pacman y Fantasma"
   ]
  },
  {
   "cell_type": "code",
   "execution_count": 9,
   "metadata": {
    "colab": {},
    "colab_type": "code",
    "id": "LHaAZldL1m3C"
   },
   "outputs": [],
   "source": [
    "class Fantasma:\n",
    "    def __repr__(self):\n",
    "        return \" G \""
   ]
  },
  {
   "cell_type": "code",
   "execution_count": 10,
   "metadata": {
    "colab": {},
    "colab_type": "code",
    "id": "l6Gjo6M51m3N"
   },
   "outputs": [],
   "source": [
    "class Pacman:\n",
    "    def __repr__(self):\n",
    "        return \" P \""
   ]
  },
  {
   "cell_type": "markdown",
   "metadata": {},
   "source": [
    "Ahora que ya creamos estos elementos, necesitamos crear métodos en el mapa que nos permitan agregarlos y también consultar para cada posición del mapa qué elemento la está ocupando."
   ]
  },
  {
   "cell_type": "code",
   "execution_count": 11,
   "metadata": {
    "colab": {},
    "colab_type": "code",
    "id": "E4OdPix_1m3X"
   },
   "outputs": [],
   "source": [
    "class Mapa:\n",
    "    def __init__(self, n_filas:int, n_columnas:int):\n",
    "        # primero guardo la cantidad de filas y la cantidad de columnas\n",
    "        self.n_filas = n_filas\n",
    "        self.n_columnas = n_columnas\n",
    "        # luego, genero un mapa vacío. Nota: ésto se puede hacer mejor usando setters, dejémoslo para otra oportunidad\n",
    "        self._elementos = [[CeldaVacia() for i in range(self.n_columnas)] for x in range(self.n_filas)]\n",
    "    \n",
    "   \n",
    "    def __str__(self):\n",
    "        str_map = \"\"\n",
    "        for row in self._elementos:\n",
    "            for col_idx in range(len(row)):\n",
    "                element = row[col_idx]\n",
    "                str_map += str(element)\n",
    "                if col_idx == len(row) - 1:\n",
    "                    str_map += \"\\n\"\n",
    "                \n",
    "        return str_map\n",
    "\n",
    "    def modificar_elemento(self, elemento, pos_x, pos_y):\n",
    "        # método para modificar el tablero\n",
    "        self._elementos[pos_x][pos_y] = elemento\n",
    "\n",
    "    def get_elemento(self, x, y):\n",
    "      # método para tomar un elemento\n",
    "      return self._elementos[x][y]"
   ]
  },
  {
   "cell_type": "markdown",
   "metadata": {},
   "source": [
    "Creamos un nuevo mapa"
   ]
  },
  {
   "cell_type": "code",
   "execution_count": 14,
   "metadata": {
    "colab": {},
    "colab_type": "code",
    "id": "i2xH-Glh1m3c"
   },
   "outputs": [],
   "source": [
    "mapa = Mapa(7,8)"
   ]
  },
  {
   "cell_type": "code",
   "execution_count": 15,
   "metadata": {
    "colab": {
     "base_uri": "https://localhost:8080/",
     "height": 121
    },
    "colab_type": "code",
    "executionInfo": {
     "elapsed": 782,
     "status": "ok",
     "timestamp": 1589496165375,
     "user": {
      "displayName": "Maria Frances Gaska",
      "photoUrl": "",
      "userId": "00507418052719867119"
     },
     "user_tz": 180
    },
    "id": "gAipD4kU1m3g",
    "outputId": "84cecbef-879f-4570-986b-a9664eb097e8"
   },
   "outputs": [
    {
     "name": "stdout",
     "output_type": "stream",
     "text": [
      " .  .  .  .  .  .  .  . \n",
      " .  .  .  .  .  .  .  . \n",
      " .  .  .  .  .  .  .  . \n",
      " .  .  .  .  .  .  .  . \n",
      " .  .  .  .  .  .  .  . \n",
      " .  .  .  .  .  .  .  . \n",
      " .  .  .  .  .  .  .  . \n",
      "\n"
     ]
    }
   ],
   "source": [
    "print(mapa)"
   ]
  },
  {
   "cell_type": "markdown",
   "metadata": {},
   "source": [
    "Y vamos a agregar a Pacman en la posición (2,2)"
   ]
  },
  {
   "cell_type": "code",
   "execution_count": 20,
   "metadata": {
    "colab": {},
    "colab_type": "code",
    "id": "GtG2I9q25kLQ"
   },
   "outputs": [],
   "source": [
    "mapa.modificar_elemento(Pacman(),2,2)"
   ]
  },
  {
   "cell_type": "code",
   "execution_count": 21,
   "metadata": {
    "colab": {
     "base_uri": "https://localhost:8080/",
     "height": 121
    },
    "colab_type": "code",
    "executionInfo": {
     "elapsed": 665,
     "status": "ok",
     "timestamp": 1589496166371,
     "user": {
      "displayName": "Maria Frances Gaska",
      "photoUrl": "",
      "userId": "00507418052719867119"
     },
     "user_tz": 180
    },
    "id": "pSABYFKo51N8",
    "outputId": "86a52c6e-63c9-4f99-f24a-d537d9730ddc"
   },
   "outputs": [
    {
     "name": "stdout",
     "output_type": "stream",
     "text": [
      " .  .  .  .  .  .  .  . \n",
      " .  .  .  .  .  .  .  . \n",
      " .  .  P  .  .  .  .  . \n",
      " .  .  .  .  .  .  .  . \n",
      " .  .  .  .  .  .  .  . \n",
      " .  .  .  .  .  .  .  . \n",
      " .  .  .  .  .  .  .  . \n",
      "\n"
     ]
    }
   ],
   "source": [
    "print(mapa)"
   ]
  },
  {
   "cell_type": "markdown",
   "metadata": {},
   "source": [
    "Ahora vamos a crear la clase Juego. A la hora de inicializar el juego, creamos un mapa con los personajes ubicados en sus posiciones iniciales. \n",
    "\n",
    "Ejercicio: Creen una clase \"Juego\" que tenga entre sus propiedades un mapa de 9x9 donde vamos a colocar un Pacman en la posición (2,3) y fantasmas en las posiciones (4,4) y (5,7)."
   ]
  },
  {
   "cell_type": "code",
   "execution_count": 22,
   "metadata": {},
   "outputs": [],
   "source": [
    "class Juego:\n",
    "    \n",
    "    def __init__(self):\n",
    "        # cuando instanciamos el juego creamos personajes. Por ahora las posiciones son fijas pero se podrían hacer al azar\n",
    "        mapa_inicial = Mapa(9,9)\n",
    "        mapa_inicial.modificar_elemento(Pacman(),2,3)\n",
    "        mapa_inicial.modificar_elemento(Fantasma(),4,4)\n",
    "        mapa_inicial.modificar_elemento(Fantasma(),5,7)\n",
    "        self.mapa = mapa_inicial"
   ]
  },
  {
   "cell_type": "markdown",
   "metadata": {},
   "source": [
    "### Poblando el tablero e inicializando el juego\n",
    "\n",
    "Ahora vamos a crear una clase Juego que se inicialice con un mapa de 7X8 y los personajes en distintas posiciones. También vamos a inicializar el score en 0 y crear un método start() que permita tomar el input del usuario y nos muestre el tablero."
   ]
  },
  {
   "cell_type": "code",
   "execution_count": 23,
   "metadata": {},
   "outputs": [],
   "source": [
    "class Juego:\n",
    "    \n",
    "    def __init__(self):\n",
    "        # cuando instanciamos el juego creamos personajes. Por ahora las posiciones son fijas pero se podrían hacer al azar\n",
    "        mapa_inicial = Mapa(7,8)\n",
    "        mapa_inicial.modificar_elemento(Pacman(),4,3)\n",
    "        mapa_inicial.modificar_elemento(Fantasma(),1,3)\n",
    "        mapa_inicial.modificar_elemento(Fantasma(),0,0)\n",
    "        self.mapa = mapa_inicial\n",
    "        self.puntaje = 0\n",
    "\n",
    "    def start(self):\n",
    "        fin = False\n",
    "        while not fin:\n",
    "            print(f\"score:{self.puntaje}\")\n",
    "            print(self.mapa)\n",
    "            input_movimiento = input()"
   ]
  },
  {
   "cell_type": "code",
   "execution_count": 24,
   "metadata": {},
   "outputs": [
    {
     "name": "stdout",
     "output_type": "stream",
     "text": [
      "score:0\n",
      " G  .  .  .  .  .  .  . \n",
      " .  .  .  G  .  .  .  . \n",
      " .  .  .  .  .  .  .  . \n",
      " .  .  .  .  .  .  .  . \n",
      " .  .  .  P  .  .  .  . \n",
      " .  .  .  .  .  .  .  . \n",
      " .  .  .  .  .  .  .  . \n",
      "\n"
     ]
    },
    {
     "name": "stdin",
     "output_type": "stream",
     "text": [
      " a\n"
     ]
    },
    {
     "name": "stdout",
     "output_type": "stream",
     "text": [
      "score:0\n",
      " G  .  .  .  .  .  .  . \n",
      " .  .  .  G  .  .  .  . \n",
      " .  .  .  .  .  .  .  . \n",
      " .  .  .  .  .  .  .  . \n",
      " .  .  .  P  .  .  .  . \n",
      " .  .  .  .  .  .  .  . \n",
      " .  .  .  .  .  .  .  . \n",
      "\n"
     ]
    },
    {
     "name": "stdin",
     "output_type": "stream",
     "text": [
      " a\n"
     ]
    },
    {
     "name": "stdout",
     "output_type": "stream",
     "text": [
      "score:0\n",
      " G  .  .  .  .  .  .  . \n",
      " .  .  .  G  .  .  .  . \n",
      " .  .  .  .  .  .  .  . \n",
      " .  .  .  .  .  .  .  . \n",
      " .  .  .  P  .  .  .  . \n",
      " .  .  .  .  .  .  .  . \n",
      " .  .  .  .  .  .  .  . \n",
      "\n"
     ]
    },
    {
     "ename": "KeyboardInterrupt",
     "evalue": "",
     "output_type": "error",
     "traceback": [
      "\u001b[0;31m---------------------------------------------------------------------------\u001b[0m",
      "\u001b[0;31mKeyboardInterrupt\u001b[0m                         Traceback (most recent call last)",
      "\u001b[0;32m/opt/conda/lib/python3.7/site-packages/ipykernel/kernelbase.py\u001b[0m in \u001b[0;36m_input_request\u001b[0;34m(self, prompt, ident, parent, password)\u001b[0m\n\u001b[1;32m    883\u001b[0m             \u001b[0;32mtry\u001b[0m\u001b[0;34m:\u001b[0m\u001b[0;34m\u001b[0m\u001b[0;34m\u001b[0m\u001b[0m\n\u001b[0;32m--> 884\u001b[0;31m                 \u001b[0mident\u001b[0m\u001b[0;34m,\u001b[0m \u001b[0mreply\u001b[0m \u001b[0;34m=\u001b[0m \u001b[0mself\u001b[0m\u001b[0;34m.\u001b[0m\u001b[0msession\u001b[0m\u001b[0;34m.\u001b[0m\u001b[0mrecv\u001b[0m\u001b[0;34m(\u001b[0m\u001b[0mself\u001b[0m\u001b[0;34m.\u001b[0m\u001b[0mstdin_socket\u001b[0m\u001b[0;34m,\u001b[0m \u001b[0;36m0\u001b[0m\u001b[0;34m)\u001b[0m\u001b[0;34m\u001b[0m\u001b[0;34m\u001b[0m\u001b[0m\n\u001b[0m\u001b[1;32m    885\u001b[0m             \u001b[0;32mexcept\u001b[0m \u001b[0mException\u001b[0m\u001b[0;34m:\u001b[0m\u001b[0;34m\u001b[0m\u001b[0;34m\u001b[0m\u001b[0m\n",
      "\u001b[0;32m/opt/conda/lib/python3.7/site-packages/jupyter_client/session.py\u001b[0m in \u001b[0;36mrecv\u001b[0;34m(self, socket, mode, content, copy)\u001b[0m\n\u001b[1;32m    802\u001b[0m         \u001b[0;32mtry\u001b[0m\u001b[0;34m:\u001b[0m\u001b[0;34m\u001b[0m\u001b[0;34m\u001b[0m\u001b[0m\n\u001b[0;32m--> 803\u001b[0;31m             \u001b[0mmsg_list\u001b[0m \u001b[0;34m=\u001b[0m \u001b[0msocket\u001b[0m\u001b[0;34m.\u001b[0m\u001b[0mrecv_multipart\u001b[0m\u001b[0;34m(\u001b[0m\u001b[0mmode\u001b[0m\u001b[0;34m,\u001b[0m \u001b[0mcopy\u001b[0m\u001b[0;34m=\u001b[0m\u001b[0mcopy\u001b[0m\u001b[0;34m)\u001b[0m\u001b[0;34m\u001b[0m\u001b[0;34m\u001b[0m\u001b[0m\n\u001b[0m\u001b[1;32m    804\u001b[0m         \u001b[0;32mexcept\u001b[0m \u001b[0mzmq\u001b[0m\u001b[0;34m.\u001b[0m\u001b[0mZMQError\u001b[0m \u001b[0;32mas\u001b[0m \u001b[0me\u001b[0m\u001b[0;34m:\u001b[0m\u001b[0;34m\u001b[0m\u001b[0;34m\u001b[0m\u001b[0m\n",
      "\u001b[0;32m/opt/conda/lib/python3.7/site-packages/zmq/sugar/socket.py\u001b[0m in \u001b[0;36mrecv_multipart\u001b[0;34m(self, flags, copy, track)\u001b[0m\n\u001b[1;32m    474\u001b[0m         \"\"\"\n\u001b[0;32m--> 475\u001b[0;31m         \u001b[0mparts\u001b[0m \u001b[0;34m=\u001b[0m \u001b[0;34m[\u001b[0m\u001b[0mself\u001b[0m\u001b[0;34m.\u001b[0m\u001b[0mrecv\u001b[0m\u001b[0;34m(\u001b[0m\u001b[0mflags\u001b[0m\u001b[0;34m,\u001b[0m \u001b[0mcopy\u001b[0m\u001b[0;34m=\u001b[0m\u001b[0mcopy\u001b[0m\u001b[0;34m,\u001b[0m \u001b[0mtrack\u001b[0m\u001b[0;34m=\u001b[0m\u001b[0mtrack\u001b[0m\u001b[0;34m)\u001b[0m\u001b[0;34m]\u001b[0m\u001b[0;34m\u001b[0m\u001b[0;34m\u001b[0m\u001b[0m\n\u001b[0m\u001b[1;32m    476\u001b[0m         \u001b[0;31m# have first part already, only loop while more to receive\u001b[0m\u001b[0;34m\u001b[0m\u001b[0;34m\u001b[0m\u001b[0;34m\u001b[0m\u001b[0m\n",
      "\u001b[0;32mzmq/backend/cython/socket.pyx\u001b[0m in \u001b[0;36mzmq.backend.cython.socket.Socket.recv\u001b[0;34m()\u001b[0m\n",
      "\u001b[0;32mzmq/backend/cython/socket.pyx\u001b[0m in \u001b[0;36mzmq.backend.cython.socket.Socket.recv\u001b[0;34m()\u001b[0m\n",
      "\u001b[0;32mzmq/backend/cython/socket.pyx\u001b[0m in \u001b[0;36mzmq.backend.cython.socket._recv_copy\u001b[0;34m()\u001b[0m\n",
      "\u001b[0;32m/opt/conda/lib/python3.7/site-packages/zmq/backend/cython/checkrc.pxd\u001b[0m in \u001b[0;36mzmq.backend.cython.checkrc._check_rc\u001b[0;34m()\u001b[0m\n",
      "\u001b[0;31mKeyboardInterrupt\u001b[0m: ",
      "\nDuring handling of the above exception, another exception occurred:\n",
      "\u001b[0;31mKeyboardInterrupt\u001b[0m                         Traceback (most recent call last)",
      "\u001b[0;32m<ipython-input-24-cf424094b3a1>\u001b[0m in \u001b[0;36m<module>\u001b[0;34m\u001b[0m\n\u001b[1;32m      1\u001b[0m \u001b[0mjuego\u001b[0m \u001b[0;34m=\u001b[0m \u001b[0mJuego\u001b[0m\u001b[0;34m(\u001b[0m\u001b[0;34m)\u001b[0m\u001b[0;34m\u001b[0m\u001b[0;34m\u001b[0m\u001b[0m\n\u001b[0;32m----> 2\u001b[0;31m \u001b[0mjuego\u001b[0m\u001b[0;34m.\u001b[0m\u001b[0mstart\u001b[0m\u001b[0;34m(\u001b[0m\u001b[0;34m)\u001b[0m\u001b[0;34m\u001b[0m\u001b[0;34m\u001b[0m\u001b[0m\n\u001b[0m",
      "\u001b[0;32m<ipython-input-23-2297c445a7ed>\u001b[0m in \u001b[0;36mstart\u001b[0;34m(self)\u001b[0m\n\u001b[1;32m     15\u001b[0m             \u001b[0mprint\u001b[0m\u001b[0;34m(\u001b[0m\u001b[0;34mf\"score:{self.puntaje}\"\u001b[0m\u001b[0;34m)\u001b[0m\u001b[0;34m\u001b[0m\u001b[0;34m\u001b[0m\u001b[0m\n\u001b[1;32m     16\u001b[0m             \u001b[0mprint\u001b[0m\u001b[0;34m(\u001b[0m\u001b[0mself\u001b[0m\u001b[0;34m.\u001b[0m\u001b[0mmapa\u001b[0m\u001b[0;34m)\u001b[0m\u001b[0;34m\u001b[0m\u001b[0;34m\u001b[0m\u001b[0m\n\u001b[0;32m---> 17\u001b[0;31m             \u001b[0minput_movimiento\u001b[0m \u001b[0;34m=\u001b[0m \u001b[0minput\u001b[0m\u001b[0;34m(\u001b[0m\u001b[0;34m)\u001b[0m\u001b[0;34m\u001b[0m\u001b[0;34m\u001b[0m\u001b[0m\n\u001b[0m",
      "\u001b[0;32m/opt/conda/lib/python3.7/site-packages/ipykernel/kernelbase.py\u001b[0m in \u001b[0;36mraw_input\u001b[0;34m(self, prompt)\u001b[0m\n\u001b[1;32m    857\u001b[0m             \u001b[0mself\u001b[0m\u001b[0;34m.\u001b[0m\u001b[0m_parent_ident\u001b[0m\u001b[0;34m,\u001b[0m\u001b[0;34m\u001b[0m\u001b[0;34m\u001b[0m\u001b[0m\n\u001b[1;32m    858\u001b[0m             \u001b[0mself\u001b[0m\u001b[0;34m.\u001b[0m\u001b[0m_parent_header\u001b[0m\u001b[0;34m,\u001b[0m\u001b[0;34m\u001b[0m\u001b[0;34m\u001b[0m\u001b[0m\n\u001b[0;32m--> 859\u001b[0;31m             \u001b[0mpassword\u001b[0m\u001b[0;34m=\u001b[0m\u001b[0;32mFalse\u001b[0m\u001b[0;34m,\u001b[0m\u001b[0;34m\u001b[0m\u001b[0;34m\u001b[0m\u001b[0m\n\u001b[0m\u001b[1;32m    860\u001b[0m         )\n\u001b[1;32m    861\u001b[0m \u001b[0;34m\u001b[0m\u001b[0m\n",
      "\u001b[0;32m/opt/conda/lib/python3.7/site-packages/ipykernel/kernelbase.py\u001b[0m in \u001b[0;36m_input_request\u001b[0;34m(self, prompt, ident, parent, password)\u001b[0m\n\u001b[1;32m    887\u001b[0m             \u001b[0;32mexcept\u001b[0m \u001b[0mKeyboardInterrupt\u001b[0m\u001b[0;34m:\u001b[0m\u001b[0;34m\u001b[0m\u001b[0;34m\u001b[0m\u001b[0m\n\u001b[1;32m    888\u001b[0m                 \u001b[0;31m# re-raise KeyboardInterrupt, to truncate traceback\u001b[0m\u001b[0;34m\u001b[0m\u001b[0;34m\u001b[0m\u001b[0;34m\u001b[0m\u001b[0m\n\u001b[0;32m--> 889\u001b[0;31m                 \u001b[0;32mraise\u001b[0m \u001b[0mKeyboardInterrupt\u001b[0m\u001b[0;34m\u001b[0m\u001b[0;34m\u001b[0m\u001b[0m\n\u001b[0m\u001b[1;32m    890\u001b[0m             \u001b[0;32melse\u001b[0m\u001b[0;34m:\u001b[0m\u001b[0;34m\u001b[0m\u001b[0;34m\u001b[0m\u001b[0m\n\u001b[1;32m    891\u001b[0m                 \u001b[0;32mbreak\u001b[0m\u001b[0;34m\u001b[0m\u001b[0;34m\u001b[0m\u001b[0m\n",
      "\u001b[0;31mKeyboardInterrupt\u001b[0m: "
     ]
    }
   ],
   "source": [
    "juego = Juego()\n",
    "juego.start()"
   ]
  },
  {
   "cell_type": "markdown",
   "metadata": {},
   "source": [
    "### Validar el input\n",
    "\n",
    "Por ahora el juego nos permite ingresar cualquier valor, no reacciona a ese input y tenemos que terminar el juego manualmente. \n",
    "\n",
    "Agreguemos, entonces un poco de funcionalidad a la clase Juego. Ahora vamos a validar que el input sea alguna de las teclas \"a\",\"w\",\"s\" o \"d\" que permiten mover a Pacman. Para eso vamos a crear un método privado en la clase \\_input\\_valido que valida si la tecla es correcta"
   ]
  },
  {
   "cell_type": "code",
   "execution_count": 25,
   "metadata": {},
   "outputs": [],
   "source": [
    "class Juego:\n",
    "    \n",
    "    def __init__(self):\n",
    "        # cuando instanciamos el juego creamos personajes. Por ahora las posiciones son fijas pero se podrían hacer al azar\n",
    "        mapa_inicial = Mapa(7,8)\n",
    "        mapa_inicial.modificar_elemento(Pacman(),4,3)\n",
    "        mapa_inicial.modificar_elemento(Fantasma(),1,3)\n",
    "        mapa_inicial.modificar_elemento(Fantasma(),0,0)\n",
    "        self.mapa = mapa_inicial\n",
    "        self.puntaje = 0\n",
    "\n",
    "    def start(self):\n",
    "        # Loop con la lógica del juego\n",
    "        fin = False\n",
    "        while not fin:\n",
    "            print(f\"score:{self.puntaje}\")\n",
    "            print(self.mapa)\n",
    "            input_movimiento = input()\n",
    "            if not self._input_valido(input_movimiento):\n",
    "                print(\"El input tiene que ser a, w, s o d\")\n",
    "                \n",
    "    def _input_valido(self, move_input):\n",
    "        # Valida si el input es correcto\n",
    "        if move_input in [\"a\",\"w\",\"s\",\"d\"]:\n",
    "            return True\n",
    "        else:\n",
    "            return False\n"
   ]
  },
  {
   "cell_type": "code",
   "execution_count": null,
   "metadata": {},
   "outputs": [],
   "source": [
    "juego = Juego()\n",
    "juego.start()"
   ]
  },
  {
   "cell_type": "markdown",
   "metadata": {},
   "source": [
    "### Mover a Pacman\n",
    "\n",
    "Ahora queremos reaccionar al input del usuario. Para esto vamos a invocar al método \\_modificar\\_elemento.\n",
    "* Para poder mover a Pacman tenemos que consultar su posición. Esto lo hacemos con el método _get_posicion_pacman.\n",
    "* Una vez que tenemos la posición vamos a calcular la nueva posición en función del movimiento del usuario. Noten que éste puede ser un método estático porque no modifica ni consulta ninguna de las propiedades de la clase Juego.\n",
    "* Finalmente actualizamos el mapa del juego. "
   ]
  },
  {
   "cell_type": "code",
   "execution_count": null,
   "metadata": {},
   "outputs": [],
   "source": [
    "class Juego:\n",
    "    \n",
    "    def __init__(self):\n",
    "        # cuando instanciamos el juego creamos personajes. Por ahora las posiciones son fijas pero se podrían hacer al azar\n",
    "        mapa_inicial = Mapa(7,8)\n",
    "        mapa_inicial.modificar_elemento(Pacman(),4,3)\n",
    "        mapa_inicial.modificar_elemento(Fantasma(),1,3)\n",
    "        mapa_inicial.modificar_elemento(Fantasma(),0,0)\n",
    "        self.mapa = mapa_inicial\n",
    "        self.puntaje = 0\n",
    "\n",
    "    def start(self):\n",
    "        # Loop con la lógica del juego\n",
    "        fin = False\n",
    "        while not fin:\n",
    "            print(f\"score:{self.puntaje}\")\n",
    "            print(self.mapa)\n",
    "            input_movimiento = input()\n",
    "            if not self._input_valido(input_movimiento):\n",
    "                print(\"El input tiene que ser a, w, s o d\")\n",
    "            else:\n",
    "                self._actualizar_mapa(input_movimiento)\n",
    "                \n",
    "    def _input_valido(self, input_movimiento):\n",
    "        # Valida si el input es correcto\n",
    "        if input_movimiento in [\"a\",\"w\",\"s\",\"d\"]:\n",
    "            return True\n",
    "        else:\n",
    "            return False\n",
    "        \n",
    "    def _actualizar_mapa(self, input_movimiento):\n",
    "        # Actualiza la posición del pacman\n",
    "        pacman_x,pacman_y = self._get_posicion_pacman()\n",
    "        nueva_x, nueva_y = self._avanzar_posicion(pacman_x,pacman_y,input_movimiento)\n",
    "        self.mapa.modificar_elemento(CeldaVacia(), pacman_x, pacman_y)\n",
    "        self.mapa.modificar_elemento(Pacman(), nueva_x, nueva_y)\n",
    "        return 0\n",
    "    \n",
    "    def _get_posicion_pacman(self):\n",
    "        # Iteramos por todos los elementos del mapa del juego hasta encontrar a Pacman\n",
    "        for fila in range(self.mapa.n_filas):\n",
    "            for columna in range(self.mapa.n_columnas):\n",
    "                elemento = self.mapa.get_elemento(fila,columna)\n",
    "                if isinstance(elemento,Pacman):\n",
    "                    # Hay un único elemento de la clase Pacman. Los demás son Fantasma o CeldaVacia\n",
    "                    return fila, columna\n",
    "                \n",
    "    @staticmethod\n",
    "    def _avanzar_posicion(x,y,move):\n",
    "        if move == \"a\":\n",
    "            y = y - 1\n",
    "        elif move == \"w\":\n",
    "            x = x - 1\n",
    "        elif move == \"s\":\n",
    "            x = x + 1\n",
    "        elif move == \"d\":\n",
    "            y = y + 1\n",
    "        else:\n",
    "            raise NotImplementedError(f\"{move}\")\n",
    "        return x,y\n"
   ]
  },
  {
   "cell_type": "markdown",
   "metadata": {},
   "source": [
    "Ahora movamos un poco a Pacman por el mapa del juego."
   ]
  },
  {
   "cell_type": "code",
   "execution_count": null,
   "metadata": {},
   "outputs": [],
   "source": [
    "juego = Juego()\n",
    "juego.start()"
   ]
  },
  {
   "cell_type": "markdown",
   "metadata": {},
   "source": [
    "### Validar los movimientos de Pacman\n",
    "\n",
    "Ahora nos queda agregar un poco más de funcionalidad:\n",
    "\n",
    "* Validar que se pierde cuando Pacman coincide en el casillero con un Fantasma\n",
    "* Aumentar el score en cada jugada\n",
    "* Evitar que los Pacman se salga de los límites del mapa.\n",
    "\n",
    "Como el resultado de mover a Pacman puede ser tanto chocarse con la pared, como coincidir con un fantasma y perder, como moverse exitosamente, vamos a ampliar la funcionalidad del método \\_actualizar\\_mapa. \n",
    "\n",
    "Ahora este método devuelve un status, de acuerdo al resultado de la movida y vamos a renombrarlo como \\_actualizar\\_mapa\\_y\\_devolver\\_status. Noten lo importante que es que los métodos tengan nombres detallados que señalen todo lo que hacen. De esa forma el código es más legible y eso mejora la experiencia de trabajar colaborando con otros.\n",
    "\n",
    "No tengan miedo de usar nombres largos para los métodos. Poner buenos nombres para las variables y funciones hace que el código cuente una historia que otros también puedan leer."
   ]
  },
  {
   "cell_type": "code",
   "execution_count": 30,
   "metadata": {},
   "outputs": [],
   "source": [
    "class Juego:\n",
    "    \n",
    "    def __init__(self):\n",
    "        # cuando instanciamos el juego creamos personajes. Por ahora las posiciones son fijas pero se podrían hacer al azar\n",
    "        mapa_inicial = Mapa(7,8)\n",
    "        mapa_inicial.modificar_elemento(Pacman(),4,3)\n",
    "        mapa_inicial.modificar_elemento(Fantasma(),1,3)\n",
    "        mapa_inicial.modificar_elemento(Fantasma(),0,0)\n",
    "        self.mapa = mapa_inicial\n",
    "        self.puntaje = 0\n",
    "\n",
    "    def start(self):\n",
    "        # Loop con la lógica del juego\n",
    "        fin = False\n",
    "        while not fin:\n",
    "            print(f\"score:{self.puntaje}\")\n",
    "            print(self.mapa)\n",
    "            input_movimiento = input()\n",
    "            if not self._input_valido(input_movimiento):\n",
    "                print(\"El input tiene que ser a, w, s o d\")\n",
    "            else:\n",
    "                status = self._actualizar_mapa_y_devolver_status(input_movimiento)\n",
    "                if status == 1:\n",
    "                    print(\"Cuidado con la pared\")\n",
    "                if status == 2:\n",
    "                    print(\"Perdiste\")\n",
    "                    return\n",
    "                elif status == 0:\n",
    "                    self.puntaje += 1\n",
    "\n",
    "                \n",
    "    def _input_valido(self, input_movimiento):\n",
    "        # Valida si el input es correcto\n",
    "        if input_movimiento in [\"a\",\"w\",\"s\",\"d\"]:\n",
    "            return True\n",
    "        else:\n",
    "            return False\n",
    "        \n",
    "    def _actualizar_mapa_y_devolver_status(self, input_movimiento):\n",
    "        # Actualiza la posición del pacman\n",
    "        pacman_x,pacman_y = self._get_posicion_pacman()\n",
    "        nueva_x, nueva_y = self._avanzar_posicion(pacman_x,pacman_y,input_movimiento)\n",
    "        print(nueva_x, nueva_y)\n",
    "        if self._choca_la_pared(nueva_x, nueva_y):\n",
    "            return 1\n",
    "        elif isinstance(self.mapa.get_elemento(nueva_x, nueva_y),Fantasma):\n",
    "            return 2\n",
    "        else:\n",
    "            self.mapa.modificar_elemento(CeldaVacia(), pacman_x, pacman_y)\n",
    "            self.mapa.modificar_elemento(Pacman(), nueva_x, nueva_y)\n",
    "        return 0\n",
    "    \n",
    "    def _get_posicion_pacman(self):\n",
    "        # Iteramos por todos los elementos del mapa del juego hasta encontrar a Pacman\n",
    "        for fila in range(self.mapa.n_filas):\n",
    "            for columna in range(self.mapa.n_columnas):\n",
    "                elemento = self.mapa.get_elemento(fila,columna)\n",
    "                if isinstance(elemento,Pacman):\n",
    "                    # Hay un único elemento de la clase Pacman. Los demás son Fantasma o CeldaVacia\n",
    "                    return fila, columna\n",
    "                \n",
    "    def _choca_la_pared(self, x, y):\n",
    "        if x >= 0 and x < self.mapa.n_filas and y >= 0 and y < self.mapa.n_columnas:\n",
    "            return False\n",
    "        return True\n",
    "        \n",
    "                \n",
    "    @staticmethod\n",
    "    def _avanzar_posicion(x,y,move):\n",
    "        if move == \"a\":\n",
    "            y = y - 1\n",
    "        elif move == \"w\":\n",
    "            x = x - 1\n",
    "        elif move == \"s\":\n",
    "            x = x + 1\n",
    "        elif move == \"d\":\n",
    "            y = y + 1\n",
    "        else:\n",
    "            raise NotImplementedError(f\"{move}\")\n",
    "        return x,y\n"
   ]
  },
  {
   "cell_type": "code",
   "execution_count": 31,
   "metadata": {},
   "outputs": [
    {
     "name": "stdout",
     "output_type": "stream",
     "text": [
      "score:0\n",
      " G  .  .  .  .  .  .  . \n",
      " .  .  .  G  .  .  .  . \n",
      " .  .  .  .  .  .  .  . \n",
      " .  .  .  .  .  .  .  . \n",
      " .  .  .  P  .  .  .  . \n",
      " .  .  .  .  .  .  .  . \n",
      " .  .  .  .  .  .  .  . \n",
      "\n"
     ]
    },
    {
     "name": "stdin",
     "output_type": "stream",
     "text": [
      " s\n"
     ]
    },
    {
     "name": "stdout",
     "output_type": "stream",
     "text": [
      "5 3\n",
      "7 8\n",
      "score:1\n",
      " G  .  .  .  .  .  .  . \n",
      " .  .  .  G  .  .  .  . \n",
      " .  .  .  .  .  .  .  . \n",
      " .  .  .  .  .  .  .  . \n",
      " .  .  .  .  .  .  .  . \n",
      " .  .  .  P  .  .  .  . \n",
      " .  .  .  .  .  .  .  . \n",
      "\n"
     ]
    },
    {
     "name": "stdin",
     "output_type": "stream",
     "text": [
      " s\n"
     ]
    },
    {
     "name": "stdout",
     "output_type": "stream",
     "text": [
      "6 3\n",
      "7 8\n",
      "score:2\n",
      " G  .  .  .  .  .  .  . \n",
      " .  .  .  G  .  .  .  . \n",
      " .  .  .  .  .  .  .  . \n",
      " .  .  .  .  .  .  .  . \n",
      " .  .  .  .  .  .  .  . \n",
      " .  .  .  .  .  .  .  . \n",
      " .  .  .  P  .  .  .  . \n",
      "\n"
     ]
    },
    {
     "name": "stdin",
     "output_type": "stream",
     "text": [
      " s\n"
     ]
    },
    {
     "name": "stdout",
     "output_type": "stream",
     "text": [
      "7 3\n",
      "7 8\n",
      "Cuidado con la pared\n",
      "score:2\n",
      " G  .  .  .  .  .  .  . \n",
      " .  .  .  G  .  .  .  . \n",
      " .  .  .  .  .  .  .  . \n",
      " .  .  .  .  .  .  .  . \n",
      " .  .  .  .  .  .  .  . \n",
      " .  .  .  .  .  .  .  . \n",
      " .  .  .  P  .  .  .  . \n",
      "\n"
     ]
    },
    {
     "name": "stdin",
     "output_type": "stream",
     "text": [
      " w\n"
     ]
    },
    {
     "name": "stdout",
     "output_type": "stream",
     "text": [
      "5 3\n",
      "7 8\n",
      "score:3\n",
      " G  .  .  .  .  .  .  . \n",
      " .  .  .  G  .  .  .  . \n",
      " .  .  .  .  .  .  .  . \n",
      " .  .  .  .  .  .  .  . \n",
      " .  .  .  .  .  .  .  . \n",
      " .  .  .  P  .  .  .  . \n",
      " .  .  .  .  .  .  .  . \n",
      "\n"
     ]
    },
    {
     "name": "stdin",
     "output_type": "stream",
     "text": [
      " w\n"
     ]
    },
    {
     "name": "stdout",
     "output_type": "stream",
     "text": [
      "4 3\n",
      "7 8\n",
      "score:4\n",
      " G  .  .  .  .  .  .  . \n",
      " .  .  .  G  .  .  .  . \n",
      " .  .  .  .  .  .  .  . \n",
      " .  .  .  .  .  .  .  . \n",
      " .  .  .  P  .  .  .  . \n",
      " .  .  .  .  .  .  .  . \n",
      " .  .  .  .  .  .  .  . \n",
      "\n"
     ]
    },
    {
     "name": "stdin",
     "output_type": "stream",
     "text": [
      " w\n"
     ]
    },
    {
     "name": "stdout",
     "output_type": "stream",
     "text": [
      "3 3\n",
      "7 8\n",
      "score:5\n",
      " G  .  .  .  .  .  .  . \n",
      " .  .  .  G  .  .  .  . \n",
      " .  .  .  .  .  .  .  . \n",
      " .  .  .  P  .  .  .  . \n",
      " .  .  .  .  .  .  .  . \n",
      " .  .  .  .  .  .  .  . \n",
      " .  .  .  .  .  .  .  . \n",
      "\n"
     ]
    },
    {
     "name": "stdin",
     "output_type": "stream",
     "text": [
      " w\n"
     ]
    },
    {
     "name": "stdout",
     "output_type": "stream",
     "text": [
      "2 3\n",
      "7 8\n",
      "score:6\n",
      " G  .  .  .  .  .  .  . \n",
      " .  .  .  G  .  .  .  . \n",
      " .  .  .  P  .  .  .  . \n",
      " .  .  .  .  .  .  .  . \n",
      " .  .  .  .  .  .  .  . \n",
      " .  .  .  .  .  .  .  . \n",
      " .  .  .  .  .  .  .  . \n",
      "\n"
     ]
    },
    {
     "name": "stdin",
     "output_type": "stream",
     "text": [
      " w\n"
     ]
    },
    {
     "name": "stdout",
     "output_type": "stream",
     "text": [
      "1 3\n",
      "7 8\n",
      "Perdiste\n"
     ]
    }
   ],
   "source": [
    "juego = Juego()\n",
    "juego.start()"
   ]
  },
  {
   "cell_type": "markdown",
   "metadata": {},
   "source": [
    "### Agregar el movimiento de los fantasmas\n",
    "\n",
    "Ahora vamos a agregar movimiento al azar para los fantasmas al principio de la jugada. Estos pueden moverse en cuatro posibles direcciones. Para decidir adónde irán, vamos a ordenar estas cuatro posiciones al azar y elegir la primera que sea \"válida\", es decir, que no se choca contra una pared ni trata de ocupar un casillero ya ocupado.\n",
    "\n",
    "Noten cómo reutilizamos los métodos que habíamos usado para mover a Pacman \"\\_choca\\_la\\_pared\" y \"\\_avanzar\\_posicion\" vuelven a usarse para mover a los fantasmas"
   ]
  },
  {
   "cell_type": "code",
   "execution_count": 32,
   "metadata": {},
   "outputs": [],
   "source": [
    "class Juego:\n",
    "    \n",
    "    def __init__(self):\n",
    "        # cuando instanciamos el juego creamos personajes. Por ahora las posiciones son fijas pero se podrían hacer al azar\n",
    "        mapa_inicial = Mapa(7,8)\n",
    "        mapa_inicial.modificar_elemento(Pacman(),4,3)\n",
    "        mapa_inicial.modificar_elemento(Fantasma(),1,3)\n",
    "        mapa_inicial.modificar_elemento(Fantasma(),0,0)\n",
    "        self.mapa = mapa_inicial\n",
    "        self.puntaje = 0\n",
    "\n",
    "    def start(self):\n",
    "        # Loop con la lógica del juego\n",
    "        fin = False\n",
    "        while not fin:\n",
    "            print(f\"score:{self.puntaje}\")\n",
    "            print(self.mapa)\n",
    "            status = self._mover_fantasmas_y_devolver_status()\n",
    "            if status == 1:\n",
    "                print(\"Perdiste\")\n",
    "                return\n",
    "            input_movimiento = input()\n",
    "            if not self._input_valido(input_movimiento):\n",
    "                print(\"El input tiene que ser a, w, s o d\")\n",
    "            else:\n",
    "                status = self._actualizar_mapa_y_devolver_status(input_movimiento)\n",
    "                if status == 1:\n",
    "                    print(\"Cuidado con la pared\")\n",
    "                if status == 2:\n",
    "                    print(\"Perdiste\")\n",
    "                    return\n",
    "                elif status == 0:\n",
    "                    self.puntaje += 1\n",
    "\n",
    "                \n",
    "    def _input_valido(self, input_movimiento):\n",
    "        # Valida si el input es correcto\n",
    "        if input_movimiento in [\"a\",\"w\",\"s\",\"d\"]:\n",
    "            return True\n",
    "        else:\n",
    "            return False\n",
    "        \n",
    "    def _actualizar_mapa_y_devolver_status(self, input_movimiento):\n",
    "        # Actualiza la posición del pacman\n",
    "        pacman_x,pacman_y = self._get_posicion_pacman()\n",
    "        nueva_x, nueva_y = self._avanzar_posicion(pacman_x,pacman_y,input_movimiento)\n",
    "        if self._choca_la_pared(nueva_x, nueva_y):\n",
    "            return 1\n",
    "        elif isinstance(self.mapa.get_elemento(nueva_x, nueva_y),Fantasma):\n",
    "            return 2\n",
    "        else:\n",
    "            self.mapa.modificar_elemento(CeldaVacia(), pacman_x, pacman_y)\n",
    "            self.mapa.modificar_elemento(Pacman(), nueva_x, nueva_y)\n",
    "        return 0\n",
    "    \n",
    "    def _get_posicion_pacman(self):\n",
    "        # Iteramos por todos los elementos del mapa del juego hasta encontrar a Pacman\n",
    "        for fila in range(self.mapa.n_filas):\n",
    "            for columna in range(self.mapa.n_columnas):\n",
    "                elemento = self.mapa.get_elemento(fila,columna)\n",
    "                if isinstance(elemento,Pacman):\n",
    "                    # Hay un único elemento de la clase Pacman. Los demás son Fantasma o CeldaVacia\n",
    "                    return fila, columna\n",
    "                \n",
    "    def _choca_la_pared(self,x, y):\n",
    "        if x >= 0 and x < self.mapa.n_filas and y >= 0 and y < self.mapa.n_columnas:\n",
    "            return False\n",
    "        return True\n",
    "        \n",
    "                \n",
    "    @staticmethod\n",
    "    def _avanzar_posicion(x,y,move):\n",
    "        if move == \"a\":\n",
    "            y = y - 1\n",
    "        elif move == \"w\":\n",
    "            x = x - 1\n",
    "        elif move == \"s\":\n",
    "            x = x + 1\n",
    "        elif move == \"d\":\n",
    "            y = y + 1\n",
    "        else:\n",
    "            raise NotImplementedError(f\"{move}\")\n",
    "        return x,y\n",
    "    \n",
    "    def _mover_fantasmas_y_devolver_status(self):\n",
    "        posiciones_fantasmas = self._get_posiciones_fantasmas()\n",
    "        for posicion_fantasma in posiciones_fantasmas:\n",
    "            nueva_x, nueva_y = self._nueva_posicion_fantasma(posicion_fantasma)\n",
    "            if isinstance(self.mapa.get_elemento(nueva_x, nueva_y), Pacman):\n",
    "                return 1\n",
    "            else:\n",
    "                self.mapa.modificar_elemento(Fantasma(),nueva_x, nueva_y)\n",
    "                self.mapa.modificar_elemento(CeldaVacia(),posicion_fantasma[0], posicion_fantasma[1])\n",
    "        return 0\n",
    "    \n",
    "    def _nueva_posicion_fantasma(self,posicion_fantasma):\n",
    "        posibles_direcciones = [\"a\",\"w\",\"s\",\"d\"]\n",
    "        random.shuffle(posibles_direcciones)\n",
    "        # El método shuffle modifica la lista \"inplace\" y cambia el orden original por un orden aleatorio \n",
    "        for direccion in posibles_direcciones:\n",
    "            nueva_x, nueva_y = self._avanzar_posicion(posicion_fantasma[0], posicion_fantasma[1], direccion)\n",
    "            if not self._choca_la_pared(nueva_x, nueva_y) and \\\n",
    "                not isinstance(self.mapa.get_elemento(nueva_x, nueva_y), Fantasma):\n",
    "                return nueva_x, nueva_y\n",
    "\n",
    "    def _get_posiciones_fantasmas(self):\n",
    "        posiciones_fantasmas = []\n",
    "        for fila in range(self.mapa.n_filas):\n",
    "            for columna in range(self.mapa.n_columnas):\n",
    "                elemento = self.mapa.get_elemento(fila,columna)\n",
    "                if isinstance(elemento,Fantasma):\n",
    "                    posiciones_fantasmas.append((fila,columna))\n",
    "        return posiciones_fantasmas\n",
    "          \n",
    "           \n",
    "        "
   ]
  },
  {
   "cell_type": "code",
   "execution_count": 33,
   "metadata": {
    "colab": {},
    "colab_type": "code",
    "id": "8kaRNVr5dSE9"
   },
   "outputs": [],
   "source": [
    "juego = Juego()"
   ]
  },
  {
   "cell_type": "code",
   "execution_count": 34,
   "metadata": {
    "colab": {
     "base_uri": "https://localhost:8080/",
     "height": 903
    },
    "colab_type": "code",
    "id": "ftVKfIwb8R_a",
    "outputId": "d41d6f58-d463-4e2f-c334-a27e89073771"
   },
   "outputs": [
    {
     "name": "stdout",
     "output_type": "stream",
     "text": [
      "score:0\n",
      " G  .  .  .  .  .  .  . \n",
      " .  .  .  G  .  .  .  . \n",
      " .  .  .  .  .  .  .  . \n",
      " .  .  .  .  .  .  .  . \n",
      " .  .  .  P  .  .  .  . \n",
      " .  .  .  .  .  .  .  . \n",
      " .  .  .  .  .  .  .  . \n",
      "\n"
     ]
    },
    {
     "name": "stdin",
     "output_type": "stream",
     "text": [
      " d\n"
     ]
    },
    {
     "name": "stdout",
     "output_type": "stream",
     "text": [
      "score:1\n",
      " .  G  .  .  .  .  .  . \n",
      " .  .  .  .  .  .  .  . \n",
      " .  .  .  G  .  .  .  . \n",
      " .  .  .  .  .  .  .  . \n",
      " .  .  .  .  P  .  .  . \n",
      " .  .  .  .  .  .  .  . \n",
      " .  .  .  .  .  .  .  . \n",
      "\n"
     ]
    },
    {
     "name": "stdin",
     "output_type": "stream",
     "text": [
      " d\n"
     ]
    },
    {
     "name": "stdout",
     "output_type": "stream",
     "text": [
      "score:2\n",
      " G  .  .  .  .  .  .  . \n",
      " .  .  .  .  .  .  .  . \n",
      " .  .  .  .  G  .  .  . \n",
      " .  .  .  .  .  .  .  . \n",
      " .  .  .  .  .  P  .  . \n",
      " .  .  .  .  .  .  .  . \n",
      " .  .  .  .  .  .  .  . \n",
      "\n"
     ]
    },
    {
     "name": "stdin",
     "output_type": "stream",
     "text": [
      " d\n"
     ]
    },
    {
     "name": "stdout",
     "output_type": "stream",
     "text": [
      "score:3\n",
      " .  .  .  .  .  .  .  . \n",
      " G  .  .  .  .  .  .  . \n",
      " .  .  .  .  .  G  .  . \n",
      " .  .  .  .  .  .  .  . \n",
      " .  .  .  .  .  .  P  . \n",
      " .  .  .  .  .  .  .  . \n",
      " .  .  .  .  .  .  .  . \n",
      "\n"
     ]
    },
    {
     "name": "stdin",
     "output_type": "stream",
     "text": [
      " s\n"
     ]
    },
    {
     "name": "stdout",
     "output_type": "stream",
     "text": [
      "score:4\n",
      " G  .  .  .  .  .  .  . \n",
      " .  .  .  .  .  .  .  . \n",
      " .  .  .  .  G  .  .  . \n",
      " .  .  .  .  .  .  .  . \n",
      " .  .  .  .  .  .  .  . \n",
      " .  .  .  .  .  .  P  . \n",
      " .  .  .  .  .  .  .  . \n",
      "\n"
     ]
    },
    {
     "name": "stdin",
     "output_type": "stream",
     "text": [
      " s\n"
     ]
    },
    {
     "name": "stdout",
     "output_type": "stream",
     "text": [
      "score:5\n",
      " .  .  .  .  .  .  .  . \n",
      " G  .  .  .  .  .  .  . \n",
      " .  .  .  .  .  .  .  . \n",
      " .  .  .  .  G  .  .  . \n",
      " .  .  .  .  .  .  .  . \n",
      " .  .  .  .  .  .  .  . \n",
      " .  .  .  .  .  .  P  . \n",
      "\n"
     ]
    },
    {
     "name": "stdin",
     "output_type": "stream",
     "text": [
      " a\n"
     ]
    },
    {
     "name": "stdout",
     "output_type": "stream",
     "text": [
      "score:6\n",
      " G  .  .  .  .  .  .  . \n",
      " .  .  .  .  .  .  .  . \n",
      " .  .  .  .  .  .  .  . \n",
      " .  .  .  .  .  G  .  . \n",
      " .  .  .  .  .  .  .  . \n",
      " .  .  .  .  .  .  .  . \n",
      " .  .  .  .  .  P  .  . \n",
      "\n"
     ]
    },
    {
     "name": "stdin",
     "output_type": "stream",
     "text": [
      " a\n"
     ]
    },
    {
     "name": "stdout",
     "output_type": "stream",
     "text": [
      "score:7\n",
      " .  G  .  .  .  .  .  . \n",
      " .  .  .  .  .  .  .  . \n",
      " .  .  .  .  .  G  .  . \n",
      " .  .  .  .  .  .  .  . \n",
      " .  .  .  .  .  .  .  . \n",
      " .  .  .  .  .  .  .  . \n",
      " .  .  .  .  P  .  .  . \n",
      "\n"
     ]
    },
    {
     "name": "stdin",
     "output_type": "stream",
     "text": [
      " a\n"
     ]
    },
    {
     "name": "stdout",
     "output_type": "stream",
     "text": [
      "score:8\n",
      " .  .  G  .  .  .  .  . \n",
      " .  .  .  .  .  .  .  . \n",
      " .  .  .  .  .  .  G  . \n",
      " .  .  .  .  .  .  .  . \n",
      " .  .  .  .  .  .  .  . \n",
      " .  .  .  .  .  .  .  . \n",
      " .  .  .  P  .  .  .  . \n",
      "\n"
     ]
    },
    {
     "name": "stdin",
     "output_type": "stream",
     "text": [
      " a\n"
     ]
    },
    {
     "name": "stdout",
     "output_type": "stream",
     "text": [
      "score:9\n",
      " .  .  .  .  .  .  .  . \n",
      " .  .  G  .  .  .  .  . \n",
      " .  .  .  .  .  .  .  G \n",
      " .  .  .  .  .  .  .  . \n",
      " .  .  .  .  .  .  .  . \n",
      " .  .  .  .  .  .  .  . \n",
      " .  .  P  .  .  .  .  . \n",
      "\n"
     ]
    },
    {
     "name": "stdin",
     "output_type": "stream",
     "text": [
      " a\n"
     ]
    },
    {
     "name": "stdout",
     "output_type": "stream",
     "text": [
      "score:10\n",
      " .  .  .  .  .  .  .  . \n",
      " .  G  .  .  .  .  .  . \n",
      " .  .  .  .  .  .  G  . \n",
      " .  .  .  .  .  .  .  . \n",
      " .  .  .  .  .  .  .  . \n",
      " .  .  .  .  .  .  .  . \n",
      " .  P  .  .  .  .  .  . \n",
      "\n"
     ]
    },
    {
     "name": "stdin",
     "output_type": "stream",
     "text": [
      " w\n"
     ]
    },
    {
     "name": "stdout",
     "output_type": "stream",
     "text": [
      "score:11\n",
      " .  .  .  .  .  .  .  . \n",
      " .  .  G  .  .  .  .  . \n",
      " .  .  .  .  .  .  .  G \n",
      " .  .  .  .  .  .  .  . \n",
      " .  .  .  .  .  .  .  . \n",
      " .  P  .  .  .  .  .  . \n",
      " .  .  .  .  .  .  .  . \n",
      "\n"
     ]
    },
    {
     "name": "stdin",
     "output_type": "stream",
     "text": [
      " w\n"
     ]
    },
    {
     "name": "stdout",
     "output_type": "stream",
     "text": [
      "score:12\n",
      " .  .  G  .  .  .  .  . \n",
      " .  .  .  .  .  .  .  G \n",
      " .  .  .  .  .  .  .  . \n",
      " .  .  .  .  .  .  .  . \n",
      " .  P  .  .  .  .  .  . \n",
      " .  .  .  .  .  .  .  . \n",
      " .  .  .  .  .  .  .  . \n",
      "\n"
     ]
    },
    {
     "name": "stdin",
     "output_type": "stream",
     "text": [
      " w\n"
     ]
    },
    {
     "name": "stdout",
     "output_type": "stream",
     "text": [
      "score:13\n",
      " .  G  .  .  .  .  .  . \n",
      " .  .  .  .  .  .  .  . \n",
      " .  .  .  .  .  .  .  G \n",
      " .  P  .  .  .  .  .  . \n",
      " .  .  .  .  .  .  .  . \n",
      " .  .  .  .  .  .  .  . \n",
      " .  .  .  .  .  .  .  . \n",
      "\n"
     ]
    },
    {
     "name": "stdin",
     "output_type": "stream",
     "text": [
      " d\n"
     ]
    },
    {
     "name": "stdout",
     "output_type": "stream",
     "text": [
      "score:14\n",
      " .  .  .  .  .  .  .  . \n",
      " .  G  .  .  .  .  .  . \n",
      " .  .  .  .  .  .  .  . \n",
      " .  .  P  .  .  .  .  G \n",
      " .  .  .  .  .  .  .  . \n",
      " .  .  .  .  .  .  .  . \n",
      " .  .  .  .  .  .  .  . \n",
      "\n"
     ]
    },
    {
     "name": "stdin",
     "output_type": "stream",
     "text": [
      " d\n"
     ]
    },
    {
     "name": "stdout",
     "output_type": "stream",
     "text": [
      "score:15\n",
      " .  .  .  .  .  .  .  . \n",
      " G  .  .  .  .  .  .  . \n",
      " .  .  .  .  .  .  .  . \n",
      " .  .  .  P  .  .  G  . \n",
      " .  .  .  .  .  .  .  . \n",
      " .  .  .  .  .  .  .  . \n",
      " .  .  .  .  .  .  .  . \n",
      "\n"
     ]
    },
    {
     "name": "stdin",
     "output_type": "stream",
     "text": [
      " d\n"
     ]
    },
    {
     "name": "stdout",
     "output_type": "stream",
     "text": [
      "score:16\n",
      " .  .  .  .  .  .  .  . \n",
      " .  G  .  .  .  .  .  . \n",
      " .  .  .  .  .  .  .  . \n",
      " .  .  .  .  P  G  .  . \n",
      " .  .  .  .  .  .  .  . \n",
      " .  .  .  .  .  .  .  . \n",
      " .  .  .  .  .  .  .  . \n",
      "\n"
     ]
    },
    {
     "name": "stdin",
     "output_type": "stream",
     "text": [
      " d\n"
     ]
    },
    {
     "name": "stdout",
     "output_type": "stream",
     "text": [
      "score:17\n",
      " .  .  .  .  .  .  .  . \n",
      " .  .  .  .  .  .  .  . \n",
      " .  G  .  .  .  .  .  . \n",
      " .  .  .  .  .  P  .  . \n",
      " .  .  .  .  .  G  .  . \n",
      " .  .  .  .  .  .  .  . \n",
      " .  .  .  .  .  .  .  . \n",
      "\n",
      "Perdiste\n"
     ]
    }
   ],
   "source": [
    "juego.start()"
   ]
  },
  {
   "cell_type": "markdown",
   "metadata": {
    "colab": {},
    "colab_type": "code",
    "id": "fuyGH3gUdY3F"
   },
   "source": [
    "## Fantasmas perseguidores\n",
    "\n",
    "Ahora sería bueno que los fantasmas sean inteligentes. Es decir que persigan a Pacman por el tablero en vez de moverse aleatoriamente. \n",
    "\n",
    "Para eso vamos a programarles el siguiente comportamiento: van a acercarse a Pacman en la dirección en la cual se encuentran más lejos. Lo bueno de este comportamiento es que nunca los va a hacer chocarse contra una pared así que podemos borrar ese control.\n",
    "\n",
    "Imaginen esta posición en el tablero.\n",
    "\n",
    "|        |        |        |        |        |\n",
    "|--------|--------|--------|--------|--------|\n",
    "| .      | .      | .      | G(0,4) | .      |\n",
    "| .      | .      | .      | .      | .      |\n",
    "| P(3,0) | .      | .      | .      | .      |\n",
    "| .      | .      | .      | .      | .      |\n",
    "\n",
    "Para acercarse a Pacman el fantasma se debería mover hacia la izquierda porque la distancia más grande se encuentra en el eje y. Cuando la diferencia más grande está en el eje x, el fantasma se debería mover para arriba o para abajo. El signo de la diferencia es el que determina concretamente para dónde se mueve el fantasma. En caso de empate, cualquiera de las direcciones es lo mismo.\n",
    "\n",
    "Ejercicio\n",
    "Agranden el tamaño del tablero a 10x10 y modifiquen el método <code> _mover_fantasmas_y_devolver_status </code> para que los fantasmas sean perseguidores. \n"
   ]
  },
  {
   "cell_type": "code",
   "execution_count": 35,
   "metadata": {},
   "outputs": [],
   "source": [
    "class Juego:\n",
    "    \n",
    "    def __init__(self):\n",
    "        # cuando instanciamos el juego creamos personajes. Por ahora las posiciones son fijas pero se podrían hacer al azar\n",
    "        mapa_inicial = Mapa(10,10)\n",
    "        mapa_inicial.modificar_elemento(Pacman(),4,3)\n",
    "        mapa_inicial.modificar_elemento(Fantasma(),1,3)\n",
    "        mapa_inicial.modificar_elemento(Fantasma(),0,0)\n",
    "\n",
    "        self.mapa = mapa_inicial\n",
    "        self.puntaje = 0\n",
    "\n",
    "    def start(self):\n",
    "        # Loop con la lógica del juego\n",
    "        fin = False\n",
    "        while not fin:\n",
    "            print(f\"score:{self.puntaje}\")\n",
    "            print(self.mapa)\n",
    "            status = self._mover_fantasmas_y_devolver_status()\n",
    "            if status == 1:\n",
    "                print(\"Perdiste\")\n",
    "                return\n",
    "            input_movimiento = input()\n",
    "            if not self._input_valido(input_movimiento):\n",
    "                print(\"El input tiene que ser a, w, s o d\")\n",
    "            else:\n",
    "                status = self._actualizar_mapa_y_devolver_status(input_movimiento)\n",
    "                if status == 1:\n",
    "                    print(\"Cuidado con la pared\")\n",
    "                if status == 2:\n",
    "                    print(\"Perdiste\")\n",
    "                    return\n",
    "                elif status == 0:\n",
    "                    self.puntaje += 1\n",
    "\n",
    "                \n",
    "    def _input_valido(self, input_movimiento):\n",
    "        # Valida si el input es correcto\n",
    "        if input_movimiento in [\"a\",\"w\",\"s\",\"d\"]:\n",
    "            return True\n",
    "        else:\n",
    "            return False\n",
    "        \n",
    "    def _actualizar_mapa_y_devolver_status(self, input_movimiento):\n",
    "        # Actualiza la posición del pacman\n",
    "        pacman_x,pacman_y = self._get_posicion_pacman()\n",
    "        nueva_x, nueva_y = self._avanzar_posicion(pacman_x,pacman_y,input_movimiento)\n",
    "        if self._choca_la_pared(nueva_x, nueva_y):\n",
    "            return 1\n",
    "        elif isinstance(self.mapa.get_elemento(nueva_x, nueva_y),Fantasma):\n",
    "            return 2\n",
    "        else:\n",
    "            self.mapa.modificar_elemento(CeldaVacia(), pacman_x, pacman_y)\n",
    "            self.mapa.modificar_elemento(Pacman(), nueva_x, nueva_y)\n",
    "        return 0\n",
    "    \n",
    "    def _get_posicion_pacman(self):\n",
    "        # Iteramos por todos los elementos del mapa del juego hasta encontrar a Pacman\n",
    "        for fila in range(self.mapa.n_filas):\n",
    "            for columna in range(self.mapa.n_columnas):\n",
    "                elemento = self.mapa.get_elemento(fila,columna)\n",
    "                if isinstance(elemento,Pacman):\n",
    "                    # Hay un único elemento de la clase Pacman. Los demás son Fantasma o CeldaVacia\n",
    "                    return fila, columna\n",
    "                \n",
    "    def _choca_la_pared(self,x, y):\n",
    "        if x >= 0 and x < self.mapa.n_filas and y >= 0 and y < self.mapa.n_columnas:\n",
    "            return False\n",
    "        return True\n",
    "        \n",
    "                \n",
    "    @staticmethod\n",
    "    def _avanzar_posicion(x,y,move):\n",
    "        if move == \"a\":\n",
    "            y = y - 1\n",
    "        elif move == \"w\":\n",
    "            x = x - 1\n",
    "        elif move == \"s\":\n",
    "            x = x + 1\n",
    "        elif move == \"d\":\n",
    "            y = y + 1\n",
    "        else:\n",
    "            raise NotImplementedError(f\"{move}\")\n",
    "        return x,y\n",
    "    \n",
    "    def _mover_fantasmas_y_devolver_status(self):\n",
    "        posicion_pacman = self._get_posicion_pacman()\n",
    "        posiciones_fantasmas = self._get_posiciones_fantasmas()\n",
    "        for posicion_fantasma in posiciones_fantasmas:\n",
    "            \n",
    "            mejor_movimiento = self._determinar_mejor_movimiento(posicion_fantasma,posicion_pacman)\n",
    "            posible_nueva_posicion = self._avanzar_posicion(posicion_fantasma[0],posicion_fantasma[1],mejor_movimiento)\n",
    "            elemento_actual = self.mapa.get_elemento(posible_nueva_posicion[0], posible_nueva_posicion[1])\n",
    "            if isinstance(elemento_actual, Fantasma):\n",
    "              #Si hay un fantasma no puedo avanzar hacia ahí\n",
    "                break\n",
    "            elif isinstance(elemento_actual, Pacman):\n",
    "                return 1\n",
    "            else:\n",
    "                self.mapa.modificar_elemento(Fantasma(),posible_nueva_posicion[0], posible_nueva_posicion[1])\n",
    "                self.mapa.modificar_elemento(CeldaVacia(),posicion_fantasma[0],posicion_fantasma[1])\n",
    "        return 0\n",
    "\n",
    "    def _determinar_mejor_movimiento(self, posicion_fantasma,posicion_pacman):\n",
    "        distancia_x  = posicion_fantasma[0] - posicion_pacman[0]\n",
    "        distancia_y  = posicion_fantasma[1] - posicion_pacman[1]\n",
    "        if abs(distancia_x) > abs(distancia_y):\n",
    "        # Conviene moverse en el sentido de la x\n",
    "            if distancia_x > 0:\n",
    "              # El fantasma está  más abajo que el Pacman\n",
    "                return \"w\"\n",
    "            else:\n",
    "                return \"s\" \n",
    "        else:\n",
    "        # Conviene moverse en el sentido de la y\n",
    "            if distancia_y > 0:\n",
    "              # El fantasma está a la derecha del Pacman\n",
    "                return \"a\"\n",
    "            else:\n",
    "                return \"d\"\n",
    "\n",
    "\n",
    "    def _nueva_posicion_fantasma(self,posicion_fantasma):\n",
    "        posibles_direcciones = [\"a\",\"w\",\"s\",\"d\"]\n",
    "        random.shuffle(posibles_direcciones)\n",
    "        # El método shuffle modifica la lista \"inplace\" y cambia el orden original por un orden aleatorio \n",
    "        for direccion in posibles_direcciones:\n",
    "            nueva_x, nueva_y = self._avanzar_posicion(posicion_fantasma[0], posicion_fantasma[1], direccion)\n",
    "            if not self._choca_la_pared(nueva_x, nueva_y) and \\\n",
    "                not isinstance(self.mapa.get_elemento(nueva_x, nueva_y), Fantasma):\n",
    "                return nueva_x, nueva_y\n",
    "        # Si todo falla devuelvo las mismas posiciones que tenía antes\n",
    "        return posicion_fantasma[0], posicion_fantasma[1]\n",
    "\n",
    "    def _get_posiciones_fantasmas(self):\n",
    "        posiciones_fantasmas = []\n",
    "        for fila in range(self.mapa.n_filas):\n",
    "            for columna in range(self.mapa.n_columnas):\n",
    "                elemento = self.mapa.get_elemento(fila,columna)\n",
    "                if isinstance(elemento,Fantasma):\n",
    "                    posiciones_fantasmas.append((fila,columna))\n",
    "        return posiciones_fantasmas\n",
    "          \n"
   ]
  },
  {
   "cell_type": "code",
   "execution_count": 37,
   "metadata": {},
   "outputs": [
    {
     "name": "stdout",
     "output_type": "stream",
     "text": [
      "score:0\n",
      " G  .  .  .  .  .  .  .  .  . \n",
      " .  .  .  G  .  .  .  .  .  . \n",
      " .  .  .  .  .  .  .  .  .  . \n",
      " .  .  .  .  .  .  .  .  .  . \n",
      " .  .  .  P  .  .  .  .  .  . \n",
      " .  .  .  .  .  .  .  .  .  . \n",
      " .  .  .  .  .  .  .  .  .  . \n",
      " .  .  .  .  .  .  .  .  .  . \n",
      " .  .  .  .  .  .  .  .  .  . \n",
      " .  .  .  .  .  .  .  .  .  . \n",
      "\n"
     ]
    },
    {
     "name": "stdin",
     "output_type": "stream",
     "text": [
      " d\n"
     ]
    },
    {
     "name": "stdout",
     "output_type": "stream",
     "text": [
      "score:1\n",
      " .  .  .  .  .  .  .  .  .  . \n",
      " G  .  .  .  .  .  .  .  .  . \n",
      " .  .  .  G  .  .  .  .  .  . \n",
      " .  .  .  .  .  .  .  .  .  . \n",
      " .  .  .  .  P  .  .  .  .  . \n",
      " .  .  .  .  .  .  .  .  .  . \n",
      " .  .  .  .  .  .  .  .  .  . \n",
      " .  .  .  .  .  .  .  .  .  . \n",
      " .  .  .  .  .  .  .  .  .  . \n",
      " .  .  .  .  .  .  .  .  .  . \n",
      "\n"
     ]
    },
    {
     "name": "stdin",
     "output_type": "stream",
     "text": [
      " d\n"
     ]
    },
    {
     "name": "stdout",
     "output_type": "stream",
     "text": [
      "score:2\n",
      " .  .  .  .  .  .  .  .  .  . \n",
      " .  G  .  .  .  .  .  .  .  . \n",
      " .  .  .  .  .  .  .  .  .  . \n",
      " .  .  .  G  .  .  .  .  .  . \n",
      " .  .  .  .  .  P  .  .  .  . \n",
      " .  .  .  .  .  .  .  .  .  . \n",
      " .  .  .  .  .  .  .  .  .  . \n",
      " .  .  .  .  .  .  .  .  .  . \n",
      " .  .  .  .  .  .  .  .  .  . \n",
      " .  .  .  .  .  .  .  .  .  . \n",
      "\n"
     ]
    },
    {
     "name": "stdin",
     "output_type": "stream",
     "text": [
      " d\n"
     ]
    },
    {
     "name": "stdout",
     "output_type": "stream",
     "text": [
      "score:3\n",
      " .  .  .  .  .  .  .  .  .  . \n",
      " .  .  G  .  .  .  .  .  .  . \n",
      " .  .  .  .  .  .  .  .  .  . \n",
      " .  .  .  .  G  .  .  .  .  . \n",
      " .  .  .  .  .  .  P  .  .  . \n",
      " .  .  .  .  .  .  .  .  .  . \n",
      " .  .  .  .  .  .  .  .  .  . \n",
      " .  .  .  .  .  .  .  .  .  . \n",
      " .  .  .  .  .  .  .  .  .  . \n",
      " .  .  .  .  .  .  .  .  .  . \n",
      "\n"
     ]
    },
    {
     "name": "stdin",
     "output_type": "stream",
     "text": [
      " d\n"
     ]
    },
    {
     "name": "stdout",
     "output_type": "stream",
     "text": [
      "score:4\n",
      " .  .  .  .  .  .  .  .  .  . \n",
      " .  .  .  G  .  .  .  .  .  . \n",
      " .  .  .  .  .  .  .  .  .  . \n",
      " .  .  .  .  .  G  .  .  .  . \n",
      " .  .  .  .  .  .  .  P  .  . \n",
      " .  .  .  .  .  .  .  .  .  . \n",
      " .  .  .  .  .  .  .  .  .  . \n",
      " .  .  .  .  .  .  .  .  .  . \n",
      " .  .  .  .  .  .  .  .  .  . \n",
      " .  .  .  .  .  .  .  .  .  . \n",
      "\n"
     ]
    },
    {
     "name": "stdin",
     "output_type": "stream",
     "text": [
      " d\n"
     ]
    },
    {
     "name": "stdout",
     "output_type": "stream",
     "text": [
      "score:5\n",
      " .  .  .  .  .  .  .  .  .  . \n",
      " .  .  .  .  G  .  .  .  .  . \n",
      " .  .  .  .  .  .  .  .  .  . \n",
      " .  .  .  .  .  .  G  .  .  . \n",
      " .  .  .  .  .  .  .  .  P  . \n",
      " .  .  .  .  .  .  .  .  .  . \n",
      " .  .  .  .  .  .  .  .  .  . \n",
      " .  .  .  .  .  .  .  .  .  . \n",
      " .  .  .  .  .  .  .  .  .  . \n",
      " .  .  .  .  .  .  .  .  .  . \n",
      "\n"
     ]
    },
    {
     "name": "stdin",
     "output_type": "stream",
     "text": [
      " s\n"
     ]
    },
    {
     "name": "stdout",
     "output_type": "stream",
     "text": [
      "score:6\n",
      " .  .  .  .  .  .  .  .  .  . \n",
      " .  .  .  .  .  G  .  .  .  . \n",
      " .  .  .  .  .  .  .  .  .  . \n",
      " .  .  .  .  .  .  .  G  .  . \n",
      " .  .  .  .  .  .  .  .  .  . \n",
      " .  .  .  .  .  .  .  .  P  . \n",
      " .  .  .  .  .  .  .  .  .  . \n",
      " .  .  .  .  .  .  .  .  .  . \n",
      " .  .  .  .  .  .  .  .  .  . \n",
      " .  .  .  .  .  .  .  .  .  . \n",
      "\n"
     ]
    },
    {
     "name": "stdin",
     "output_type": "stream",
     "text": [
      " s\n"
     ]
    },
    {
     "name": "stdout",
     "output_type": "stream",
     "text": [
      "score:7\n",
      " .  .  .  .  .  .  .  .  .  . \n",
      " .  .  .  .  .  .  .  .  .  . \n",
      " .  .  .  .  .  G  .  .  .  . \n",
      " .  .  .  .  .  .  .  .  .  . \n",
      " .  .  .  .  .  .  .  G  .  . \n",
      " .  .  .  .  .  .  .  .  .  . \n",
      " .  .  .  .  .  .  .  .  P  . \n",
      " .  .  .  .  .  .  .  .  .  . \n",
      " .  .  .  .  .  .  .  .  .  . \n",
      " .  .  .  .  .  .  .  .  .  . \n",
      "\n"
     ]
    },
    {
     "name": "stdin",
     "output_type": "stream",
     "text": [
      " s\n"
     ]
    },
    {
     "name": "stdout",
     "output_type": "stream",
     "text": [
      "score:8\n",
      " .  .  .  .  .  .  .  .  .  . \n",
      " .  .  .  .  .  .  .  .  .  . \n",
      " .  .  .  .  .  .  .  .  .  . \n",
      " .  .  .  .  .  G  .  .  .  . \n",
      " .  .  .  .  .  .  .  .  .  . \n",
      " .  .  .  .  .  .  .  G  .  . \n",
      " .  .  .  .  .  .  .  .  .  . \n",
      " .  .  .  .  .  .  .  .  P  . \n",
      " .  .  .  .  .  .  .  .  .  . \n",
      " .  .  .  .  .  .  .  .  .  . \n",
      "\n"
     ]
    },
    {
     "name": "stdin",
     "output_type": "stream",
     "text": [
      " s\n"
     ]
    },
    {
     "name": "stdout",
     "output_type": "stream",
     "text": [
      "score:9\n",
      " .  .  .  .  .  .  .  .  .  . \n",
      " .  .  .  .  .  .  .  .  .  . \n",
      " .  .  .  .  .  .  .  .  .  . \n",
      " .  .  .  .  .  .  .  .  .  . \n",
      " .  .  .  .  .  G  .  .  .  . \n",
      " .  .  .  .  .  .  .  .  .  . \n",
      " .  .  .  .  .  .  .  G  .  . \n",
      " .  .  .  .  .  .  .  .  .  . \n",
      " .  .  .  .  .  .  .  .  P  . \n",
      " .  .  .  .  .  .  .  .  .  . \n",
      "\n"
     ]
    },
    {
     "name": "stdin",
     "output_type": "stream",
     "text": [
      " d\n"
     ]
    },
    {
     "name": "stdout",
     "output_type": "stream",
     "text": [
      "score:10\n",
      " .  .  .  .  .  .  .  .  .  . \n",
      " .  .  .  .  .  .  .  .  .  . \n",
      " .  .  .  .  .  .  .  .  .  . \n",
      " .  .  .  .  .  .  .  .  .  . \n",
      " .  .  .  .  .  .  .  .  .  . \n",
      " .  .  .  .  .  G  .  .  .  . \n",
      " .  .  .  .  .  .  .  .  .  . \n",
      " .  .  .  .  .  .  .  G  .  . \n",
      " .  .  .  .  .  .  .  .  .  P \n",
      " .  .  .  .  .  .  .  .  .  . \n",
      "\n"
     ]
    },
    {
     "name": "stdin",
     "output_type": "stream",
     "text": [
      " w\n"
     ]
    },
    {
     "name": "stdout",
     "output_type": "stream",
     "text": [
      "score:11\n",
      " .  .  .  .  .  .  .  .  .  . \n",
      " .  .  .  .  .  .  .  .  .  . \n",
      " .  .  .  .  .  .  .  .  .  . \n",
      " .  .  .  .  .  .  .  .  .  . \n",
      " .  .  .  .  .  .  .  .  .  . \n",
      " .  .  .  .  .  .  G  .  .  . \n",
      " .  .  .  .  .  .  .  .  .  . \n",
      " .  .  .  .  .  .  .  .  G  P \n",
      " .  .  .  .  .  .  .  .  .  . \n",
      " .  .  .  .  .  .  .  .  .  . \n",
      "\n",
      "Perdiste\n"
     ]
    }
   ],
   "source": [
    "juego = Juego()\n",
    "juego.start()"
   ]
  },
  {
   "cell_type": "code",
   "execution_count": null,
   "metadata": {},
   "outputs": [],
   "source": []
  }
 ],
 "metadata": {
  "colab": {
   "name": "Pacman(2).ipynb",
   "provenance": []
  },
  "instance_type": "ml.t3.medium",
  "kernelspec": {
   "display_name": "Python 3",
   "language": "python",
   "name": "python3"
  },
  "language_info": {
   "codemirror_mode": {
    "name": "ipython",
    "version": 3
   },
   "file_extension": ".py",
   "mimetype": "text/x-python",
   "name": "python",
   "nbconvert_exporter": "python",
   "pygments_lexer": "ipython3",
   "version": "3.8.5"
  }
 },
 "nbformat": 4,
 "nbformat_minor": 4
}
