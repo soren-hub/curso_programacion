{
 "cells": [
  {
   "attachments": {},
   "cell_type": "markdown",
   "metadata": {},
   "source": [
    "# Bienvenidos al  mundo único pero no exclusivo de la programación en python \n",
    "\n",
    "# ¿Qué es python?\n",
    " \n",
    "Python es un lenguaje de programación de alto # Nivel y fácil de aprender, que se utiliza ampliamente en una variedad de campos, incluyendo la ciencia de datos, el desarrollo de aplicaciones web y la automatización de tareas. \n",
    "\n",
    "# ¿Por qué aprender python?\n",
    "\n",
    "1. Es un lenguaje de programación muy versátil que puede usarse para hacer muchas cosas diferentes, como crear aplicaciones, analizar datos, automatizar tareas y más.\n",
    "\n",
    "2. Esfácil de aprender y usar, incluso para aquellos que no tienen experiencia previa en programación.\n",
    "\n",
    "3. Hay una gran cantidad de recursos y personas disponibles para ayudarte a aprender y usar Python.\n",
    "\n",
    "4. Hay una gran demanda de profesionales que sepan Python en el mercado laboral, por lo que aprender Python puede abrirte puertas a nuevas oportunidades de trabajo o carrera.\n",
    "\n",
    "5. Puede ser divertido y gratificante aprender a programar y ver tus ideas convertirse en realidad a través del código.\n",
    "\n",
    "# Recursos :\n",
    "\n",
    "1. Python-Cookbook:\n",
    "   * http://bedford-computing.co.uk/learning/wp-content/uploads/2015/10/Python-Cookbook-3rd-Edition.pdf\n",
    "  \n",
    "2. Aprende python:\n",
    "   * https://aprendepython.es/\n",
    "\n",
    "3. Documentación oficial de python:\n",
    "   * https://docs.python.org/es/3.9/tutorial/\n",
    "\n",
    "4. Python para todos:\n",
    "   * https://www.py4e.com/lessons\n",
    "\n",
    "5. Github Copilot:\n",
    "   * https://github.com/features/copilot\n",
    "\n",
    "6. Chat GPT:\n",
    "   * https://chat.openai.com/chat\n",
    "\n",
    "\n",
    "# ¿Qué aprenderemos en esta clase?\n",
    "\n",
    "En esta clase, cubriremos los conceptos básicos como los siguientes:\n",
    "\n",
    "* Sintaxis de Python \n",
    "* Incluyendo cómo escribir y ejecutar código, \n",
    "* Cómo trabajar con variables y tipos de datos, \n",
    "* Operadores y expresiones,\n",
    "* Cómo utilizar estructuras de control de flujo como bucles y condicionales.\n",
    "\n"
   ]
  },
  {
   "attachments": {},
   "cell_type": "markdown",
   "metadata": {},
   "source": [
    "## Estructura básica de un programa en Python\n",
    "\n",
    "Un programa en Python comienza con un bloque de código que se ejecuta de arriba hacia abajo. Las líneas de código se separan con saltos de línea, y pueden ser identadas para formar bloques de código.\n",
    "\n",
    "Por ejemplo, aquí hay un programa sencillo que imprime un mensaje en pantalla:"
   ]
  },
  {
   "cell_type": "code",
   "execution_count": null,
   "metadata": {},
   "outputs": [],
   "source": [
    "print(\"Hola, mundo!\")\n",
    "print(\"Bienvenidos a la clase de introducción a \")"
   ]
  },
  {
   "attachments": {},
   "cell_type": "markdown",
   "metadata": {},
   "source": [
    "En Python, puedes escribir comentarios en el código utilizando el signo de # al principio de la línea. Los comentarios no son parte del código en sí, sino que se utilizan para proporcionar explicaciones y documentación sobre el código."
   ]
  },
  {
   "cell_type": "code",
   "execution_count": null,
   "metadata": {},
   "outputs": [],
   "source": [
    "# Este es un comentario\n",
    "# Puedes escribir varias líneas de comentarios seguidas\n",
    "# Estos comentarios no afectan al código en sí"
   ]
  },
  {
   "attachments": {},
   "cell_type": "markdown",
   "metadata": {},
   "source": [
    "## Variables y tipos de datos\n",
    "\n",
    "Las variables son un bloque fundamental en la programación: Son el medio que nos permite vincular un identificador/variable con valores/datos. En Python se definen por medio de una **sentencia de asignación** usando el operador =.\n",
    "\n",
    "**Nota**: Una sentencia es una instrucción que el intérprete de Python puede ejecutar\n",
    "\n",
    "De manera abstracta, una sentencia de asignación tiene la siguiente forma:\n",
    "\n",
    "```python\n",
    "variable = asignación de variable \n",
    "```\n",
    "\n",
    "Ejemplo:"
   ]
  },
  {
   "cell_type": "code",
   "execution_count": null,
   "metadata": {},
   "outputs": [],
   "source": [
    "variable = 9"
   ]
  },
  {
   "attachments": {},
   "cell_type": "markdown",
   "metadata": {},
   "source": [
    "Pueden imprimir el valor que tiene una variable utilizando la función \n",
    "\n",
    "```python\n",
    "print(nombre_de_la_variable)\n",
    "```"
   ]
  },
  {
   "cell_type": "code",
   "execution_count": null,
   "metadata": {},
   "outputs": [],
   "source": [
    "print(variable)"
   ]
  },
  {
   "attachments": {},
   "cell_type": "markdown",
   "metadata": {},
   "source": [
    "O cuando estén ejecutando un Jupyter Notebook, pueden ver el valor de la variable poniendo esta al final de una celda."
   ]
  },
  {
   "cell_type": "code",
   "execution_count": null,
   "metadata": {},
   "outputs": [],
   "source": [
    "# esto es una variable\n",
    "variable"
   ]
  },
  {
   "attachments": {},
   "cell_type": "markdown",
   "metadata": {},
   "source": [
    "### Convenciones para Nombrar Variables\n",
    "\n",
    "Estas son las convenciones que se ocupan normalmente en `python` al escribir código y que **utilizaremos en el curso**.\n",
    "\n",
    "- Variables y funciones:\n",
    "\n",
    "```python\n",
    "entero = 10\n",
    "entero_mas_grande = 100\n",
    "una_funcion_cualquiera\n",
    "```\n",
    "\n",
    "- Constantes (identificadores que no deberían cambiar a futuro): \n",
    "```python\n",
    "PI = 3.14\n",
    "GRAVEDAD_EN_MARTE = 3.711\n",
    "```\n",
    "\n",
    "> **Pregunta**: ¿Pueden cambiar los valores de las constantes?"
   ]
  },
  {
   "attachments": {},
   "cell_type": "markdown",
   "metadata": {},
   "source": [
    "## Tipos de Datos\n",
    "\n",
    "A continuación veremos los tipos de datos básicos o literales: **datos en bruto** que se asignan a variables.\n",
    "\n",
    "\n",
    "### Tipos de Datos Básicos\n",
    "\n",
    "#### Integers\n",
    "\n",
    "Números enteros creados sin parte compleja ni posiciones decimales. En este tipo de de dato es posible realizar las operaciones de división entera."
   ]
  },
  {
   "cell_type": "code",
   "execution_count": null,
   "metadata": {},
   "outputs": [],
   "source": [
    "x = 10  # x es un entero"
   ]
  },
  {
   "attachments": {},
   "cell_type": "markdown",
   "metadata": {},
   "source": [
    "#### Floats\n",
    "\n",
    "Valores numéricos de punto flotante, pueden ser creados agregando posiciones decimales ej: ```0.87```"
   ]
  },
  {
   "cell_type": "code",
   "execution_count": null,
   "metadata": {},
   "outputs": [],
   "source": [
    "numero_flotante = 9.2344\n",
    "numero_flotante"
   ]
  },
  {
   "attachments": {},
   "cell_type": "markdown",
   "metadata": {},
   "source": [
    "#### Complex\n",
    "\n",
    "Números complejos, se pueden crear utilizando la notación ```a + bj``` donde ```a``` es la parte real y ```b``` es la parte compleja."
   ]
  },
  {
   "cell_type": "code",
   "execution_count": null,
   "metadata": {},
   "outputs": [],
   "source": [
    "numero_complejo = 10 + 1j\n",
    "numero_complejo"
   ]
  },
  {
   "attachments": {},
   "cell_type": "markdown",
   "metadata": {},
   "source": [
    "#### Booleans/Bools\n",
    "\n",
    "Valores de verdad `True` o `False`."
   ]
  },
  {
   "cell_type": "code",
   "execution_count": null,
   "metadata": {},
   "outputs": [],
   "source": [
    "tengo_hambre = True\n",
    "tengo_hambre"
   ]
  },
  {
   "attachments": {},
   "cell_type": "markdown",
   "metadata": {},
   "source": [
    "#### `None`\n",
    "\n",
    "Tipo especial (pronunciado *nan*) que representa que la variable tiene un valor inespecífico."
   ]
  },
  {
   "cell_type": "code",
   "execution_count": null,
   "metadata": {},
   "outputs": [],
   "source": [
    "variable_sin_ningún_valor = None\n",
    "variable_sin_ningún_valor"
   ]
  },
  {
   "cell_type": "code",
   "execution_count": null,
   "metadata": {},
   "outputs": [],
   "source": [
    "print(variable_sin_ningún_valor)"
   ]
  },
  {
   "cell_type": "code",
   "execution_count": null,
   "metadata": {},
   "outputs": [],
   "source": [
    "variable_sin_ningún_valor"
   ]
  },
  {
   "attachments": {},
   "cell_type": "markdown",
   "metadata": {},
   "source": [
    "### Sets \n",
    "\n",
    "Los conjuntos son una colección de elementos únicos. Los conjuntos se pueden crear utilizando la función `set()` o utilizando llaves `{}`."
   ]
  },
  {
   "cell_type": "code",
   "execution_count": null,
   "metadata": {},
   "outputs": [],
   "source": [
    "#conjunto = set([1, 2, 3, 4, 5])\n",
    "conjunto = {1, 2, 3, 4, 5}\n",
    "conjunto \n"
   ]
  },
  {
   "attachments": {},
   "cell_type": "markdown",
   "metadata": {},
   "source": [
    "### Diccionarios\n",
    " \n",
    "Los diccionarios son una colección de pares de elementos, donde cada elemento tiene una clave y un valor. Los diccionarios se pueden crear utilizando la función `dict()` o utilizando llaves `{}`.  "
   ]
  },
  {
   "cell_type": "code",
   "execution_count": null,
   "metadata": {},
   "outputs": [],
   "source": [
    "diccionarios = {\n",
    "    \"nombre\": \"joaquin\",\n",
    "    \"edad\": 24, \n",
    "    \"es_mayor_de_edad\": True,\n",
    "    \"lista_de_cursos\": ['python', 'matlab']\n",
    "}\n",
    "print(asd)"
   ]
  },
  {
   "attachments": {},
   "cell_type": "markdown",
   "metadata": {},
   "source": [
    "### Consideraciones \n",
    "\n",
    "Aunque en Python no es necesario declarar explícitamente el tipo de datos de una variable al asignarle un valor, esto no significa que podamos realizar cualquier tipo de operación con cualquier tipo de datos. Es decir, no está permitido realizar operaciones entre tipos de datos distintos (como, por ejemplo, tratar de elevar un string al cuadrado). Sin embargo, Python ofrece la posibilidad de convertir el tipo de datos de una variable mediante la conversión de datos, lo que nos permite realizar ciertas operaciones que de otra manera no serían posibles."
   ]
  },
  {
   "cell_type": "code",
   "execution_count": 8,
   "metadata": {},
   "outputs": [
    {
     "data": {
      "text/plain": [
       "'10020'"
      ]
     },
     "execution_count": 8,
     "metadata": {},
     "output_type": "execute_result"
    }
   ],
   "source": [
    "num_entero = \"100\"\n",
    "\n",
    "num_entero + \"20\""
   ]
  },
  {
   "cell_type": "code",
   "execution_count": 9,
   "metadata": {},
   "outputs": [
    {
     "data": {
      "text/plain": [
       "18"
      ]
     },
     "execution_count": 9,
     "metadata": {},
     "output_type": "execute_result"
    }
   ],
   "source": [
    "9+9"
   ]
  },
  {
   "cell_type": "code",
   "execution_count": 10,
   "metadata": {},
   "outputs": [
    {
     "data": {
      "text/plain": [
       "2"
      ]
     },
     "execution_count": 10,
     "metadata": {},
     "output_type": "execute_result"
    }
   ],
   "source": [
    "True + True"
   ]
  },
  {
   "attachments": {},
   "cell_type": "markdown",
   "metadata": {},
   "source": [
    "## Transformar Datos a Otros Tipos\n",
    "\n",
    "Podemos usar las funciones \n",
    "\n",
    "- `int()`\n",
    "- `float()`\n",
    "- `str()`\n",
    "- etc...\n",
    "\n",
    "para transformar un dato de un tipo determinado en otro."
   ]
  },
  {
   "attachments": {},
   "cell_type": "markdown",
   "metadata": {},
   "source": [
    "### Entero a flotante"
   ]
  },
  {
   "cell_type": "code",
   "execution_count": 11,
   "metadata": {},
   "outputs": [
    {
     "data": {
      "text/plain": [
       "3.0"
      ]
     },
     "execution_count": 11,
     "metadata": {},
     "output_type": "execute_result"
    }
   ],
   "source": [
    "float(3)"
   ]
  },
  {
   "attachments": {},
   "cell_type": "markdown",
   "metadata": {},
   "source": [
    "### Flotante a entero\n",
    "\n",
    "Ojo que pierde la parte decimal."
   ]
  },
  {
   "cell_type": "code",
   "execution_count": 12,
   "metadata": {},
   "outputs": [
    {
     "data": {
      "text/plain": [
       "3"
      ]
     },
     "execution_count": 12,
     "metadata": {},
     "output_type": "execute_result"
    }
   ],
   "source": [
    "int(3.14)"
   ]
  },
  {
   "attachments": {},
   "cell_type": "markdown",
   "metadata": {},
   "source": [
    "### Strings\n",
    "\n",
    "Casi todos los datos pueden ser convertidos a string."
   ]
  },
  {
   "cell_type": "code",
   "execution_count": 13,
   "metadata": {},
   "outputs": [
    {
     "data": {
      "text/plain": [
       "'3'"
      ]
     },
     "execution_count": 13,
     "metadata": {},
     "output_type": "execute_result"
    }
   ],
   "source": [
    "str(3)"
   ]
  },
  {
   "attachments": {},
   "cell_type": "markdown",
   "metadata": {},
   "source": [
    "Pero hay que tener mucho cuidado con la operación al revés, ya que python intentará convertirlo o \"*morira en el intento*\""
   ]
  },
  {
   "cell_type": "code",
   "execution_count": 18,
   "metadata": {},
   "outputs": [
    {
     "data": {
      "text/plain": [
       "3.1"
      ]
     },
     "execution_count": 18,
     "metadata": {},
     "output_type": "execute_result"
    }
   ],
   "source": [
    "float('3.1')"
   ]
  },
  {
   "attachments": {},
   "cell_type": "markdown",
   "metadata": {},
   "source": [
    "## Funciones nativas y externas \n",
    "\n",
    "Python tiene un gran conjunto de funciones y módulos integrados que puede usar para realizar una amplia variedad de tareas, desde la manipulación de cadenas de texto hasta la realización de operaciones matemáticas complejas. También puede importar módulos adicionales de la biblioteca estándar de Python o de módulos de terceros para ampliar aún más sus capacidades.\n",
    "\n",
    "* Ejemplo de una función de integradas en Python:\n",
    "\n",
    "    * print(): Imprime un mensaje en pantalla\n",
    "    * type(): Devuelve el tipo de una variable\n",
    "    * len(): Devuelve la longitud de una variable\n",
    "    * input(): Pide al usuario que ingrese un valor\n",
    "\n",
    "\n",
    "* Algunas librerías internas de python: \n",
    "\n",
    "    *  math: funciones matemáticas\n",
    "    *  random: funciones aleatorias\n",
    "    *  datetime: funciones de fecha y hora\n",
    "    *  os: funciones del sistema operativo\n",
    "    \n",
    "* Algunas librerías externas de python: \n",
    "\n",
    "    * numpy: funciones matemáticas\n",
    "    * pandas: funciones de análisis de datos\n",
    "    * matplotlib: funciones de visualización de datos\n",
    "    * scikit-learn: funciones de machine learning\n",
    "  \n",
    "**Nota**: Como se si tengo una libreria instalada en python?\n",
    "\n",
    "Very very easy\n",
    "```python\n",
    "import <libreria>\n",
    "```\n",
    "\n",
    "Si da error, no esta instalada."
   ]
  },
  {
   "attachments": {},
   "cell_type": "markdown",
   "metadata": {},
   "source": [
    "Podemos verificar el tipo de una variable utilizando la función built-in type(). Por ejemplo:"
   ]
  },
  {
   "cell_type": "code",
   "execution_count": null,
   "metadata": {},
   "outputs": [],
   "source": [
    "print(type(x))  # imprime <class 'int'>\n",
    "print(type(y))  # imprime <class 'float'>\n",
    "print(type(nombre))  # imprime <class 'str'>\n",
    "print(type(es_mayor_de_edad))  # imprime <class 'bool'>"
   ]
  },
  {
   "attachments": {},
   "cell_type": "markdown",
   "metadata": {},
   "source": [
    "### Verificar tipo de dato con `isinstance`\n",
    "\n",
    "La función `isinstance` permite \"preguntar\" si una variable contiene un tipo de dato específico."
   ]
  },
  {
   "cell_type": "code",
   "execution_count": 33,
   "metadata": {},
   "outputs": [
    {
     "data": {
      "text/plain": [
       "True"
      ]
     },
     "execution_count": 33,
     "metadata": {},
     "output_type": "execute_result"
    }
   ],
   "source": [
    "isinstance(x, bool)"
   ]
  },
  {
   "attachments": {},
   "cell_type": "markdown",
   "metadata": {},
   "source": [
    "## Operaciones entre datos:\n",
    "\n",
    "Los operadores son símbolos o palabras clave especiales que nos permiten realizar operaciones aritméticas o lógicas con los datos. Los operadores aritméticos incluyen \n",
    "\n",
    "Aritméticas:\n",
    "\n",
    "- `+` \n",
    "- `-` \n",
    "- `*`\n",
    "- `/`\n",
    "- `//` (división entera)\n",
    "- `%` (módulo) \n",
    "\n",
    "Comparación e igualdad:\n",
    "\n",
    "- `>` y `>=`\n",
    "- `<` y `<=`\n",
    "- `==`\n",
    "\n",
    "Lógicas:\n",
    "\n",
    "- `and`\n",
    "- `or`\n",
    "- `not`\n",
    "- `is`\n",
    "- `in`\n",
    "- `not in`"
   ]
  },
  {
   "attachments": {},
   "cell_type": "markdown",
   "metadata": {},
   "source": [
    "### Expresión\n",
    "\n",
    "Una expresión es una combinación de valores, variables y operadores que pueden ser evaluadas por el interprete.\n"
   ]
  },
  {
   "cell_type": "markdown",
   "metadata": {},
   "source": []
  },
  {
   "cell_type": "markdown",
   "id": "stuck-dollar",
   "metadata": {
    "ExecuteTime": {
     "end_time": "2021-03-22T15:06:13.576207Z",
     "start_time": "2021-03-22T15:06:13.565203Z"
    }
   },
   "source": [
    "### Operadores Aritméticos y de Comparación e Igualdad"
   ]
  },
  {
   "cell_type": "markdown",
   "id": "9accd2b6-cf36-4f16-bbc4-2e0f9b55c3a6",
   "metadata": {},
   "source": [
    "#### Suma"
   ]
  },
  {
   "cell_type": "code",
   "execution_count": 34,
   "id": "joined-deviation",
   "metadata": {
    "ExecuteTime": {
     "end_time": "2021-03-22T19:35:19.329013Z",
     "start_time": "2021-03-22T19:35:19.320006Z"
    }
   },
   "outputs": [
    {
     "data": {
      "text/plain": [
       "7"
      ]
     },
     "execution_count": 34,
     "metadata": {},
     "output_type": "execute_result"
    }
   ],
   "source": [
    "5 + 2"
   ]
  },
  {
   "cell_type": "markdown",
   "id": "d0d90047-e85e-4280-964e-a31f01420199",
   "metadata": {},
   "source": [
    "#### Resta"
   ]
  },
  {
   "cell_type": "code",
   "execution_count": 35,
   "id": "a1e071e8-7b19-4b72-bb7f-7afcb43ccaf2",
   "metadata": {},
   "outputs": [
    {
     "data": {
      "text/plain": [
       "3"
      ]
     },
     "execution_count": 35,
     "metadata": {},
     "output_type": "execute_result"
    }
   ],
   "source": [
    "5 - 2"
   ]
  },
  {
   "cell_type": "markdown",
   "id": "f1af6141-e8ed-49c8-9032-3f963443484e",
   "metadata": {},
   "source": [
    "#### Multiplicación"
   ]
  },
  {
   "cell_type": "code",
   "execution_count": 36,
   "id": "joined-interface",
   "metadata": {
    "ExecuteTime": {
     "end_time": "2021-03-22T19:35:21.891720Z",
     "start_time": "2021-03-22T19:35:21.876721Z"
    }
   },
   "outputs": [
    {
     "data": {
      "text/plain": [
       "10"
      ]
     },
     "execution_count": 36,
     "metadata": {},
     "output_type": "execute_result"
    }
   ],
   "source": [
    "5 * 2"
   ]
  },
  {
   "cell_type": "markdown",
   "id": "fe629f57-6c0d-42c5-ab44-9c9574cc78d9",
   "metadata": {},
   "source": [
    "#### División"
   ]
  },
  {
   "cell_type": "code",
   "execution_count": 37,
   "id": "ordered-religious",
   "metadata": {
    "ExecuteTime": {
     "end_time": "2021-03-22T19:35:22.736640Z",
     "start_time": "2021-03-22T19:35:22.725640Z"
    }
   },
   "outputs": [
    {
     "data": {
      "text/plain": [
       "2.5"
      ]
     },
     "execution_count": 37,
     "metadata": {},
     "output_type": "execute_result"
    }
   ],
   "source": [
    "5 / 2"
   ]
  },
  {
   "cell_type": "markdown",
   "id": "d3916c1b-6a55-4d58-89dd-a894f89fc06a",
   "metadata": {},
   "source": [
    "#### División Entera\n",
    "\n",
    "Conserva solo la parte entera de la división."
   ]
  },
  {
   "cell_type": "code",
   "execution_count": null,
   "id": "correct-romantic",
   "metadata": {
    "ExecuteTime": {
     "end_time": "2021-03-22T19:35:24.591066Z",
     "start_time": "2021-03-22T19:35:24.571007Z"
    }
   },
   "outputs": [],
   "source": [
    "5 // 2"
   ]
  },
  {
   "cell_type": "markdown",
   "id": "according-cabin",
   "metadata": {},
   "source": [
    "> **Pregunta ❓**: ¿Qué sucede con `//` con al operarlos con datos de tipo `float`?"
   ]
  },
  {
   "cell_type": "code",
   "execution_count": null,
   "id": "coral-satin",
   "metadata": {
    "ExecuteTime": {
     "end_time": "2021-03-22T19:36:41.810644Z",
     "start_time": "2021-03-22T19:36:41.789647Z"
    }
   },
   "outputs": [],
   "source": [
    "2.5 / 2.0"
   ]
  },
  {
   "cell_type": "code",
   "execution_count": null,
   "id": "former-bermuda",
   "metadata": {
    "ExecuteTime": {
     "end_time": "2021-03-22T19:36:57.964286Z",
     "start_time": "2021-03-22T19:36:57.946286Z"
    },
    "scrolled": true
   },
   "outputs": [],
   "source": [
    "2.5 // 2.0"
   ]
  },
  {
   "cell_type": "markdown",
   "id": "f1b3b93e-01cb-425d-9b4e-947ca43e0d00",
   "metadata": {},
   "source": [
    "#### Módulo (resto) de una división\n"
   ]
  },
  {
   "cell_type": "code",
   "execution_count": null,
   "id": "martial-bonus",
   "metadata": {
    "ExecuteTime": {
     "end_time": "2021-03-22T19:35:27.157300Z",
     "start_time": "2021-03-22T19:35:27.139301Z"
    },
    "scrolled": true
   },
   "outputs": [],
   "source": [
    "5 % 2"
   ]
  },
  {
   "cell_type": "markdown",
   "id": "56e4cb85-0ba1-4611-abad-86dc4837a0c8",
   "metadata": {},
   "source": [
    "#### Potenciación \n",
    "\n",
    "2 elevado a 3:"
   ]
  },
  {
   "cell_type": "code",
   "execution_count": 39,
   "id": "narrow-salmon",
   "metadata": {
    "ExecuteTime": {
     "end_time": "2021-03-22T19:35:48.238020Z",
     "start_time": "2021-03-22T19:35:48.220022Z"
    }
   },
   "outputs": [
    {
     "data": {
      "text/plain": [
       "8"
      ]
     },
     "execution_count": 39,
     "metadata": {},
     "output_type": "execute_result"
    }
   ],
   "source": [
    "2 ** 3"
   ]
  },
  {
   "cell_type": "code",
   "execution_count": 40,
   "id": "c28e9fb5-ce62-4fe8-9c33-0ca0c01aae5a",
   "metadata": {},
   "outputs": [
    {
     "data": {
      "text/plain": [
       "0.125"
      ]
     },
     "execution_count": 40,
     "metadata": {},
     "output_type": "execute_result"
    }
   ],
   "source": [
    "2 ** -3"
   ]
  },
  {
   "cell_type": "code",
   "execution_count": 38,
   "id": "0484298a-a8c4-46e5-a9dd-150269793eff",
   "metadata": {},
   "outputs": [
    {
     "data": {
      "text/plain": [
       "0.10632848158618281"
      ]
     },
     "execution_count": 38,
     "metadata": {},
     "output_type": "execute_result"
    }
   ],
   "source": [
    "2 ** -3.2334"
   ]
  },
  {
   "cell_type": "markdown",
   "id": "starting-timeline",
   "metadata": {
    "ExecuteTime": {
     "end_time": "2021-03-22T16:35:35.923564Z",
     "start_time": "2021-03-22T16:35:35.905524Z"
    }
   },
   "source": [
    "### Operadores de Comparación e Igualdad:"
   ]
  },
  {
   "cell_type": "markdown",
   "id": "6a2b026d-02c2-4630-b5e7-6426295d66f1",
   "metadata": {},
   "source": [
    "#### Igualdad"
   ]
  },
  {
   "cell_type": "code",
   "execution_count": 41,
   "id": "2b291f92-1831-4ed0-801a-654b2d8c8fdf",
   "metadata": {},
   "outputs": [
    {
     "data": {
      "text/plain": [
       "True"
      ]
     },
     "execution_count": 41,
     "metadata": {},
     "output_type": "execute_result"
    }
   ],
   "source": [
    "# es 2 igual a 2?\n",
    "2 == 2"
   ]
  },
  {
   "cell_type": "code",
   "execution_count": 46,
   "id": "4244aa9c-c268-4e30-9856-755bca4659d9",
   "metadata": {},
   "outputs": [
    {
     "name": "stdout",
     "output_type": "stream",
     "text": [
      "True\n"
     ]
    }
   ],
   "source": [
    "comparasion = 2 == 2\n",
    "print(comparasion)"
   ]
  },
  {
   "cell_type": "code",
   "execution_count": 47,
   "id": "noticed-facility",
   "metadata": {
    "ExecuteTime": {
     "end_time": "2021-03-22T19:37:45.602649Z",
     "start_time": "2021-03-22T19:37:45.583649Z"
    }
   },
   "outputs": [
    {
     "data": {
      "text/plain": [
       "False"
      ]
     },
     "execution_count": 47,
     "metadata": {},
     "output_type": "execute_result"
    }
   ],
   "source": [
    "2 == 4"
   ]
  },
  {
   "cell_type": "markdown",
   "id": "50eba53f-edc9-4b9b-8462-8ba670319d87",
   "metadata": {},
   "source": [
    "> **Pregunta ❓**: ¿Qué sucede con `==` cuando comparamos tipos distintos (`int` con `float` y `string`)?"
   ]
  },
  {
   "cell_type": "code",
   "execution_count": 48,
   "id": "crazy-lighting",
   "metadata": {
    "ExecuteTime": {
     "end_time": "2021-03-22T19:38:19.828468Z",
     "start_time": "2021-03-22T19:38:19.808466Z"
    }
   },
   "outputs": [
    {
     "data": {
      "text/plain": [
       "True"
      ]
     },
     "execution_count": 48,
     "metadata": {},
     "output_type": "execute_result"
    }
   ],
   "source": [
    "2 == 2.0"
   ]
  },
  {
   "cell_type": "code",
   "execution_count": 49,
   "id": "286893f0-738b-4ca1-93c9-069c35872c65",
   "metadata": {},
   "outputs": [
    {
     "data": {
      "text/plain": [
       "False"
      ]
     },
     "execution_count": 49,
     "metadata": {},
     "output_type": "execute_result"
    }
   ],
   "source": [
    "2 == \"2\""
   ]
  },
  {
   "cell_type": "code",
   "execution_count": 50,
   "id": "0f84aab5-35ba-4725-b6e7-4c56565ae649",
   "metadata": {},
   "outputs": [
    {
     "data": {
      "text/plain": [
       "True"
      ]
     },
     "execution_count": 50,
     "metadata": {},
     "output_type": "execute_result"
    }
   ],
   "source": [
    "2 == int(\"2\")"
   ]
  },
  {
   "cell_type": "code",
   "execution_count": null,
   "id": "fdde9f58-e061-43af-ab3a-0f54a882e75e",
   "metadata": {},
   "outputs": [],
   "source": [
    "2 == 2 + 0j"
   ]
  },
  {
   "cell_type": "markdown",
   "id": "a0424b09-7127-4032-93f9-96f3e5db8685",
   "metadata": {},
   "source": [
    "#### Mayor y mayor igual"
   ]
  },
  {
   "cell_type": "code",
   "execution_count": null,
   "metadata": {},
   "outputs": [],
   "source": []
  },
  {
   "cell_type": "code",
   "execution_count": null,
   "id": "invisible-snake",
   "metadata": {
    "ExecuteTime": {
     "end_time": "2021-03-22T19:38:48.700702Z",
     "start_time": "2021-03-22T19:38:48.683700Z"
    }
   },
   "outputs": [],
   "source": [
    "2 > 2"
   ]
  },
  {
   "cell_type": "code",
   "execution_count": null,
   "id": "3b609a2e-5971-404b-ac50-0dc7e76994a3",
   "metadata": {},
   "outputs": [],
   "source": [
    "2 > 1"
   ]
  },
  {
   "cell_type": "code",
   "execution_count": null,
   "id": "f352e7f5-e8fd-448e-a11f-276db5d24282",
   "metadata": {},
   "outputs": [],
   "source": [
    "2 > 3"
   ]
  },
  {
   "cell_type": "code",
   "execution_count": null,
   "id": "8d49b86e-1911-4893-9bc0-2dfe466db800",
   "metadata": {},
   "outputs": [],
   "source": [
    "2 >= 2"
   ]
  },
  {
   "cell_type": "markdown",
   "id": "bd87d1bb-049d-4081-8470-146067f91662",
   "metadata": {},
   "source": [
    "> **Pregunta ❓**: ¿Qué sucede con `>`/`>=` cuando comparamos tipos distintos (`int` con `string`)?"
   ]
  },
  {
   "cell_type": "code",
   "execution_count": null,
   "id": "checked-baker",
   "metadata": {
    "ExecuteTime": {
     "end_time": "2021-03-22T19:39:52.016912Z",
     "start_time": "2021-03-22T19:39:51.989914Z"
    },
    "scrolled": true
   },
   "outputs": [],
   "source": [
    "3 >= \"3\""
   ]
  },
  {
   "cell_type": "markdown",
   "id": "602938ee-6669-4b35-87ce-02355596ee35",
   "metadata": {},
   "source": [
    "#### Menor y menor igual\n",
    "\n",
    "Mismo caso que el anterior"
   ]
  },
  {
   "cell_type": "code",
   "execution_count": null,
   "id": "916267f8-fef4-40e3-8af5-18d2e5472c25",
   "metadata": {},
   "outputs": [],
   "source": [
    "2 < 3"
   ]
  },
  {
   "cell_type": "code",
   "execution_count": null,
   "id": "93af0c82-99c5-4cf6-abba-26e923b57bf6",
   "metadata": {},
   "outputs": [],
   "source": [
    "2 < 1"
   ]
  },
  {
   "cell_type": "markdown",
   "id": "twenty-customer",
   "metadata": {},
   "source": [
    "---\n",
    "\n",
    "### Operaciones con Strings\n",
    "\n",
    "\n",
    "#### Operadores de comparación"
   ]
  },
  {
   "cell_type": "code",
   "execution_count": null,
   "id": "df2356b8",
   "metadata": {},
   "outputs": [],
   "source": [
    "'Avellana' == 'Avellana'"
   ]
  },
  {
   "cell_type": "code",
   "execution_count": null,
   "id": "2884d4b9-fdf1-4683-b461-6d64d8f4692a",
   "metadata": {},
   "outputs": [],
   "source": [
    "'Avellana' == 'Manzana'"
   ]
  },
  {
   "cell_type": "markdown",
   "id": "950d3b4d-ec05-436b-a0f7-b148e78b0b93",
   "metadata": {},
   "source": [
    "> Pregunta ❓: Es posible comparar con '<'/'<=' y '>'/'>=' strings?\n",
    "\n",
    "\n",
    "Ver [Orden Lexicográfico en Wikipedia](https://es.wikipedia.org/wiki/Orden_lexicogr%C3%A1fico)."
   ]
  },
  {
   "cell_type": "code",
   "execution_count": null,
   "id": "55e186ce",
   "metadata": {
    "scrolled": true
   },
   "outputs": [],
   "source": [
    "'Avellana' > 'Arvejas'"
   ]
  },
  {
   "cell_type": "code",
   "execution_count": null,
   "id": "c193ea0f",
   "metadata": {},
   "outputs": [],
   "source": [
    "'3' > '5'"
   ]
  },
  {
   "cell_type": "markdown",
   "id": "distinguished-basin",
   "metadata": {},
   "source": [
    "Más información y métodos (en inglés): \n",
    "    \n",
    "https://www.programiz.com/python-programming/string"
   ]
  },
  {
   "cell_type": "markdown",
   "id": "diagnostic-doctrine",
   "metadata": {
    "tags": []
   },
   "source": [
    "### Operadores con booleanos\n",
    "\n",
    "Las siguientes tablas muestran como funcionan las operaciones lógicas `and`, `or` y `not`."
   ]
  },
  {
   "cell_type": "markdown",
   "id": "physical-gathering",
   "metadata": {},
   "source": [
    "#### Operador `and`\n",
    "\n",
    "Implementa la operación lógica \"y\""
   ]
  },
  {
   "cell_type": "code",
   "execution_count": null,
   "id": "empty-episode",
   "metadata": {
    "ExecuteTime": {
     "end_time": "2021-03-22T19:47:25.648406Z",
     "start_time": "2021-03-22T19:47:25.636406Z"
    }
   },
   "outputs": [],
   "source": [
    "print('| Bool1  -  Bool2 |  Resultado')\n",
    "print('------------------------------')\n",
    "print('| True  and True  | ', True and True)#true \n",
    "print('| False and True  | ', False and True)#false\n",
    "print('| True  and False | ', True and False)#false\n",
    "print('| False and False | ', False and False)#false\n",
    "print('| True  and True  | ', 1 * 1)#true \n",
    "print('| False and True  | ', 0 * 1)#false\n",
    "print('| True  and False | ', 1 * 0)#false\n",
    "print('| False and False | ', 0 * 0)#false"
   ]
  },
  {
   "cell_type": "markdown",
   "id": "olympic-louisville",
   "metadata": {},
   "source": [
    "#### Operador `or`\n",
    "\n",
    "Implementa la operación lógica \"o\""
   ]
  },
  {
   "cell_type": "code",
   "execution_count": null,
   "id": "played-breakfast",
   "metadata": {
    "ExecuteTime": {
     "end_time": "2021-03-22T19:47:40.866246Z",
     "start_time": "2021-03-22T19:47:40.858245Z"
    }
   },
   "outputs": [],
   "source": [
    "print('| Bool1  -  Bool2 |  Resultado')\n",
    "print('------------------------------')\n",
    "print('| True  or True  | ', True or True)\n",
    "print('| False or True  | ', False or True)\n",
    "print('| True  or False | ', True or False)\n",
    "print('| False or False | ', False or False)\n",
    "\n",
    "print('| True  or True  | ', 1 + 1)\n",
    "print('| False or True  | ', 0 + 1)\n",
    "print('| True  or False | ', 1 + 0)\n",
    "print('| False or False | ', 0 + 0)"
   ]
  },
  {
   "cell_type": "markdown",
   "id": "grateful-atlas",
   "metadata": {},
   "source": [
    "#### Operador `not`\n",
    "\n",
    "\n",
    "Implementa la operación lógica \"negación\""
   ]
  },
  {
   "cell_type": "code",
   "execution_count": null,
   "id": "ad43ed3c-e999-41ad-9b5a-56079ccef153",
   "metadata": {},
   "outputs": [],
   "source": [
    "print('| Bool1      |  Resultado')\n",
    "print('-------------------------')\n",
    "print('| not True   | ', not True)\n",
    "print('| not False  | ', not False)"
   ]
  },
  {
   "cell_type": "markdown",
   "id": "polar-worst",
   "metadata": {},
   "source": [
    "#### Comparaciones e igualdades"
   ]
  },
  {
   "cell_type": "code",
   "execution_count": null,
   "id": "innocent-drive",
   "metadata": {
    "ExecuteTime": {
     "end_time": "2021-03-22T19:47:59.571799Z",
     "start_time": "2021-03-22T19:47:59.565834Z"
    }
   },
   "outputs": [],
   "source": [
    "variable_1 = True\n",
    "variable_2 = False"
   ]
  },
  {
   "cell_type": "markdown",
   "id": "cd5425b5-803b-448c-b018-6cfa02b429c9",
   "metadata": {},
   "source": [
    "#### Igualdad"
   ]
  },
  {
   "cell_type": "code",
   "execution_count": null,
   "id": "acquired-lambda",
   "metadata": {
    "ExecuteTime": {
     "end_time": "2021-03-22T19:48:24.654775Z",
     "start_time": "2021-03-22T19:48:24.645776Z"
    }
   },
   "outputs": [],
   "source": [
    "variable_1 == True"
   ]
  },
  {
   "cell_type": "code",
   "execution_count": null,
   "id": "94d0ecee-42b1-453e-941d-3db430af64c7",
   "metadata": {},
   "outputs": [],
   "source": [
    "variable_2 == True"
   ]
  },
  {
   "cell_type": "markdown",
   "id": "little-instrumentation",
   "metadata": {
    "ExecuteTime": {
     "end_time": "2021-03-22T15:16:11.183686Z",
     "start_time": "2021-03-22T15:16:11.173687Z"
    }
   },
   "source": [
    "> **Pregunta ❓:** ¿En otros lenguajes existen los operadores `&&` y `||`?¿Existen estos en python?"
   ]
  },
  {
   "attachments": {},
   "cell_type": "markdown",
   "metadata": {},
   "source": [
    "# Interacción con usuario"
   ]
  },
  {
   "cell_type": "code",
   "execution_count": null,
   "metadata": {},
   "outputs": [],
   "source": [
    "# Inputs\n",
    "name = input('¿Cuál es tu nombre? ')\n",
    "age = input('¿Cuántos años tienes? ')\n",
    "print(name)\n",
    "print(age)"
   ]
  },
  {
   "cell_type": "code",
   "execution_count": null,
   "metadata": {},
   "outputs": [],
   "source": [
    "# Cambiamos su tipo\n",
    "name = 24\n",
    "age = \"joaquin\"\n",
    "print(name)\n",
    "print(age)\n",
    "\n",
    "# ¿Forzamos el tipo?\n",
    "address: str = \"Mi dirección\"\n",
    "address = True\n",
    "address = 5\n",
    "address = 1.2\n",
    "print(type(address))"
   ]
  },
  {
   "cell_type": "markdown",
   "metadata": {},
   "source": [
    "#TODO:\n",
    "\n",
    "por cada contenido hacer un ejemplo y ejercicio \n"
   ]
  },
  {
   "attachments": {},
   "cell_type": "markdown",
   "id": "greater-internship",
   "metadata": {},
   "source": [
    "\n",
    "## Control de Flujo"
   ]
  },
  {
   "attachments": {},
   "cell_type": "markdown",
   "id": "ordinary-navigation",
   "metadata": {},
   "source": [
    "Una estructura de **Control de flujo** se refiere a un tipo de estructura de código que nos permite decidir si ejecutar o no un determinado segmento de código según una expresión o variable booleana:\n",
    "\n",
    "```python\n",
    "\n",
    "\n",
    "    \n",
    "\n",
    "if expresion_booleana_0:\n",
    "    # Ejecuto este código si expresion_booleana_0 es True.\n",
    "    print(\"Hola Mundo\")               \n",
    "elif expresion_booleana_1:\n",
    "    # Ejecuto este código si expresion_booleana_0 es False y expresion_booleana_1 es `True` \n",
    "    print('dio mio nunca pense llegar tan lejos')\n",
    "else:\n",
    "    # Ejecuto este código si expresion_booleana_0 y expresion_booleana_1 son False.\n",
    "    print(\"chao Mundo\")   \n",
    "\n",
    "```\n",
    "\n",
    "\n",
    "- **Nota 1:** Puede usarse ```elif``` tantas veces como sea necesario. \n",
    "- **Nota 2:**: La keyword ```else``` finaliza el el flujo y es opcional. Es decir, se puede hacer\n",
    "un control de flujo sin utilizar ```elif``` no ```else```.\n",
    "\n"
   ]
  },
  {
   "cell_type": "code",
   "execution_count": null,
   "metadata": {},
   "outputs": [],
   "source": [
    "if 3 == 2:\n",
    "    print(\"2 es igual a 2\")\n",
    "else:\n",
    "    print( \"2 no es igual a 2\")\n",
    "print('fin')"
   ]
  },
  {
   "cell_type": "markdown",
   "id": "infrared-crossing",
   "metadata": {},
   "source": [
    "### Bloque Indentado\n",
    "\n",
    "\n",
    "Es posible observar que bajo cada expresión ```if```, ```elif``` o ```else```, se ejecutan las acciones correspondientes 4 espacios más adentro. Esto se conoce como indentación.\n",
    "\n",
    "En `Python`, cada linea de código pertenece a un *bloque*. Además, cada bloque posee una jerarquía: en el caso del control de flujo, cada keyword define un bloque indentado de 4 espacios bajo ella. \n",
    "\n",
    "> **Pregunta ❓**: ¿Cómo se maneja el código dependiente de un bloque en otros lenguajes?"
   ]
  },
  {
   "cell_type": "code",
   "execution_count": null,
   "id": "working-garden",
   "metadata": {
    "ExecuteTime": {
     "end_time": "2021-03-22T19:55:30.847496Z",
     "start_time": "2021-03-22T19:55:30.831497Z"
    }
   },
   "outputs": [],
   "source": [
    "pregunta = 'Hola!, ¿Qué desea tomar?'\n",
    "\n",
    "respuesta = 'te'\n",
    "\n",
    "if ('te' == respuesta) or ('cafe' == respuesta):\n",
    "    print(f'Enseguida le traigo su {respuesta}.')\n",
    "else: \n",
    "    print('No tengo lo que me está solicitando 🤷')"
   ]
  },
  {
   "cell_type": "markdown",
   "id": "homeless-hardware",
   "metadata": {},
   "source": [
    "> **Pregunta ❓**: ¿Switch/Case en python?"
   ]
  },
  {
   "attachments": {},
   "cell_type": "markdown",
   "id": "digital-incentive",
   "metadata": {},
   "source": [
    "## Colecciones\n",
    "\n",
    "Una **colección** es una estructura que permite almacenar datos y operarlos. Algunas de las posibles operaciones son:\n",
    "- Ordenación\n",
    "- Mapeos (aplicar una función a cada elemento)\n",
    "- Filtros\n",
    "- Reducción (agregar todos los elementos según alguna función, por ejemplo la suma)\n",
    "- Etc... \n",
    "\n",
    "\n",
    "A su vez, pueden ser: \n",
    "\n",
    "1. **Mutables** (listas, diccionarios), que en palabras simples, permiten adición, eliminación y modificación de sus elementos. \n",
    "\n",
    "2. **Inmutables** (tuplas). No se pueden modificar sus elementos,\n",
    "\n",
    "Finalmente, es posible **iterar** (*(Realizar cierta acción varias veces)*) sobre estas estructuras y calcular operaciones de reducción sobre estas (promedios, medianas, sumas, etc ...).\n",
    "\n",
    "Por tal motivo, *los contenedores están íntimamente relacionados con la programación en Python para el análisis de datos*."
   ]
  },
  {
   "cell_type": "markdown",
   "id": "dynamic-dragon",
   "metadata": {},
   "source": [
    "## Listas\n",
    "\n",
    "Creamos las listas usando los brackets ([]). "
   ]
  },
  {
   "cell_type": "code",
   "execution_count": null,
   "id": "racial-optimum",
   "metadata": {
    "ExecuteTime": {
     "end_time": "2021-03-22T19:57:50.566059Z",
     "start_time": "2021-03-22T19:57:50.551060Z"
    }
   },
   "outputs": [],
   "source": [
    "# Lista sin elementos pero inicializada.\n",
    "lista_vacia = []\n",
    "lista_vacia"
   ]
  },
  {
   "cell_type": "code",
   "execution_count": null,
   "id": "amateur-morocco",
   "metadata": {
    "scrolled": true
   },
   "outputs": [],
   "source": [
    "# Lista con literales\n",
    "lista_1 = [1, 2, 3]\n",
    "lista_1"
   ]
  },
  {
   "cell_type": "markdown",
   "id": "discrete-filter",
   "metadata": {},
   "source": [
    "También podemos crear una lista con distintos tipos de datos (incluyendo otras colecciones)"
   ]
  },
  {
   "cell_type": "code",
   "execution_count": null,
   "id": "collaborative-rescue",
   "metadata": {
    "ExecuteTime": {
     "end_time": "2021-03-22T19:58:06.077336Z",
     "start_time": "2021-03-22T19:58:06.062335Z"
    }
   },
   "outputs": [],
   "source": [
    "lista_2 = [1, 2, 10.0, 'hola', True, [0, 1, 2]]\n",
    "lista_2"
   ]
  },
  {
   "cell_type": "markdown",
   "id": "compound-civilization",
   "metadata": {},
   "source": [
    "Y podemos acceder a la cantidad de elementos de la lista usando la función `len(variable_lista)`"
   ]
  },
  {
   "cell_type": "code",
   "execution_count": null,
   "id": "adapted-failing",
   "metadata": {
    "ExecuteTime": {
     "end_time": "2021-03-23T13:47:49.256063Z",
     "start_time": "2021-03-23T13:47:49.006052Z"
    }
   },
   "outputs": [],
   "source": [
    "# Largo de la lista = Cantidad de elementos dentro de la lista.\n",
    "len(lista_2)"
   ]
  },
  {
   "cell_type": "markdown",
   "id": "orange-operation",
   "metadata": {},
   "source": [
    "### Operaciones con listas"
   ]
  },
  {
   "cell_type": "markdown",
   "id": "cleared-mattress",
   "metadata": {},
   "source": [
    "#### Indexado: Cómo acceder a ciertos elementos de la lista\n",
    "\n",
    "\n",
    "Cada elemento de una lista va asociado a un indice, el cual identifica la posición del elemnto dentro de la lista.\n",
    "```python\n",
    "lista   =  ['Uvas 🍇', 'Melón 🍈', 'Sandía 🍉', 'Damasco 🍊', 'Limón 🍋']\n",
    "indices -> [  0            1             2             3            4  ] \n",
    "# Ojo que parten desde el 0!!\n",
    "```\n",
    "\n",
    "Podemos acceder a cierto elemento de la lista  usando la sintaxis \n",
    "\n",
    "```python\n",
    "lista[indice]\n",
    "```\n",
    "\n"
   ]
  },
  {
   "cell_type": "code",
   "execution_count": null,
   "id": "6b0ef001-0d3c-4489-825f-b4683abd90d8",
   "metadata": {
    "ExecuteTime": {
     "end_time": "2021-03-22T19:59:05.476354Z",
     "start_time": "2021-03-22T19:59:05.461354Z"
    }
   },
   "outputs": [],
   "source": [
    "lista = ['Uvas 🍇', 'Melón 🍈', 'Sandía 🍉', 'Damasco 🍊', 'Limón 🍋']\n",
    "\n",
    "# len(lista) nos permite ver el número de elementos que contiene la lista\n",
    "\n",
    "len(lista)"
   ]
  },
  {
   "cell_type": "code",
   "execution_count": null,
   "id": "premium-contribution",
   "metadata": {},
   "outputs": [],
   "source": [
    "lista[0]"
   ]
  },
  {
   "cell_type": "code",
   "execution_count": null,
   "id": "younger-harbor",
   "metadata": {
    "ExecuteTime": {
     "end_time": "2021-03-22T19:59:13.168055Z",
     "start_time": "2021-03-22T19:59:13.158028Z"
    }
   },
   "outputs": [],
   "source": [
    "lista[1]"
   ]
  },
  {
   "cell_type": "markdown",
   "id": "a97d1d41-3d68-4f31-b9e5-5807015c6ab3",
   "metadata": {},
   "source": [
    "El indexado negativo nos permite partir desde el último elemento hasta el primero\n"
   ]
  },
  {
   "cell_type": "code",
   "execution_count": null,
   "id": "beautiful-prayer",
   "metadata": {
    "ExecuteTime": {
     "end_time": "2021-03-22T19:59:30.685686Z",
     "start_time": "2021-03-22T19:59:30.673688Z"
    }
   },
   "outputs": [],
   "source": [
    "lista[-2]"
   ]
  },
  {
   "cell_type": "markdown",
   "id": "8c43cf2a-8e1c-4ce1-ab18-ff87641f4b02",
   "metadata": {
    "jp-MarkdownHeadingCollapsed": true,
    "tags": []
   },
   "source": [
    "Indices parten de cero. El largo de la lista parte contando desde 1, ya que existe por lo menos un elemento en la lista. Entonces, para sacar el elemento i, tenemos que restale 1."
   ]
  },
  {
   "cell_type": "code",
   "execution_count": null,
   "id": "competitive-valuation",
   "metadata": {
    "ExecuteTime": {
     "end_time": "2021-03-22T20:01:32.006964Z",
     "start_time": "2021-03-22T20:01:31.991966Z"
    }
   },
   "outputs": [],
   "source": [
    "# El código anterior es equivalente a algo similar a esto:\n",
    "lista[len(lista) - 1]"
   ]
  },
  {
   "cell_type": "code",
   "execution_count": null,
   "id": "determined-olympus",
   "metadata": {
    "ExecuteTime": {
     "end_time": "2021-03-22T20:01:41.166890Z",
     "start_time": "2021-03-22T20:01:41.153886Z"
    }
   },
   "outputs": [],
   "source": [
    "lista[-1]"
   ]
  },
  {
   "cell_type": "markdown",
   "id": "widespread-serbia",
   "metadata": {},
   "source": [
    "Podemos mutar un valor de una lista usando \n",
    "\n",
    "```python\n",
    "lista[indice] = nuevo_valor\n",
    "```"
   ]
  },
  {
   "cell_type": "code",
   "execution_count": null,
   "id": "defined-allergy",
   "metadata": {},
   "outputs": [],
   "source": [
    "lista"
   ]
  },
  {
   "cell_type": "code",
   "execution_count": null,
   "id": "threatened-channel",
   "metadata": {
    "scrolled": true
   },
   "outputs": [],
   "source": [
    "lista[0] = 'Manzana🍏' # Modificamos el elemento en el índice 0 por '🍏 '\n",
    "lista"
   ]
  },
  {
   "cell_type": "markdown",
   "id": "tracked-quality",
   "metadata": {},
   "source": [
    "Nota: Podemos simular las matrices a través de listas de listas"
   ]
  },
  {
   "cell_type": "code",
   "execution_count": null,
   "id": "driven-vacuum",
   "metadata": {
    "ExecuteTime": {
     "end_time": "2021-03-22T20:02:01.976235Z",
     "start_time": "2021-03-22T20:02:01.959238Z"
    }
   },
   "outputs": [],
   "source": [
    "matriz = [    \n",
    "    [1, 2, 3],     \n",
    "    [4, 5, 6],     \n",
    "    [7, 8, 9]\n",
    "]\n",
    "\n",
    "matriz[2]  # i = Tercera fila"
   ]
  },
  {
   "cell_type": "code",
   "execution_count": null,
   "id": "b4fd647a-ffd0-4361-b2fa-4302f46ca7d0",
   "metadata": {},
   "outputs": [],
   "source": [
    "matriz_ij[i][j]"
   ]
  },
  {
   "cell_type": "code",
   "execution_count": null,
   "id": "english-missile",
   "metadata": {
    "ExecuteTime": {
     "end_time": "2021-03-22T20:02:26.495024Z",
     "start_time": "2021-03-22T20:02:26.487026Z"
    },
    "scrolled": true
   },
   "outputs": [],
   "source": [
    "# Para acceder a un elemento de la matriz, podemos usar un doble indexado.\n",
    "\n",
    "matriz[2][0]  # i = Tercera fila, j = primera columna"
   ]
  },
  {
   "cell_type": "markdown",
   "id": "respected-principal",
   "metadata": {},
   "source": [
    "#### Slice: Seleccionar una sublista a partir ciertos indices\n",
    "\n",
    "Notar que esta operación retorna una nueva lista con referencias a los datos de la lista original (no los copia)."
   ]
  },
  {
   "cell_type": "code",
   "execution_count": null,
   "id": "different-uzbekistan",
   "metadata": {
    "ExecuteTime": {
     "end_time": "2021-03-22T20:02:49.919181Z",
     "start_time": "2021-03-22T20:02:49.901179Z"
    }
   },
   "outputs": [],
   "source": [
    "lista_3 = ['Uvas 🍇', 'Melón 🍈', 'Sandía 🍉', 'Damasco 🍊', 'Limón 🍋']\n",
    "\n",
    "lista_3[1:4]"
   ]
  },
  {
   "cell_type": "markdown",
   "id": "mighty-first",
   "metadata": {},
   "source": [
    "#### Append: Agrega un elemento al final de la lista.\n",
    "\n",
    "Esta operación muta la lista original"
   ]
  },
  {
   "cell_type": "code",
   "execution_count": null,
   "metadata": {},
   "outputs": [],
   "source": [
    "lista = ['Uvas 🍇', 'Melón 🍈', 'Sandía 🍉', 'Damasco 🍊', 'Limón 🍋']"
   ]
  },
  {
   "cell_type": "markdown",
   "id": "functioning-header",
   "metadata": {
    "ExecuteTime": {
     "end_time": "2021-03-22T17:22:38.838554Z",
     "start_time": "2021-03-22T17:22:38.823544Z"
    }
   },
   "source": [
    "> **Pregunta**: ¿Qué pasa si lo ejecutamos nuevamente?"
   ]
  },
  {
   "cell_type": "code",
   "execution_count": null,
   "id": "amino-commodity",
   "metadata": {
    "ExecuteTime": {
     "end_time": "2021-03-22T20:06:24.586145Z",
     "start_time": "2021-03-22T20:06:24.575142Z"
    }
   },
   "outputs": [],
   "source": [
    "lista.append('Manzana 🍎')\n",
    "lista"
   ]
  },
  {
   "cell_type": "code",
   "execution_count": null,
   "id": "1fd560f9-dfe4-4378-ab26-64fa2f1e1297",
   "metadata": {},
   "outputs": [],
   "source": [
    "lista"
   ]
  },
  {
   "cell_type": "markdown",
   "id": "proof-vaccine",
   "metadata": {
    "ExecuteTime": {
     "end_time": "2021-03-22T17:25:28.562746Z",
     "start_time": "2021-03-22T17:25:28.552750Z"
    }
   },
   "source": [
    "####  Concatenación de listas\n",
    "\n",
    "También se pueden concatenar listas. Estas rentornan una **nueva lista** en vez de mutar la de origen."
   ]
  },
  {
   "cell_type": "code",
   "execution_count": null,
   "id": "copyrighted-schema",
   "metadata": {
    "ExecuteTime": {
     "end_time": "2021-03-23T13:48:20.670219Z",
     "start_time": "2021-03-23T13:48:20.651210Z"
    }
   },
   "outputs": [],
   "source": [
    "# Limpiamos a lista anterior a la original que teníamos.\n",
    "lista = ['Uvas 🍇', 'Melón 🍈', 'Sandía 🍉', 'Damasco 🍊', 'Limón 🍋']\n",
    "\n",
    "# Concatenamos\n",
    "nueva_lista = lista + ['Manzana 🍎']\n",
    "nueva_lista"
   ]
  },
  {
   "cell_type": "code",
   "execution_count": null,
   "id": "6ae613d3-dee6-45b3-9407-a056cc7d7976",
   "metadata": {},
   "outputs": [],
   "source": [
    "['Piña 🍍'] + lista"
   ]
  },
  {
   "cell_type": "markdown",
   "id": "identified-terrorist",
   "metadata": {},
   "source": [
    "#### Pop: Quita de la lista el elemento indicado por cierto índice\n",
    "\n",
    "Observación: Si no encuentra un elemento en el índice indicado, levanta una excepción y corta la ejecución del programa."
   ]
  },
  {
   "cell_type": "code",
   "execution_count": null,
   "id": "threaded-future",
   "metadata": {
    "ExecuteTime": {
     "end_time": "2021-03-23T13:48:26.935898Z",
     "start_time": "2021-03-23T13:48:26.915897Z"
    }
   },
   "outputs": [],
   "source": [
    "lista.pop(1)"
   ]
  },
  {
   "cell_type": "code",
   "execution_count": null,
   "metadata": {},
   "outputs": [],
   "source": [
    "lista"
   ]
  },
  {
   "cell_type": "code",
   "execution_count": null,
   "metadata": {},
   "outputs": [],
   "source": [
    "lista.pop(0)"
   ]
  },
  {
   "cell_type": "code",
   "execution_count": null,
   "id": "monetary-theater",
   "metadata": {
    "ExecuteTime": {
     "end_time": "2021-03-23T13:48:27.708582Z",
     "start_time": "2021-03-23T13:48:27.698582Z"
    }
   },
   "outputs": [],
   "source": [
    "lista.pop(100)"
   ]
  },
  {
   "cell_type": "markdown",
   "id": "behavioral-master",
   "metadata": {
    "ExecuteTime": {
     "end_time": "2021-03-22T18:06:52.967997Z",
     "start_time": "2021-03-22T18:06:52.953004Z"
    }
   },
   "source": [
    "#### Sort: Ordena \n",
    "\n",
    "Nota: Ordena según como se define >= para los datos."
   ]
  },
  {
   "cell_type": "code",
   "execution_count": null,
   "id": "persistent-stretch",
   "metadata": {
    "ExecuteTime": {
     "end_time": "2021-03-23T13:48:32.069063Z",
     "start_time": "2021-03-23T13:48:32.052063Z"
    }
   },
   "outputs": [],
   "source": [
    "# Orden numérico.\n",
    "lista_desordenada = [10, 3, 2, -8, 1, 0, 0, -3]\n",
    "lista_desordenada.sort()\n",
    "lista_desordenada"
   ]
  },
  {
   "cell_type": "markdown",
   "id": "cf31b50d-fa59-4b87-979f-ccd6924a2f97",
   "metadata": {},
   "source": [
    "Para ordenar strings también se hace uso del orden lexicográfico"
   ]
  },
  {
   "cell_type": "code",
   "execution_count": null,
   "id": "aggressive-production",
   "metadata": {
    "ExecuteTime": {
     "end_time": "2021-03-23T13:48:32.845205Z",
     "start_time": "2021-03-23T13:48:32.829250Z"
    }
   },
   "outputs": [],
   "source": [
    "# Usando listas con strings se hace con orden lexicográfico.\n",
    "lista_desordenada_2 = ['Vienesa 🍖', 'pan 🥖', 'tomate 🍅', 'palta 🥑', 'mayo 🍶', 'ketchup 🍶']\n",
    "lista_desordenada_2.sort()\n",
    "lista_desordenada_2"
   ]
  },
  {
   "cell_type": "markdown",
   "id": "metropolitan-nashville",
   "metadata": {},
   "source": [
    "#### Index: Busca el elemento entregado en la lista y retorna su índice"
   ]
  },
  {
   "cell_type": "code",
   "execution_count": null,
   "id": "modular-maximum",
   "metadata": {
    "ExecuteTime": {
     "end_time": "2021-03-23T13:49:32.322633Z",
     "start_time": "2021-03-23T13:49:32.302594Z"
    }
   },
   "outputs": [],
   "source": [
    "# Recordamos que había en lista\n",
    "lista = ['Uvas 🍇', 'Melón 🍈', 'Sandía 🍉', 'Damasco 🍊', 'Limón 🍋']\n",
    "lista"
   ]
  },
  {
   "cell_type": "code",
   "execution_count": null,
   "id": "allied-coral",
   "metadata": {
    "ExecuteTime": {
     "end_time": "2021-03-23T13:49:33.304645Z",
     "start_time": "2021-03-23T13:49:33.291629Z"
    },
    "scrolled": true
   },
   "outputs": [],
   "source": [
    "lista.index('Sandía 🍉')"
   ]
  },
  {
   "cell_type": "code",
   "execution_count": null,
   "id": "amended-congress",
   "metadata": {
    "ExecuteTime": {
     "end_time": "2021-03-23T13:49:36.762155Z",
     "start_time": "2021-03-23T13:49:36.746124Z"
    }
   },
   "outputs": [],
   "source": [
    "lista.index('Arándanos 🍒')"
   ]
  },
  {
   "cell_type": "markdown",
   "id": "graduate-alignment",
   "metadata": {},
   "source": [
    "Pueden encontrar una completa guía aquí de todos los métodos (funciones) que pueden ejecutar con una lista:\n",
    "    \n",
    "https://www.programiz.com/python-programming/list"
   ]
  },
  {
   "cell_type": "markdown",
   "id": "advanced-administrator",
   "metadata": {
    "ExecuteTime": {
     "end_time": "2021-03-22T18:01:08.375069Z",
     "start_time": "2021-03-22T18:01:08.362071Z"
    },
    "tags": []
   },
   "source": [
    "### Paréntesis: Strings.\n",
    "\n",
    "Los strings son un tipo especial de lista que no es mutable, pero que se puede indexar."
   ]
  },
  {
   "cell_type": "code",
   "execution_count": 1,
   "id": "c51d0fa6-9587-4124-977e-cbaa37af6bb9",
   "metadata": {},
   "outputs": [
    {
     "data": {
      "text/plain": [
       "['j', 'u', 'a', 'n']"
      ]
     },
     "execution_count": 1,
     "metadata": {},
     "output_type": "execute_result"
    }
   ],
   "source": [
    "['j', 'u', 'a', 'n']"
   ]
  },
  {
   "cell_type": "code",
   "execution_count": 2,
   "id": "derived-identifier",
   "metadata": {
    "ExecuteTime": {
     "end_time": "2021-03-22T20:03:15.091952Z",
     "start_time": "2021-03-22T20:03:15.076952Z"
    }
   },
   "outputs": [
    {
     "data": {
      "text/plain": [
       "'an'"
      ]
     },
     "execution_count": 2,
     "metadata": {},
     "output_type": "execute_result"
    }
   ],
   "source": [
    "nombre = 'Juan'\n",
    "nombre[2:4]"
   ]
  },
  {
   "cell_type": "markdown",
   "id": "final-nicaragua",
   "metadata": {},
   "source": [
    "También se pueden convertir a string"
   ]
  },
  {
   "cell_type": "code",
   "execution_count": 3,
   "id": "olive-meeting",
   "metadata": {
    "ExecuteTime": {
     "end_time": "2021-03-22T20:03:39.934091Z",
     "start_time": "2021-03-22T20:03:39.916065Z"
    }
   },
   "outputs": [
    {
     "data": {
      "text/plain": [
       "['J', 'u', 'a', 'n']"
      ]
     },
     "execution_count": 3,
     "metadata": {},
     "output_type": "execute_result"
    }
   ],
   "source": [
    "list(nombre)"
   ]
  },
  {
   "cell_type": "code",
   "execution_count": 4,
   "id": "immune-endorsement",
   "metadata": {
    "ExecuteTime": {
     "end_time": "2021-03-22T20:03:54.221041Z",
     "start_time": "2021-03-22T20:03:54.207054Z"
    }
   },
   "outputs": [
    {
     "data": {
      "text/plain": [
       "\"['J', 'u', 'a', 'n']\""
      ]
     },
     "execution_count": 4,
     "metadata": {},
     "output_type": "execute_result"
    }
   ],
   "source": [
    "str(['J', 'u', 'a', 'n'])"
   ]
  },
  {
   "cell_type": "code",
   "execution_count": 6,
   "id": "d46b8d7b-185e-46c0-8a40-557815d7790e",
   "metadata": {},
   "outputs": [
    {
     "data": {
      "text/plain": [
       "'Juan-Andres-a-n'"
      ]
     },
     "execution_count": 6,
     "metadata": {},
     "output_type": "execute_result"
    }
   ],
   "source": [
    "'-'.join(['Juan', 'Andres', 'a', 'n'])"
   ]
  },
  {
   "cell_type": "markdown",
   "id": "organic-strap",
   "metadata": {},
   "source": [
    "Y podemos separarlos/juntarlos según algun carácter"
   ]
  },
  {
   "cell_type": "code",
   "execution_count": 7,
   "id": "australian-summer",
   "metadata": {
    "ExecuteTime": {
     "end_time": "2021-03-22T20:04:50.394800Z",
     "start_time": "2021-03-22T20:04:50.386782Z"
    }
   },
   "outputs": [
    {
     "data": {
      "text/plain": [
       "['Juan', 'come', 'verduras']"
      ]
     },
     "execution_count": 7,
     "metadata": {},
     "output_type": "execute_result"
    }
   ],
   "source": [
    "'Juan come verduras'.split(' ')"
   ]
  },
  {
   "cell_type": "code",
   "execution_count": null,
   "id": "sonic-meaning",
   "metadata": {
    "ExecuteTime": {
     "end_time": "2021-03-22T20:05:39.326724Z",
     "start_time": "2021-03-22T20:05:39.315728Z"
    }
   },
   "outputs": [],
   "source": [
    "# El string que pongan antes del join será el que unirá los strings del arreglo. En este caso, se uniran con '-'\n",
    "'-'.join(['Juan', 'come', 'verduras'])"
   ]
  },
  {
   "cell_type": "markdown",
   "id": "experimental-store",
   "metadata": {
    "ExecuteTime": {
     "end_time": "2021-03-22T18:13:21.155383Z",
     "start_time": "2021-03-22T18:13:21.138410Z"
    }
   },
   "source": [
    "## Tuplas\n",
    "\n",
    "Las tuplas siguen el mismo principio de las listas en cuanto a almacenar datos, no obstante, a diferencia de las listas, las tuplas son **inmutables**. Una ventaja sobre las listas, es que **son más eficientes computacionalmente y son más ligeras**. "
   ]
  },
  {
   "cell_type": "code",
   "execution_count": 8,
   "id": "incorporated-coffee",
   "metadata": {
    "ExecuteTime": {
     "end_time": "2021-03-23T13:49:58.837087Z",
     "start_time": "2021-03-23T13:49:58.819087Z"
    }
   },
   "outputs": [
    {
     "data": {
      "text/plain": [
       "(1, 2, 3)"
      ]
     },
     "execution_count": 8,
     "metadata": {},
     "output_type": "execute_result"
    }
   ],
   "source": [
    "# Se utilizan 'parentesis' para crearlas\n",
    "\n",
    "tupla = (1, 2, 3)\n",
    "tupla"
   ]
  },
  {
   "cell_type": "markdown",
   "id": "textile-table",
   "metadata": {},
   "source": [
    "Al igual que las listas, sus elementos pueden ser accedidos a través del indexado (que parte desde 0!)."
   ]
  },
  {
   "cell_type": "code",
   "execution_count": null,
   "id": "unlimited-candidate",
   "metadata": {
    "ExecuteTime": {
     "end_time": "2021-03-23T13:50:00.583597Z",
     "start_time": "2021-03-23T13:50:00.564640Z"
    }
   },
   "outputs": [],
   "source": [
    "tupla[0]"
   ]
  },
  {
   "cell_type": "code",
   "execution_count": null,
   "id": "decent-partition",
   "metadata": {
    "ExecuteTime": {
     "end_time": "2021-03-23T13:50:01.245933Z",
     "start_time": "2021-03-23T13:50:01.227906Z"
    }
   },
   "outputs": [],
   "source": [
    "tupla[-1]"
   ]
  },
  {
   "cell_type": "code",
   "execution_count": null,
   "id": "standard-birmingham",
   "metadata": {
    "ExecuteTime": {
     "end_time": "2021-03-23T13:50:01.811887Z",
     "start_time": "2021-03-23T13:50:01.803886Z"
    }
   },
   "outputs": [],
   "source": [
    "tupla[0:2]"
   ]
  },
  {
   "cell_type": "markdown",
   "id": "medium-mining",
   "metadata": {},
   "source": [
    "> **Pregunta**: ¿Qué sucede si intentamos cambiar un valor de una tupla?"
   ]
  },
  {
   "cell_type": "code",
   "execution_count": 9,
   "id": "primary-doctrine",
   "metadata": {
    "ExecuteTime": {
     "end_time": "2021-03-22T20:10:48.920390Z",
     "start_time": "2021-03-22T20:10:48.909387Z"
    }
   },
   "outputs": [
    {
     "ename": "TypeError",
     "evalue": "'tuple' object does not support item assignment",
     "output_type": "error",
     "traceback": [
      "\u001b[1;31m---------------------------------------------------------------------------\u001b[0m",
      "\u001b[1;31mTypeError\u001b[0m                                 Traceback (most recent call last)",
      "Cell \u001b[1;32mIn[9], line 1\u001b[0m\n\u001b[1;32m----> 1\u001b[0m tupla[\u001b[39m0\u001b[39m] \u001b[39m=\u001b[39m \u001b[39m1\u001b[39m\n",
      "\u001b[1;31mTypeError\u001b[0m: 'tuple' object does not support item assignment"
     ]
    }
   ],
   "source": [
    "tupla[0] = 1"
   ]
  },
  {
   "cell_type": "markdown",
   "id": "1cf52fde-7625-410e-b072-e53ef6c0ac03",
   "metadata": {},
   "source": [
    "> **Pregunta**: ¿Cómo podría agregar nuevos elementos a una tupla?"
   ]
  },
  {
   "cell_type": "code",
   "execution_count": null,
   "id": "03544ab5-eba6-4337-85fe-52ebecac9376",
   "metadata": {},
   "outputs": [],
   "source": [
    "nueva_tupla = (1, 2, 3, 4)\n",
    "nueva_tupla"
   ]
  },
  {
   "cell_type": "markdown",
   "id": "verbal-pocket",
   "metadata": {},
   "source": [
    "#### Unpacking\n",
    "\n",
    "Tuplas y listas comparten el acceso a sus elementos por medio de la sintaxis ```[*]```. Tanto tuplas como las listas se pueden \"desempacar\", el termino *pythonico* es **unpacking**. Ejemplo:"
   ]
  },
  {
   "cell_type": "code",
   "execution_count": 11,
   "id": "pregnant-stamp",
   "metadata": {
    "ExecuteTime": {
     "end_time": "2021-03-23T13:50:04.356386Z",
     "start_time": "2021-03-23T13:50:04.348385Z"
    }
   },
   "outputs": [],
   "source": [
    "# Unpacking de tuplas\n",
    "a, b, c, d = ('🚗', '🚌', '🚒', '🚕')"
   ]
  },
  {
   "cell_type": "code",
   "execution_count": 12,
   "id": "anticipated-seeking",
   "metadata": {
    "ExecuteTime": {
     "end_time": "2021-03-23T13:50:04.949324Z",
     "start_time": "2021-03-23T13:50:04.931285Z"
    }
   },
   "outputs": [
    {
     "data": {
      "text/plain": [
       "'🚗'"
      ]
     },
     "execution_count": 12,
     "metadata": {},
     "output_type": "execute_result"
    }
   ],
   "source": [
    "a"
   ]
  },
  {
   "cell_type": "code",
   "execution_count": 13,
   "id": "charitable-hotel",
   "metadata": {
    "ExecuteTime": {
     "end_time": "2021-03-23T13:50:05.473217Z",
     "start_time": "2021-03-23T13:50:05.458188Z"
    },
    "scrolled": true
   },
   "outputs": [
    {
     "data": {
      "text/plain": [
       "'🚌'"
      ]
     },
     "execution_count": 13,
     "metadata": {},
     "output_type": "execute_result"
    }
   ],
   "source": [
    "b"
   ]
  },
  {
   "cell_type": "code",
   "execution_count": 14,
   "id": "397d107c-382a-43a7-be7c-bce1f9ef0416",
   "metadata": {},
   "outputs": [
    {
     "data": {
      "text/plain": [
       "'🚒'"
      ]
     },
     "execution_count": 14,
     "metadata": {},
     "output_type": "execute_result"
    }
   ],
   "source": [
    "c"
   ]
  },
  {
   "cell_type": "code",
   "execution_count": 15,
   "id": "98cdfbc7-4273-44ed-95c7-16b3e4831530",
   "metadata": {},
   "outputs": [
    {
     "data": {
      "text/plain": [
       "'🚕'"
      ]
     },
     "execution_count": 15,
     "metadata": {},
     "output_type": "execute_result"
    }
   ],
   "source": [
    "d"
   ]
  },
  {
   "cell_type": "markdown",
   "id": "electric-hands",
   "metadata": {},
   "source": [
    "## Conjuntos\n",
    "\n",
    "Los conjuntos o **sets** son contenedores mutables, no ordenadas de objetos. Están diseñados para comportarse como sus contrapartes matemáticas. Un `frozenset` posee las mismas propiedades, solo que es inmutable."
   ]
  },
  {
   "cell_type": "code",
   "execution_count": null,
   "id": "closed-austria",
   "metadata": {
    "ExecuteTime": {
     "end_time": "2021-03-22T20:12:05.870376Z",
     "start_time": "2021-03-22T20:12:05.858361Z"
    }
   },
   "outputs": [],
   "source": [
    "comida_rapida = {'🍕','🍔', '🍟', '🌭', '🍳', '🥪'}\n",
    "comida_rapida"
   ]
  },
  {
   "cell_type": "code",
   "execution_count": null,
   "id": "common-laser",
   "metadata": {
    "ExecuteTime": {
     "end_time": "2021-03-23T13:50:08.385114Z",
     "start_time": "2021-03-23T13:50:08.371104Z"
    },
    "scrolled": true
   },
   "outputs": [],
   "source": [
    "lista_desayuno = ['🥪', '🥖', '🍎', '🍳', '🥪', '🥐',  '🥪'] # Noten que repetimos el '🥪'\n",
    "\n",
    "desayuno = set(lista_desayuno) \n",
    "desayuno"
   ]
  },
  {
   "cell_type": "markdown",
   "id": "iraqi-luther",
   "metadata": {},
   "source": [
    "### Operaciones de conjuntos\n",
    "\n",
    "#### Unión\n",
    "\n",
    "Dados dos conjuntos $A$ y $B$, su unión $A \\cup B$ se puede ver representada por:\n",
    "\n",
    "<center>\n",
    "<img src=\"./resources/union.png\" alt=\"Unión de conjuntos A y B\" width=300/>\n",
    "</center>\n",
    "\n",
    "<center>\n",
    "Fuente: https://en.wikipedia.org/wiki/Union_(set_theory) \n",
    "</center>\n",
    "\n",
    "\n"
   ]
  },
  {
   "cell_type": "code",
   "execution_count": null,
   "id": "precise-investigation",
   "metadata": {
    "ExecuteTime": {
     "end_time": "2021-03-22T20:12:38.241216Z",
     "start_time": "2021-03-22T20:12:38.229249Z"
    }
   },
   "outputs": [],
   "source": [
    "comida_rapida.union(desayuno)"
   ]
  },
  {
   "cell_type": "markdown",
   "id": "historical-philip",
   "metadata": {},
   "source": [
    "#### Intersección\n",
    "\n",
    "\n",
    "Dados dos conjuntos $A$ y $B$, su intersección $A \\cap B$ se puede ver representada por:\n",
    "\n",
    "<center>\n",
    "<img src=\"./resources/intersection.jpg\" alt=\"Intersección de conjuntos A y B\" width=300/>\n",
    "</center>\n",
    "\n",
    "<center>\n",
    "Fuente: https://en.wikipedia.org/wiki/Intersection_(set_theory)\n",
    "</center>\n",
    "\n",
    "\n"
   ]
  },
  {
   "cell_type": "code",
   "execution_count": null,
   "id": "dangerous-tolerance",
   "metadata": {
    "ExecuteTime": {
     "end_time": "2021-03-22T19:12:29.604218Z",
     "start_time": "2021-03-22T19:12:29.590219Z"
    }
   },
   "outputs": [],
   "source": [
    "comida_rapida.intersection(desayuno)"
   ]
  },
  {
   "cell_type": "markdown",
   "id": "caring-dallas",
   "metadata": {},
   "source": [
    "#### Diferencia o Complemento\n",
    "\n",
    "\n",
    "Dados dos conjuntos $A$ y $B$, la diferencia entre $A - B$ se puede ver representada por:\n",
    "\n",
    "<center>\n",
    "<img src=\"./resources/SetDifferenceA.svg.png\" alt=\"Diferencia A y B\" width=300/>\n",
    "</center>\n",
    "\n",
    "Y la diferencia entre $B - A$ se puede ver representada por:\n",
    "\n",
    "<center>\n",
    "<img src=\"./resources/SetDifferenceB.svg.png\" alt=\"Diferencia B y A\" width=300/>\n",
    "</center>\n",
    "\n",
    "<center>\n",
    "Fuente: https://en.wikipedia.org/wiki/Union_(set_theory)\n",
    "</center>\n",
    "\n",
    "\n",
    "\n",
    "\n",
    "Recuerden que esta operación no es simétrica!"
   ]
  },
  {
   "cell_type": "code",
   "execution_count": null,
   "id": "complex-recycling",
   "metadata": {
    "ExecuteTime": {
     "end_time": "2021-03-22T19:12:29.635217Z",
     "start_time": "2021-03-22T19:12:29.623219Z"
    }
   },
   "outputs": [],
   "source": [
    "comida_rapida.difference(desayuno)"
   ]
  },
  {
   "cell_type": "code",
   "execution_count": null,
   "id": "herbal-essex",
   "metadata": {
    "ExecuteTime": {
     "end_time": "2021-03-22T19:12:29.665218Z",
     "start_time": "2021-03-22T19:12:29.652220Z"
    }
   },
   "outputs": [],
   "source": [
    "desayuno.difference(comida_rapida)"
   ]
  },
  {
   "cell_type": "markdown",
   "id": "brilliant-hungarian",
   "metadata": {},
   "source": [
    "## Diccionarios\n",
    "\n",
    "Un diccionario corresponde a la implementación pythonica de una aplicación del tipo \"llave - valor\".\n",
    "Permite crear estructuras que nos permitan representar de una forma más natural los datos.\n",
    "\n",
    "**Ejemplo**:"
   ]
  },
  {
   "cell_type": "code",
   "execution_count": null,
   "id": "deadly-lloyd",
   "metadata": {
    "ExecuteTime": {
     "end_time": "2021-03-23T13:50:12.556210Z",
     "start_time": "2021-03-23T13:50:12.547228Z"
    }
   },
   "outputs": [],
   "source": [
    "d = {\n",
    "    'nombre': 'joaquin', \n",
    "    'edad': 24, \n",
    "    'peso': '¿?',\n",
    "    'hobby': 'estudiar',\n",
    "}\n",
    "d"
   ]
  },
  {
   "cell_type": "markdown",
   "id": "centered-cursor",
   "metadata": {},
   "source": [
    "Los datos presentes en un diccionario pueden ser accedidos mediante la sintaxis ```diccionario[llave]```."
   ]
  },
  {
   "cell_type": "code",
   "execution_count": null,
   "id": "tropical-trinity",
   "metadata": {
    "ExecuteTime": {
     "end_time": "2021-03-23T13:50:14.083270Z",
     "start_time": "2021-03-23T13:50:14.064275Z"
    }
   },
   "outputs": [],
   "source": [
    "d['nombre']"
   ]
  },
  {
   "cell_type": "markdown",
   "id": "successful-buffer",
   "metadata": {},
   "source": [
    "> **Pregunta**: ¿Qué sucede si intentamos acceder a una llave que no existe en el diccionario?"
   ]
  },
  {
   "cell_type": "code",
   "execution_count": null,
   "id": "creative-institute",
   "metadata": {
    "ExecuteTime": {
     "end_time": "2021-03-23T13:50:15.397944Z",
     "start_time": "2021-03-23T13:50:15.386966Z"
    }
   },
   "outputs": [],
   "source": [
    "d['apellido']"
   ]
  },
  {
   "cell_type": "markdown",
   "id": "architectural-thesaurus",
   "metadata": {},
   "source": [
    "Podemos verificar si una llave existe en el diccionario usando el operador `in`"
   ]
  },
  {
   "cell_type": "code",
   "execution_count": null,
   "id": "amino-mortgage",
   "metadata": {
    "ExecuteTime": {
     "end_time": "2021-03-23T13:50:16.641522Z",
     "start_time": "2021-03-23T13:50:16.634521Z"
    }
   },
   "outputs": [],
   "source": [
    "'apellido' in d"
   ]
  },
  {
   "cell_type": "code",
   "execution_count": null,
   "id": "d2ddb245-d867-4a8f-b737-0803d3a0577f",
   "metadata": {},
   "outputs": [],
   "source": [
    "if 'apellido' in d:\n",
    "    print(d['apellido'])\n",
    "else:\n",
    "    print('apellido no existe en el diccionario')"
   ]
  },
  {
   "cell_type": "markdown",
   "id": "015bd33a-2d3b-4939-ba66-0c622df899c4",
   "metadata": {},
   "source": [
    "#### Agregar llave al diccionario"
   ]
  },
  {
   "cell_type": "code",
   "execution_count": null,
   "id": "89d12392-0b8c-4514-830c-3c2cd9484d08",
   "metadata": {},
   "outputs": [],
   "source": [
    "d['apellido'] = 'Pérez'"
   ]
  },
  {
   "cell_type": "code",
   "execution_count": null,
   "id": "8e71eddd-9a26-4c74-8ccb-cc072e0d2835",
   "metadata": {},
   "outputs": [],
   "source": [
    "d"
   ]
  },
  {
   "cell_type": "markdown",
   "id": "laden-burlington",
   "metadata": {},
   "source": [
    "#### Mutar Diccionario\n",
    "\n",
    "Podemos modifcar un valores presente en el diccionario similar a como lo hacíamos con listas, pero cambiando el índice por la llave:"
   ]
  },
  {
   "cell_type": "code",
   "execution_count": null,
   "id": "future-asthma",
   "metadata": {
    "ExecuteTime": {
     "end_time": "2021-03-22T20:16:08.234933Z",
     "start_time": "2021-03-22T20:16:08.211924Z"
    }
   },
   "outputs": [],
   "source": [
    "d['peso'] = 68.01\n",
    "d"
   ]
  },
  {
   "cell_type": "markdown",
   "id": "alert-water",
   "metadata": {},
   "source": [
    "Se pueden eliminar elementos del diccionario usando el operador `del`"
   ]
  },
  {
   "cell_type": "code",
   "execution_count": null,
   "id": "blank-wednesday",
   "metadata": {
    "ExecuteTime": {
     "end_time": "2021-03-22T20:16:58.312264Z",
     "start_time": "2021-03-22T20:16:58.302264Z"
    }
   },
   "outputs": [],
   "source": [
    "del d['peso']\n",
    "d"
   ]
  },
  {
   "cell_type": "markdown",
   "id": "arctic-antarctica",
   "metadata": {},
   "source": [
    "#### Acceder a *colecciones* con los elementos de los diccionarios"
   ]
  },
  {
   "cell_type": "markdown",
   "id": "massive-revelation",
   "metadata": {},
   "source": [
    "Para obtener las llaves de un diccionario se puede hacer uso del método ```.keys()```. \n"
   ]
  },
  {
   "cell_type": "code",
   "execution_count": null,
   "id": "extensive-royal",
   "metadata": {
    "ExecuteTime": {
     "end_time": "2021-03-22T20:16:50.035215Z",
     "start_time": "2021-03-22T20:16:50.029208Z"
    }
   },
   "outputs": [],
   "source": [
    "# Redefinimos el diccionario al original para el siguiente ejemplo\n",
    "d = {'nombre': 'Juan', 'edad': 29, 'peso': 70.3}"
   ]
  },
  {
   "cell_type": "code",
   "execution_count": null,
   "id": "sophisticated-praise",
   "metadata": {
    "ExecuteTime": {
     "end_time": "2021-03-22T20:16:24.765298Z",
     "start_time": "2021-03-22T20:16:24.753298Z"
    }
   },
   "outputs": [],
   "source": [
    "d.keys()  # Ojo que no es una lista!"
   ]
  },
  {
   "cell_type": "markdown",
   "id": "opponent-palmer",
   "metadata": {},
   "source": [
    "Para obtener los elementos podemos usar el método `.values()`"
   ]
  },
  {
   "cell_type": "code",
   "execution_count": null,
   "id": "three-insider",
   "metadata": {
    "ExecuteTime": {
     "end_time": "2021-03-22T20:16:40.046254Z",
     "start_time": "2021-03-22T20:16:40.032232Z"
    }
   },
   "outputs": [],
   "source": [
    "d.values()"
   ]
  },
  {
   "cell_type": "markdown",
   "id": "controlled-theology",
   "metadata": {},
   "source": [
    "Y se pueden obtener tuplas indicando todas las `(llaves, valor)` del diccionario"
   ]
  },
  {
   "cell_type": "code",
   "execution_count": null,
   "id": "about-toolbox",
   "metadata": {},
   "outputs": [],
   "source": [
    "d.items() "
   ]
  },
  {
   "cell_type": "markdown",
   "id": "magnetic-gambling",
   "metadata": {},
   "source": [
    "----\n",
    "\n",
    "## Parte 6: Iteraciones"
   ]
  },
  {
   "cell_type": "markdown",
   "id": "emerging-storm",
   "metadata": {},
   "source": [
    "Las iteraciones permiten recorrer y ejecutar alguna acción sobre cada elemento de una colección. Existen varias formas de lograr esto:\n",
    "\n",
    "\n",
    "### Ciclo While - Propuesto estudio Personal\n",
    "\n",
    "\n",
    "**While:** un ciclo ```while``` permite realizar una ```acción``` en función del valor de verdad de una ```condicion```, su estructura es:\n",
    "\n",
    "```\n",
    "while condicion: # Condición booleana\n",
    "    acción # Bloque indentado\n",
    "```"
   ]
  },
  {
   "cell_type": "code",
   "execution_count": 42,
   "id": "wanted-maker",
   "metadata": {
    "ExecuteTime": {
     "end_time": "2021-03-23T13:50:19.897248Z",
     "start_time": "2021-03-23T13:50:19.875247Z"
    }
   },
   "outputs": [
    {
     "name": "stdout",
     "output_type": "stream",
     "text": [
      "0 10\n",
      "1 20\n",
      "2 30\n",
      "3 40\n",
      "4 50\n",
      "5 60\n",
      "6 70\n",
      "7 80\n",
      "8 90\n",
      "9 100\n"
     ]
    }
   ],
   "source": [
    "contador = 0\n",
    "lista = [10, 20, 30, 40, 50, 60, 70, 80, 90, 100]\n",
    "\n",
    "while contador < len(lista):\n",
    "    print(contador, lista[contador])\n",
    "    contador += 1"
   ]
  },
  {
   "cell_type": "markdown",
   "id": "gothic-concern",
   "metadata": {},
   "source": [
    "### Ciclo For\n",
    "\n",
    "Un ciclo ```for``` permite repetir realizar una```acción``` en función de los elementos de una *colección*. Su estructura corresponde a:\n",
    "\n",
    "```python\n",
    "for elemento in coleccion: \n",
    "    acción_sobre_el_elemento\n",
    "\n",
    "```\n",
    "\n",
    "en este caso ```elemento``` corresponde a una variable que toma, secuencialmente, los valores del iterator. \n",
    "\n",
    "###"
   ]
  },
  {
   "cell_type": "markdown",
   "id": "f1e4147f-847d-4a93-abc2-d8a905969c46",
   "metadata": {},
   "source": [
    "#### Iteración sobre lista"
   ]
  },
  {
   "cell_type": "code",
   "execution_count": 35,
   "id": "alleged-mercy",
   "metadata": {
    "ExecuteTime": {
     "end_time": "2021-03-23T13:50:21.833277Z",
     "start_time": "2021-03-23T13:50:21.818239Z"
    }
   },
   "outputs": [],
   "source": [
    "lista_numeros = [0, 1, 2, 3, 4, 5]"
   ]
  },
  {
   "cell_type": "code",
   "execution_count": 44,
   "id": "smoking-secret",
   "metadata": {
    "ExecuteTime": {
     "end_time": "2021-03-23T13:50:22.476165Z",
     "start_time": "2021-03-23T13:50:22.459150Z"
    }
   },
   "outputs": [
    {
     "name": "stdout",
     "output_type": "stream",
     "text": [
      "0 ^ 2 = 0\n",
      "1 ^ 2 = 1\n",
      "2 ^ 2 = 4\n",
      "3 ^ 2 = 9\n"
     ]
    }
   ],
   "source": [
    "for numero in lista_numeros:\n",
    "    print(numero, '^ 2 =', numero ** 2)\n",
    "    if numero == 3:\n",
    "        break\n"
   ]
  },
  {
   "cell_type": "markdown",
   "id": "8a3365d2-6d2a-46f6-91c6-3511dbd313e6",
   "metadata": {},
   "source": [
    "### Iteración sobre llaves del diccionario"
   ]
  },
  {
   "cell_type": "code",
   "execution_count": 45,
   "id": "6f955e5d",
   "metadata": {},
   "outputs": [
    {
     "data": {
      "text/plain": [
       "{'nombre': 'Juan', 'edad': 29, 'peso': 70.3, 'hobby': 'ilusionismo'}"
      ]
     },
     "execution_count": 45,
     "metadata": {},
     "output_type": "execute_result"
    }
   ],
   "source": [
    "d = {\n",
    "    'nombre': 'Juan', \n",
    "    'edad': 29, \n",
    "    'peso': 70.3,\n",
    "    'hobby': 'ilusionismo',\n",
    "}\n",
    "\n",
    "d"
   ]
  },
  {
   "cell_type": "code",
   "execution_count": 47,
   "metadata": {},
   "outputs": [
    {
     "data": {
      "text/plain": [
       "dict_keys(['nombre', 'edad', 'peso', 'hobby'])"
      ]
     },
     "execution_count": 47,
     "metadata": {},
     "output_type": "execute_result"
    }
   ],
   "source": [
    "llaves = d.keys()\n",
    "llaves"
   ]
  },
  {
   "cell_type": "code",
   "execution_count": 50,
   "id": "amateur-stewart",
   "metadata": {
    "ExecuteTime": {
     "end_time": "2021-03-22T20:21:39.879297Z",
     "start_time": "2021-03-22T20:21:39.859296Z"
    }
   },
   "outputs": [
    {
     "name": "stdout",
     "output_type": "stream",
     "text": [
      "NOMBRE : Juan\n",
      "EDAD : 29\n",
      "PESO : 70.3\n",
      "HOBBY : ilusionismo\n"
     ]
    }
   ],
   "source": [
    "for llave in d:\n",
    "    valor = d[llave]\n",
    "    print(f'{llave.upper()} : {valor}')"
   ]
  },
  {
   "cell_type": "markdown",
   "id": "4e3d70ce-2008-4ae3-a600-1b49e2db90a0",
   "metadata": {},
   "source": [
    "#### Iteración sobre ítems del diccionario\n",
    "\n",
    "Recordemos que `d.items()` nos entregaba una estructura similar a una lista [(llave_1, valor_1), ...]\n",
    "Como cada elemento es una tupla, podemos desempacarla en llave, valor en el mismo ciclo."
   ]
  },
  {
   "cell_type": "code",
   "execution_count": 51,
   "id": "f9528bc1-f2b5-4d24-887e-495127fe89fc",
   "metadata": {},
   "outputs": [
    {
     "data": {
      "text/plain": [
       "dict_items([('nombre', 'Juan'), ('edad', 29), ('peso', 70.3), ('hobby', 'ilusionismo')])"
      ]
     },
     "execution_count": 51,
     "metadata": {},
     "output_type": "execute_result"
    }
   ],
   "source": [
    "d.items()"
   ]
  },
  {
   "cell_type": "code",
   "execution_count": null,
   "id": "guilty-effects",
   "metadata": {
    "ExecuteTime": {
     "end_time": "2021-03-22T20:22:17.080653Z",
     "start_time": "2021-03-22T20:22:17.073658Z"
    }
   },
   "outputs": [],
   "source": [
    "for llave, valor in d.items():\n",
    "    print(f'{llave.upper()} : {valor}')"
   ]
  },
  {
   "cell_type": "markdown",
   "id": "computational-norman",
   "metadata": {},
   "source": [
    "### Utilitarios para la iteración"
   ]
  },
  {
   "cell_type": "markdown",
   "id": "corporate-message",
   "metadata": {},
   "source": [
    "#### Enumerador\n",
    "\n",
    "Permite tener el índice del elemento al cual estamos accediendo. Para esto, usar la función `enumerate(lista)`"
   ]
  },
  {
   "cell_type": "code",
   "execution_count": 53,
   "id": "d3a77bb8-cee6-42fa-8314-ef829050ceb3",
   "metadata": {},
   "outputs": [
    {
     "data": {
      "text/plain": [
       "[(0, 10), (1, 11), (2, 12), (3, 13), (4, 14), (5, 15)]"
      ]
     },
     "execution_count": 53,
     "metadata": {},
     "output_type": "execute_result"
    }
   ],
   "source": [
    "lista = [10, 11, 12, 13, 14, 15]\n",
    "\n",
    "list(enumerate(lista))"
   ]
  },
  {
   "cell_type": "code",
   "execution_count": 52,
   "metadata": {},
   "outputs": [
    {
     "name": "stdout",
     "output_type": "stream",
     "text": [
      "0 10\n",
      "1 20\n",
      "2 30\n",
      "3 40\n",
      "4 50\n",
      "5 60\n",
      "6 70\n",
      "7 80\n",
      "8 90\n",
      "9 100\n"
     ]
    }
   ],
   "source": [
    "for i in range(len(lista)):\n",
    "    valor = lista[i]\n",
    "    print(i,valor)"
   ]
  },
  {
   "cell_type": "code",
   "execution_count": 54,
   "id": "elect-adelaide",
   "metadata": {
    "ExecuteTime": {
     "end_time": "2021-03-22T20:22:27.345116Z",
     "start_time": "2021-03-22T20:22:27.325122Z"
    }
   },
   "outputs": [
    {
     "name": "stdout",
     "output_type": "stream",
     "text": [
      "Indice: 0 | Elemento: 10\n",
      "Encontré un indínce que es múltiplo de 3: 0\n",
      "Indice: 1 | Elemento: 11\n",
      "Indice: 2 | Elemento: 12\n",
      "Indice: 3 | Elemento: 13\n",
      "Encontré un indínce que es múltiplo de 3: 3\n",
      "Indice: 4 | Elemento: 14\n",
      "Indice: 5 | Elemento: 15\n"
     ]
    }
   ],
   "source": [
    "for indice, elemento in enumerate(lista):\n",
    "    print(f'Indice: {indice} | Elemento: {elemento}')\n",
    "    if indice % 3 == 0:\n",
    "        print(f'Encontré un indínce que es múltiplo de 3: {indice}')"
   ]
  },
  {
   "cell_type": "markdown",
   "id": "ecological-halloween",
   "metadata": {},
   "source": [
    "#### Range\n",
    "\n",
    "Genera una secuencia de números. No es una lista como tal, si no que un generador.Sintaxis: \n",
    " \n",
    "```python\n",
    "range(inicio, fin, opcional(salto) )\n",
    "```"
   ]
  },
  {
   "cell_type": "code",
   "execution_count": null,
   "id": "moved-century",
   "metadata": {
    "ExecuteTime": {
     "end_time": "2021-03-23T14:00:50.184140Z",
     "start_time": "2021-03-23T14:00:50.165117Z"
    }
   },
   "outputs": [],
   "source": [
    "for elemento in range(0, 5):\n",
    "    print(elemento)"
   ]
  },
  {
   "cell_type": "code",
   "execution_count": 58,
   "id": "casual-recycling",
   "metadata": {
    "ExecuteTime": {
     "end_time": "2021-03-23T14:02:11.120715Z",
     "start_time": "2021-03-23T14:02:11.109702Z"
    }
   },
   "outputs": [
    {
     "name": "stdout",
     "output_type": "stream",
     "text": [
      "0\n",
      "3\n",
      "6\n",
      "9\n"
     ]
    }
   ],
   "source": [
    "# Podemos darle además un salto, es decir, cuanto saltaremos entre un elemento y otro.\n",
    "for elemento in range(0, 10, 3):\n",
    "    print(elemento)"
   ]
  },
  {
   "cell_type": "markdown",
   "id": "corrected-ballet",
   "metadata": {},
   "source": [
    "#### Zip\n",
    "\n",
    "Permite iterar entre dos o mas secuencias al mismo tiempo. Para esto, genera tuplas con ambos valores."
   ]
  },
  {
   "cell_type": "code",
   "execution_count": 62,
   "id": "sixth-communication",
   "metadata": {
    "ExecuteTime": {
     "end_time": "2021-03-23T13:58:54.552693Z",
     "start_time": "2021-03-23T13:58:54.542693Z"
    }
   },
   "outputs": [
    {
     "data": {
      "text/plain": [
       "[('nombre', 'Juan'), ('edad', '27'), ('peso', '70')]"
      ]
     },
     "execution_count": 62,
     "metadata": {},
     "output_type": "execute_result"
    }
   ],
   "source": [
    "preguntas = ['nombre', 'edad', 'peso']\n",
    "respuestas = ['Juan', '27', '70']\n",
    "\n",
    "list(zip(preguntas, respuestas))\n"
   ]
  },
  {
   "cell_type": "code",
   "execution_count": null,
   "id": "59809ab2-e7dd-4a20-9254-b33aa6897e6d",
   "metadata": {},
   "outputs": [],
   "source": [
    "for pregunta, respuesta in zip(preguntas, respuestas):\n",
    "    print(f'Cuál es tu {pregunta}?  Es {respuesta}.')"
   ]
  },
  {
   "cell_type": "markdown",
   "id": "practical-protection",
   "metadata": {},
   "source": [
    "#### Reverse\n",
    "\n",
    "Invierte el orden de la colección:"
   ]
  },
  {
   "cell_type": "code",
   "execution_count": 70,
   "id": "fitting-firewall",
   "metadata": {
    "ExecuteTime": {
     "end_time": "2021-03-23T13:59:47.139452Z",
     "start_time": "2021-03-23T13:59:47.133466Z"
    }
   },
   "outputs": [
    {
     "name": "stdout",
     "output_type": "stream",
     "text": [
      "peso\n",
      "edad\n",
      "nombre\n"
     ]
    }
   ],
   "source": [
    "for i in reversed(preguntas):\n",
    "    print(i)\n",
    "    "
   ]
  },
  {
   "cell_type": "markdown",
   "id": "fifth-recording",
   "metadata": {},
   "source": [
    "### List Comprehensions\n",
    "\n",
    "Es una forma *elegante* de crear colecciones.\n",
    "\n",
    "Supongamos que queremos crear una lista con todas las letras de la palabra `cuaderno`."
   ]
  },
  {
   "cell_type": "code",
   "execution_count": 71,
   "id": "registered-sword",
   "metadata": {
    "ExecuteTime": {
     "end_time": "2021-03-22T20:23:14.764115Z",
     "start_time": "2021-03-22T20:23:14.751130Z"
    }
   },
   "outputs": [
    {
     "name": "stdout",
     "output_type": "stream",
     "text": [
      "Agregué a la lista: C\n",
      "Agregué a la lista: U\n",
      "Agregué a la lista: A\n",
      "Agregué a la lista: D\n",
      "Agregué a la lista: E\n",
      "Agregué a la lista: R\n",
      "Agregué a la lista: N\n",
      "Agregué a la lista: O\n",
      "Agregué a la lista:  \n",
      "Agregué a la lista: 📗\n"
     ]
    },
    {
     "data": {
      "text/plain": [
       "['C', 'U', 'A', 'D', 'E', 'R', 'N', 'O', ' ', '📗']"
      ]
     },
     "execution_count": 71,
     "metadata": {},
     "output_type": "execute_result"
    }
   ],
   "source": [
    "letras = []\n",
    "palabra = 'Cuaderno 📗'\n",
    "\n",
    "for letra in palabra:\n",
    "    letras.append(letra.upper())\n",
    "    print(f'Agregué a la lista: {letra.upper()}')\n",
    "\n",
    "letras"
   ]
  },
  {
   "cell_type": "markdown",
   "id": "illegal-meaning",
   "metadata": {},
   "source": [
    "Podemos reemplazar este ciclo `for` por una sintaxis mas compacta:"
   ]
  },
  {
   "cell_type": "code",
   "execution_count": 73,
   "id": "formal-reset",
   "metadata": {
    "ExecuteTime": {
     "end_time": "2021-03-22T20:23:58.748825Z",
     "start_time": "2021-03-22T20:23:58.740827Z"
    }
   },
   "outputs": [
    {
     "data": {
      "text/plain": [
       "['C', 'U', 'A', 'D', 'E', 'R', 'N', 'O', ' ', '📗']"
      ]
     },
     "execution_count": 73,
     "metadata": {},
     "output_type": "execute_result"
    }
   ],
   "source": [
    "letras = [letra.upper() for letra in palabra]\n",
    "letras"
   ]
  },
  {
   "cell_type": "markdown",
   "id": "severe-artwork",
   "metadata": {
    "ExecuteTime": {
     "end_time": "2021-03-22T19:02:53.523752Z",
     "start_time": "2021-03-22T19:02:53.515781Z"
    }
   },
   "source": [
    "Esto se le conoce como **List Comprehension**"
   ]
  },
  {
   "cell_type": "markdown",
   "id": "distributed-vision",
   "metadata": {},
   "source": [
    "Supongamos ahora que generamos una lista con los 10 primeros números enteros y de estos queremos solo los pares.\n",
    "Un código usando `for` se vería como:"
   ]
  },
  {
   "cell_type": "code",
   "execution_count": 74,
   "id": "bf5d7ccb-3c35-4675-ba36-317771f96ded",
   "metadata": {},
   "outputs": [
    {
     "data": {
      "text/plain": [
       "[0, 1, 2, 3, 4, 5, 6, 7, 8, 9]"
      ]
     },
     "execution_count": 74,
     "metadata": {},
     "output_type": "execute_result"
    }
   ],
   "source": [
    "list(range(10))"
   ]
  },
  {
   "cell_type": "code",
   "execution_count": 75,
   "id": "rough-toner",
   "metadata": {
    "ExecuteTime": {
     "end_time": "2021-03-22T20:24:21.286110Z",
     "start_time": "2021-03-22T20:24:21.276108Z"
    }
   },
   "outputs": [
    {
     "data": {
      "text/plain": [
       "[0, 2, 4, 6, 8]"
      ]
     },
     "execution_count": 75,
     "metadata": {},
     "output_type": "execute_result"
    }
   ],
   "source": [
    "numeros_pares = []\n",
    "for numero in range(10):\n",
    "    if numero % 2 == 0:\n",
    "        numeros_pares.append(numero)\n",
    "\n",
    "numeros_pares"
   ]
  },
  {
   "cell_type": "markdown",
   "id": "completed-check",
   "metadata": {},
   "source": [
    "Usando **List Comprehension**:"
   ]
  },
  {
   "cell_type": "code",
   "execution_count": null,
   "id": "prostate-information",
   "metadata": {
    "ExecuteTime": {
     "end_time": "2021-03-22T20:25:13.348291Z",
     "start_time": "2021-03-22T20:25:13.341291Z"
    }
   },
   "outputs": [],
   "source": [
    "numeros_pares = [numero for numero in range(10) if numero % 2 == 0]\n",
    "numeros_pares"
   ]
  },
  {
   "cell_type": "code",
   "execution_count": null,
   "id": "subsequent-wright",
   "metadata": {
    "ExecuteTime": {
     "end_time": "2021-03-22T20:25:25.368603Z",
     "start_time": "2021-03-22T20:25:25.352606Z"
    }
   },
   "outputs": [],
   "source": [
    "numeros_pares = ['Par' if numero % 2 == 0 else 'Impar' for numero in range(10)]\n",
    "numeros_pares"
   ]
  },
  {
   "cell_type": "markdown",
   "id": "transsexual-color",
   "metadata": {},
   "source": [
    "> **Pregunta ❓:** ¿Se puede crear usando esta notación conjuntos o diccionarios?"
   ]
  },
  {
   "cell_type": "code",
   "execution_count": 76,
   "id": "a31cf772-18c0-4e08-b2cd-2b0a61e84d61",
   "metadata": {},
   "outputs": [
    {
     "data": {
      "text/plain": [
       "{0: 'Par',\n",
       " 1: 'Impar',\n",
       " 2: 'Par',\n",
       " 3: 'Impar',\n",
       " 4: 'Par',\n",
       " 5: 'Impar',\n",
       " 6: 'Par',\n",
       " 7: 'Impar',\n",
       " 8: 'Par',\n",
       " 9: 'Impar'}"
      ]
     },
     "execution_count": 76,
     "metadata": {},
     "output_type": "execute_result"
    }
   ],
   "source": [
    "{numero: 'Par' if numero % 2 == 0 else 'Impar' for numero in range(10) }"
   ]
  },
  {
   "cell_type": "code",
   "execution_count": null,
   "metadata": {},
   "outputs": [],
   "source": []
  },
  {
   "attachments": {},
   "cell_type": "markdown",
   "metadata": {},
   "source": [
    "# # Nivel principiante\n",
    "\n",
    "# Ejercicio 1: \n",
    "Haz un programa que imprima tu nombre y tu edad.\n",
    "\n",
    "# Ejercicio 2:\n",
    "Haz un programa que imprima el resultado de la suma de dos números.\n",
    "\n",
    "# Ejercicio 3:\n",
    "Haz un programa que imprima el resultado de la resta de dos números.\n",
    "\n",
    "# # Nivel intermedio\n",
    "\n",
    "# Ejercicio 4:\n",
    "\n",
    "\n",
    "# Nivel intermedio\n",
    "Ejercicio 1:\n",
    "Haz un programa que imprima todos los números pares entre 1 y 100.\n",
    "\n",
    "Ejercicio 2:\n",
    "Haz un programa que pida al usuario ingresar una cadena de texto, y luego imprima la cadena de texto al revés.\n",
    "\n",
    "Ejercicio 3:\n",
    "Haz un programa que calcule el área y el perímetro de un círculo a partir del radio ingresado por el usuario. Recuerda que el área de un círculo se calcula como pi * r^2, y el perímetro como 2 * pi * r.\n",
    "\n",
    "Ejercicio 4:\n",
    "Haz un programa que pida al usuario ingresar una lista de números enteros, y luego imprima el mayor y el menor de los números de la lista.\n",
    "\n",
    "# Nivel avanzado\n",
    "Ejercicio 1:\n",
    "Haz un programa que calcule el factorial de un número ingresado por el usuario. Recuerda que el factorial de un número n es el producto de todos los números enteros desde 1 hasta n. Por ejemplo, el factorial de 4 es 4 * 3 * 2 * 1 = 24.\n",
    "\n",
    "Ejercicio 2:\n",
    "Haz un programa que calcule la suma de los números pares de una lista de números enteros ingresada por el usuario.\n",
    "\n",
    "Ejercicio 3:\n",
    "Haz un programa que determine si un número ingresado por el usuario es un número primo o no. Un número es primo si es divisible únicamente por 1 y por sí mismo.\n",
    "\n",
    "Ejercicio 4:\n",
    "Haz un programa que implemente una lista enlazada. Una lista enlazada es una estructura de datos que consiste en un conjunto de nodos, donde cada nodo tiene un valor y una referencia (enlace) al siguiente nodo en la lista. Tu programa debe permitir al usuario agregar y eliminar nodos de la lista, así como imprimir el contenido de la lista.\n",
    "\n",
    "\n",
    "# Nivel avanzado\n",
    "Ejercicio 5:\n",
    "Haz un programa que calcule la suma de los dígitos de un número ingresado por el usuario. Por ejemplo, la suma de los dígitos del número 123 es 6 (1 + 2 + 3).\n",
    "\n",
    "Ejercicio 6:\n",
    "Haz un programa que calcule el promedio de una lista de números ingresados por el usuario. Recuerda que el promedio se calcula como la suma de los valores dividida entre la cantidad de valores.\n",
    "\n",
    "Ejercicio 7:\n",
    "Haz un programa que determine si una palabra ingresada por el usuario es un palíndromo. Una palabra es un palíndromo si se lee igual de izquierda a derecha que de derecha a izquierda. Por ejemplo, \"ana\" es un palíndromo, pero \"perro\" no lo es.\n",
    "\n",
    "Ejercicio 8:\n",
    "Haz un programa que implemente una pila (stack). Una pila es una estructura de datos que permite almacenar y recuperar valores en orden LIFO (last in, first out). Tu programa debe permitir al usuario agregar y eliminar valores de la pila, así como imprimir el contenido de la pila.\n",
    "\n",
    "\n",
    "\n",
    "dame 4 ejercicios de # Nivel principiante, intermedio, avanzado y experto de Variables y tipos de datos en python \n",
    "# Nivel principiante\n",
    "Ejercicio 1:\n",
    "Declara una variable llamada nombre y asigna tu nombre como valor. Luego imprime el valor de la variable.\n",
    "\n",
    "Ejercicio 2:\n",
    "Declara una variable llamada edad y asigna tu edad como valor. Luego imprime el valor de la variable.\n",
    "\n",
    "Ejercicio 3:\n",
    "Declara una variable llamada altura y asigna tu altura en metros como valor. Luego imprime el valor de la variable en centímetros.\n",
    "\n",
    "Ejercicio 4:\n",
    "Declara una variable llamada saldo y asigna un valor numérico a la misma. Luego imprime el valor de la variable en un formato legible para el usuario, con el símbolo de la moneda y dos decimales.\n",
    "\n",
    "# Nivel intermedio\n",
    "Ejercicio 5:\n",
    "Declara una variable llamada lista y asigna una lista de números enteros como valor. Luego imprime el segundo elemento de la lista.\n",
    "\n",
    "Ejercicio 6:\n",
    "Declara una variable llamada diccionario y asigna un diccionario con al menos tres pares clave-valor. Luego imprime el valor de la clave \"edad\".\n",
    "\n",
    "Ejercicio 7:\n",
    "Declara una variable llamada tupla y asigna una tupla de tres elementos. Luego intenta asignar un nuevo valor al primer elemento de la tupla y maneja la excepción que se produce.\n",
    "\n",
    "Ejercicio 8:\n",
    "Declara una variable llamada hora y asigna un objeto datetime con la hora actual. Luego imprime el valor de la variable en el formato hh:mm:ss.\n",
    "\n",
    "# Nivel avanzado\n",
    "Ejercicio 9:\n",
    "Declara una variable llamada numero_complexo y asigna un número complejo como valor. Luego imprime el valor de la parte real y la parte imaginaria del número.\n",
    "\n",
    "Ejercicio 10:\n",
    "Declara una variable llamada funcion y asigna una función anónima que tome dos argumentos y retorne su suma. Luego invoca a la función y imprime el resultado.\n",
    "\n",
    "Ejercicio 11:\n",
    "Declara una variable llamada texto y asigna una cadena de texto larga. Luego divide la cadena en una lista de palabras y imprime la lista.\n",
    "\n",
    "Ejercicio 12:\n",
    "Declara una variable llamada bytes y asigna una secuencia de bytes que represente una imagen en formato JPEG. Luego esc\n",
    "\n",
    "# Nivel experto\n",
    "\n",
    "Ejercicio 13:\n",
    "Declara una variable llamada modulo y asigna un módulo importado de un paquete externo. Luego utiliza la variable para acceder a una función del módulo y ejecutarla.\n",
    "\n",
    "Ejercicio 14:\n",
    "Declara una variable llamada clase y asigna una clase definida en tu código. Luego crea una instancia de la clase y utiliza los métodos y atributos de la instancia.\n",
    "\n",
    "Ejercicio 15:\n",
    "Declara una variable llamada archivo y asigna un archivo abierto en modo lectura. Luego itera sobre las líneas del archivo y las imprime por pantalla.\n",
    "\n",
    "Ejercicio 16:\n",
    "Declara una variable llamada expresion_regular y asigna una expresión regular compilada. Luego utiliza la variable para buscar coincidencias en una cadena de texto y imprime los resultados.\n",
    "\n",
    "\n",
    "\n",
    "# Nivel avanzado\n",
    "Ejercicio 17:\n",
    "Haz un programa que lea un archivo de texto y cuente la cantidad de veces que aparece cada palabra en el archivo. Tu programa debe ignorar mayúsculas y minúsculas y eliminar signos de puntuación. Luego imprime las palabras y sus respectivas frecuencias en orden descendente de frecuencia.\n",
    "\n",
    "\n",
    "\n",
    "\n",
    "# Nivel principiante\n",
    "\n",
    "Ejercicio 1:\n",
    "Declara una variable llamada numero y asigna un valor numérico a la misma. Luego imprime el tipo de la variable.\n",
    "\n",
    "Ejercicio 2:\n",
    "Declara una variable llamada texto y asigna una cadena de texto a la misma. Luego imprime el tipo de la variable.\n",
    "\n",
    "Ejercicio 3:\n",
    "Declara una variable llamada booleano y asigna un valor booleano a la misma. Luego imprime el tipo de la variable.\n",
    "\n",
    "Ejercicio 4:\n",
    "Declara una variable llamada lista y asigna una lista de valores de diferentes tipos a la misma. Luego itera sobre los elementos de la lista y imprime el tipo de cada uno.\n",
    "\n",
    "# # Nivel intermedio\n",
    "\n",
    "Ejercicio 5:\n",
    "Declara una variable llamada diccionario y asigna un diccionario con pares clave-valor de diferentes tipos. Luego itera sobre las claves y valores del diccionario y imprime el tipo de cada uno.\n",
    "\n",
    "Ejercicio 6:\n",
    "Declara una variable llamada tupla y asigna una tupla de valores de diferentes tipos. Luego itera sobre los elementos de la tupla y imprime el tipo de cada uno.\n",
    "\n",
    "Ejercicio 7:\n",
    "Declara una variable llamada conjunto y asigna un conjunto de valores de diferentes tipos. Luego itera sobre los elementos del conjunto y imprime el tipo de cada uno.\n",
    "\n",
    "Ejercicio 8:\n",
    "Declara una variable llamada rango y asigna un rango de números enteros. Luego itera sobre los elementos del rango y imprime el tipo de cada uno.\n",
    "\n",
    "# # Nivel avanzado\n",
    "\n",
    "Ejercicio 9:\n",
    "Declara una variable llamada numero_complexo y asigna un número complejo como valor. Luego imprime el tipo de la variable.\n",
    "\n",
    "Ejercicio 10:\n",
    "Declara una variable llamada funcion y asigna una función definida en tu código. Luego imprime el tipo de la variable.\n",
    "\n",
    "Ejercicio 11:\n",
    "Declara una variable llamada clase y asigna una clase definida en tu código. Luego imprime el tipo de la variable.\n",
    "\n",
    "Ejercicio 12:\n",
    "Declara una variable llamada archivo y asigna un archivo abierto en modo lectura. Luego imprime el tipo de la variable.\n",
    "\n",
    "# # Nivel experto\n",
    "\n",
    "# Nivel experto\n",
    "\n",
    "Ejercicio 13:\n",
    "Declara una variable llamada modulo y asigna un módulo importado de un paquete externo. Luego imprime el tipo de la variable.\n",
    "\n",
    "Ejercicio 14:\n",
    "Declara una variable llamada expresion_regular y asigna una expresión regular compilada. Luego imprime el tipo de la variable.\n",
    "\n",
    "Ejercicio 15:\n",
    "Declara una variable llamada bytes y asigna una secuencia de bytes que represente una imagen en formato JPEG. Luego imprime el tipo de la variable.\n",
    "\n",
    "Ejercicio 16:\n",
    "Declara una variable llamada objeto y asigna un objeto de cualquier tipo. Luego imprime el tipo de la variable y el tipo de la clase del objeto.\n",
    "\n",
    "\n",
    "\n",
    "# # Nivel principiante\n",
    "\n",
    "Ejercicio 1:\n",
    "Haz un programa que pida al usuario ingresar su nombre y luego lo salude.\n",
    "\n",
    "Ejercicio 2:\n",
    "Haz un programa que pida al usuario ingresar dos números y luego muestre la suma de los mismos.\n",
    "\n",
    "Ejercicio 3:\n",
    "Haz un programa que pida al usuario ingresar tres números y luego muestre el mayor de los mismos.\n",
    "\n",
    "Ejercicio 4:\n",
    "Haz un programa que pida al usuario ingresar una frase y luego cuente cuántas veces se repite cada letra en la frase.\n",
    "\n",
    "# Nivel intermedio\n",
    "Ejercicio 5:\n",
    "Haz un programa que convierta una cantidad de dólares a euros y luego muestre el resultado. Recuerda que 1 dólar equivale a 0.84 euros.\n",
    "\n",
    "Ejercicio 6:\n",
    "Haz un programa que pida al usuario ingresar una lista de números y luego muestre la suma de todos los números pares de la lista.\n",
    "\n",
    "\n",
    "\n",
    "\n",
    "dame 4 ejercicios de # Nivel principiante, intermedio, avanzado y experto para el tema de Operaciones con Strings en python  \n",
    "# Nivel principiante\n",
    "Ejercicio 1:\n",
    "Haz un programa que pida al usuario ingresar su nombre y apellido y luego los muestre juntos en una sola línea.\n",
    "\n",
    "Ejercicio 2:\n",
    "Haz un programa que pida al usuario ingresar una frase y luego muestre la frase al revés.\n",
    "\n",
    "Ejercicio 3:\n",
    "Haz un programa que pida al usuario ingresar una frase y luego muestre la frase en mayúsculas.\n",
    "\n",
    "Ejercicio 4:\n",
    "Haz un programa que pida al usuario ingresar una frase y luego cuente cuántas veces se repite cada letra en la frase.\n",
    "\n",
    "# Nivel intermedio\n",
    "Ejercicio 5:\n",
    "Haz un programa que pida al usuario ingresar una frase y luego reemplace todas las vocales por la letra \"X\".\n",
    "\n",
    "Ejercicio 6:\n",
    "Haz un programa que pida al usuario ingresar una frase y luego elimine todos los espacios en blanco al principio y al final de la frase.\n",
    "\n",
    "Ejercicio 7:\n",
    "Haz un programa que pida al usuario ingresar una frase y luego la divida en palabras utilizando el espacio como separador. Luego imprime cada palabra en una línea diferente.\n",
    "\n",
    "Ejercicio 8:\n",
    "Haz un programa que pida al usuario ingresar una frase y luego la divida en líneas de longitud fija. Por ejemplo, si la longitud es de 8 caracteres y la frase es \"Hola mundo\", el programa debe imprimir:\n",
    "\n",
    "Copy code\n",
    "Hola mu\n",
    "ndo\n",
    "# Nivel avanzado\n",
    "Ejercicio 9:\n",
    "Haz un programa que pida al usuario ingresar una frase y luego la cifre utilizando el cif\n",
    "\n",
    "\n",
    "\n",
    "CONTINUA \n",
    "# Nivel avanzado\n",
    "Ejercicio 9:\n",
    "Haz un programa que pida al usuario ingresar una frase y luego la cifre utilizando el cifrado César. El usuario debe ingresar el número de desplazamientos a realizar y el programa debe aplicar el cifrado a todas las letras de la frase.\n",
    "\n",
    "Ejercicio 10:\n",
    "Haz un programa que pida al usuario ingresar una frase y luego determine si es palíndromo. Una frase es palíndroma si se lee igual de izquierda a derecha que de derecha a izquierda.\n",
    "\n",
    "Ejercicio 11:\n",
    "Haz un programa que pida al usuario ingresar una frase y luego elimine todas las palabras repetidas de la misma.\n",
    "\n",
    "Ejercicio 12:\n",
    "Haz un programa que pida al usuario ingresar una frase y luego la divida en líneas de longitud fija de forma que se mantengan las palabras completas. Por ejemplo, si la longitud es de 8 caracteres y la frase es \"Hola mundo cruel\", el programa debe imprimir:\n",
    "\n",
    "Copy code\n",
    "Hola mu\n",
    "ndo cr\n",
    "uel\n",
    "# Nivel experto\n",
    "Ejercicio 13:\n",
    "Haz un programa que pida al usuario ingresar una frase y luego elimine todas las palabras de la misma que no tengan vocales.\n",
    "\n",
    "Ejercicio 14:\n",
    "Haz un programa que pida al usuario ingresar una frase y luego ordene alfabéticamente todas las palabras de la misma.\n",
    "\n",
    "Ejercicio 15:\n",
    "Haz un programa que pida al usuario ingresar una frase y luego reemplace todas las ocurrencias de una palabra dada por otra palabra dada.\n",
    "\n",
    "Ejercicio 16:\n",
    "Haz un programa que pida al usuario ingresar una frase y luego reemplace todas las palabras de la misma por\n",
    "\n",
    "\n",
    "\n",
    "dame 4 ejercicios de # Nivel principiante, intermedio, avanzado y experto para el tema de Operaciones con Strings y Operadores con booleanos en python   \n",
    "# Nivel principiante\n",
    "Ejercicio 1:\n",
    "Haz un programa que pida al usuario ingresar dos números y luego muestre True si ambos números son iguales y False en caso contrario.\n",
    "\n",
    "Ejercicio 2:\n",
    "Haz un programa que pida al usuario ingresar dos números y luego muestre True si ambos números son diferentes y False en caso contrario.\n",
    "\n",
    "Ejercicio 3:\n",
    "Haz un programa que pida al usuario ingresar dos números y luego muestre True si el primer número es mayor que el segundo y False en caso contrario.\n",
    "\n",
    "Ejercicio 4:\n",
    "Haz un programa que pida al usuario ingresar dos números y luego muestre True si el primer número es mayor o igual que el segundo y False en caso contrario.\n",
    "\n",
    "# Nivel intermedio\n",
    "Ejercicio 5:\n",
    "Haz un programa que pida al usuario ingresar dos números y luego muestre True si el primer número es menor que el segundo y False en caso contrario.\n",
    "\n",
    "Ejercicio 6:\n",
    "Haz un programa que pida al usuario ingresar dos números y luego muestre True si el primer número es menor o igual que el segundo y False en caso contrario.\n",
    "\n",
    "Ejercicio 7:\n",
    "Haz un programa que pida al usuario ingresar dos números y luego muestre True si el primer número es divisible por el segundo y False en caso contrario.\n",
    "\n",
    "Ejercicio 8:\n",
    "Haz un programa que pida al usuario ingresar dos números y luego muestre True si el primer número es par y False en caso contrario.\n",
    "\n",
    "# Nivel avanzado\n",
    "Ejercicio 9:\n",
    "Haz un programa que pida al usuario ingresar dos números y luego muestre True si el primer número es impar y False en caso contrario.\n",
    "\n",
    "Ejercicio 10:\n",
    "Haz un programa que pida al usuario ingresar dos números y luego muestre True si el primer número es múltiplo del segundo y False en caso contrario.\n",
    "\n",
    "Ejercicio 11:\n",
    "Haz un programa que pida al usuario ingresar dos números y luego muest\n",
    "\n",
    "\n",
    "\n",
    "continuar\n",
    "# Nivel avanzado\n",
    "Ejercicio 11:\n",
    "Haz un programa que pida al usuario ingresar dos números y luego muestre True si el primer número es múltiplo del segundo y False en caso contrario.\n",
    "\n",
    "Ejercicio 12:\n",
    "Haz un programa que pida al usuario ingresar una frase y luego muestre True si la frase es palíndroma y False en caso contrario.\n",
    "\n",
    "Ejercicio 13:\n",
    "Haz un programa que pida al usuario ingresar dos frases y luego muestre True si ambas frases son iguales y False en caso contrario.\n",
    "\n",
    "Ejercicio 14:\n",
    "Haz un programa que pida al usuario ingresar dos frases y luego muestre True si ambas frases son diferentes y False en caso contrario.\n",
    "\n",
    "# Nivel experto\n",
    "Ejercicio 15:\n",
    "Haz un programa que pida al usuario ingresar una frase y luego muestre True si todas las palabras de la frase tienen la misma longitud y False en caso contrario.\n",
    "\n",
    "Ejercicio 16:\n",
    "Haz un programa que pida al usuario ingresar una frase y luego muestre True si todas las palabras de la frase tien\n",
    "\n",
    "\n",
    "\n",
    "continuar\n",
    "# Nivel experto\n",
    "Ejercicio 16:\n",
    "Haz un programa que pida al usuario ingresar una frase y luego muestre True si todas las palabras de la frase tienen la misma longitud y False en caso contrario.\n",
    "\n",
    "Ejercicio 17:\n",
    "Haz un programa que pida al usuario ingresar una frase y luego muestre True si todas las palabras de la frase tienen una longitud par y False en caso contrario.\n",
    "\n",
    "Ejercicio 18:\n",
    "Haz un programa que pida al usuario ingresar una frase y luego muestre True si todas las palabras de la frase tienen una longitud impar y False en caso contrario.\n",
    "\n",
    "Ejercicio 19:\n",
    "Haz un programa que pida al usuario ingresar una frase y luego muestre True si todas las palabras de la frase tienen la misma cantidad de vocales y False en caso contrario.\n",
    "\n",
    "Ejercicio 20:\n",
    "Haz un programa que pida al usuario ingresar una frase y luego muestre True si todas las palabras de la frase tienen una cantidad par de vocales y False en caso contrario.\n",
    "\n",
    "\n",
    "\n"
   ]
  },
  {
   "attachments": {},
   "cell_type": "markdown",
   "metadata": {},
   "source": [
    "# Ejercicios obligatorio:\n",
    "\n",
    "Realizar un programa que emule el juego de piedra, papel o tijera. El programa debe pedir al usuario que ingrese su elección y luego debe mostrar la elección del computador y el resultado de la partida."
   ]
  },
  {
   "attachments": {},
   "cell_type": "markdown",
   "metadata": {},
   "source": [
    "# Ejercicios propuestos:\n",
    "\n",
    "1. Crea variables para almacenar tu nombre, edad y altura, y luego imprime estos valores en pantalla.\n",
    "\n",
    "2. Crea una variable para almacenar un número entero y otra para almacenar un número flotante. Realiza operaciones aritméticas con ambas variables y observa el resultado.\n",
    "\n",
    "3. Crea una variable para almacenar una cadena de caracteres y otra para almacenar un valor booleano. Imprime los valores de estas variables en pantalla y prueba algunas operaciones lógicas con ellas.\n",
    "\n",
    "4. Escribe un programa que lea dos números enteros del usuario y muestre el resultado de sumarlos, restarlos, multiplicarlos y dividirlos.\n",
    "\n",
    "5. Escribe un programa que lea una frase del usuario y cuente cuántas veces se repite cada letra en la frase.\n",
    "\n"
   ]
  }
 ],
 "metadata": {
  "kernelspec": {
   "display_name": "analitica",
   "language": "python",
   "name": "python3"
  },
  "language_info": {
   "codemirror_mode": {
    "name": "ipython",
    "version": 3
   },
   "file_extension": ".py",
   "mimetype": "text/x-python",
   "name": "python",
   "nbconvert_exporter": "python",
   "pygments_lexer": "ipython3",
   "version": "3.9.15"
  },
  "orig_nbformat": 4,
  "vscode": {
   "interpreter": {
    "hash": "4e0ad5cd685f605243be6d7c3fe64241640606e353ead897f9e91cb65cb92c21"
   }
  }
 },
 "nbformat": 4,
 "nbformat_minor": 2
}
