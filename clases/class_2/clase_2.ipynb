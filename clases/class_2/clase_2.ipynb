{
 "cells": [
  {
   "attachments": {},
   "cell_type": "markdown",
   "metadata": {},
   "source": [
    "#  Clase 2: Programación Funcional"
   ]
  },
  {
   "attachments": {},
   "cell_type": "markdown",
   "metadata": {},
   "source": [
    "\n",
    "## Objetivos de la Clase:\n",
    "\n",
    "- Funciones y su sintaxis en Python\n",
    "- Scopes\n",
    "- Testing\n",
    "- Programación funcional: `lambdas`, `map`, `filter` y `reduce`\n",
    "- Referencias y Mutabilidad\n",
    "- Documentación\n"
   ]
  },
  {
   "attachments": {},
   "cell_type": "markdown",
   "metadata": {},
   "source": [
    "\n",
    "## Funciones\n",
    "\n",
    "\n",
    "Una función es un bloque de código que puede ser invocado (llamado) desde otras partes del programa. Las funciones son útiles porque nos permiten encapsular un conjunto de instrucciones y ejecutarlas múltiples veces sin tener que escribir el mismo código de nuevo. Además, las funciones pueden aceptar parámetros, lo que significa que pueden recibir datos específicos que pueden ser utilizados dentro de la función. "
   ]
  },
  {
   "cell_type": "markdown",
   "metadata": {},
   "source": [
    "### Sintaxis Básica\n",
    "\n",
    "En Python, una función se define por medio de la keyword `def` seguido por el nombre y los parámetros que recibirá de entrada la función. \n",
    "\n",
    "\n",
    "```python\n",
    "def función_1(parámetro_1, parámetro_2): \n",
    "    acción\n",
    "    ...\n",
    "\n",
    "```\n"
   ]
  },
  {
   "attachments": {},
   "cell_type": "markdown",
   "metadata": {},
   "source": [
    "#### Return\n",
    "\n",
    "La keyword ```return``` permite que valores definidos dentro de la función puedan ser retornadas hacia el exterior.  Una función definida sin ```return``` entrega como resultado el tipo de datos ```None```.\n",
    "\n",
    "```python\n",
    "def función_2(param_1, param_2): \n",
    "    algoritmo\n",
    "    valor_objetivo = ...\n",
    "    ...\n",
    "    \n",
    "    return valor_objetivo\n",
    "\n",
    "```\n",
    "\n",
    "> **Nota 📝**: Parametro es el nombre de la variable dentro de la función. Argumento es el valor que le pasamos a el parámetro al momento de invocar la función. Se pueden usar indistintivamente.\n",
    "\n"
   ]
  },
  {
   "attachments": {},
   "cell_type": "markdown",
   "metadata": {},
   "source": [
    "#### Invocación \n",
    "\n",
    "Para invocar una función (*usarla*), se utiliza el nombre de la función junto a dos paréntesis que encierran los argumentos.\n",
    "\n",
    "```python\n",
    "def function(param_1:type, param_2:type)->type:\n",
    "    \"\"\"\n",
    "    Documentación de la función\n",
    "    args:\n",
    "        parámetro_1: descripción del parámetro\n",
    "        parámetro_2: descripción del parámetro\n",
    "    return:\n",
    "        descripción del valor de retorno\n",
    "    \"\"\"\n",
    "    algoritmo\n",
    "    valor_objetivo:type = ...\n",
    "    ...\n",
    "    \n",
    "    return valor_objetivo\n",
    "\n",
    "\n",
    "variable_1:int = 1\n",
    "variable_2:int = 2\n",
    "\n",
    "function(variable_1, variable_2)\n",
    "```\n",
    "\n",
    "\n",
    "Ya hemos estudiado funciones básicas de Python, como lo son `print()`, `type()` o `isinstance()`.\n"
   ]
  },
  {
   "attachments": {},
   "cell_type": "markdown",
   "metadata": {},
   "source": [
    "> **Ejemplo 📖**\n",
    "\n",
    "La función ```resta(a, b)``` que suma dos número esta definida por:"
   ]
  },
  {
   "cell_type": "code",
   "execution_count": 14,
   "metadata": {
    "ExecuteTime": {
     "end_time": "2021-03-24T19:33:30.473840Z",
     "start_time": "2021-03-24T19:33:30.452812Z"
    }
   },
   "outputs": [],
   "source": [
    "#un numero negativo es int (?)\n",
    "def resta(a:int, b:int)->int:\n",
    "    \"\"\"\n",
    "    Esta función recibe dos numeros y devuelve la resta\n",
    "    \"\"\"\n",
    "    c = a - b\n",
    "    return c\n",
    "\n",
    "\n",
    "#def div(a:int, b:int) -> Union[int, float]:\n",
    "#    return a/b"
   ]
  },
  {
   "cell_type": "code",
   "execution_count": 15,
   "metadata": {
    "ExecuteTime": {
     "end_time": "2021-03-24T19:33:46.931701Z",
     "start_time": "2021-03-24T19:33:46.912703Z"
    },
    "scrolled": true
   },
   "outputs": [
    {
     "data": {
      "text/plain": [
       "-190"
      ]
     },
     "execution_count": 15,
     "metadata": {},
     "output_type": "execute_result"
    }
   ],
   "source": [
    "resta(10, 200)"
   ]
  },
  {
   "cell_type": "markdown",
   "metadata": {},
   "source": [
    "> **Pregunta ❓:** ¿Qué sucede con la variable `c` definida dentro de la función?"
   ]
  },
  {
   "cell_type": "code",
   "execution_count": 16,
   "metadata": {
    "ExecuteTime": {
     "end_time": "2021-03-24T19:35:09.838952Z",
     "start_time": "2021-03-24T19:35:09.828938Z"
    }
   },
   "outputs": [
    {
     "ename": "NameError",
     "evalue": "name 'c' is not defined",
     "output_type": "error",
     "traceback": [
      "\u001b[1;31m---------------------------------------------------------------------------\u001b[0m",
      "\u001b[1;31mNameError\u001b[0m                                 Traceback (most recent call last)",
      "Cell \u001b[1;32mIn[16], line 1\u001b[0m\n\u001b[1;32m----> 1\u001b[0m c\n",
      "\u001b[1;31mNameError\u001b[0m: name 'c' is not defined"
     ]
    }
   ],
   "source": [
    "c"
   ]
  },
  {
   "cell_type": "markdown",
   "metadata": {},
   "source": [
    "### Elementos extra de la sintáxis de funciones\n",
    "\n",
    "#### Parámetros nombrados"
   ]
  },
  {
   "cell_type": "markdown",
   "metadata": {},
   "source": [
    "Las funciones de python tambíen aceptan parámetros nombrados. Es decir, al invocar la función indicarle especificamente el valor de cada parámetro por su nombre."
   ]
  },
  {
   "cell_type": "code",
   "execution_count": 18,
   "metadata": {},
   "outputs": [],
   "source": [
    "def sumar(a:int,b:int) -> int:\n",
    "    \"\"\"\n",
    "    Esta función recibe dos numeros y devuelve la suma\n",
    "    params:\n",
    "        a:  primer numero \n",
    "        b:  segundo numero\n",
    "    return: \n",
    "        int: resultado de la suma \n",
    "    \"\"\"\n",
    "    c = a + b\n",
    "    return c"
   ]
  },
  {
   "cell_type": "code",
   "execution_count": 19,
   "metadata": {
    "ExecuteTime": {
     "end_time": "2021-03-24T19:36:06.139377Z",
     "start_time": "2021-03-24T19:36:06.120379Z"
    }
   },
   "outputs": [
    {
     "data": {
      "text/plain": [
       "30"
      ]
     },
     "execution_count": 19,
     "metadata": {},
     "output_type": "execute_result"
    }
   ],
   "source": [
    "sumar(a=10, b=20)"
   ]
  },
  {
   "cell_type": "code",
   "execution_count": 20,
   "metadata": {
    "ExecuteTime": {
     "end_time": "2021-03-24T19:36:19.661112Z",
     "start_time": "2021-03-24T19:36:19.643112Z"
    }
   },
   "outputs": [
    {
     "data": {
      "text/plain": [
       "60"
      ]
     },
     "execution_count": 20,
     "metadata": {},
     "output_type": "execute_result"
    }
   ],
   "source": [
    "sumar(b=40, a=20)"
   ]
  },
  {
   "cell_type": "markdown",
   "metadata": {},
   "source": [
    "> **Pregunta ❓**: ¿Puede tener 0 parámetros una función?¿Y pueden tener n?"
   ]
  },
  {
   "attachments": {},
   "cell_type": "markdown",
   "metadata": {},
   "source": [
    "#### Sin parámetros\n",
    "\n",
    "* Una función puede ser ejecutada sin necesidad de tener parámetros. \n",
    "* En este caso la función siempre debería hacer la misma acción."
   ]
  },
  {
   "cell_type": "code",
   "execution_count": 23,
   "metadata": {
    "ExecuteTime": {
     "end_time": "2021-03-24T19:37:26.217558Z",
     "start_time": "2021-03-24T19:37:26.198563Z"
    }
   },
   "outputs": [
    {
     "name": "stdout",
     "output_type": "stream",
     "text": [
      "Hola Mundo 😊\n"
     ]
    }
   ],
   "source": [
    "def print_hola_mundo()->None:\n",
    "    \"\"\"\n",
    "    Esta función imprime el mensaje 'Hola Mundo'\n",
    "    \"\"\"\n",
    "    print('Hola Mundo 😊')\n",
    "\n",
    "print_hola_mundo()"
   ]
  },
  {
   "attachments": {},
   "cell_type": "markdown",
   "metadata": {},
   "source": [
    "#### Cantidad de parametros no definidos\n",
    "\n",
    "Una función puede tomar n parámetros no previamente definidos. \n",
    "Esto lo logra a través del parámetro `*args`, el cuál actua como una tupla:"
   ]
  },
  {
   "cell_type": "code",
   "execution_count": 25,
   "metadata": {
    "ExecuteTime": {
     "end_time": "2021-03-24T19:40:13.564653Z",
     "start_time": "2021-03-24T19:40:13.555653Z"
    }
   },
   "outputs": [
    {
     "name": "stdout",
     "output_type": "stream",
     "text": [
      "Los parámetros entregados son: <class 'tuple'>\n"
     ]
    }
   ],
   "source": [
    "def funcion_n_parametros(*args)->None:\n",
    "    \"\"\"\n",
    "    Esta función recibe un número indeterminado de parámetros\n",
    "    params:\n",
    "        args: lista de números\n",
    "    return:\n",
    "        Mensaje con los parámetros entregados\n",
    "    \"\"\"\n",
    "    # args= parámetros sin nombre\n",
    "    print('Los parámetros entregados son:', args)\n",
    "\n",
    "funcion_n_parametros(1, 2, 3, 4, 5, 6, 7, 8, 9, 10, 11, 12)"
   ]
  },
  {
   "cell_type": "markdown",
   "metadata": {},
   "source": [
    "¿Cuál es la utilidad de esto?"
   ]
  },
  {
   "cell_type": "code",
   "execution_count": null,
   "metadata": {},
   "outputs": [],
   "source": [
    "#variable que tengo \n",
    "#variable que necesito \n",
    "#¿como con las variable que tengo obtengo el resultado que necesito? -> algoritmo"
   ]
  },
  {
   "cell_type": "code",
   "execution_count": 38,
   "metadata": {},
   "outputs": [],
   "source": [
    "def suma_n(*args)->int: \n",
    "    \"\"\"\n",
    "    Esta función recibe un número indeterminado de parámetros\n",
    "    y devuelve la suma de todos ellos\n",
    "    params:\n",
    "        args: lista de números\n",
    "    return:\n",
    "        int: suma de los números\n",
    "    \"\"\"\n",
    "    acum = 0\n",
    "    for i in args:\n",
    "        acum += i\n",
    "        \n",
    "    return acum\n",
    "\n",
    "resultado=suma_n(1, 2, 3, 4)\n",
    "resultado"
   ]
  },
  {
   "cell_type": "code",
   "execution_count": 54,
   "metadata": {},
   "outputs": [
    {
     "data": {
      "text/plain": [
       "10"
      ]
     },
     "execution_count": 54,
     "metadata": {},
     "output_type": "execute_result"
    }
   ],
   "source": [
    "#def suma_n(lista_de_numeros:List[Union[int, float]]):\n",
    "def suma_n(*args):\n",
    "    \"\"\"\n",
    "    Esta función recibe un número indeterminado de parámetros\n",
    "    y devuelve la suma de todos ellos\n",
    "    params:\n",
    "        lista_de_numeros: lista de números\n",
    "    return:\n",
    "        int: suma de los números\n",
    "    \"\"\"\n",
    "    acum = 0\n",
    "    for i in args:\n",
    "        acum += i\n",
    "    return acum\n",
    "\n",
    "resultado=suma_n(1, 2, 3, 4)\n",
    "resultado"
   ]
  },
  {
   "cell_type": "markdown",
   "metadata": {},
   "source": [
    "#### N Parámetros nombrados\n",
    "\n",
    "Las funciones también pueden tomar n parámetros nombrados a través de `**kwargs`, el cúal se comporta como un diccionario."
   ]
  },
  {
   "cell_type": "code",
   "execution_count": 67,
   "metadata": {},
   "outputs": [
    {
     "name": "stdout",
     "output_type": "stream",
     "text": [
      "La suma de los parámetros es: 6\n",
      "{'is_sum': True, 'parametro_nombrado_2': False, 'parametro_nombrado_': False, 'parametro_4': False}\n"
     ]
    }
   ],
   "source": [
    "def funcion_n_parametros_nombrados(*args, **kwargs): \n",
    "    \"\"\"\n",
    "    Esta función recibe un número indeterminado de parámetros\n",
    "    params:\n",
    "        args: lista de números\n",
    "        kwargs: diccionario de parámetros nombrados\n",
    "    return:\n",
    "        Mensaje con los parámetros entregados\n",
    "    \"\"\"\n",
    "    is_sum = kwargs.get('is_sum', False)\n",
    "    if is_sum:\n",
    "        print('La suma de los parámetros es:', suma_n(*args))\n",
    "    print(kwargs)\n",
    "    \n",
    "argumentos = {'is_sum':True, 'parametro_nombrado_2': False, 'parametro_nombrado_': False}\n",
    "\n",
    "funcion_n_parametros_nombrados(*(1,2,3),**argumentos,parametro_4=False )"
   ]
  },
  {
   "cell_type": "code",
   "execution_count": null,
   "metadata": {},
   "outputs": [],
   "source": [
    "def function(a,*b,**c):\n",
    "    print(a)\n",
    "    print(b)\n",
    "    print(c)\n",
    "\n",
    "function('pepe',1,2,5,8,primer_numero=9,nombre='joaquin',primero='cualquier cosa',segundo='otra cosa') "
   ]
  },
  {
   "cell_type": "markdown",
   "metadata": {},
   "source": [
    "#### Valores por defecto"
   ]
  },
  {
   "attachments": {},
   "cell_type": "markdown",
   "metadata": {},
   "source": [
    "Los parámetros también pueden tener valores por defecto. En este caso, si no se especifica un valor para el parámetro, se tomará el valor por defecto.  Esto se logra a través de la siguiente sintaxis:\n",
    "\n",
    "```python\n",
    "def función_3(param_1:type, param_2:type = valor_por_defecto)->type:\n",
    "    ...\n",
    "```\n",
    " \n",
    "> **Nota 📝:** Los parámetros con valores por defecto deben ser declarados a la derecha de todos aquellos parámetros sin valores predefinidos. \n"
   ]
  },
  {
   "cell_type": "code",
   "execution_count": 84,
   "metadata": {
    "ExecuteTime": {
     "end_time": "2021-03-24T19:42:01.164527Z",
     "start_time": "2021-03-24T19:42:01.146528Z"
    }
   },
   "outputs": [],
   "source": [
    "def sumar_with_flag(a:int, b:int=2, flag:bool=False):\n",
    "    \"\"\"\n",
    "    Esta función recibe dos numeros y devuelve la suma\n",
    "    params:\n",
    "        a:  primer numero \n",
    "        b:  segundo numero\n",
    "        flag:  bandera\n",
    "    return:\n",
    "        int\n",
    "    \"\"\"\n",
    "    if flag == True:\n",
    "        print('Cuidado')\n",
    "\n",
    "    c = a + b\n",
    "    print(f'a : {a} , b : {b} , c : {c} , flag : {flag}')\n",
    "    return c\n"
   ]
  },
  {
   "cell_type": "code",
   "execution_count": 76,
   "metadata": {
    "ExecuteTime": {
     "end_time": "2021-03-24T19:41:06.740132Z",
     "start_time": "2021-03-24T19:41:06.729133Z"
    }
   },
   "outputs": [
    {
     "name": "stdout",
     "output_type": "stream",
     "text": [
      "a : 10 , b : 2 , c : 12 , flag : False\n"
     ]
    },
    {
     "data": {
      "text/plain": [
       "12"
      ]
     },
     "execution_count": 76,
     "metadata": {},
     "output_type": "execute_result"
    }
   ],
   "source": [
    "sumar_with_flag(10)"
   ]
  },
  {
   "cell_type": "code",
   "execution_count": 77,
   "metadata": {
    "ExecuteTime": {
     "end_time": "2021-03-24T19:41:13.816210Z",
     "start_time": "2021-03-24T19:41:13.803213Z"
    },
    "scrolled": true
   },
   "outputs": [
    {
     "name": "stdout",
     "output_type": "stream",
     "text": [
      "a : 10 , b : 2000 , c : 2010 , flag : False\n"
     ]
    },
    {
     "data": {
      "text/plain": [
       "2010"
      ]
     },
     "execution_count": 77,
     "metadata": {},
     "output_type": "execute_result"
    }
   ],
   "source": [
    "sumar_with_flag(10, b=2000)"
   ]
  },
  {
   "cell_type": "code",
   "execution_count": 83,
   "metadata": {
    "ExecuteTime": {
     "end_time": "2021-03-24T19:41:29.891166Z",
     "start_time": "2021-03-24T19:41:29.882167Z"
    }
   },
   "outputs": [
    {
     "name": "stdout",
     "output_type": "stream",
     "text": [
      "Cuidado\n"
     ]
    }
   ],
   "source": [
    "sumar_with_flag(10, flag=True)"
   ]
  },
  {
   "cell_type": "markdown",
   "metadata": {},
   "source": [
    "#### Retornar múltiples valores"
   ]
  },
  {
   "cell_type": "markdown",
   "metadata": {},
   "source": [
    "También se pueden retornar múltiples valores"
   ]
  },
  {
   "cell_type": "code",
   "execution_count": 121,
   "metadata": {
    "ExecuteTime": {
     "end_time": "2021-03-24T19:42:52.488689Z",
     "start_time": "2021-03-24T19:42:52.470551Z"
    }
   },
   "outputs": [],
   "source": [
    "def summary_operations(a, b):\n",
    "    \"\"\"\n",
    "    Esta función recibe dos numeros y devuelve la suma, resta, multiplicación y división\n",
    "    params:\n",
    "        a:  primer numero \n",
    "        b:  segundo numero\n",
    "    return:\n",
    "        suma, resta, multiplicación y división de los números recibidos\n",
    "    \"\"\"\n",
    "    \n",
    "    suma = a+b\n",
    "    resta = a-b\n",
    "    mult = a*b\n",
    "    div = a/b\n",
    "\n",
    "    return suma, resta, mult, div"
   ]
  },
  {
   "cell_type": "markdown",
   "metadata": {},
   "source": [
    "> **Pregunta ❓**: ¿Qué retorno cuando hay varias variables en el return?"
   ]
  },
  {
   "cell_type": "code",
   "execution_count": 115,
   "metadata": {},
   "outputs": [],
   "source": [
    "summary_operations(5,2)"
   ]
  },
  {
   "cell_type": "code",
   "execution_count": 99,
   "metadata": {},
   "outputs": [
    {
     "data": {
      "text/plain": [
       "(7, 3, 10, 2.5)"
      ]
     },
     "execution_count": 99,
     "metadata": {},
     "output_type": "execute_result"
    }
   ],
   "source": [
    "operaciones = summary_operations(5,2)\n",
    "suma=operaciones[0]\n",
    "resta=operaciones[1]\n",
    "mult=operaciones[2]\n",
    "div =operaciones[3]\n",
    "suma, resta, mult, div"
   ]
  },
  {
   "cell_type": "code",
   "execution_count": 128,
   "metadata": {},
   "outputs": [],
   "source": [
    "#suma, resta, mult, div = summary_operations(5,2)\n",
    "#suma, resta, _ , div = summary_operations(5,2)\n",
    "#suma,  *resto_de_valores, div = summary_operations(5,2)\n"
   ]
  },
  {
   "cell_type": "code",
   "execution_count": null,
   "metadata": {},
   "outputs": [],
   "source": [
    "mult"
   ]
  },
  {
   "cell_type": "code",
   "execution_count": null,
   "metadata": {},
   "outputs": [],
   "source": [
    "div"
   ]
  },
  {
   "cell_type": "code",
   "execution_count": null,
   "metadata": {
    "ExecuteTime": {
     "end_time": "2021-03-24T19:43:30.351313Z",
     "start_time": "2021-03-24T19:43:30.339306Z"
    },
    "scrolled": true
   },
   "outputs": [],
   "source": [
    "type(summary_operations(5,2))"
   ]
  },
  {
   "attachments": {},
   "cell_type": "markdown",
   "metadata": {},
   "source": [
    "----\n",
    "\n",
    "##  Scopes \n",
    "\n",
    "Cada función tiene su propio espacio para las variables, conocido como \"**_namespace_**\". Esto significa que cada función tiene su propio conjunto de variables que no están relacionadas con las variables que se encuentran fuera de la función. \n",
    "\n",
    "Esto establece el concepto de \"**_scope_**\", que se refiere a un área delimitada en la que un conjunto específico de variables es visible y puede ser utilizado. \n",
    "\n",
    "Una consecuencia de esta delimitación es que las variables definidas dentro de un alcance en particular no pueden interactuar con las que se encuentran fuera de ese ámbito.\n",
    "\n",
    "El **_scope_** de una variable es importante porque determina dónde se puede utilizar, por ejemplo:\n",
    "\n",
    "*  si una variable se define dentro de una función, solo puede ser utilizada dentro de esa función. Si se intenta utilizar esa variable fuera de la función, se produce un error. \n",
    "\n",
    "* si una variable se define en el ámbito global (es decir, fuera de cualquier función), entonces puede ser utilizada en cualquier parte del programa.\n",
    "\n",
    "Es importante tener en cuenta que las variables globales pueden ser modificadas por cualquier función, lo que puede llevar a problemas de programación si no se maneja adecuadamente.\n"
   ]
  },
  {
   "cell_type": "markdown",
   "metadata": {},
   "source": [
    "\n",
    "En `Python` se pueden diferenciar 3 tipos de scopes:\n",
    "\n",
    "1. **Global**: variables (u objetos si se desea) definidas en el cuerpo del código.\n",
    "2. **Local**: variables definidas dentro de una función.\n",
    "3. **Built-in**: variables predefinidas por el modulo built-in's (como ```print()``` por ejemplo.)\n"
   ]
  },
  {
   "cell_type": "code",
   "execution_count": 4,
   "metadata": {
    "ExecuteTime": {
     "end_time": "2021-03-24T19:45:21.182553Z",
     "start_time": "2021-03-24T19:45:21.172556Z"
    }
   },
   "outputs": [
    {
     "data": {
      "text/plain": [
       "25"
      ]
     },
     "execution_count": 4,
     "metadata": {},
     "output_type": "execute_result"
    }
   ],
   "source": [
    "def sumar(a:int, b:int) -> int:\n",
    "    \"\"\"\n",
    "    Esta función recibe dos numeros y devuelve la suma\n",
    "    params:\n",
    "        a:  primer numero \n",
    "        b:  segundo numero\n",
    "    return: \n",
    "        int\n",
    "    \"\"\"\n",
    "     \n",
    "    c = a + b\n",
    "    return c\n",
    "\n",
    "sumar(10, 15)"
   ]
  },
  {
   "cell_type": "markdown",
   "metadata": {},
   "source": [
    "Notemos que si intentamos inspeccionar `c`, nos el intérprete nos va a indicar que no está definida: "
   ]
  },
  {
   "cell_type": "code",
   "execution_count": null,
   "metadata": {
    "ExecuteTime": {
     "end_time": "2021-03-24T19:45:44.129517Z",
     "start_time": "2021-03-24T19:45:44.114528Z"
    }
   },
   "outputs": [],
   "source": [
    "c"
   ]
  },
  {
   "cell_type": "markdown",
   "metadata": {},
   "source": [
    "Esto es porque `c` se definió dentro del scope de la función `suma` y no sobre el scope global."
   ]
  },
  {
   "cell_type": "markdown",
   "metadata": {},
   "source": [
    "> **Pregunta ❓**: ¿Qué sucederá en la siguiente celda?"
   ]
  },
  {
   "cell_type": "code",
   "execution_count": null,
   "metadata": {
    "ExecuteTime": {
     "end_time": "2021-03-24T19:47:02.624894Z",
     "start_time": "2021-03-24T19:47:02.608922Z"
    },
    "scrolled": true
   },
   "outputs": [],
   "source": [
    "n = 5\n",
    "\n",
    "def suma_n(a):\n",
    "    n = 10\n",
    "    c = a + n\n",
    "    return c\n",
    "\n",
    "suma_n(10)"
   ]
  },
  {
   "cell_type": "code",
   "execution_count": null,
   "metadata": {
    "ExecuteTime": {
     "end_time": "2021-03-24T19:47:06.006789Z",
     "start_time": "2021-03-24T19:47:05.996789Z"
    },
    "scrolled": true
   },
   "outputs": [],
   "source": [
    "n"
   ]
  },
  {
   "cell_type": "markdown",
   "metadata": {},
   "source": [
    "En este caso, la instrucción `n = 10` hace que `n` se modifique en el scope local de la función `suma_n`, pero esto no modifica el valor de `n` en el scope global (el de afuera).\n"
   ]
  },
  {
   "cell_type": "markdown",
   "metadata": {
    "ExecuteTime": {
     "end_time": "2021-03-24T14:20:27.993890Z",
     "start_time": "2021-03-24T14:20:27.978885Z"
    }
   },
   "source": [
    "#### Locals\n",
    "\n",
    "Pueden ver que variables hay en el scope local usando la función `locals()`"
   ]
  },
  {
   "cell_type": "code",
   "execution_count": 11,
   "metadata": {
    "ExecuteTime": {
     "end_time": "2021-03-24T19:49:16.727056Z",
     "start_time": "2021-03-24T19:49:16.723056Z"
    }
   },
   "outputs": [],
   "source": [
    "n = 5\n",
    "\n",
    "def suma_n(a):\n",
    "    n = 10\n",
    "    c = a + n\n",
    "    print(f'Las variables locales de la función son {locals()}')\n",
    "    return c"
   ]
  },
  {
   "cell_type": "code",
   "execution_count": 14,
   "metadata": {
    "ExecuteTime": {
     "end_time": "2021-03-24T19:49:18.524853Z",
     "start_time": "2021-03-24T19:49:18.514853Z"
    }
   },
   "outputs": [
    {
     "name": "stdout",
     "output_type": "stream",
     "text": [
      "Las variables locales de la función son {'a': 10, 'n': 10, 'c': 20}\n"
     ]
    },
    {
     "data": {
      "text/plain": [
       "20"
      ]
     },
     "execution_count": 14,
     "metadata": {},
     "output_type": "execute_result"
    }
   ],
   "source": [
    "suma_n(10)"
   ]
  },
  {
   "cell_type": "markdown",
   "metadata": {},
   "source": [
    "> **Ejercicio 💻**\n",
    "\n",
    "También existe la posibilidad de que, dentro de una función, se modifique el valor de una variable en el scope global. Para esto, consulte la keyword `global` y programe una función que haga lo descrito anteriormente. "
   ]
  },
  {
   "attachments": {},
   "cell_type": "markdown",
   "metadata": {},
   "source": [
    "---\n",
    "\n",
    "## Unit Testing\n",
    "\n",
    "\n",
    "El *unit testing* o pruebas unitarias es un método para comprobar el correcto funcionamiento de un segmento de código o función.\n",
    "La idea es crear casos de prueba en donde establecemos valores correctos que deberían retornar la funcion y luego comprobar que la función efectivamente los retorne. \n",
    "\n",
    "Para esto, los test que creemos deben ser determinísticos (no aleatorios) y repetibles. \n",
    "\n",
    "\n",
    "Python provee la *keyword* `assert` la cual verifica el valor de una condición: \n",
    "\n",
    "- Si es `True` continua la ejecución. \n",
    "- Si es `False`, lanza la excepción `AssertionError` y detiene la ejecución.\n",
    "\n",
    "> **Ejemplo 📖**\n"
   ]
  },
  {
   "cell_type": "code",
   "execution_count": 15,
   "metadata": {
    "ExecuteTime": {
     "end_time": "2021-03-24T19:52:21.820347Z",
     "start_time": "2021-03-24T19:52:21.802304Z"
    }
   },
   "outputs": [],
   "source": [
    "def suma(a, b):\n",
    "    return a + b"
   ]
  },
  {
   "cell_type": "code",
   "execution_count": 17,
   "metadata": {},
   "outputs": [],
   "source": [
    "assert 5 == suma(2,3)"
   ]
  },
  {
   "cell_type": "code",
   "execution_count": 18,
   "metadata": {
    "ExecuteTime": {
     "end_time": "2021-03-24T19:53:28.730146Z",
     "start_time": "2021-03-24T19:53:28.721136Z"
    }
   },
   "outputs": [],
   "source": [
    "# La idea es hacer varios casos de prueba unitarios.\n",
    "assert 5 == suma(2,3)\n",
    "assert suma(2, -3) == -1\n",
    "assert suma(99999,1) == 100000\n",
    "assert suma(3,3) != 5\n",
    "assert isinstance(suma(3,3.0), float)"
   ]
  },
  {
   "cell_type": "markdown",
   "metadata": {
    "ExecuteTime": {
     "end_time": "2021-03-24T15:34:18.662574Z",
     "start_time": "2021-03-24T15:34:18.647544Z"
    }
   },
   "source": [
    "### Comprobación de errores al modificar el código\n",
    "\n",
    "Si por ejemplo, ahora modifico erroneamente la función suma y y en vez de sumar, multiplico `a` por `b`, el test los test que había programado de antemano deberían fallar."
   ]
  },
  {
   "cell_type": "code",
   "execution_count": 20,
   "metadata": {
    "ExecuteTime": {
     "end_time": "2021-03-24T19:53:49.277547Z",
     "start_time": "2021-03-24T19:53:49.249539Z"
    }
   },
   "outputs": [
    {
     "ename": "AssertionError",
     "evalue": "",
     "output_type": "error",
     "traceback": [
      "\u001b[1;31m---------------------------------------------------------------------------\u001b[0m",
      "\u001b[1;31mAssertionError\u001b[0m                            Traceback (most recent call last)",
      "Cell \u001b[1;32mIn[20], line 4\u001b[0m\n\u001b[0;32m      1\u001b[0m \u001b[39mdef\u001b[39;00m \u001b[39msuma\u001b[39m(a, b):\n\u001b[0;32m      2\u001b[0m     \u001b[39mreturn\u001b[39;00m a \u001b[39m*\u001b[39m b \n\u001b[1;32m----> 4\u001b[0m \u001b[39massert\u001b[39;00m suma(\u001b[39m2\u001b[39m,\u001b[39m-\u001b[39m\u001b[39m3\u001b[39m) \u001b[39m==\u001b[39m \u001b[39m-\u001b[39m\u001b[39m1\u001b[39m\n\u001b[0;32m      5\u001b[0m \u001b[39massert\u001b[39;00m suma(\u001b[39m99999\u001b[39m,\u001b[39m1\u001b[39m) \u001b[39m==\u001b[39m \u001b[39m100000\u001b[39m\n\u001b[0;32m      6\u001b[0m \u001b[39massert\u001b[39;00m suma(\u001b[39m3\u001b[39m,\u001b[39m3\u001b[39m) \u001b[39m!=\u001b[39m \u001b[39m5\u001b[39m\n",
      "\u001b[1;31mAssertionError\u001b[0m: "
     ]
    }
   ],
   "source": [
    "def suma(a, b):\n",
    "    return a * b \n",
    "\n",
    "assert suma(2,-3) == -1\n",
    "assert suma(99999,1) == 100000\n",
    "assert suma(3,3) != 5\n"
   ]
  },
  {
   "cell_type": "code",
   "execution_count": 21,
   "metadata": {
    "ExecuteTime": {
     "end_time": "2021-03-24T19:54:07.915018Z",
     "start_time": "2021-03-24T19:54:07.900019Z"
    },
    "scrolled": true
   },
   "outputs": [
    {
     "ename": "AssertionError",
     "evalue": "Error en suma en el test suma(3, 2)",
     "output_type": "error",
     "traceback": [
      "\u001b[1;31m---------------------------------------------------------------------------\u001b[0m",
      "\u001b[1;31mAssertionError\u001b[0m                            Traceback (most recent call last)",
      "Cell \u001b[1;32mIn[21], line 3\u001b[0m\n\u001b[0;32m      1\u001b[0m \u001b[39m# Le podemos indicar que nos entregue un mensaje de error\u001b[39;00m\n\u001b[1;32m----> 3\u001b[0m \u001b[39massert\u001b[39;00m suma(\u001b[39m3\u001b[39m,\u001b[39m2\u001b[39m) \u001b[39m==\u001b[39m \u001b[39m5\u001b[39m, \u001b[39m'\u001b[39m\u001b[39mError en suma en el test suma(3, 2)\u001b[39m\u001b[39m'\u001b[39m\n",
      "\u001b[1;31mAssertionError\u001b[0m: Error en suma en el test suma(3, 2)"
     ]
    }
   ],
   "source": [
    "# Le podemos indicar que nos entregue un mensaje de error\n",
    "\n",
    "assert suma(3,2) == 5, 'Error en suma en el test suma(3, 2)'"
   ]
  },
  {
   "attachments": {},
   "cell_type": "markdown",
   "metadata": {
    "ExecuteTime": {
     "end_time": "2021-03-24T15:35:22.876002Z",
     "start_time": "2021-03-24T15:35:22.855969Z"
    }
   },
   "source": [
    "> Nota interesante 📝:\n",
    "\n",
    "    \"Program testing can be used to show the presence of bugs, but never to show their absence!\"\n",
    "    \n",
    "                                                                         —Edsger Dijkstra, 1970\n",
    "\n",
    "spanish: \n",
    "    \"¡La prueba de programas puede ser usada para mostrar la presencia de errores, pero nunca para mostrar su ausencia!\"\n",
    "    \n",
    "                                                                         —Edsger Dijkstra, 1970"
   ]
  },
  {
   "cell_type": "markdown",
   "metadata": {},
   "source": [
    "### Paréntesis: TDD y pruebas unitarias\n",
    "\n",
    "El test driven development (TDD) o desarrollo guiado por pruebas implica desarrollar las pruebas unitarias a las que se va a someter el software antes de escribirlo.\n",
    "De esta manera, el desarrollo se realiza atendiendo a los requisitos que se han establecido en la prueba que deberá pasar.\n",
    "\n",
    "(Fuente: https://www.yeeply.com/blog/que-son-pruebas-unitarias/)"
   ]
  },
  {
   "cell_type": "markdown",
   "metadata": {},
   "source": [
    "> **Ejercicio 💻**\n",
    "\n",
    "Programe la función `promedio(lista)` que calcule el promedio de una lista y luego haga una serie de test unitarios que comprueben su funcionamiento. \n",
    "¿Qué pasa cuando el promedio es float?\n"
   ]
  },
  {
   "cell_type": "code",
   "execution_count": null,
   "metadata": {
    "ExecuteTime": {
     "end_time": "2021-03-24T19:20:37.332510Z",
     "start_time": "2021-03-24T19:20:37.172Z"
    }
   },
   "outputs": [],
   "source": [
    "def promedio(lista):\n",
    "    pass"
   ]
  },
  {
   "cell_type": "markdown",
   "metadata": {},
   "source": [
    "---\n",
    "\n",
    "## Parte 4: Programación Funcional con Map, Filter y Reduce\n",
    "\n",
    "<br>\n",
    "<br>\n",
    "\n",
    "<div align='center'>\n",
    "<img alt=\"Map, filter y reduce\" src=\"./resources/map_filter_reduce.jpeg\" width=600/>\n",
    "</div>\n",
    "<br>\n",
    "\n",
    "<div align='center'>Fuente: <a href='https://towardsdatascience.com/accelerate-your-python-list-handling-with-map-filter-and-reduce-d70941b19e52'>Map, Filter And Reduce In Pure Python</a><div/>\n"
   ]
  },
  {
   "cell_type": "markdown",
   "metadata": {},
   "source": [
    "En ciencia de datos, la utilidad de las funciones ```lambda``` generalmente se asocia a las operaciones ```map()```, ```filter()``` y ```reduce()``` usando usando el modulo functools). Estás operaciones se denotan como **funciones de orden superior** pues reciben otra función como argumento. "
   ]
  },
  {
   "cell_type": "markdown",
   "metadata": {},
   "source": [
    "### Map\n",
    "\n",
    "```map()``` permite aplicar la función objetivo sobre un contenedor (como una lista) elemento por elemento, el resultado es un objeto tipo ```map``` que entre sus características es un iterable.\n"
   ]
  },
  {
   "cell_type": "code",
   "execution_count": 11,
   "metadata": {
    "ExecuteTime": {
     "end_time": "2021-03-25T12:09:31.264131Z",
     "start_time": "2021-03-25T12:09:31.243101Z"
    },
    "scrolled": true
   },
   "outputs": [
    {
     "data": {
      "text/plain": [
       "[1,\n",
       " 4,\n",
       " 9,\n",
       " 16,\n",
       " 25,\n",
       " 36,\n",
       " 1,\n",
       " 4,\n",
       " 9,\n",
       " 16,\n",
       " 25,\n",
       " 36,\n",
       " 1,\n",
       " 4,\n",
       " 9,\n",
       " 16,\n",
       " 25,\n",
       " 36,\n",
       " 1,\n",
       " 4,\n",
       " 9,\n",
       " 16,\n",
       " 25,\n",
       " 36,\n",
       " 1,\n",
       " 4,\n",
       " 9,\n",
       " 16,\n",
       " 25,\n",
       " 36,\n",
       " 1,\n",
       " 4,\n",
       " 9,\n",
       " 16,\n",
       " 25,\n",
       " 36,\n",
       " 1,\n",
       " 4,\n",
       " 9,\n",
       " 16,\n",
       " 25,\n",
       " 36,\n",
       " 1,\n",
       " 4,\n",
       " 9,\n",
       " 16,\n",
       " 25,\n",
       " 36,\n",
       " 1,\n",
       " 4,\n",
       " 9,\n",
       " 16,\n",
       " 25,\n",
       " 36,\n",
       " 1,\n",
       " 4,\n",
       " 9,\n",
       " 16,\n",
       " 25,\n",
       " 36,\n",
       " 1,\n",
       " 4,\n",
       " 9,\n",
       " 16,\n",
       " 25,\n",
       " 36,\n",
       " 1,\n",
       " 4,\n",
       " 9,\n",
       " 16,\n",
       " 25,\n",
       " 36,\n",
       " 1,\n",
       " 4,\n",
       " 9,\n",
       " 16,\n",
       " 25,\n",
       " 36,\n",
       " 1,\n",
       " 4,\n",
       " 9,\n",
       " 16,\n",
       " 25,\n",
       " 36,\n",
       " 1,\n",
       " 4,\n",
       " 9,\n",
       " 16,\n",
       " 25,\n",
       " 36,\n",
       " 1,\n",
       " 4,\n",
       " 9,\n",
       " 16,\n",
       " 25,\n",
       " 36,\n",
       " 1,\n",
       " 4,\n",
       " 9,\n",
       " 16,\n",
       " 25,\n",
       " 36,\n",
       " 1,\n",
       " 4,\n",
       " 9,\n",
       " 16,\n",
       " 25,\n",
       " 36,\n",
       " 1,\n",
       " 4,\n",
       " 9,\n",
       " 16,\n",
       " 25,\n",
       " 36,\n",
       " 1,\n",
       " 4,\n",
       " 9,\n",
       " 16,\n",
       " 25,\n",
       " 36,\n",
       " 1,\n",
       " 4,\n",
       " 9,\n",
       " 16,\n",
       " 25,\n",
       " 36,\n",
       " 1,\n",
       " 4,\n",
       " 9,\n",
       " 16,\n",
       " 25,\n",
       " 36,\n",
       " 1,\n",
       " 4,\n",
       " 9,\n",
       " 16,\n",
       " 25,\n",
       " 36,\n",
       " 1,\n",
       " 4,\n",
       " 9,\n",
       " 16,\n",
       " 25,\n",
       " 36,\n",
       " 1,\n",
       " 4,\n",
       " 9,\n",
       " 16,\n",
       " 25,\n",
       " 36,\n",
       " 1,\n",
       " 4,\n",
       " 9,\n",
       " 16,\n",
       " 25,\n",
       " 36,\n",
       " 1,\n",
       " 4,\n",
       " 9,\n",
       " 16,\n",
       " 25,\n",
       " 36,\n",
       " 1,\n",
       " 4,\n",
       " 9,\n",
       " 16,\n",
       " 25,\n",
       " 36,\n",
       " 1,\n",
       " 4,\n",
       " 9,\n",
       " 16,\n",
       " 25,\n",
       " 36,\n",
       " 1,\n",
       " 4,\n",
       " 9,\n",
       " 16,\n",
       " 25,\n",
       " 36,\n",
       " 1,\n",
       " 4,\n",
       " 9,\n",
       " 16,\n",
       " 25,\n",
       " 36,\n",
       " 1,\n",
       " 4,\n",
       " 9,\n",
       " 16,\n",
       " 25,\n",
       " 36,\n",
       " 1,\n",
       " 4,\n",
       " 9,\n",
       " 16,\n",
       " 25,\n",
       " 36,\n",
       " 1,\n",
       " 4,\n",
       " 9,\n",
       " 16,\n",
       " 25,\n",
       " 36,\n",
       " 1,\n",
       " 4,\n",
       " 9,\n",
       " 16,\n",
       " 25,\n",
       " 36,\n",
       " 1,\n",
       " 4,\n",
       " 9,\n",
       " 16,\n",
       " 25,\n",
       " 36,\n",
       " 1,\n",
       " 4,\n",
       " 9,\n",
       " 16,\n",
       " 25,\n",
       " 36,\n",
       " 1,\n",
       " 4,\n",
       " 9,\n",
       " 16,\n",
       " 25,\n",
       " 36,\n",
       " 1,\n",
       " 4,\n",
       " 9,\n",
       " 16,\n",
       " 25,\n",
       " 36,\n",
       " 1,\n",
       " 4,\n",
       " 9,\n",
       " 16,\n",
       " 25,\n",
       " 36,\n",
       " 1,\n",
       " 4,\n",
       " 9,\n",
       " 16,\n",
       " 25,\n",
       " 36,\n",
       " 1,\n",
       " 4,\n",
       " 9,\n",
       " 16,\n",
       " 25,\n",
       " 36,\n",
       " 1,\n",
       " 4,\n",
       " 9,\n",
       " 16,\n",
       " 25,\n",
       " 36,\n",
       " 1,\n",
       " 4,\n",
       " 9,\n",
       " 16,\n",
       " 25,\n",
       " 36,\n",
       " 1,\n",
       " 4,\n",
       " 9,\n",
       " 16,\n",
       " 25,\n",
       " 36,\n",
       " 1,\n",
       " 4,\n",
       " 9,\n",
       " 16,\n",
       " 25,\n",
       " 36,\n",
       " 1,\n",
       " 4,\n",
       " 9,\n",
       " 16,\n",
       " 25,\n",
       " 36,\n",
       " 1,\n",
       " 4,\n",
       " 9,\n",
       " 16,\n",
       " 25,\n",
       " 36,\n",
       " 1,\n",
       " 4,\n",
       " 9,\n",
       " 16,\n",
       " 25,\n",
       " 36,\n",
       " 1,\n",
       " 4,\n",
       " 9,\n",
       " 16,\n",
       " 25,\n",
       " 36,\n",
       " 1,\n",
       " 4,\n",
       " 9,\n",
       " 16,\n",
       " 25,\n",
       " 36,\n",
       " 1,\n",
       " 4,\n",
       " 9,\n",
       " 16,\n",
       " 25,\n",
       " 36,\n",
       " 1,\n",
       " 4,\n",
       " 9,\n",
       " 16,\n",
       " 25,\n",
       " 36,\n",
       " 1,\n",
       " 4,\n",
       " 9,\n",
       " 16,\n",
       " 25,\n",
       " 36,\n",
       " 1,\n",
       " 4,\n",
       " 9,\n",
       " 16,\n",
       " 25,\n",
       " 36,\n",
       " 1,\n",
       " 4,\n",
       " 9,\n",
       " 16,\n",
       " 25,\n",
       " 36,\n",
       " 1,\n",
       " 4,\n",
       " 9,\n",
       " 16,\n",
       " 25,\n",
       " 36,\n",
       " 1,\n",
       " 4,\n",
       " 9,\n",
       " 16,\n",
       " 25,\n",
       " 36,\n",
       " 1,\n",
       " 4,\n",
       " 9,\n",
       " 16,\n",
       " 25,\n",
       " 36,\n",
       " 1,\n",
       " 4,\n",
       " 9,\n",
       " 16,\n",
       " 25,\n",
       " 36,\n",
       " 1,\n",
       " 4,\n",
       " 9,\n",
       " 16,\n",
       " 25,\n",
       " 36,\n",
       " 1,\n",
       " 4,\n",
       " 9,\n",
       " 16,\n",
       " 25,\n",
       " 36,\n",
       " 1,\n",
       " 4,\n",
       " 9,\n",
       " 16,\n",
       " 25,\n",
       " 36,\n",
       " 1,\n",
       " 4,\n",
       " 9,\n",
       " 16,\n",
       " 25,\n",
       " 36,\n",
       " 1,\n",
       " 4,\n",
       " 9,\n",
       " 16,\n",
       " 25,\n",
       " 36,\n",
       " 1,\n",
       " 4,\n",
       " 9,\n",
       " 16,\n",
       " 25,\n",
       " 36,\n",
       " 1,\n",
       " 4,\n",
       " 9,\n",
       " 16,\n",
       " 25,\n",
       " 36,\n",
       " 1,\n",
       " 4,\n",
       " 9,\n",
       " 16,\n",
       " 25,\n",
       " 36,\n",
       " 1,\n",
       " 4,\n",
       " 9,\n",
       " 16,\n",
       " 25,\n",
       " 36,\n",
       " 1,\n",
       " 4,\n",
       " 9,\n",
       " 16,\n",
       " 25,\n",
       " 36,\n",
       " 1,\n",
       " 4,\n",
       " 9,\n",
       " 16,\n",
       " 25,\n",
       " 36,\n",
       " 1,\n",
       " 4,\n",
       " 9,\n",
       " 16,\n",
       " 25,\n",
       " 36,\n",
       " 1,\n",
       " 4,\n",
       " 9,\n",
       " 16,\n",
       " 25,\n",
       " 36,\n",
       " 1,\n",
       " 4,\n",
       " 9,\n",
       " 16,\n",
       " 25,\n",
       " 36,\n",
       " 1,\n",
       " 4,\n",
       " 9,\n",
       " 16,\n",
       " 25,\n",
       " 36,\n",
       " 1,\n",
       " 4,\n",
       " 9,\n",
       " 16,\n",
       " 25,\n",
       " 36,\n",
       " 1,\n",
       " 4,\n",
       " 9,\n",
       " 16,\n",
       " 25,\n",
       " 36,\n",
       " 1,\n",
       " 4,\n",
       " 9,\n",
       " 16,\n",
       " 25,\n",
       " 36,\n",
       " 1,\n",
       " 4,\n",
       " 9,\n",
       " 16,\n",
       " 25,\n",
       " 36,\n",
       " 1,\n",
       " 4,\n",
       " 9,\n",
       " 16,\n",
       " 25,\n",
       " 36,\n",
       " 1,\n",
       " 4,\n",
       " 9,\n",
       " 16,\n",
       " 25,\n",
       " 36,\n",
       " 1,\n",
       " 4,\n",
       " 9,\n",
       " 16,\n",
       " 25,\n",
       " 36,\n",
       " 1,\n",
       " 4,\n",
       " 9,\n",
       " 16,\n",
       " 25,\n",
       " 36,\n",
       " 1,\n",
       " 4,\n",
       " 9,\n",
       " 16,\n",
       " 25,\n",
       " 36,\n",
       " 1,\n",
       " 4,\n",
       " 9,\n",
       " 16,\n",
       " 25,\n",
       " 36,\n",
       " 1,\n",
       " 4,\n",
       " 9,\n",
       " 16,\n",
       " 25,\n",
       " 36,\n",
       " 1,\n",
       " 4,\n",
       " 9,\n",
       " 16,\n",
       " 25,\n",
       " 36,\n",
       " 1,\n",
       " 4,\n",
       " 9,\n",
       " 16,\n",
       " 25,\n",
       " 36,\n",
       " 1,\n",
       " 4,\n",
       " 9,\n",
       " 16,\n",
       " 25,\n",
       " 36,\n",
       " 1,\n",
       " 4,\n",
       " 9,\n",
       " 16,\n",
       " 25,\n",
       " 36,\n",
       " 1,\n",
       " 4,\n",
       " 9,\n",
       " 16,\n",
       " 25,\n",
       " 36,\n",
       " 1,\n",
       " 4,\n",
       " 9,\n",
       " 16,\n",
       " 25,\n",
       " 36,\n",
       " 1,\n",
       " 4,\n",
       " 9,\n",
       " 16,\n",
       " 25,\n",
       " 36,\n",
       " 1,\n",
       " 4,\n",
       " 9,\n",
       " 16,\n",
       " 25,\n",
       " 36,\n",
       " 1,\n",
       " 4,\n",
       " 9,\n",
       " 16,\n",
       " 25,\n",
       " 36,\n",
       " 1,\n",
       " 4,\n",
       " 9,\n",
       " 16,\n",
       " 25,\n",
       " 36,\n",
       " 1,\n",
       " 4,\n",
       " 9,\n",
       " 16,\n",
       " 25,\n",
       " 36,\n",
       " 1,\n",
       " 4,\n",
       " 9,\n",
       " 16,\n",
       " 25,\n",
       " 36,\n",
       " 1,\n",
       " 4,\n",
       " 9,\n",
       " 16,\n",
       " 25,\n",
       " 36,\n",
       " 1,\n",
       " 4,\n",
       " 9,\n",
       " 16,\n",
       " 25,\n",
       " 36,\n",
       " 1,\n",
       " 4,\n",
       " 9,\n",
       " 16,\n",
       " 25,\n",
       " 36,\n",
       " 1,\n",
       " 4,\n",
       " 9,\n",
       " 16,\n",
       " 25,\n",
       " 36,\n",
       " 1,\n",
       " 4,\n",
       " 9,\n",
       " 16,\n",
       " 25,\n",
       " 36,\n",
       " 1,\n",
       " 4,\n",
       " 9,\n",
       " 16,\n",
       " 25,\n",
       " 36,\n",
       " 1,\n",
       " 4,\n",
       " 9,\n",
       " 16,\n",
       " 25,\n",
       " 36,\n",
       " 1,\n",
       " 4,\n",
       " 9,\n",
       " 16,\n",
       " 25,\n",
       " 36,\n",
       " 1,\n",
       " 4,\n",
       " 9,\n",
       " 16,\n",
       " 25,\n",
       " 36,\n",
       " 1,\n",
       " 4,\n",
       " 9,\n",
       " 16,\n",
       " 25,\n",
       " 36,\n",
       " 1,\n",
       " 4,\n",
       " 9,\n",
       " 16,\n",
       " 25,\n",
       " 36,\n",
       " 1,\n",
       " 4,\n",
       " 9,\n",
       " 16,\n",
       " 25,\n",
       " 36,\n",
       " 1,\n",
       " 4,\n",
       " 9,\n",
       " 16,\n",
       " 25,\n",
       " 36,\n",
       " 1,\n",
       " 4,\n",
       " 9,\n",
       " 16,\n",
       " 25,\n",
       " 36,\n",
       " 1,\n",
       " 4,\n",
       " 9,\n",
       " 16,\n",
       " 25,\n",
       " 36,\n",
       " 1,\n",
       " 4,\n",
       " 9,\n",
       " 16,\n",
       " 25,\n",
       " 36,\n",
       " 1,\n",
       " 4,\n",
       " 9,\n",
       " 16,\n",
       " 25,\n",
       " 36,\n",
       " 1,\n",
       " 4,\n",
       " 9,\n",
       " 16,\n",
       " 25,\n",
       " 36,\n",
       " 1,\n",
       " 4,\n",
       " 9,\n",
       " 16,\n",
       " 25,\n",
       " 36,\n",
       " 1,\n",
       " 4,\n",
       " 9,\n",
       " 16,\n",
       " 25,\n",
       " 36,\n",
       " 1,\n",
       " 4,\n",
       " 9,\n",
       " 16,\n",
       " 25,\n",
       " 36,\n",
       " 1,\n",
       " 4,\n",
       " 9,\n",
       " 16,\n",
       " 25,\n",
       " 36,\n",
       " 1,\n",
       " 4,\n",
       " 9,\n",
       " 16,\n",
       " 25,\n",
       " 36,\n",
       " 1,\n",
       " 4,\n",
       " 9,\n",
       " 16,\n",
       " 25,\n",
       " 36,\n",
       " 1,\n",
       " 4,\n",
       " 9,\n",
       " 16,\n",
       " 25,\n",
       " 36,\n",
       " 1,\n",
       " 4,\n",
       " 9,\n",
       " 16,\n",
       " 25,\n",
       " 36,\n",
       " 1,\n",
       " 4,\n",
       " 9,\n",
       " 16,\n",
       " 25,\n",
       " 36,\n",
       " 1,\n",
       " 4,\n",
       " 9,\n",
       " 16,\n",
       " 25,\n",
       " 36,\n",
       " 1,\n",
       " 4,\n",
       " 9,\n",
       " 16,\n",
       " 25,\n",
       " 36,\n",
       " 1,\n",
       " 4,\n",
       " 9,\n",
       " 16,\n",
       " 25,\n",
       " 36,\n",
       " 1,\n",
       " 4,\n",
       " 9,\n",
       " 16,\n",
       " 25,\n",
       " 36,\n",
       " 1,\n",
       " 4,\n",
       " 9,\n",
       " 16,\n",
       " 25,\n",
       " 36,\n",
       " 1,\n",
       " 4,\n",
       " 9,\n",
       " 16,\n",
       " 25,\n",
       " 36,\n",
       " 1,\n",
       " 4,\n",
       " 9,\n",
       " 16,\n",
       " 25,\n",
       " 36,\n",
       " 1,\n",
       " 4,\n",
       " 9,\n",
       " 16,\n",
       " 25,\n",
       " 36,\n",
       " 1,\n",
       " 4,\n",
       " 9,\n",
       " 16,\n",
       " 25,\n",
       " 36,\n",
       " 1,\n",
       " 4,\n",
       " 9,\n",
       " 16,\n",
       " 25,\n",
       " 36,\n",
       " 1,\n",
       " 4,\n",
       " 9,\n",
       " 16,\n",
       " 25,\n",
       " 36,\n",
       " 1,\n",
       " 4,\n",
       " 9,\n",
       " 16,\n",
       " 25,\n",
       " 36,\n",
       " 1,\n",
       " 4,\n",
       " 9,\n",
       " 16,\n",
       " 25,\n",
       " 36,\n",
       " 1,\n",
       " 4,\n",
       " 9,\n",
       " 16,\n",
       " 25,\n",
       " 36,\n",
       " 1,\n",
       " 4,\n",
       " 9,\n",
       " 16,\n",
       " 25,\n",
       " 36,\n",
       " 1,\n",
       " 4,\n",
       " 9,\n",
       " 16,\n",
       " 25,\n",
       " 36,\n",
       " 1,\n",
       " 4,\n",
       " 9,\n",
       " 16,\n",
       " 25,\n",
       " 36,\n",
       " 1,\n",
       " 4,\n",
       " 9,\n",
       " 16,\n",
       " 25,\n",
       " 36,\n",
       " 1,\n",
       " 4,\n",
       " 9,\n",
       " 16,\n",
       " 25,\n",
       " 36,\n",
       " 1,\n",
       " 4,\n",
       " 9,\n",
       " 16,\n",
       " 25,\n",
       " 36,\n",
       " 1,\n",
       " 4,\n",
       " 9,\n",
       " 16,\n",
       " 25,\n",
       " 36,\n",
       " 1,\n",
       " 4,\n",
       " 9,\n",
       " 16,\n",
       " 25,\n",
       " 36,\n",
       " 1,\n",
       " 4,\n",
       " 9,\n",
       " 16,\n",
       " 25,\n",
       " 36,\n",
       " 1,\n",
       " 4,\n",
       " 9,\n",
       " 16,\n",
       " 25,\n",
       " 36,\n",
       " 1,\n",
       " 4,\n",
       " 9,\n",
       " 16,\n",
       " 25,\n",
       " 36,\n",
       " 1,\n",
       " 4,\n",
       " 9,\n",
       " 16,\n",
       " 25,\n",
       " 36,\n",
       " 1,\n",
       " 4,\n",
       " 9,\n",
       " 16,\n",
       " 25,\n",
       " 36,\n",
       " 1,\n",
       " 4,\n",
       " 9,\n",
       " 16,\n",
       " 25,\n",
       " 36,\n",
       " 1,\n",
       " 4,\n",
       " 9,\n",
       " 16,\n",
       " 25,\n",
       " 36,\n",
       " 1,\n",
       " 4,\n",
       " 9,\n",
       " 16,\n",
       " 25,\n",
       " 36,\n",
       " 1,\n",
       " 4,\n",
       " 9,\n",
       " 16,\n",
       " 25,\n",
       " 36,\n",
       " 1,\n",
       " 4,\n",
       " 9,\n",
       " 16,\n",
       " 25,\n",
       " 36,\n",
       " 1,\n",
       " 4,\n",
       " 9,\n",
       " 16,\n",
       " 25,\n",
       " 36,\n",
       " 1,\n",
       " 4,\n",
       " 9,\n",
       " 16,\n",
       " 25,\n",
       " 36,\n",
       " 1,\n",
       " 4,\n",
       " 9,\n",
       " 16,\n",
       " 25,\n",
       " 36,\n",
       " 1,\n",
       " 4,\n",
       " 9,\n",
       " 16,\n",
       " 25,\n",
       " 36,\n",
       " 1,\n",
       " 4,\n",
       " 9,\n",
       " 16,\n",
       " 25,\n",
       " 36,\n",
       " 1,\n",
       " 4,\n",
       " 9,\n",
       " 16,\n",
       " 25,\n",
       " 36,\n",
       " 1,\n",
       " 4,\n",
       " 9,\n",
       " 16,\n",
       " 25,\n",
       " 36,\n",
       " 1,\n",
       " 4,\n",
       " 9,\n",
       " 16,\n",
       " 25,\n",
       " 36,\n",
       " 1,\n",
       " 4,\n",
       " 9,\n",
       " 16,\n",
       " 25,\n",
       " 36,\n",
       " 1,\n",
       " 4,\n",
       " 9,\n",
       " 16,\n",
       " ...]"
      ]
     },
     "execution_count": 11,
     "metadata": {},
     "output_type": "execute_result"
    }
   ],
   "source": [
    "# Ejemplo iterativo usando for\n",
    "\n",
    "def al_cuadrado(x):\n",
    "    return x**2\n",
    "\n",
    "lista = 1000000*[1, 2, 3, 4, 5, 6]\n",
    "lista_al_cuadrado = []\n",
    "\n",
    "for i in lista:\n",
    "    c = al_cuadrado(i)\n",
    "    lista_al_cuadrado.append(c)\n",
    "\n",
    "lista_al_cuadrado"
   ]
  },
  {
   "cell_type": "markdown",
   "metadata": {},
   "source": [
    "Podemos reescribir esta función usando `map` como:"
   ]
  },
  {
   "cell_type": "code",
   "execution_count": 7,
   "metadata": {
    "ExecuteTime": {
     "end_time": "2021-03-25T12:09:33.167608Z",
     "start_time": "2021-03-25T12:09:33.146621Z"
    }
   },
   "outputs": [
    {
     "data": {
      "text/plain": [
       "<map at 0x266c4f63580>"
      ]
     },
     "execution_count": 7,
     "metadata": {},
     "output_type": "execute_result"
    }
   ],
   "source": [
    "def al_cuadrado(x):\n",
    "    return x**2\n",
    "\n",
    "lista = 1000000*[1, 2, 3, 4, 5, 6]\n",
    "map(al_cuadrado, lista)"
   ]
  },
  {
   "cell_type": "markdown",
   "metadata": {},
   "source": [
    "Notemos que `map` retorna un iterable (un objeto que puede ser iterado, pero que aún no ha sido generado). Para evaluarlo, podemos utilizar la función `list`:"
   ]
  },
  {
   "cell_type": "code",
   "execution_count": 12,
   "metadata": {
    "ExecuteTime": {
     "end_time": "2021-03-25T12:09:33.970383Z",
     "start_time": "2021-03-25T12:09:33.953344Z"
    },
    "scrolled": true
   },
   "outputs": [
    {
     "data": {
      "text/plain": [
       "[1, 4, 9, 16, 25, 36]"
      ]
     },
     "execution_count": 12,
     "metadata": {},
     "output_type": "execute_result"
    }
   ],
   "source": [
    " # Retorna un iterable. Para evaluarlo, usar list(map)\n",
    "    \n",
    "def al_cuadrado(x):\n",
    "    return x**2\n",
    "\n",
    "lista = [1, 2, 3, 4, 5, 6]\n",
    "lista_al_cuadrado = list(map(al_cuadrado, lista))\n",
    "lista_al_cuadrado"
   ]
  },
  {
   "cell_type": "markdown",
   "metadata": {},
   "source": [
    "### Funciones lambda\n",
    "\n",
    "Cuando se trabaja con funciones simples, la notación ```def``` puede ser \n",
    "lenta e innecesaria. En este contexto, Python posee las funciones **lambda**. Estas se pueden considerar como un análogo de las funciones, como *list comprehension* en relación a los ciclos. \n",
    "\n",
    "> **Ejemplo 📖**\n",
    "\n",
    "La sintaxis es bastante sencilla. Por ejemplo, la función `al_cuadrado`"
   ]
  },
  {
   "cell_type": "code",
   "execution_count": 23,
   "metadata": {
    "ExecuteTime": {
     "end_time": "2021-03-24T19:57:28.684940Z",
     "start_time": "2021-03-24T19:57:28.663933Z"
    },
    "scrolled": true
   },
   "outputs": [
    {
     "data": {
      "text/plain": [
       "100"
      ]
     },
     "execution_count": 23,
     "metadata": {},
     "output_type": "execute_result"
    }
   ],
   "source": [
    "def al_cuadrado(x): \n",
    "    return x**2\n",
    "    \n",
    "al_cuadrado(10)"
   ]
  },
  {
   "cell_type": "markdown",
   "metadata": {},
   "source": [
    "Esta se puede reemplazar por\n"
   ]
  },
  {
   "cell_type": "code",
   "execution_count": 25,
   "metadata": {
    "ExecuteTime": {
     "end_time": "2021-03-24T19:58:33.315275Z",
     "start_time": "2021-03-24T19:58:33.306276Z"
    }
   },
   "outputs": [
    {
     "data": {
      "text/plain": [
       "100"
      ]
     },
     "execution_count": 25,
     "metadata": {},
     "output_type": "execute_result"
    }
   ],
   "source": [
    "al_cuadrado = lambda x: x ** 2\n",
    "\n",
    "al_cuadrado(10)"
   ]
  },
  {
   "cell_type": "markdown",
   "metadata": {},
   "source": [
    "Es decir, se sigue la sintaxis:\n",
    "\n",
    "```python\n",
    "lambda param_1, param_2, ..., param_n : accion\n",
    "```\n"
   ]
  },
  {
   "cell_type": "markdown",
   "metadata": {},
   "source": [
    "#### Map y funciones lambdas\n",
    "\n",
    "Podemos definir `al_cuadrado` en una sola linea usando una función lambda. Esto hace el código aún más compacto y funcional (y de paso, *anonimiza* la función):"
   ]
  },
  {
   "cell_type": "code",
   "execution_count": null,
   "metadata": {},
   "outputs": [],
   "source": [
    "lista = [1, 2, 3, 4, 5, 6]\n",
    "lista_al_cuadrado = list(map(lambda x: x**2, lista))\n",
    "lista_al_cuadrado"
   ]
  },
  {
   "cell_type": "markdown",
   "metadata": {},
   "source": [
    "### Filter\n",
    "\n",
    "La función ```filter()``` permite mantener elementos de un arreglo según el valor de verdad asociado a cada uno por la función objetivo.\n"
   ]
  },
  {
   "cell_type": "code",
   "execution_count": 26,
   "metadata": {
    "ExecuteTime": {
     "end_time": "2021-03-25T12:09:39.968542Z",
     "start_time": "2021-03-25T12:09:39.962541Z"
    }
   },
   "outputs": [
    {
     "data": {
      "text/plain": [
       "[2, 4, 6]"
      ]
     },
     "execution_count": 26,
     "metadata": {},
     "output_type": "execute_result"
    }
   ],
   "source": [
    "lista = [1, 2, 3, 4, 5, 6]\n",
    "\n",
    "# Mantener solo numeros pares\n",
    "list(filter(lambda x: x % 2 == 0, lista))"
   ]
  },
  {
   "cell_type": "code",
   "execution_count": 28,
   "metadata": {},
   "outputs": [
    {
     "data": {
      "text/plain": [
       "[1, 9, 25]"
      ]
     },
     "execution_count": 28,
     "metadata": {},
     "output_type": "execute_result"
    }
   ],
   "source": [
    "# combinando ambas operaciones:\n",
    "list(filter(lambda x: x % 2 == 0, map(lambda x: x**2, lista)))"
   ]
  },
  {
   "attachments": {},
   "cell_type": "markdown",
   "metadata": {},
   "source": [
    "### Reduce\n",
    "\n",
    "`reduce()` permite acumular valores de izquierda a derecha según una función sobre algún iterable. La idea es reducir la lista a un solo valor según la función estipulada.\n",
    "El primer argumento de los 2 de la función a pasar es el valor acumulado y el segundo es el valor siguiente de la secuencia.\n",
    "\n",
    "> **Nota 📖**: Esta función debe ser *importada* desde el módulo `functools`.\n",
    "\n",
    "Por ejemplo:\n",
    "\n",
    "```python\n",
    "fun = lambda x, y: x + y\n",
    "functools.reduce(fun, [0,1, 2, ,3, 4, 5])\n",
    "```\n",
    "\n",
    "Al ejecutar esta línea, por cada iteración se calcula:\n",
    "\n",
    "0. `fun(0, 1)`\n",
    "1. `fun(1, 2)`\n",
    "2. `fun(fun(1, 2), 3)` \n",
    "3. `fun(fun(fun(1, 2), 3), 4)`\n",
    "4. `fun(fun(fun(fun(1, 2), 3), 4), 5)`\n",
    "\n",
    "Lo que en resumidas cuentas calcula:\n",
    "```python\n",
    "0 + ((((1+2)+3)+4)+5) = 15\n",
    "```\n",
    "`reduce` también tiene un tercer (opcional) argumento, `initializer`, si este es entregado se utiliza como primer elemento en el calculo acumulativo, por lo que si en el caso anterior se tuviera\n",
    "\n",
    "```python\n",
    "functools.reduce(fun, [1, 2, ,3, 4, 5], 8)\n",
    "```\n",
    "\n",
    "el resultado sería,\n",
    "\n",
    "```python\n",
    "8 + ((((1+2)+3)+4)+5) = 23\n",
    "```\n"
   ]
  },
  {
   "cell_type": "code",
   "execution_count": null,
   "metadata": {
    "ExecuteTime": {
     "end_time": "2021-03-25T12:09:41.245354Z",
     "start_time": "2021-03-25T12:09:41.226383Z"
    }
   },
   "outputs": [],
   "source": [
    "# importamos la función usando la siguiente instrucción:\n",
    "from functools import reduce\n",
    "\n",
    "lista = [1, 2, 3, 4, 5]\n",
    "\n",
    "# Sumar todos los elementos\n",
    "reduce(lambda a, b: a + b, lista)"
   ]
  },
  {
   "cell_type": "code",
   "execution_count": null,
   "metadata": {},
   "outputs": [],
   "source": [
    "reduce(lambda a, b: a + b, lista, 8)"
   ]
  },
  {
   "cell_type": "code",
   "execution_count": null,
   "metadata": {},
   "outputs": [],
   "source": [
    "lista = [1, 2, 3, 4, 5]\n",
    "\n",
    "reduce(lambda a, b: a * b, lista)"
   ]
  },
  {
   "cell_type": "markdown",
   "metadata": {},
   "source": [
    "Otro ejemplo, combinando if else más reduce, podemos encontrar el máximo de una lista:m"
   ]
  },
  {
   "cell_type": "code",
   "execution_count": null,
   "metadata": {
    "ExecuteTime": {
     "end_time": "2021-03-25T12:09:41.918643Z",
     "start_time": "2021-03-25T12:09:41.898614Z"
    }
   },
   "outputs": [],
   "source": [
    "# Encontrar el máximo\n",
    "lista = [1, 2, 30, 4, 5]\n",
    "\n",
    "reduce(lambda a, b: a if a > b else b, lista, 0)"
   ]
  },
  {
   "cell_type": "markdown",
   "metadata": {},
   "source": [
    "---\n",
    "> **Ejercicios para practicar programación funcional 💻**\n",
    "\n",
    "1. En strings el método ```.upper()``` permite transformar el contenido en mayúsculas. Cree la función ```to_upper(texto)``` que toma un caracter (un string de largo 1) y retorna una versión en mayúsculas. Luego, utilice la función `map()` sobre cada caracter del string.\n",
    "\n",
    "\n",
    "2. El método ```.split()``` permite obtener todas las palabras de un string. Por otra parte, la función ```len()``` permite obtener el largo de un arreglo o cantidad de letras en una palabra. Cree la función `separador()` que separe un texto por espacios (`' '`) y quite todas aquellas palabras de tamaño 3 o menos usando `filter()`. \n",
    "\n",
    "3. Cree la función `mayus_r()` la cual transforme a mayúsculas todas las palabras que terminen en 'r'. Considere  además cada palabra como una lista y acceda la última letra con el slice correspondiente. Utilice ```map()``` más las herramientas que crea necesarias para resolver este problema.\n",
    "\n",
    "4. Cree la función `promedio(lista)` la cual calcule el promedio usando solo las funciones `reduce()` y `len()`\n",
    "\n",
    "4. Cree test unitarios independientes que prueben estas funciones.\n",
    "\n",
    "---"
   ]
  },
  {
   "cell_type": "code",
   "execution_count": null,
   "metadata": {
    "ExecuteTime": {
     "end_time": "2021-03-24T19:20:37.349511Z",
     "start_time": "2021-03-24T19:20:37.271Z"
    }
   },
   "outputs": [],
   "source": [
    "# Pueden usar este texto de ejemplo para hacer los ejercicios\n",
    "\n",
    "texto_ejemplo = \"\"\"\n",
    "Budín de zapallos italianos\n",
    "\n",
    "Una tradicional receta chilena, que siempre me ha gustado mucho.\n",
    "Acá estamos en plena temporada de zapallos italianos y aunque aún no he cosechado ninguno en casa, \n",
    "si lo he estado haciendo en una de las huertas donde trabajo de voluntaria. \n",
    "Esta receta ya estaba en el blog, pero la estoy re-publicando con fotos nuevas y mas lindas. \n",
    "¿Cuál es tu manera favorita de preparar los zapallos italianos?\n",
    "Recuerden siempre probar los zapallos crudos y descartarlos si están amargos, \n",
    "no hay nada peor que cocinarlos y descubrir al momento de servir que había uno malo.\n",
    "Fuente: https://www.enmicocinahoy.cl/pastel-zapallos-italianos/\"\"\""
   ]
  },
  {
   "cell_type": "code",
   "execution_count": null,
   "metadata": {
    "ExecuteTime": {
     "end_time": "2021-03-24T19:20:37.351510Z",
     "start_time": "2021-03-24T19:20:37.277Z"
    }
   },
   "outputs": [],
   "source": [
    "# solo nombres de las funciones, falta agregar sus parámetros.\n",
    "\n",
    "def to_upper():\n",
    "    pass\n",
    "\n",
    "def separador():\n",
    "    pass\n",
    "\n",
    "def mayus_r():\n",
    "    pass\n",
    "\n",
    "def promedio():\n",
    "    pass"
   ]
  },
  {
   "cell_type": "markdown",
   "metadata": {},
   "source": [
    "---"
   ]
  },
  {
   "cell_type": "markdown",
   "metadata": {},
   "source": [
    "---\n",
    "\n",
    "## Parte 5: Referencias\n",
    "\n",
    "<br>\n",
    "\n",
    "Consideremos el siguiente ejemplo:"
   ]
  },
  {
   "cell_type": "code",
   "execution_count": 1,
   "metadata": {
    "ExecuteTime": {
     "end_time": "2021-03-24T20:13:12.073503Z",
     "start_time": "2021-03-24T20:13:12.069502Z"
    }
   },
   "outputs": [],
   "source": [
    "lista_1 = [1, 2, 3, 4, 5]\n",
    "lista_2 = lista_1"
   ]
  },
  {
   "cell_type": "code",
   "execution_count": 2,
   "metadata": {
    "ExecuteTime": {
     "end_time": "2021-03-24T20:13:12.747512Z",
     "start_time": "2021-03-24T20:13:12.736503Z"
    },
    "scrolled": true
   },
   "outputs": [
    {
     "data": {
      "text/plain": [
       "[1, 2, 3, 4, 5, 10]"
      ]
     },
     "execution_count": 2,
     "metadata": {},
     "output_type": "execute_result"
    }
   ],
   "source": [
    "lista_1.append(10)\n",
    "lista_1"
   ]
  },
  {
   "cell_type": "code",
   "execution_count": 3,
   "metadata": {
    "ExecuteTime": {
     "end_time": "2021-03-24T20:13:17.974439Z",
     "start_time": "2021-03-24T20:13:17.955440Z"
    },
    "scrolled": true
   },
   "outputs": [
    {
     "data": {
      "text/plain": [
       "[1, 2, 3, 4, 5, 10]"
      ]
     },
     "execution_count": 3,
     "metadata": {},
     "output_type": "execute_result"
    }
   ],
   "source": [
    "lista_2"
   ]
  },
  {
   "cell_type": "code",
   "execution_count": null,
   "metadata": {},
   "outputs": [],
   "source": [
    "lista_2.append(100)"
   ]
  },
  {
   "cell_type": "code",
   "execution_count": null,
   "metadata": {},
   "outputs": [],
   "source": [
    "lista_1"
   ]
  },
  {
   "cell_type": "markdown",
   "metadata": {},
   "source": [
    "> **Pregunta ❓:** ¿Por qué al modificar `lista_1`, los cambios también se ven reflejados en `lista_2`?"
   ]
  },
  {
   "cell_type": "markdown",
   "metadata": {},
   "source": [
    "Cuando asignamos una lista a una variable, lo que guardamos en la misma es en realidad una referencia a la lista y no la lista en sí. \n",
    "\n",
    "> Referencia según la *RAE* : 9. f. Ling. Relación que se establece entre una expresión lingüística y aquello a lo que alude.\n",
    "\n",
    "Por lo tanto, al copiar la variable a otra lo que hicimos fue copiar la referencia y no sus valores. Podemos analizar las referencias de cada variable (lugar en la dirección de memoria donde se encuentran los datos) a través de la función `id`:"
   ]
  },
  {
   "cell_type": "code",
   "execution_count": 4,
   "metadata": {
    "ExecuteTime": {
     "end_time": "2021-03-24T20:14:08.735748Z",
     "start_time": "2021-03-24T20:14:08.716745Z"
    }
   },
   "outputs": [
    {
     "name": "stdout",
     "output_type": "stream",
     "text": [
      "Identificador lista_1: 2467825403392\n",
      "Identificador lista_2: 2467825403392\n"
     ]
    }
   ],
   "source": [
    "print(f'Identificador lista_1: {id(lista_1)}\\nIdentificador lista_2: {id(lista_2)}')"
   ]
  },
  {
   "cell_type": "code",
   "execution_count": null,
   "metadata": {},
   "outputs": [],
   "source": []
  },
  {
   "cell_type": "markdown",
   "metadata": {
    "ExecuteTime": {
     "end_time": "2021-03-24T17:38:07.640881Z",
     "start_time": "2021-03-24T17:38:07.631840Z"
    }
   },
   "source": [
    "> **Nota**: Si realmente queremos copiar un arreglo (y cuálquier colección y estructura compleja en general) debemos utilizar la función `deepcopy()`"
   ]
  },
  {
   "cell_type": "code",
   "execution_count": 5,
   "metadata": {
    "ExecuteTime": {
     "end_time": "2021-03-24T20:17:00.249507Z",
     "start_time": "2021-03-24T20:17:00.243507Z"
    }
   },
   "outputs": [
    {
     "data": {
      "text/plain": [
       "[1, 2, 3, 4, 5, 10]"
      ]
     },
     "execution_count": 5,
     "metadata": {},
     "output_type": "execute_result"
    }
   ],
   "source": [
    "from copy import deepcopy\n",
    "\n",
    "lista_1 = [1, 2, 3, 4, 5]\n",
    "\n",
    "lista_3 = deepcopy(lista_1)\n",
    "\n",
    "lista_1.append(10)\n",
    "\n",
    "lista_1"
   ]
  },
  {
   "cell_type": "code",
   "execution_count": 6,
   "metadata": {
    "ExecuteTime": {
     "end_time": "2021-03-24T20:15:05.738891Z",
     "start_time": "2021-03-24T20:15:05.729897Z"
    },
    "scrolled": true,
    "tags": []
   },
   "outputs": [
    {
     "data": {
      "text/plain": [
       "[1, 2, 3, 4, 5]"
      ]
     },
     "execution_count": 6,
     "metadata": {},
     "output_type": "execute_result"
    }
   ],
   "source": [
    "lista_3"
   ]
  },
  {
   "cell_type": "code",
   "execution_count": 7,
   "metadata": {
    "ExecuteTime": {
     "end_time": "2021-03-24T20:15:13.563792Z",
     "start_time": "2021-03-24T20:15:13.547797Z"
    }
   },
   "outputs": [
    {
     "name": "stdout",
     "output_type": "stream",
     "text": [
      "Identificador lista_1: 2467825746816\n",
      "Identificador lista_3: 2467825555904\n"
     ]
    }
   ],
   "source": [
    "print(f'Identificador lista_1: {id(lista_1)}\\nIdentificador lista_3: {id(lista_3)}')"
   ]
  },
  {
   "cell_type": "markdown",
   "metadata": {},
   "source": [
    "En general, Python asignará identificadores distintos cuando creemos listas y diccionarios:"
   ]
  },
  {
   "cell_type": "code",
   "execution_count": 8,
   "metadata": {
    "ExecuteTime": {
     "end_time": "2021-03-24T20:18:45.314653Z",
     "start_time": "2021-03-24T20:18:45.302653Z"
    }
   },
   "outputs": [
    {
     "name": "stdout",
     "output_type": "stream",
     "text": [
      "Identificador dict_1: 2467825767488\n",
      "Identificador dict_2: 2467825552768\n"
     ]
    }
   ],
   "source": [
    "d_1 = {'key_1': 'Hola'}\n",
    "d_2 = {'key_1': 'Hola'}\n",
    "\n",
    "print(f'Identificador dict_1: {id(d_1)}\\nIdentificador dict_2: {id(d_2)}')"
   ]
  },
  {
   "cell_type": "markdown",
   "metadata": {
    "ExecuteTime": {
     "end_time": "2021-03-24T17:51:53.481728Z",
     "start_time": "2021-03-24T17:51:53.472726Z"
    }
   },
   "source": [
    "¿Qué pasa ahora con los elementos inmutables como los strings?"
   ]
  },
  {
   "cell_type": "code",
   "execution_count": 9,
   "metadata": {
    "ExecuteTime": {
     "end_time": "2021-03-24T20:18:04.170052Z",
     "start_time": "2021-03-24T20:18:04.163053Z"
    }
   },
   "outputs": [
    {
     "data": {
      "text/plain": [
       "2467825508656"
      ]
     },
     "execution_count": 9,
     "metadata": {},
     "output_type": "execute_result"
    }
   ],
   "source": [
    "s1 = 'Hola'\n",
    "id(s1)"
   ]
  },
  {
   "cell_type": "code",
   "execution_count": 10,
   "metadata": {
    "ExecuteTime": {
     "end_time": "2021-03-24T20:18:04.916052Z",
     "start_time": "2021-03-24T20:18:04.898118Z"
    }
   },
   "outputs": [
    {
     "data": {
      "text/plain": [
       "2467825508656"
      ]
     },
     "execution_count": 10,
     "metadata": {},
     "output_type": "execute_result"
    }
   ],
   "source": [
    "s2 = 'Hola'\n",
    "id(s2)"
   ]
  },
  {
   "cell_type": "code",
   "execution_count": 11,
   "metadata": {
    "ExecuteTime": {
     "end_time": "2021-03-24T20:18:46.450652Z",
     "start_time": "2021-03-24T20:18:46.441655Z"
    },
    "scrolled": true
   },
   "outputs": [
    {
     "data": {
      "text/plain": [
       "2467825508656"
      ]
     },
     "execution_count": 11,
     "metadata": {},
     "output_type": "execute_result"
    }
   ],
   "source": [
    "id(d_1['key_1'])"
   ]
  },
  {
   "cell_type": "markdown",
   "metadata": {},
   "source": [
    "¿Y si le concatenamos otro string (similar al `append` del inicio)?"
   ]
  },
  {
   "cell_type": "code",
   "execution_count": 12,
   "metadata": {
    "ExecuteTime": {
     "end_time": "2021-03-24T19:20:37.482510Z",
     "start_time": "2021-03-24T19:20:37.480Z"
    }
   },
   "outputs": [
    {
     "data": {
      "text/plain": [
       "2467825367632"
      ]
     },
     "execution_count": 12,
     "metadata": {},
     "output_type": "execute_result"
    }
   ],
   "source": [
    "s3 = s1 + ', qué tal?'\n",
    "id(s3)"
   ]
  },
  {
   "cell_type": "markdown",
   "metadata": {},
   "source": [
    "> **Pregunta ❓**: ¿Por qué no se conserva el id?"
   ]
  },
  {
   "attachments": {},
   "cell_type": "markdown",
   "metadata": {},
   "source": [
    "## Mutabilidad e Inmutabilidad `v2`\n",
    "\n",
    "**Recuerdo:** Cada entidad (u objeto) en python puede ser catalogada como **mutables** o **inmutables**. \n",
    "- Los objetos **mutables** son aquellos que pueden ser modificados luego de ser creados (o asignados), \n",
    "- Los objetos **inmutables** son objetos con valores fijos que no pueden ser modificados.\n"
   ]
  },
  {
   "cell_type": "markdown",
   "metadata": {},
   "source": [
    "> **Pregunta ❓**: Hasta ahora, ¿qué tipos de datos son mutables y que tipo de datos son inmutables?"
   ]
  },
  {
   "cell_type": "markdown",
   "metadata": {},
   "source": [
    "Python maneja los objetos mutables e inmutables de manera distinta.\n",
    "\n",
    "- Se utilizan objetos inmutables si se desea acceder e iterar de manera eficiente en estructuras que no cambian frecuentemente en el código. Sin embargo, **son estáticos**. Esto se evidencia al querer modificar un valor, **proceso que conlleva la creación de una copia del inmutable original.** \n",
    "\n",
    "- Los objetos mutables **se utilizan cuando se desea cambiar el tamaño o atributos de un objeto a medida que es procesado por un código**. "
   ]
  },
  {
   "cell_type": "markdown",
   "metadata": {},
   "source": [
    "### ¿Inmutables que mutan?\n",
    "\n",
    "\n",
    "> **Pregunta ❓**: ¿Qué sucede en el siguiente código?"
   ]
  },
  {
   "cell_type": "code",
   "execution_count": 13,
   "metadata": {
    "ExecuteTime": {
     "end_time": "2021-03-24T20:20:09.983944Z",
     "start_time": "2021-03-24T20:20:09.978944Z"
    }
   },
   "outputs": [
    {
     "data": {
      "text/plain": [
       "('texto', [0, 1])"
      ]
     },
     "execution_count": 13,
     "metadata": {},
     "output_type": "execute_result"
    }
   ],
   "source": [
    "tupla = ('texto', [0,1])\n",
    "tupla"
   ]
  },
  {
   "cell_type": "code",
   "execution_count": 18,
   "metadata": {
    "ExecuteTime": {
     "end_time": "2021-03-24T20:20:15.646244Z",
     "start_time": "2021-03-24T20:20:15.627246Z"
    },
    "scrolled": true,
    "tags": []
   },
   "outputs": [
    {
     "ename": "TypeError",
     "evalue": "'tuple' object does not support item assignment",
     "output_type": "error",
     "traceback": [
      "\u001b[1;31m---------------------------------------------------------------------------\u001b[0m",
      "\u001b[1;31mTypeError\u001b[0m                                 Traceback (most recent call last)",
      "Cell \u001b[1;32mIn[18], line 1\u001b[0m\n\u001b[1;32m----> 1\u001b[0m tupla[\u001b[39m1\u001b[39m] \u001b[39m=\u001b[39m [\u001b[39m1\u001b[39m,\u001b[39m2\u001b[39m]\n",
      "\u001b[1;31mTypeError\u001b[0m: 'tuple' object does not support item assignment"
     ]
    }
   ],
   "source": [
    "tupla[1] = [1,2]"
   ]
  },
  {
   "cell_type": "code",
   "execution_count": null,
   "metadata": {
    "ExecuteTime": {
     "end_time": "2021-03-24T20:20:27.266619Z",
     "start_time": "2021-03-24T20:20:27.250607Z"
    }
   },
   "outputs": [],
   "source": [
    "tupla[1]"
   ]
  },
  {
   "cell_type": "code",
   "execution_count": 19,
   "metadata": {
    "ExecuteTime": {
     "end_time": "2021-03-24T20:20:53.456034Z",
     "start_time": "2021-03-24T20:20:53.442026Z"
    }
   },
   "outputs": [
    {
     "data": {
      "text/plain": [
       "('texto', [1, 2, 2])"
      ]
     },
     "execution_count": 19,
     "metadata": {},
     "output_type": "execute_result"
    }
   ],
   "source": [
    "tupla[1].append(2)\n",
    "tupla"
   ]
  },
  {
   "cell_type": "markdown",
   "metadata": {},
   "source": [
    "### Argumentos de las Funciones\n",
    "\n",
    "Las referencias a objetos mutables e inmutables tienen un papel importante en la **evaluación de funciones**. \n",
    "\n",
    "Pensemos por ejemplo en la siguiente función:"
   ]
  },
  {
   "cell_type": "code",
   "execution_count": null,
   "metadata": {
    "ExecuteTime": {
     "end_time": "2021-03-24T20:21:35.166076Z",
     "start_time": "2021-03-24T20:21:35.157083Z"
    }
   },
   "outputs": [],
   "source": [
    "def cambia_elemento_0(x):\n",
    "    \"\"\"\n",
    "    Cambia el primer indice de una lista. \n",
    "    \"\"\"\n",
    "    x[0] = 'cambiado'"
   ]
  },
  {
   "cell_type": "markdown",
   "metadata": {},
   "source": [
    "Si se define la lista:"
   ]
  },
  {
   "cell_type": "code",
   "execution_count": null,
   "metadata": {
    "ExecuteTime": {
     "end_time": "2021-03-24T20:21:39.441106Z",
     "start_time": "2021-03-24T20:21:39.430107Z"
    }
   },
   "outputs": [],
   "source": [
    "lista = ['no_cambiar', 2, 3, 4, 5]"
   ]
  },
  {
   "cell_type": "code",
   "execution_count": null,
   "metadata": {
    "ExecuteTime": {
     "end_time": "2021-03-24T20:22:42.069305Z",
     "start_time": "2021-03-24T20:22:42.050308Z"
    },
    "scrolled": true
   },
   "outputs": [],
   "source": [
    "cambia_elemento_0(lista)\n",
    "lista"
   ]
  },
  {
   "cell_type": "markdown",
   "metadata": {},
   "source": [
    "El elemento cambió porque le pasamos una referencia de la lista a la función. NO una copia de esta."
   ]
  },
  {
   "cell_type": "code",
   "execution_count": null,
   "metadata": {},
   "outputs": [],
   "source": [
    "%load_ext autoreload\n",
    "%autoreload 2\n",
    "from test import *\n",
    "import os"
   ]
  },
  {
   "attachments": {},
   "cell_type": "markdown",
   "metadata": {},
   "source": [
    "### Juego de espías (Fácil)\n",
    "El espía Ramsay debe codificar los mensajes que le mandan otros espías sobre la cantidad de tropas que tiene el enemigo en distintos cuarteles. Para esto, otro espía le manda una tira de números con un pequeño truco. Esta tira de números estan separados por `-`, pero para que no sea tan fácil saber que esta informando, la cantidad de tropas esta levemente escondida y también esta escondido el número del cuartel. El cuartel estará escondido en el último lugar de la tira y para obtener la cantidad de tropas aproximadas se deben sumar todos los números que son divisibles por el número del cuartel de la tira. Crear una función que reciba el string de la tira de números y devuelva la cantidad de tropas que hay en el cuartel enemigo como una tupla. Adicionalmente, podria imprimir un mensaje con la información requerida.\n",
    "\n",
    "Ej:\n",
    "```Python\n",
    "INPUT:\n",
    "tira_numeros = '29-32-1-5-65-12345-0-12-2'\n",
    "OUTPUT: \n",
    "(2, 44)\n",
    "    \"En el cuartel número 2 hay 44 soldados\"\n",
    "```"
   ]
  },
  {
   "cell_type": "code",
   "execution_count": null,
   "metadata": {},
   "outputs": [],
   "source": [
    "# Corre para ver si tu código esta bien\n",
    "def informe_espia(tira_numeros):\n",
    "    # Hacer la magia\n",
    "    \n",
    "    return (cuartel,informe)"
   ]
  },
  {
   "cell_type": "code",
   "execution_count": 21,
   "metadata": {},
   "outputs": [
    {
     "data": {
      "text/plain": [
       "['29', '32', '1', '5', '65', '12345', '0', '12', '2']"
      ]
     },
     "execution_count": 21,
     "metadata": {},
     "output_type": "execute_result"
    }
   ],
   "source": [
    "codigo = '29-32-1-5-65-12345-0-12-2'\n",
    "codigo.split('-')"
   ]
  },
  {
   "cell_type": "code",
   "execution_count": 23,
   "metadata": {},
   "outputs": [
    {
     "data": {
      "text/plain": [
       "[29, 32, 1, 5, 65, 12345, 0, 12, 2]"
      ]
     },
     "execution_count": 23,
     "metadata": {},
     "output_type": "execute_result"
    }
   ],
   "source": [
    "numeros =  [int(x) for x in codigo.split('-')]\n",
    "numeros\n",
    " "
   ]
  },
  {
   "cell_type": "code",
   "execution_count": null,
   "metadata": {},
   "outputs": [],
   "source": [
    "test1(informe_espia)"
   ]
  },
  {
   "attachments": {},
   "cell_type": "markdown",
   "metadata": {},
   "source": [
    "***\n",
    "### Codificador César (Intermedio)\n",
    "Una de las formas mas antiguas de crear un código encriptado es lo que se conoce como el encriptado César <https://es.wikipedia.org/wiki/Cifrado_C%C3%A9sar>. En este tipo de encriptado lo que se hace es \"girar\" el abecedario una determinada cantidad de pasos según una clave numérica (ver ejemplo). Crear una función que lea un string dentro de un txt en la misma ruta que esta notebook, tome una clave y devuelva el string encriptado con la clave César en *minúsculas* (asumir que el texto esta en castellano).\n",
    "\n",
    "Ej: Clave = 2\n",
    "\n",
    "| Letra   | Letra encriptada |\n",
    "| ------------- |:-------------:| \n",
    "| A | C | \n",
    "| B | D |\n",
    "| C | E |\n",
    "| ... | ... |\n",
    "| Y | A |\n",
    "| Z | B |\n",
    "\n",
    "```Python\n",
    "INPUT:\n",
    "'mi_archivo.txt' (\"Hola estudiante\"), clave = 1\n",
    "OUTPUT:\n",
    "\"Jqnc guvwfkcovg\"\n",
    "```\n",
    "\n",
    "*AYUDA*\n",
    "\n",
    "El método `mi_lista.index(elemento)` búsca el `elemento` en la lista `mi_lista` y devuelve la posición del elemento si lo encontró. Si no lo encontró devuelve un `ValueError`."
   ]
  },
  {
   "cell_type": "code",
   "execution_count": null,
   "metadata": {},
   "outputs": [],
   "source": [
    "def codificador_cesar(mensaje_path, clave):\n",
    "    # Un ayudin\n",
    "    abecedario = 'abcdefghijklmnñopqrstuvwxyz'\n",
    "    # Ahora hagan su magia (ojo con las mayúsculas)\n",
    "\n",
    "    return cifrado"
   ]
  },
  {
   "cell_type": "code",
   "execution_count": null,
   "metadata": {},
   "outputs": [],
   "source": [
    "test2(codificador_cesar)"
   ]
  },
  {
   "attachments": {},
   "cell_type": "markdown",
   "metadata": {},
   "source": [
    "**OPCIONALES** \n",
    "\n",
    "- Hacer que la función guarde la salida como un archivo de texto.\n",
    "- Podemos encriptar respetando mayúsculas. Adaptar la función para que lo haga. Se puede usar la funcion test2_mayusculas para probarla. Sugerencia: Mirar el método `isupper()` para los strings.\n",
    "- Adaptar la función anterior pero para desencriptar, una función que cree una lista con todas las posibles rotaciones del texto."
   ]
  },
  {
   "attachments": {},
   "cell_type": "markdown",
   "metadata": {},
   "source": [
    "***\n",
    "### La calesita (Rompecoco) \n",
    "El señor Jacinto es dueño de una antigua calesita con animalitos que no funciona hace varios años y quiere volver a ponerla en funcionamiento. Para eso va a probarla prendiendola y viendo cuanto rota segun la cantidad de movimientos. \n",
    "\n",
    "Crear una función que reciba una lista de strings (con la primera en mayúscula) con los animales que componen la calesita, una cantidad de ciclos(n_ciclos) y devuelva la misma lista pero rotada hacia la derecha esa cantidad de movimientos, donde un movimiento es cambiar todos los animales una posición hacia la derecha:\n",
    "\n",
    "Ej:\n",
    "``` Python\n",
    "INPUT:\n",
    "['Unicornio','Oso','Jirafa', 'Pato'. 'Elefante'], movimiento = 1\n",
    "OUTPUT:\n",
    "['Elefante', 'Unicornio', 'Oso', 'Jirafa', 'Pato']\n",
    "```"
   ]
  },
  {
   "cell_type": "code",
   "execution_count": null,
   "metadata": {},
   "outputs": [],
   "source": [
    "def probar_calesita(calesita, n_movimientos):\n",
    "    # Proba la calesita\n",
    "    return calesita_girada"
   ]
  },
  {
   "cell_type": "code",
   "execution_count": null,
   "metadata": {},
   "outputs": [],
   "source": [
    "test3(probar_calesita)"
   ]
  },
  {
   "attachments": {},
   "cell_type": "markdown",
   "metadata": {},
   "source": [
    "Cuando prueba la calesita se da cuenta que es muy lenta. Debe sacar uno de los animales para que pueda funcionar correctamente. Para eso los manda a pesar y le dicen cual es el que hay que sacar para que funcione perfectamente.\n",
    "\n",
    "Modificar la función anterior para que reciba un string, que es un animal en MAYÚSCULAS (animal_quitar) para sacar y pruebe la función nuevamente.\n",
    "\n",
    "Ej:\n",
    "```Python\n",
    "INPUT:\n",
    "['Unicornio','Oso','Jirafa', 'Pato'. 'Elefante'], animal_quitar = 'JIRAFA', movimientos = 1\n",
    "OUTPUT:\n",
    "['Elefante', 'Unicornio', 'Oso', 'Pato']\n",
    "```"
   ]
  },
  {
   "cell_type": "code",
   "execution_count": null,
   "metadata": {},
   "outputs": [],
   "source": [
    "def probar_calesita_arreglada(calesita, n_mov, animal_quitar):\n",
    "    # Arregla la calesita\n",
    "    \n",
    "    return calesita_arreglada"
   ]
  },
  {
   "cell_type": "code",
   "execution_count": null,
   "metadata": {},
   "outputs": [],
   "source": [
    "test4(probar_calesita_arreglada)"
   ]
  },
  {
   "cell_type": "code",
   "execution_count": null,
   "metadata": {},
   "outputs": [],
   "source": [
    "archivos_directorio = os.listdir('publicaciones')\n",
    "print(archivos_directorio)"
   ]
  },
  {
   "attachments": {},
   "cell_type": "markdown",
   "metadata": {},
   "source": [
    "La función listdir nos devuelve una lista con todos los archivos que están en la carpeta publicaciones. Noten que solamente nos devuelve los nombres de los archivos, no la ruta completa que necesitamos para acceder a los mismos desde la ubicación en el filesystem donde se encuentra esta notebook.\n",
    "\n",
    "Las rutas hasta los archivos cambian con el sistema operativo, por eso si están en Windows, la forma de acceder al archivo Yukon Delta Salmon Management.txt es ejercicios\\\\Yukon Delta Salmon Management.txt mientras que si están en Linux o Unix la forma de acceder es ejercicios/Yukon Delta Salmon Management.txt .  Para evitar problemas y que el código sea ejecutable desde cualquier sistema operativo, el módulo os tiene la función os.join.\n",
    "\n",
    "Entonces para crear las rutas vamos a usar la función os.path.join y para esto es ideal una lista por comprensión"
   ]
  },
  {
   "cell_type": "code",
   "execution_count": null,
   "metadata": {},
   "outputs": [],
   "source": [
    "rutas_archivos = [os.path.join('publicaciones',archivo) for archivo in archivos_directorio]\n",
    "rutas_archivos"
   ]
  },
  {
   "attachments": {},
   "cell_type": "markdown",
   "metadata": {},
   "source": [
    "Ahora vamos a unir estas dos listas del mismo tamaño en una lista de tuplas utilizando la función \"zip\" de Python nativo. Como el zip de Python devuelve un objeto iterable, vamos a convertirlo en lista para trabajar mejor"
   ]
  },
  {
   "cell_type": "code",
   "execution_count": null,
   "metadata": {},
   "outputs": [],
   "source": [
    "tuplas_archivos = list(zip(rutas_archivos,archivos_directorio))\n",
    "for tupla in tuplas_archivos:\n",
    "    print(tupla)"
   ]
  },
  {
   "attachments": {},
   "cell_type": "markdown",
   "metadata": {},
   "source": [
    "Ahora sí, vamos a pedirles que creen una función que reciba una tupla con la ruta y el nombre del archivo. Necesitamos que esta función cuente las palabras que hay en el txt que se encuentra en esa ruta y luego imprima el nombre del archivo y la cantidad. \n",
    "Después vamos a escribir un for loop que recorra la lista tuplas_archivos y devuelve una tupla con el nombre del archivo y la cantidad de palabras. Desde el loop for vamos a imprimir esa tupla."
   ]
  },
  {
   "cell_type": "code",
   "execution_count": null,
   "metadata": {},
   "outputs": [],
   "source": [
    "# 1. Escribir la función "
   ]
  },
  {
   "cell_type": "code",
   "execution_count": null,
   "metadata": {},
   "outputs": [],
   "source": [
    "# 2. Recorrer en un loop tuplas_archivos invocando a la función"
   ]
  },
  {
   "cell_type": "markdown",
   "metadata": {},
   "source": [
    "Entonces ¿Cuáles superan las 250 palabras? Si quieren ir una milla extra modifiquen la función para que devuelva True si supera y False si no supera en lugar de devolver la cantidad. \n"
   ]
  },
  {
   "cell_type": "code",
   "execution_count": null,
   "metadata": {},
   "outputs": [],
   "source": [
    "# 3. Modifiquen la función\n"
   ]
  },
  {
   "cell_type": "code",
   "execution_count": null,
   "metadata": {},
   "outputs": [],
   "source": [
    "# 4. Vuelvan a llamarla"
   ]
  }
 ],
 "metadata": {
  "kernelspec": {
   "display_name": "analitica",
   "language": "python",
   "name": "python3"
  },
  "language_info": {
   "codemirror_mode": {
    "name": "ipython",
    "version": 3
   },
   "file_extension": ".py",
   "mimetype": "text/x-python",
   "name": "python",
   "nbconvert_exporter": "python",
   "pygments_lexer": "ipython3",
   "version": "3.9.15 (main, Nov 24 2022, 14:39:17) [MSC v.1916 64 bit (AMD64)]"
  },
  "nbTranslate": {
   "displayLangs": [
    "es",
    "en"
   ],
   "hotkey": "alt-t",
   "langInMainMenu": true,
   "sourceLang": "en",
   "targetLang": "es",
   "useGoogleTranslate": true
  },
  "toc": {
   "base_numbering": 1,
   "nav_menu": {},
   "number_sections": true,
   "sideBar": true,
   "skip_h1_title": false,
   "title_cell": "Table of Contents",
   "title_sidebar": "Contents",
   "toc_cell": false,
   "toc_position": {
    "height": "calc(100% - 180px)",
    "left": "10px",
    "top": "150px",
    "width": "269.717px"
   },
   "toc_section_display": true,
   "toc_window_display": false
  },
  "varInspector": {
   "cols": {
    "lenName": 16,
    "lenType": 16,
    "lenVar": 40
   },
   "kernels_config": {
    "python": {
     "delete_cmd_postfix": "",
     "delete_cmd_prefix": "del ",
     "library": "var_list.py",
     "varRefreshCmd": "print(var_dic_list())"
    },
    "r": {
     "delete_cmd_postfix": ") ",
     "delete_cmd_prefix": "rm(",
     "library": "var_list.r",
     "varRefreshCmd": "cat(var_dic_list()) "
    }
   },
   "types_to_exclude": [
    "module",
    "function",
    "builtin_function_or_method",
    "instance",
    "_Feature"
   ],
   "window_display": false
  },
  "vscode": {
   "interpreter": {
    "hash": "4e0ad5cd685f605243be6d7c3fe64241640606e353ead897f9e91cb65cb92c21"
   }
  }
 },
 "nbformat": 4,
 "nbformat_minor": 4
}
