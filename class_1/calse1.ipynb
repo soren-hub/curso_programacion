{
 "cells": [
  {
   "attachments": {},
   "cell_type": "markdown",
   "metadata": {},
   "source": [
    "# Bienvenidos al mundo único pero no exclusivo de la programación en python \n",
    "\n",
    "# ¿Qué es python?\n",
    " \n",
    "Python es un lenguaje de programación de alto nivel y fácil de aprender, que se utiliza ampliamente en una variedad de campos, incluyendo la ciencia de datos, el desarrollo de aplicaciones web y la automatización de tareas. \n",
    "\n",
    "# ¿Por qué aprender python?\n",
    "\n",
    "1. Es un lenguaje de programación muy versátil que puede usarse para hacer muchas cosas diferentes, como crear aplicaciones, analizar datos, automatizar tareas y más.\n",
    "\n",
    "2. Es fácil de aprender y usar, incluso para aquellos que no tienen experiencia previa en programación.\n",
    "\n",
    "3. Hay una gran cantidad de recursos y personas disponibles para ayudarte a aprender y usar Python.\n",
    "\n",
    "4. Hay una gran demanda de profesionales que sepan Python en el mercado laboral, por lo que aprender Python puede abrirte puertas a nuevas oportunidades de trabajo o carrera.\n",
    "\n",
    "5. Puede ser divertido y gratificante aprender a programar y ver tus ideas convertirse en realidad a través del código.\n",
    "\n",
    "# Recursos :\n",
    "\n",
    "1. Python-Cookbook:\n",
    "   * http://bedford-computing.co.uk/learning/wp-content/uploads/2015/10/Python-Cookbook-3rd-Edition.pdf\n",
    "  \n",
    "2. Aprende python:\n",
    "   * https://aprendepython.es/\n",
    "\n",
    "3. Documentación oficial de python:\n",
    "   * https://docs.python.org/es/3.9/tutorial/\n",
    "\n",
    "4. Python para todos:\n",
    "   * https://www.py4e.com/lessons\n",
    "\n",
    "5. Github Copilot:\n",
    "   * https://github.com/features/copilot\n",
    "\n",
    "6. Chat GPT:\n",
    "   * https://chat.openai.com/chat\n",
    "\n",
    "\n",
    "# ¿Qué aprenderemos en esta clase?\n",
    "\n",
    "En esta clase, cubriremos los conceptos básicos como los siguientes:\n",
    "\n",
    "* Sintaxis de Python \n",
    "* Incluyendo cómo escribir y ejecutar código, \n",
    "* Cómo trabajar con variables y tipos de datos, \n",
    "* Operadores y expresiones,\n",
    "* Cómo utilizar estructuras de control de flujo como bucles y condicionales.\n",
    "\n"
   ]
  },
  {
   "attachments": {},
   "cell_type": "markdown",
   "metadata": {},
   "source": [
    "## Estructura básica de un programa en Python\n",
    "\n",
    "Un programa en Python comienza con un bloque de código que se ejecuta de arriba hacia abajo. Las líneas de código se separan con saltos de línea, y pueden ser identadas para formar bloques de código.\n",
    "\n",
    "Por ejemplo, aquí hay un programa sencillo que imprime un mensaje en pantalla:"
   ]
  },
  {
   "cell_type": "code",
   "execution_count": 1,
   "metadata": {},
   "outputs": [
    {
     "name": "stdout",
     "output_type": "stream",
     "text": [
      "Hola, mundo!\n",
      "Bienvenidos a la clase de introducción a Python\n"
     ]
    }
   ],
   "source": [
    "print(\"Hola, mundo!\")\n",
    "print(\"Bienvenidos a la clase de introducción a Python\")"
   ]
  },
  {
   "attachments": {},
   "cell_type": "markdown",
   "metadata": {},
   "source": [
    "En Python, puedes escribir comentarios en el código utilizando el signo de # al principio de la línea. Los comentarios no son parte del código en sí, sino que se utilizan para proporcionar explicaciones y documentación sobre el código."
   ]
  },
  {
   "cell_type": "code",
   "execution_count": 7,
   "metadata": {},
   "outputs": [],
   "source": [
    "# Este es un comentario\n",
    "# Puedes escribir varias líneas de comentarios seguidas\n",
    "# Estos comentarios no afectan al código en sí"
   ]
  },
  {
   "attachments": {},
   "cell_type": "markdown",
   "metadata": {},
   "source": [
    "## Variables y tipos de datos"
   ]
  },
  {
   "attachments": {},
   "cell_type": "markdown",
   "metadata": {},
   "source": [
    "```python\n",
    "variable = asignacion de variable \n",
    "```"
   ]
  },
  {
   "cell_type": "code",
   "execution_count": 5,
   "metadata": {},
   "outputs": [],
   "source": [
    "\n",
    "x = 10  # x es un entero\n",
    "y = 3.14  # y es un flotante\n",
    "nombre = \"Juan\"  # nombre es una cadena de caracteres\n",
    "es_mayor_de_edad = True  # es_mayor_de_edad es un booleano\n",
    "\n",
    "lista = [1, 2, 3, 4, 5, \"Hola\", 3.14, True] #una lista \n",
    "\n",
    "tupla = (1, 2, 3, 4, 5, \"Hola\", 3.14, True) #una tupla\n",
    "\n",
    "diccionarios = {\n",
    "    \"nombre\": \"Juan\", \n",
    "    \"edad\": 20,\n",
    "    \"es_mayor_de_edad\": True,\n",
    "    \"lista\": [1, 2, 3, 4, 5]\n",
    "} #un diccionario\n",
    " \n",
    "sets = {\n",
    "    1, 2, 3, 4, 5, \"Hola\", 3.14, True\n",
    "    } #un set \n",
    "     "
   ]
  },
  {
   "cell_type": "code",
   "execution_count": 6,
   "metadata": {},
   "outputs": [
    {
     "name": "stdout",
     "output_type": "stream",
     "text": [
      "{1, 2, 3, 4, 5, 3.14, 'Hola'}\n"
     ]
    }
   ],
   "source": [
    "print(sets)"
   ]
  },
  {
   "attachments": {},
   "cell_type": "markdown",
   "metadata": {},
   "source": [
    "## Funciones nativas y externas \n",
    "\n",
    "Python tiene un gran conjunto de funciones y módulos integrados que puede usar para realizar una amplia variedad de tareas, desde la manipulación de cadenas de texto hasta la realización de operaciones matemáticas complejas. También puede importar módulos adicionales de la biblioteca estándar de Python o de módulos de terceros para ampliar aún más sus capacidades.\n",
    "\n",
    "* Ejemplo de una función de integradas en Python:\n",
    "\n",
    "    * print(): Imprime un mensaje en pantalla\n",
    "    * type(): Devuelve el tipo de una variable\n",
    "    * len(): Devuelve la longitud de una variable\n",
    "    * input(): Pide al usuario que ingrese un valor\n",
    "\n",
    "* Algunas librerías internas de python: \n",
    "\n",
    "    *  math: funciones matemáticas\n",
    "    *  random: funciones aleatorias\n",
    "    *  datetime: funciones de fecha y hora\n",
    "    *  os: funciones del sistema operativo\n",
    "    \n",
    "* Algunas librerías externas de python: \n",
    "\n",
    "    * numpy: funciones matemáticas\n",
    "    * pandas: funciones de análisis de datos\n",
    "    * matplotlib: funciones de visualización de datos\n",
    "    * scikit-learn: funciones de machine learning\n"
   ]
  },
  {
   "attachments": {},
   "cell_type": "markdown",
   "metadata": {},
   "source": [
    "Podemos verificar el tipo de una variable utilizando la función built-in type(). Por ejemplo:"
   ]
  },
  {
   "cell_type": "code",
   "execution_count": null,
   "metadata": {},
   "outputs": [],
   "source": [
    "print(type(x))  # imprime <class 'int'>\n",
    "print(type(y))  # imprime <class 'float'>\n",
    "print(type(nombre))  # imprime <class 'str'>\n",
    "print(type(es_mayor_de_edad))  # imprime <class 'bool'>"
   ]
  },
  {
   "cell_type": "code",
   "execution_count": null,
   "metadata": {},
   "outputs": [],
   "source": [
    "# Variables en una sola línea. ¡Cuidado con abusar de esta sintaxis!\n",
    "name, surname, alias, age = \"joaquin\", \"rohland\", 'joaco', 24\n",
    "print(\n",
    "      \"Me llamo:\", name, surname,\n",
    "      \". Mi edad es:\", age,\n",
    "      \". Y mi alias es:\", alias\n",
    ")"
   ]
  },
  {
   "attachments": {},
   "cell_type": "markdown",
   "metadata": {},
   "source": [
    "# Interacción con usuario"
   ]
  },
  {
   "cell_type": "code",
   "execution_count": null,
   "metadata": {},
   "outputs": [],
   "source": [
    "# Inputs\n",
    "name = input('¿Cuál es tu nombre? ')\n",
    "age = input('¿Cuántos años tienes? ')\n",
    "print(name)\n",
    "print(age)\n",
    "\n",
    "# Cambiamos su tipo\n",
    "name = 35\n",
    "age = \"Brais\"\n",
    "print(name)\n",
    "print(age)\n",
    "\n",
    "# ¿Forzamos el tipo?\n",
    "address: str = \"Mi dirección\"\n",
    "address = True\n",
    "address = 5\n",
    "address = 1.2\n",
    "print(type(address))"
   ]
  },
  {
   "attachments": {},
   "cell_type": "markdown",
   "metadata": {},
   "source": [
    "# Ejercicios propuestos:\n",
    "\n",
    "1. Crea variables para almacenar tu nombre, edad y altura, y luego imprime estos valores en pantalla.\n",
    "\n",
    "2. Crea una variable para almacenar un número entero y otra para almacenar un número flotante. Realiza operaciones aritméticas con ambas variables y observa el resultado.\n",
    "\n",
    "3. Crea una variable para almacenar una cadena de caracteres y otra para almacenar un valor booleano. Imprime los valores de estas variables en pantalla y prueba algunas operaciones lógicas con ellas.\n",
    "\n",
    "4. Escribe un programa que lea dos números enteros del usuario y muestre el resultado de sumarlos, restarlos, multiplicarlos y dividirlos.\n",
    "\n",
    "5. Escribe un programa que lea una frase del usuario y cuente cuántas veces se repite cada letra en la frase.\n",
    "\n",
    "6. Escribe un programa que lea una fecha del usuario en formato \"dd/mm/aaaa\" y conviértala a formato \"aaaa-mm-dd\"."
   ]
  },
  {
   "cell_type": "code",
   "execution_count": null,
   "metadata": {},
   "outputs": [],
   "source": []
  },
  {
   "cell_type": "code",
   "execution_count": null,
   "metadata": {},
   "outputs": [],
   "source": []
  }
 ],
 "metadata": {
  "kernelspec": {
   "display_name": "model-chain-torch",
   "language": "python",
   "name": "python3"
  },
  "language_info": {
   "codemirror_mode": {
    "name": "ipython",
    "version": 3
   },
   "file_extension": ".py",
   "mimetype": "text/x-python",
   "name": "python",
   "nbconvert_exporter": "python",
   "pygments_lexer": "ipython3",
   "version": "3.9.13"
  },
  "orig_nbformat": 4,
  "vscode": {
   "interpreter": {
    "hash": "60bcaf085a2b53a717294cab3711cda615bb4acd2b3c7f620853f26e14e61f81"
   }
  }
 },
 "nbformat": 4,
 "nbformat_minor": 2
}
