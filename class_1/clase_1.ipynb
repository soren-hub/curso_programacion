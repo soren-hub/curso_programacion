{
 "cells": [
  {
   "attachments": {},
   "cell_type": "markdown",
   "metadata": {},
   "source": [
    "# Bienvenidos al mundo único pero no exclusivo de la programación en python \n",
    "\n",
    "# ¿Qué es python?\n",
    " \n",
    "Python es un lenguaje de programación de alto nivel y fácil de aprender, que se utiliza ampliamente en una variedad de campos, incluyendo la ciencia de datos, el desarrollo de aplicaciones web y la automatización de tareas. \n",
    "\n",
    "# ¿Por qué aprender python?\n",
    "\n",
    "1. Es un lenguaje de programación muy versátil que puede usarse para hacer muchas cosas diferentes, como crear aplicaciones, analizar datos, automatizar tareas y más.\n",
    "\n",
    "2. Es fácil de aprender y usar, incluso para aquellos que no tienen experiencia previa en programación.\n",
    "\n",
    "3. Hay una gran cantidad de recursos y personas disponibles para ayudarte a aprender y usar Python.\n",
    "\n",
    "4. Hay una gran demanda de profesionales que sepan Python en el mercado laboral, por lo que aprender Python puede abrirte puertas a nuevas oportunidades de trabajo o carrera.\n",
    "\n",
    "5. Puede ser divertido y gratificante aprender a programar y ver tus ideas convertirse en realidad a través del código.\n",
    "\n",
    "# Recursos :\n",
    "\n",
    "1. Python-Cookbook:\n",
    "   * http://bedford-computing.co.uk/learning/wp-content/uploads/2015/10/Python-Cookbook-3rd-Edition.pdf\n",
    "  \n",
    "2. Aprende python:\n",
    "   * https://aprendepython.es/\n",
    "\n",
    "3. Documentación oficial de python:\n",
    "   * https://docs.python.org/es/3.9/tutorial/\n",
    "\n",
    "4. Python para todos:\n",
    "   * https://www.py4e.com/lessons\n",
    "\n",
    "5. Github Copilot:\n",
    "   * https://github.com/features/copilot\n",
    "\n",
    "6. Chat GPT:\n",
    "   * https://chat.openai.com/chat\n",
    "\n",
    "\n",
    "# ¿Qué aprenderemos en esta clase?\n",
    "\n",
    "En esta clase, cubriremos los conceptos básicos como los siguientes:\n",
    "\n",
    "* Sintaxis de Python \n",
    "* Incluyendo cómo escribir y ejecutar código, \n",
    "* Cómo trabajar con variables y tipos de datos, \n",
    "* Operadores y expresiones,\n",
    "* Cómo utilizar estructuras de control de flujo como bucles y condicionales.\n",
    "\n"
   ]
  },
  {
   "attachments": {},
   "cell_type": "markdown",
   "metadata": {},
   "source": [
    "## Estructura básica de un programa en Python\n",
    "\n",
    "Un programa en Python comienza con un bloque de código que se ejecuta de arriba hacia abajo. Las líneas de código se separan con saltos de línea, y pueden ser identadas para formar bloques de código.\n",
    "\n",
    "Por ejemplo, aquí hay un programa sencillo que imprime un mensaje en pantalla:"
   ]
  },
  {
   "cell_type": "code",
   "execution_count": 1,
   "metadata": {},
   "outputs": [
    {
     "name": "stdout",
     "output_type": "stream",
     "text": [
      "Hola, mundo!\n",
      "Bienvenidos a la clase de introducción a Python\n"
     ]
    }
   ],
   "source": [
    "print(\"Hola, mundo!\")\n",
    "print(\"Bienvenidos a la clase de introducción a Python\")"
   ]
  },
  {
   "attachments": {},
   "cell_type": "markdown",
   "metadata": {},
   "source": [
    "En Python, puedes escribir comentarios en el código utilizando el signo de # al principio de la línea. Los comentarios no son parte del código en sí, sino que se utilizan para proporcionar explicaciones y documentación sobre el código."
   ]
  },
  {
   "cell_type": "code",
   "execution_count": 7,
   "metadata": {},
   "outputs": [],
   "source": [
    "# Este es un comentario\n",
    "# Puedes escribir varias líneas de comentarios seguidas\n",
    "# Estos comentarios no afectan al código en sí"
   ]
  },
  {
   "attachments": {},
   "cell_type": "markdown",
   "metadata": {},
   "source": [
    "## Variables y tipos de datos\n",
    "\n",
    "Las variables son un bloque fundamental en la programación: Son el medio que nos permite vincular un identificador/variable con valores/datos. En Python se definen por medio de una **sentencia de asignación** usando el operador =.\n",
    "\n",
    "**Nota**: Una sentencia es una instrucción que el intérprete de Python puede ejecutar\n",
    "\n",
    "De manera abstracta, una sentencia de asignación tiene la siguiente forma:\n",
    "\n",
    "```python\n",
    "variable = asignación de variable \n",
    "```\n",
    "\n",
    "Ejemplo:"
   ]
  },
  {
   "cell_type": "code",
   "execution_count": 9,
   "metadata": {},
   "outputs": [],
   "source": [
    "variable = 9 "
   ]
  },
  {
   "attachments": {},
   "cell_type": "markdown",
   "metadata": {},
   "source": [
    "Pueden imprimir el valor que tiene una variable utilizando la función \n",
    "\n",
    "```python\n",
    "print(nombre_de_la_variable)\n",
    "```"
   ]
  },
  {
   "cell_type": "code",
   "execution_count": 10,
   "metadata": {},
   "outputs": [
    {
     "name": "stdout",
     "output_type": "stream",
     "text": [
      "9\n"
     ]
    }
   ],
   "source": [
    "print(variable)"
   ]
  },
  {
   "attachments": {},
   "cell_type": "markdown",
   "metadata": {},
   "source": [
    "O cuando estén ejecutando un Jupyter Notebook, pueden ver el valor de la variable poniendo esta al final de una celda."
   ]
  },
  {
   "cell_type": "code",
   "execution_count": 11,
   "metadata": {},
   "outputs": [
    {
     "data": {
      "text/plain": [
       "9"
      ]
     },
     "execution_count": 11,
     "metadata": {},
     "output_type": "execute_result"
    }
   ],
   "source": [
    "# esto es una variable\n",
    "variable"
   ]
  },
  {
   "attachments": {},
   "cell_type": "markdown",
   "metadata": {},
   "source": [
    "### Convenciones para Nombrar Variables\n",
    "\n",
    "Estas son las convenciones que se ocupan normalmente en `python` al escribir código y que **utilizaremos en el curso**.\n",
    "\n",
    "- Variables y funciones:\n",
    "\n",
    "```python\n",
    "entero = 10\n",
    "entero_mas_grande = 100\n",
    "una_funcion_cualquiera\n",
    "```\n",
    "\n",
    "- Constantes (identificadores que no deberían cambiar a futuro): \n",
    "```python\n",
    "PI = 3.14\n",
    "GRAVEDAD_EN_MARTE = 3.711\n",
    "```\n",
    "\n",
    "> **Pregunta**: ¿Pueden cambiar los valores de las constantes?"
   ]
  },
  {
   "attachments": {},
   "cell_type": "markdown",
   "metadata": {},
   "source": [
    "## Tipos de Datos\n",
    "\n",
    "A continuación veremos los tipos de datos básicos o literales: **datos en bruto** que se asignan a variables.\n",
    "\n",
    "\n",
    "### Tipos de Datos Básicos\n",
    "\n",
    "#### Integers\n",
    "\n",
    "Números enteros creados sin parte compleja ni posiciones decimales. En este tipo de de dato es posible realizar las operaciones de división entera."
   ]
  },
  {
   "cell_type": "code",
   "execution_count": null,
   "metadata": {},
   "outputs": [],
   "source": [
    "x = 10  # x es un entero"
   ]
  },
  {
   "attachments": {},
   "cell_type": "markdown",
   "metadata": {},
   "source": [
    "#### Floats\n",
    "\n",
    "Valores numéricos de punto flotante, pueden ser creados agregando posiciones decimales ej: ```0.87```"
   ]
  },
  {
   "cell_type": "code",
   "execution_count": null,
   "metadata": {},
   "outputs": [],
   "source": [
    "numero_flotante = 9.2344\n",
    "numero_flotante"
   ]
  },
  {
   "attachments": {},
   "cell_type": "markdown",
   "metadata": {},
   "source": [
    "#### Complex\n",
    "\n",
    "Números complejos, se pueden crear utilizando la notación ```a + bj``` donde ```a``` es la parte real y ```b``` es la parte compleja."
   ]
  },
  {
   "cell_type": "code",
   "execution_count": null,
   "metadata": {},
   "outputs": [],
   "source": [
    "numero_complejo = 10 + 1j\n",
    "numero_complejo"
   ]
  },
  {
   "attachments": {},
   "cell_type": "markdown",
   "metadata": {},
   "source": [
    "#### Booleans/Bools\n",
    "\n",
    "Valores de verdad `True` o `False`."
   ]
  },
  {
   "cell_type": "code",
   "execution_count": 12,
   "metadata": {},
   "outputs": [
    {
     "data": {
      "text/plain": [
       "True"
      ]
     },
     "execution_count": 12,
     "metadata": {},
     "output_type": "execute_result"
    }
   ],
   "source": [
    "tengo_hambre = True\n",
    "tengo_hambre"
   ]
  },
  {
   "attachments": {},
   "cell_type": "markdown",
   "metadata": {},
   "source": [
    "#### `None`\n",
    "\n",
    "Tipo especial (pronunciado *nan*) que representa que la variable tiene un valor inespecífico."
   ]
  },
  {
   "cell_type": "code",
   "execution_count": null,
   "metadata": {},
   "outputs": [],
   "source": [
    "variable_sin_ningún_valor = None\n",
    "variable_sin_ningún_valor"
   ]
  },
  {
   "cell_type": "code",
   "execution_count": null,
   "metadata": {},
   "outputs": [],
   "source": [
    "print(variable_sin_ningún_valor)"
   ]
  },
  {
   "cell_type": "code",
   "execution_count": null,
   "metadata": {},
   "outputs": [],
   "source": [
    "variable_sin_ningún_valor"
   ]
  },
  {
   "attachments": {},
   "cell_type": "markdown",
   "metadata": {},
   "source": [
    "### Sets \n",
    "\n",
    "Los conjuntos son una colección de elementos únicos. Los conjuntos se pueden crear utilizando la función `set()` o utilizando llaves `{}`."
   ]
  },
  {
   "cell_type": "code",
   "execution_count": null,
   "metadata": {},
   "outputs": [],
   "source": [
    "conjunto = set([1, 2, 3, 4, 5])\n",
    "conjunto = {1, 2, 3, 4, 5}"
   ]
  },
  {
   "attachments": {},
   "cell_type": "markdown",
   "metadata": {},
   "source": [
    "### Diccionarios\n",
    " \n",
    "Los diccionarios son una colección de pares de elementos, donde cada elemento tiene una clave y un valor. Los diccionarios se pueden crear utilizando la función `dict()` o utilizando llaves `{}`.  "
   ]
  },
  {
   "cell_type": "code",
   "execution_count": null,
   "metadata": {},
   "outputs": [],
   "source": [
    "diccionarios = {\n",
    "    \"nombre\": \"joaquin\", \n",
    "    \"edad\": 24,\n",
    "    \"es_mayor_de_edad\": True,\n",
    "    \"lista_de_cursos\": ['python', 'matlab']\n",
    "}\n",
    "print(diccionarios)"
   ]
  },
  {
   "attachments": {},
   "cell_type": "markdown",
   "metadata": {},
   "source": [
    "### Consideraciones \n",
    "\n",
    "Aunque en Python no es necesario declarar explícitamente el tipo de datos de una variable al asignarle un valor, esto no significa que podamos realizar cualquier tipo de operación con cualquier tipo de datos. Es decir, no está permitido realizar operaciones entre tipos de datos distintos (como, por ejemplo, tratar de elevar un string al cuadrado). Sin embargo, Python ofrece la posibilidad de convertir el tipo de datos de una variable mediante la conversión de datos, lo que nos permite realizar ciertas operaciones que de otra manera no serían posibles."
   ]
  },
  {
   "cell_type": "code",
   "execution_count": null,
   "metadata": {},
   "outputs": [],
   "source": [
    "num_entero = 100\n",
    "\n",
    "num_entero + \"20\""
   ]
  },
  {
   "attachments": {},
   "cell_type": "markdown",
   "metadata": {},
   "source": [
    "## Transformar Datos a Otros Tipos\n",
    "\n",
    "Podemos usar las funciones \n",
    "\n",
    "- `int()`\n",
    "- `float()`\n",
    "- `str()`\n",
    "- etc...\n",
    "\n",
    "para transformar un dato de un tipo determinado en otro."
   ]
  },
  {
   "attachments": {},
   "cell_type": "markdown",
   "metadata": {},
   "source": [
    "### Entero a flotante"
   ]
  },
  {
   "cell_type": "code",
   "execution_count": 14,
   "metadata": {},
   "outputs": [
    {
     "data": {
      "text/plain": [
       "3.0"
      ]
     },
     "execution_count": 14,
     "metadata": {},
     "output_type": "execute_result"
    }
   ],
   "source": [
    "float(3)"
   ]
  },
  {
   "attachments": {},
   "cell_type": "markdown",
   "metadata": {},
   "source": [
    "### Flotante a entero\n",
    "\n",
    "Ojo que pierde la parte decimal."
   ]
  },
  {
   "cell_type": "code",
   "execution_count": null,
   "metadata": {},
   "outputs": [],
   "source": [
    "int(3.14)"
   ]
  },
  {
   "attachments": {},
   "cell_type": "markdown",
   "metadata": {},
   "source": [
    "### Strings\n",
    "\n",
    "Casi todos los datos pueden ser convertidos a string."
   ]
  },
  {
   "cell_type": "code",
   "execution_count": null,
   "metadata": {},
   "outputs": [],
   "source": [
    "str(3)"
   ]
  },
  {
   "attachments": {},
   "cell_type": "markdown",
   "metadata": {},
   "source": [
    "Pero hay que tener mucho cuidado con la operación al revés, ya que python intentará convertirlo o \"*morira en el intento*\""
   ]
  },
  {
   "cell_type": "code",
   "execution_count": null,
   "metadata": {},
   "outputs": [],
   "source": [
    "float('3.13aa')"
   ]
  },
  {
   "attachments": {},
   "cell_type": "markdown",
   "metadata": {},
   "source": [
    "## Funciones nativas y externas \n",
    "\n",
    "Python tiene un gran conjunto de funciones y módulos integrados que puede usar para realizar una amplia variedad de tareas, desde la manipulación de cadenas de texto hasta la realización de operaciones matemáticas complejas. También puede importar módulos adicionales de la biblioteca estándar de Python o de módulos de terceros para ampliar aún más sus capacidades.\n",
    "\n",
    "* Ejemplo de una función de integradas en Python:\n",
    "\n",
    "    * print(): Imprime un mensaje en pantalla\n",
    "    * type(): Devuelve el tipo de una variable\n",
    "    * len(): Devuelve la longitud de una variable\n",
    "    * input(): Pide al usuario que ingrese un valor\n",
    "\n",
    "* Algunas librerías internas de python: \n",
    "\n",
    "    *  math: funciones matemáticas\n",
    "    *  random: funciones aleatorias\n",
    "    *  datetime: funciones de fecha y hora\n",
    "    *  os: funciones del sistema operativo\n",
    "    \n",
    "* Algunas librerías externas de python: \n",
    "\n",
    "    * numpy: funciones matemáticas\n",
    "    * pandas: funciones de análisis de datos\n",
    "    * matplotlib: funciones de visualización de datos\n",
    "    * scikit-learn: funciones de machine learning\n"
   ]
  },
  {
   "attachments": {},
   "cell_type": "markdown",
   "metadata": {},
   "source": [
    "Podemos verificar el tipo de una variable utilizando la función built-in type(). Por ejemplo:"
   ]
  },
  {
   "cell_type": "code",
   "execution_count": null,
   "metadata": {},
   "outputs": [],
   "source": [
    "print(type(x))  # imprime <class 'int'>\n",
    "print(type(y))  # imprime <class 'float'>\n",
    "print(type(nombre))  # imprime <class 'str'>\n",
    "print(type(es_mayor_de_edad))  # imprime <class 'bool'>"
   ]
  },
  {
   "attachments": {},
   "cell_type": "markdown",
   "metadata": {},
   "source": [
    "### Verificar tipo de dato con `isinstance`\n",
    "\n",
    "La función `isinstance` permite \"preguntar\" si una variable contiene un tipo de dato específico."
   ]
  },
  {
   "cell_type": "code",
   "execution_count": null,
   "metadata": {},
   "outputs": [],
   "source": [
    "isinstance(x, int)"
   ]
  },
  {
   "attachments": {},
   "cell_type": "markdown",
   "metadata": {},
   "source": [
    "### Variables en una sola linea"
   ]
  },
  {
   "cell_type": "code",
   "execution_count": 13,
   "metadata": {},
   "outputs": [
    {
     "name": "stdout",
     "output_type": "stream",
     "text": [
      "Me llamo: joaquin rohland . Mi edad es: 24 . Y mi alias es: joaco\n"
     ]
    }
   ],
   "source": [
    "# Variables en una sola línea. ¡Cuidado con abusar de esta sintaxis!\n",
    "name, surname, alias, age = \"joaquin\", \"rohland\", 'kairos', 24\n",
    "print(\n",
    "      \"Me llamo:\", name, surname,\n",
    "      \". Mi edad es:\", age,\n",
    "      \". Y mi alias es:\", alias\n",
    ")"
   ]
  },
  {
   "attachments": {},
   "cell_type": "markdown",
   "metadata": {},
   "source": [
    "## Operaciones entre datos:\n",
    "\n",
    "Los operadores son símbolos o palabras clave especiales que nos permiten realizar operaciones aritméticas o lógicas con los datos. Los operadores aritméticos incluyen \n",
    "\n",
    "Aritméticas:\n",
    "\n",
    "- `+` \n",
    "- `-` \n",
    "- `*`\n",
    "- `/`\n",
    "- `//` (división entera)\n",
    "- `%` (módulo) \n",
    "\n",
    "Comparación e igualdad:\n",
    "\n",
    "- `>` y `>=`\n",
    "- `<` y `<=`\n",
    "- `==`\n",
    "\n",
    "Lógicas:\n",
    "\n",
    "- `and`\n",
    "- `or`\n",
    "- `not`\n",
    "- `is`\n",
    "- `in`\n",
    "- `not in`"
   ]
  },
  {
   "attachments": {},
   "cell_type": "markdown",
   "metadata": {},
   "source": [
    "### Expresión\n",
    "\n",
    "Una expresión es una combinación de valores, variables y operadores que pueden ser evaluadas por el interprete.\n"
   ]
  },
  {
   "cell_type": "markdown",
   "metadata": {},
   "source": []
  },
  {
   "cell_type": "code",
   "execution_count": null,
   "metadata": {},
   "outputs": [],
   "source": []
  },
  {
   "cell_type": "markdown",
   "id": "stuck-dollar",
   "metadata": {
    "ExecuteTime": {
     "end_time": "2021-03-22T15:06:13.576207Z",
     "start_time": "2021-03-22T15:06:13.565203Z"
    }
   },
   "source": [
    "### Operadores Aritméticos y de Comparación e Igualdad"
   ]
  },
  {
   "cell_type": "markdown",
   "id": "9accd2b6-cf36-4f16-bbc4-2e0f9b55c3a6",
   "metadata": {},
   "source": [
    "#### Suma"
   ]
  },
  {
   "cell_type": "code",
   "execution_count": null,
   "id": "joined-deviation",
   "metadata": {
    "ExecuteTime": {
     "end_time": "2021-03-22T19:35:19.329013Z",
     "start_time": "2021-03-22T19:35:19.320006Z"
    }
   },
   "outputs": [
    {
     "data": {
      "text/plain": [
       "7"
      ]
     },
     "metadata": {},
     "output_type": "display_data"
    }
   ],
   "source": [
    "5 + 2"
   ]
  },
  {
   "cell_type": "markdown",
   "id": "d0d90047-e85e-4280-964e-a31f01420199",
   "metadata": {},
   "source": [
    "#### Resta"
   ]
  },
  {
   "cell_type": "code",
   "execution_count": null,
   "id": "a1e071e8-7b19-4b72-bb7f-7afcb43ccaf2",
   "metadata": {},
   "outputs": [
    {
     "data": {
      "text/plain": [
       "3"
      ]
     },
     "metadata": {},
     "output_type": "display_data"
    }
   ],
   "source": [
    "5 - 2"
   ]
  },
  {
   "cell_type": "markdown",
   "id": "f1af6141-e8ed-49c8-9032-3f963443484e",
   "metadata": {},
   "source": [
    "#### Multiplicación"
   ]
  },
  {
   "cell_type": "code",
   "execution_count": null,
   "id": "joined-interface",
   "metadata": {
    "ExecuteTime": {
     "end_time": "2021-03-22T19:35:21.891720Z",
     "start_time": "2021-03-22T19:35:21.876721Z"
    }
   },
   "outputs": [
    {
     "data": {
      "text/plain": [
       "10"
      ]
     },
     "metadata": {},
     "output_type": "display_data"
    }
   ],
   "source": [
    "5 * 2"
   ]
  },
  {
   "cell_type": "markdown",
   "id": "fe629f57-6c0d-42c5-ab44-9c9574cc78d9",
   "metadata": {},
   "source": [
    "#### División"
   ]
  },
  {
   "cell_type": "code",
   "execution_count": null,
   "id": "ordered-religious",
   "metadata": {
    "ExecuteTime": {
     "end_time": "2021-03-22T19:35:22.736640Z",
     "start_time": "2021-03-22T19:35:22.725640Z"
    }
   },
   "outputs": [
    {
     "data": {
      "text/plain": [
       "2.5"
      ]
     },
     "metadata": {},
     "output_type": "display_data"
    }
   ],
   "source": [
    "5 / 2"
   ]
  },
  {
   "cell_type": "markdown",
   "id": "d3916c1b-6a55-4d58-89dd-a894f89fc06a",
   "metadata": {},
   "source": [
    "#### División Entera\n",
    "\n",
    "Conserva solo la parte entera de la división."
   ]
  },
  {
   "cell_type": "code",
   "execution_count": null,
   "id": "correct-romantic",
   "metadata": {
    "ExecuteTime": {
     "end_time": "2021-03-22T19:35:24.591066Z",
     "start_time": "2021-03-22T19:35:24.571007Z"
    }
   },
   "outputs": [
    {
     "data": {
      "text/plain": [
       "2"
      ]
     },
     "metadata": {},
     "output_type": "display_data"
    }
   ],
   "source": [
    "5 // 2"
   ]
  },
  {
   "cell_type": "markdown",
   "id": "according-cabin",
   "metadata": {},
   "source": [
    "> **Pregunta ❓**: ¿Qué sucede con `//` con al operarlos con datos de tipo `float`?"
   ]
  },
  {
   "cell_type": "code",
   "execution_count": null,
   "id": "coral-satin",
   "metadata": {
    "ExecuteTime": {
     "end_time": "2021-03-22T19:36:41.810644Z",
     "start_time": "2021-03-22T19:36:41.789647Z"
    }
   },
   "outputs": [
    {
     "data": {
      "text/plain": [
       "1.25"
      ]
     },
     "metadata": {},
     "output_type": "display_data"
    }
   ],
   "source": [
    "2.5 / 2.0"
   ]
  },
  {
   "cell_type": "code",
   "execution_count": null,
   "id": "former-bermuda",
   "metadata": {
    "ExecuteTime": {
     "end_time": "2021-03-22T19:36:57.964286Z",
     "start_time": "2021-03-22T19:36:57.946286Z"
    },
    "scrolled": true
   },
   "outputs": [
    {
     "data": {
      "text/plain": [
       "1.0"
      ]
     },
     "metadata": {},
     "output_type": "display_data"
    }
   ],
   "source": [
    "2.5 // 2.0"
   ]
  },
  {
   "cell_type": "markdown",
   "id": "f1b3b93e-01cb-425d-9b4e-947ca43e0d00",
   "metadata": {},
   "source": [
    "#### Módulo (resto) de una división\n"
   ]
  },
  {
   "cell_type": "code",
   "execution_count": null,
   "id": "martial-bonus",
   "metadata": {
    "ExecuteTime": {
     "end_time": "2021-03-22T19:35:27.157300Z",
     "start_time": "2021-03-22T19:35:27.139301Z"
    },
    "scrolled": true
   },
   "outputs": [
    {
     "data": {
      "text/plain": [
       "1"
      ]
     },
     "metadata": {},
     "output_type": "display_data"
    }
   ],
   "source": [
    "5 % 2"
   ]
  },
  {
   "cell_type": "markdown",
   "id": "56e4cb85-0ba1-4611-abad-86dc4837a0c8",
   "metadata": {},
   "source": [
    "#### Potenciación \n",
    "\n",
    "2 elevado a 3:"
   ]
  },
  {
   "cell_type": "code",
   "execution_count": null,
   "id": "narrow-salmon",
   "metadata": {
    "ExecuteTime": {
     "end_time": "2021-03-22T19:35:48.238020Z",
     "start_time": "2021-03-22T19:35:48.220022Z"
    }
   },
   "outputs": [
    {
     "data": {
      "text/plain": [
       "8"
      ]
     },
     "metadata": {},
     "output_type": "display_data"
    }
   ],
   "source": [
    "2 ** 3"
   ]
  },
  {
   "cell_type": "code",
   "execution_count": null,
   "id": "c28e9fb5-ce62-4fe8-9c33-0ca0c01aae5a",
   "metadata": {},
   "outputs": [
    {
     "data": {
      "text/plain": [
       "0.125"
      ]
     },
     "metadata": {},
     "output_type": "display_data"
    }
   ],
   "source": [
    "2 ** -3"
   ]
  },
  {
   "cell_type": "code",
   "execution_count": null,
   "id": "0484298a-a8c4-46e5-a9dd-150269793eff",
   "metadata": {},
   "outputs": [
    {
     "data": {
      "text/plain": [
       "0.10632848158618281"
      ]
     },
     "metadata": {},
     "output_type": "display_data"
    }
   ],
   "source": [
    "2 ** -3.2334"
   ]
  },
  {
   "cell_type": "markdown",
   "id": "starting-timeline",
   "metadata": {
    "ExecuteTime": {
     "end_time": "2021-03-22T16:35:35.923564Z",
     "start_time": "2021-03-22T16:35:35.905524Z"
    }
   },
   "source": [
    "### Operadores de Comparación e Igualdad:"
   ]
  },
  {
   "cell_type": "markdown",
   "id": "6a2b026d-02c2-4630-b5e7-6426295d66f1",
   "metadata": {},
   "source": [
    "#### Igualdad"
   ]
  },
  {
   "cell_type": "code",
   "execution_count": null,
   "id": "2b291f92-1831-4ed0-801a-654b2d8c8fdf",
   "metadata": {},
   "outputs": [
    {
     "data": {
      "text/plain": [
       "True"
      ]
     },
     "metadata": {},
     "output_type": "display_data"
    }
   ],
   "source": [
    "# es 2 igual a 2?\n",
    "2 == 2"
   ]
  },
  {
   "cell_type": "code",
   "execution_count": null,
   "id": "4244aa9c-c268-4e30-9856-755bca4659d9",
   "metadata": {},
   "outputs": [
    {
     "data": {
      "text/plain": [
       "bool"
      ]
     },
     "metadata": {},
     "output_type": "display_data"
    }
   ],
   "source": [
    "type(2 == 2)"
   ]
  },
  {
   "cell_type": "code",
   "execution_count": null,
   "id": "noticed-facility",
   "metadata": {
    "ExecuteTime": {
     "end_time": "2021-03-22T19:37:45.602649Z",
     "start_time": "2021-03-22T19:37:45.583649Z"
    }
   },
   "outputs": [
    {
     "data": {
      "text/plain": [
       "False"
      ]
     },
     "metadata": {},
     "output_type": "display_data"
    }
   ],
   "source": [
    "2 == 4"
   ]
  },
  {
   "cell_type": "markdown",
   "id": "50eba53f-edc9-4b9b-8462-8ba670319d87",
   "metadata": {},
   "source": [
    "> **Pregunta ❓**: ¿Qué sucede con `==` cuando comparamos tipos distintos (`int` con `float` y `string`)?"
   ]
  },
  {
   "cell_type": "code",
   "execution_count": null,
   "id": "crazy-lighting",
   "metadata": {
    "ExecuteTime": {
     "end_time": "2021-03-22T19:38:19.828468Z",
     "start_time": "2021-03-22T19:38:19.808466Z"
    }
   },
   "outputs": [
    {
     "data": {
      "text/plain": [
       "True"
      ]
     },
     "metadata": {},
     "output_type": "display_data"
    }
   ],
   "source": [
    "2 == 2.0"
   ]
  },
  {
   "cell_type": "code",
   "execution_count": null,
   "id": "286893f0-738b-4ca1-93c9-069c35872c65",
   "metadata": {},
   "outputs": [
    {
     "data": {
      "text/plain": [
       "False"
      ]
     },
     "metadata": {},
     "output_type": "display_data"
    }
   ],
   "source": [
    "2 == \"2\""
   ]
  },
  {
   "cell_type": "code",
   "execution_count": null,
   "id": "0f84aab5-35ba-4725-b6e7-4c56565ae649",
   "metadata": {},
   "outputs": [
    {
     "data": {
      "text/plain": [
       "True"
      ]
     },
     "metadata": {},
     "output_type": "display_data"
    }
   ],
   "source": [
    "2 == int(\"2\")"
   ]
  },
  {
   "cell_type": "code",
   "execution_count": null,
   "id": "fdde9f58-e061-43af-ab3a-0f54a882e75e",
   "metadata": {},
   "outputs": [
    {
     "data": {
      "text/plain": [
       "True"
      ]
     },
     "metadata": {},
     "output_type": "display_data"
    }
   ],
   "source": [
    "2 == 2 + 0j"
   ]
  },
  {
   "cell_type": "markdown",
   "id": "a0424b09-7127-4032-93f9-96f3e5db8685",
   "metadata": {},
   "source": [
    "#### Mayor y mayor igual"
   ]
  },
  {
   "cell_type": "code",
   "execution_count": null,
   "id": "invisible-snake",
   "metadata": {
    "ExecuteTime": {
     "end_time": "2021-03-22T19:38:48.700702Z",
     "start_time": "2021-03-22T19:38:48.683700Z"
    }
   },
   "outputs": [
    {
     "data": {
      "text/plain": [
       "False"
      ]
     },
     "metadata": {},
     "output_type": "display_data"
    }
   ],
   "source": [
    "2 > 2"
   ]
  },
  {
   "cell_type": "code",
   "execution_count": null,
   "id": "3b609a2e-5971-404b-ac50-0dc7e76994a3",
   "metadata": {},
   "outputs": [
    {
     "data": {
      "text/plain": [
       "True"
      ]
     },
     "metadata": {},
     "output_type": "display_data"
    }
   ],
   "source": [
    "2 > 1"
   ]
  },
  {
   "cell_type": "code",
   "execution_count": null,
   "id": "f352e7f5-e8fd-448e-a11f-276db5d24282",
   "metadata": {},
   "outputs": [
    {
     "data": {
      "text/plain": [
       "False"
      ]
     },
     "metadata": {},
     "output_type": "display_data"
    }
   ],
   "source": [
    "2 > 3"
   ]
  },
  {
   "cell_type": "code",
   "execution_count": null,
   "id": "8d49b86e-1911-4893-9bc0-2dfe466db800",
   "metadata": {},
   "outputs": [
    {
     "data": {
      "text/plain": [
       "True"
      ]
     },
     "metadata": {},
     "output_type": "display_data"
    }
   ],
   "source": [
    "2 >= 2"
   ]
  },
  {
   "cell_type": "markdown",
   "id": "bd87d1bb-049d-4081-8470-146067f91662",
   "metadata": {},
   "source": [
    "> **Pregunta ❓**: ¿Qué sucede con `>`/`>=` cuando comparamos tipos distintos (`int` con `string`)?"
   ]
  },
  {
   "cell_type": "code",
   "execution_count": null,
   "id": "checked-baker",
   "metadata": {
    "ExecuteTime": {
     "end_time": "2021-03-22T19:39:52.016912Z",
     "start_time": "2021-03-22T19:39:51.989914Z"
    },
    "scrolled": true
   },
   "outputs": [
    {
     "ename": "TypeError",
     "evalue": "'>=' not supported between instances of 'int' and 'str'",
     "output_type": "error",
     "traceback": [
      "\u001b[0;31m---------------------------------------------------------------------------\u001b[0m\n",
      "\u001b[0;31mTypeError\u001b[0m                                 Traceback (most recent call last)\n",
      "Input \u001b[0;32mIn [74]\u001b[0m, in \u001b[0;36m<cell line: 1>\u001b[0;34m()\u001b[0m\n",
      "\u001b[0;32m----> 1\u001b[0m \u001b[38;5;241;43m3\u001b[39;49m\u001b[43m \u001b[49m\u001b[38;5;241;43m>\u001b[39;49m\u001b[38;5;241;43m=\u001b[39;49m\u001b[43m \u001b[49m\u001b[38;5;124;43m\"\u001b[39;49m\u001b[38;5;124;43m3\u001b[39;49m\u001b[38;5;124;43m\"\u001b[39;49m\n",
      "\n",
      "\u001b[0;31mTypeError\u001b[0m: '>=' not supported between instances of 'int' and 'str'"
     ]
    }
   ],
   "source": [
    "3 >= \"3\""
   ]
  },
  {
   "cell_type": "markdown",
   "id": "602938ee-6669-4b35-87ce-02355596ee35",
   "metadata": {},
   "source": [
    "#### Menor y menor igual\n",
    "\n",
    "Mismo caso que el anterior"
   ]
  },
  {
   "cell_type": "code",
   "execution_count": null,
   "id": "916267f8-fef4-40e3-8af5-18d2e5472c25",
   "metadata": {},
   "outputs": [
    {
     "data": {
      "text/plain": [
       "True"
      ]
     },
     "metadata": {},
     "output_type": "display_data"
    }
   ],
   "source": [
    "2 < 3"
   ]
  },
  {
   "cell_type": "code",
   "execution_count": null,
   "id": "93af0c82-99c5-4cf6-abba-26e923b57bf6",
   "metadata": {},
   "outputs": [
    {
     "data": {
      "text/plain": [
       "False"
      ]
     },
     "metadata": {},
     "output_type": "display_data"
    }
   ],
   "source": [
    "2 < 1"
   ]
  },
  {
   "cell_type": "markdown",
   "id": "twenty-customer",
   "metadata": {},
   "source": [
    "---\n",
    "\n",
    "### Operaciones con Strings\n",
    "\n",
    "\n",
    "#### Operadores de comparación"
   ]
  },
  {
   "cell_type": "code",
   "execution_count": null,
   "id": "df2356b8",
   "metadata": {},
   "outputs": [
    {
     "data": {
      "text/plain": [
       "True"
      ]
     },
     "metadata": {},
     "output_type": "display_data"
    }
   ],
   "source": [
    "'Avellana' == 'Avellana'"
   ]
  },
  {
   "cell_type": "code",
   "execution_count": null,
   "id": "2884d4b9-fdf1-4683-b461-6d64d8f4692a",
   "metadata": {},
   "outputs": [
    {
     "data": {
      "text/plain": [
       "False"
      ]
     },
     "metadata": {},
     "output_type": "display_data"
    }
   ],
   "source": [
    "'Avellana' == 'Manzana'"
   ]
  },
  {
   "cell_type": "markdown",
   "id": "950d3b4d-ec05-436b-a0f7-b148e78b0b93",
   "metadata": {},
   "source": [
    "> Pregunta ❓: Es posible comparar con '<'/'<=' y '>'/'>=' strings?\n",
    "\n",
    "\n",
    "Ver [Orden Lexicográfico en Wikipedia](https://es.wikipedia.org/wiki/Orden_lexicogr%C3%A1fico)."
   ]
  },
  {
   "cell_type": "code",
   "execution_count": null,
   "id": "55e186ce",
   "metadata": {
    "scrolled": true
   },
   "outputs": [
    {
     "data": {
      "text/plain": [
       "True"
      ]
     },
     "metadata": {},
     "output_type": "display_data"
    }
   ],
   "source": [
    "'Avellana' > 'Arvejas'"
   ]
  },
  {
   "cell_type": "code",
   "execution_count": null,
   "id": "c193ea0f",
   "metadata": {},
   "outputs": [
    {
     "data": {
      "text/plain": [
       "False"
      ]
     },
     "metadata": {},
     "output_type": "display_data"
    }
   ],
   "source": [
    "'3' > '5'"
   ]
  },
  {
   "cell_type": "markdown",
   "id": "b7c4f15b-a397-4f10-878a-3c88735a456d",
   "metadata": {},
   "source": [
    "#### Concatenación"
   ]
  },
  {
   "cell_type": "code",
   "execution_count": null,
   "id": "detailed-saver",
   "metadata": {
    "ExecuteTime": {
     "end_time": "2021-03-22T19:40:31.963073Z",
     "start_time": "2021-03-22T19:40:31.949079Z"
    }
   },
   "outputs": [],
   "source": [
    "pregunta = '¿quieres un '\n",
    "\n",
    "respuesta_a = 'tecito?'\n",
    "respuesta_b = 'cafecito?'"
   ]
  },
  {
   "cell_type": "code",
   "execution_count": null,
   "id": "regional-trauma",
   "metadata": {
    "ExecuteTime": {
     "end_time": "2021-03-22T19:40:32.799073Z",
     "start_time": "2021-03-22T19:40:32.785072Z"
    }
   },
   "outputs": [
    {
     "data": {
      "text/plain": [
       "'¿quieres un tecito?'"
      ]
     },
     "metadata": {},
     "output_type": "display_data"
    }
   ],
   "source": [
    "pregunta + respuesta_a"
   ]
  },
  {
   "cell_type": "markdown",
   "id": "speaking-replica",
   "metadata": {},
   "source": [
    "#### Formateo de strings"
   ]
  },
  {
   "cell_type": "code",
   "execution_count": null,
   "id": "mounted-transaction",
   "metadata": {
    "ExecuteTime": {
     "end_time": "2021-03-22T19:42:28.638229Z",
     "start_time": "2021-03-22T19:42:28.616228Z"
    }
   },
   "outputs": [
    {
     "data": {
      "text/plain": [
       "'¿deseas un cafecito?'"
      ]
     },
     "metadata": {},
     "output_type": "display_data"
    }
   ],
   "source": [
    "pregunta_completa = f\"¿deseas un {respuesta_b}\"\n",
    "pregunta_completa"
   ]
  },
  {
   "cell_type": "markdown",
   "id": "a287f29a-529e-4dd0-8a6c-75082af07821",
   "metadata": {},
   "source": [
    "#### Repetir strings"
   ]
  },
  {
   "cell_type": "code",
   "execution_count": null,
   "id": "accessory-pulse",
   "metadata": {
    "ExecuteTime": {
     "end_time": "2021-03-22T19:44:30.723837Z",
     "start_time": "2021-03-22T19:44:30.717836Z"
    },
    "scrolled": true
   },
   "outputs": [
    {
     "data": {
      "text/plain": [
       "'tecito?tecito?tecito?tecito?tecito?tecito?tecito?tecito?tecito?tecito?'"
      ]
     },
     "metadata": {},
     "output_type": "display_data"
    }
   ],
   "source": [
    "respuesta_a * 10"
   ]
  },
  {
   "cell_type": "code",
   "execution_count": null,
   "id": "10fc3179-18c1-42d1-a51d-56109249a9ed",
   "metadata": {},
   "outputs": [
    {
     "data": {
      "text/plain": [
       "'------------------------------------------------------------------------------------------------------------------------'"
      ]
     },
     "metadata": {},
     "output_type": "display_data"
    }
   ],
   "source": [
    "'------------------------------------------------------------------------------------------------------------------------'"
   ]
  },
  {
   "cell_type": "markdown",
   "id": "patent-trance",
   "metadata": {
    "ExecuteTime": {
     "end_time": "2021-03-22T15:05:16.889531Z",
     "start_time": "2021-03-22T15:05:16.869533Z"
    }
   },
   "source": [
    "> **Pregunta** : ¿ `a / 10` ? ¿ `a // 10` ? "
   ]
  },
  {
   "cell_type": "code",
   "execution_count": null,
   "id": "lasting-courage",
   "metadata": {
    "ExecuteTime": {
     "end_time": "2021-03-22T19:44:42.074505Z",
     "start_time": "2021-03-22T19:44:42.061506Z"
    }
   },
   "outputs": [
    {
     "ename": "TypeError",
     "evalue": "unsupported operand type(s) for /: 'str' and 'int'",
     "output_type": "error",
     "traceback": [
      "\u001b[0;31m---------------------------------------------------------------------------\u001b[0m\n",
      "\u001b[0;31mTypeError\u001b[0m                                 Traceback (most recent call last)\n",
      "Input \u001b[0;32mIn [90]\u001b[0m, in \u001b[0;36m<cell line: 1>\u001b[0;34m()\u001b[0m\n",
      "\u001b[0;32m----> 1\u001b[0m \u001b[43mrespuesta_a\u001b[49m\u001b[43m \u001b[49m\u001b[38;5;241;43m/\u001b[39;49m\u001b[43m \u001b[49m\u001b[38;5;241;43m10\u001b[39;49m\n",
      "\n",
      "\u001b[0;31mTypeError\u001b[0m: unsupported operand type(s) for /: 'str' and 'int'"
     ]
    }
   ],
   "source": [
    "respuesta_a / 10"
   ]
  },
  {
   "cell_type": "markdown",
   "id": "af4d30de-5447-4d70-8c6f-c46b6e335cd0",
   "metadata": {},
   "source": [
    "#### Operador `in`"
   ]
  },
  {
   "cell_type": "code",
   "execution_count": null,
   "id": "35add86b-206b-42ec-aa74-73690ee2e37a",
   "metadata": {},
   "outputs": [
    {
     "data": {
      "text/plain": [
       "'cafecito?'"
      ]
     },
     "metadata": {},
     "output_type": "display_data"
    }
   ],
   "source": [
    "respuesta_b"
   ]
  },
  {
   "cell_type": "code",
   "execution_count": null,
   "id": "disciplinary-clock",
   "metadata": {
    "ExecuteTime": {
     "end_time": "2021-03-22T19:45:43.393616Z",
     "start_time": "2021-03-22T19:45:43.384616Z"
    }
   },
   "outputs": [
    {
     "data": {
      "text/plain": [
       "False"
      ]
     },
     "metadata": {},
     "output_type": "display_data"
    }
   ],
   "source": [
    "'te' in respuesta_b"
   ]
  },
  {
   "cell_type": "code",
   "execution_count": null,
   "id": "corrected-shade",
   "metadata": {
    "ExecuteTime": {
     "end_time": "2021-03-22T19:45:46.932781Z",
     "start_time": "2021-03-22T19:45:46.912751Z"
    },
    "scrolled": true
   },
   "outputs": [
    {
     "data": {
      "text/plain": [
       "True"
      ]
     },
     "metadata": {},
     "output_type": "display_data"
    }
   ],
   "source": [
    "'cafe' in respuesta_b"
   ]
  },
  {
   "cell_type": "markdown",
   "id": "538b11d5-4402-4a86-ba33-0644c480dbac",
   "metadata": {},
   "source": [
    "#### Operador `not`"
   ]
  },
  {
   "cell_type": "code",
   "execution_count": null,
   "id": "specific-kazakhstan",
   "metadata": {
    "ExecuteTime": {
     "end_time": "2021-03-22T19:45:55.867701Z",
     "start_time": "2021-03-22T19:45:55.847673Z"
    }
   },
   "outputs": [
    {
     "data": {
      "text/plain": [
       "True"
      ]
     },
     "metadata": {},
     "output_type": "display_data"
    }
   ],
   "source": [
    "'te' not in respuesta_b"
   ]
  },
  {
   "cell_type": "code",
   "execution_count": null,
   "id": "73d477d9",
   "metadata": {},
   "outputs": [],
   "source": [
    "pregunta_completa"
   ]
  },
  {
   "cell_type": "markdown",
   "id": "42c50381-eea7-42bf-967b-8dea76e3bcb5",
   "metadata": {},
   "source": [
    "### Métodos: Funciones asociadas a `strings`"
   ]
  },
  {
   "cell_type": "markdown",
   "id": "7330a8c0-376e-46d0-9772-c941302c06d9",
   "metadata": {},
   "source": [
    "#### Cambiar a mayúscula, minúscula, etc..."
   ]
  },
  {
   "cell_type": "code",
   "execution_count": null,
   "id": "45ea8b6b-1e39-4550-8905-2f533852edf7",
   "metadata": {},
   "outputs": [
    {
     "data": {
      "text/plain": [
       "'¿deseas un cafecito?'"
      ]
     },
     "metadata": {},
     "output_type": "display_data"
    }
   ],
   "source": [
    "pregunta_completa"
   ]
  },
  {
   "cell_type": "code",
   "execution_count": null,
   "id": "satellite-volume",
   "metadata": {
    "ExecuteTime": {
     "end_time": "2021-03-22T19:46:07.738762Z",
     "start_time": "2021-03-22T19:46:07.724763Z"
    }
   },
   "outputs": [
    {
     "name": "stdout",
     "output_type": "stream",
     "text": [
      "Lower: ¿deseas un cafecito?\n",
      "Upper: ¿DESEAS UN CAFECITO?\n",
      "Title: ¿Deseas Un Cafecito?\n",
      "Capitalize: ¿deseas un cafecito?\n"
     ]
    }
   ],
   "source": [
    "print('Lower:', pregunta_completa.lower())\n",
    "print('Upper:', pregunta_completa.upper())\n",
    "print('Title:', pregunta_completa.title())\n",
    "print('Capitalize:', pregunta_completa.capitalize())"
   ]
  },
  {
   "cell_type": "markdown",
   "id": "1caa528f-cd90-4028-a8c8-31a07aba4c32",
   "metadata": {},
   "source": [
    "#### Reemplazar"
   ]
  },
  {
   "cell_type": "code",
   "execution_count": null,
   "id": "18fe284c-401a-4b4a-87fd-135542e87833",
   "metadata": {},
   "outputs": [
    {
     "data": {
      "text/plain": [
       "'¿deseas un cafecito?'"
      ]
     },
     "metadata": {},
     "output_type": "display_data"
    }
   ],
   "source": [
    "pregunta_completa"
   ]
  },
  {
   "cell_type": "code",
   "execution_count": null,
   "id": "fdaccb71-ea76-4877-850c-ea72c8b8be26",
   "metadata": {},
   "outputs": [
    {
     "data": {
      "text/plain": [
       "'¿deseas un tecito?'"
      ]
     },
     "metadata": {},
     "output_type": "display_data"
    }
   ],
   "source": [
    "pregunta_completa.replace('cafecito', 'tecito')"
   ]
  },
  {
   "cell_type": "markdown",
   "id": "094a6f84-5c15-4855-913f-8813803d79f1",
   "metadata": {},
   "source": [
    "#### Eliminar espacios del inicio y final"
   ]
  },
  {
   "cell_type": "code",
   "execution_count": null,
   "id": "f0e56d04-d520-410e-936f-f2a0d031506f",
   "metadata": {},
   "outputs": [
    {
     "data": {
      "text/plain": [
       "'    hola      '"
      ]
     },
     "metadata": {},
     "output_type": "display_data"
    }
   ],
   "source": [
    "hola = '    hola      '\n",
    "hola"
   ]
  },
  {
   "cell_type": "code",
   "execution_count": null,
   "id": "76be00e0-c205-4347-ac41-6c01a51d241b",
   "metadata": {},
   "outputs": [
    {
     "data": {
      "text/plain": [
       "'hola'"
      ]
     },
     "metadata": {},
     "output_type": "display_data"
    }
   ],
   "source": [
    "hola.strip()"
   ]
  },
  {
   "cell_type": "markdown",
   "id": "distinguished-basin",
   "metadata": {},
   "source": [
    "Más información y métodos (en inglés): \n",
    "    \n",
    "https://www.programiz.com/python-programming/string"
   ]
  },
  {
   "cell_type": "markdown",
   "id": "diagnostic-doctrine",
   "metadata": {
    "tags": []
   },
   "source": [
    "### Operadores con booleanos\n",
    "\n",
    "Las siguientes tablas muestran como funcionan las operaciones lógicas `and`, `or` y `not`."
   ]
  },
  {
   "cell_type": "markdown",
   "id": "physical-gathering",
   "metadata": {},
   "source": [
    "#### Operador `and`\n",
    "\n",
    "Implementa la operación lógica \"y\""
   ]
  },
  {
   "cell_type": "code",
   "execution_count": null,
   "id": "empty-episode",
   "metadata": {
    "ExecuteTime": {
     "end_time": "2021-03-22T19:47:25.648406Z",
     "start_time": "2021-03-22T19:47:25.636406Z"
    }
   },
   "outputs": [],
   "source": [
    "print('| Bool1  -  Bool2 |  Resultado')\n",
    "print('------------------------------')\n",
    "print('| True  and True  | ', True and True)\n",
    "print('| False and True  | ', False and True)\n",
    "print('| True  and False | ', True and False)\n",
    "print('| False and False | ', False and False)"
   ]
  },
  {
   "cell_type": "markdown",
   "id": "olympic-louisville",
   "metadata": {},
   "source": [
    "#### Operador `or`\n",
    "\n",
    "Implementa la operación lógica \"o\""
   ]
  },
  {
   "cell_type": "code",
   "execution_count": null,
   "id": "played-breakfast",
   "metadata": {
    "ExecuteTime": {
     "end_time": "2021-03-22T19:47:40.866246Z",
     "start_time": "2021-03-22T19:47:40.858245Z"
    }
   },
   "outputs": [],
   "source": [
    "print('| Bool1  -  Bool2 |  Resultado')\n",
    "print('------------------------------')\n",
    "print('| True  or True  | ', True or True)\n",
    "print('| False or True  | ', False or True)\n",
    "print('| True  or False | ', True or False)\n",
    "print('| False or False | ', False or False)"
   ]
  },
  {
   "cell_type": "markdown",
   "id": "grateful-atlas",
   "metadata": {},
   "source": [
    "#### Operador `not`\n",
    "\n",
    "\n",
    "Implementa la operación lógica \"negación\""
   ]
  },
  {
   "cell_type": "code",
   "execution_count": null,
   "id": "ad43ed3c-e999-41ad-9b5a-56079ccef153",
   "metadata": {},
   "outputs": [],
   "source": [
    "print('| Bool1      |  Resultado')\n",
    "print('-------------------------')\n",
    "print('| not True   | ', not True)\n",
    "print('| not False  | ', not False)"
   ]
  },
  {
   "cell_type": "markdown",
   "id": "polar-worst",
   "metadata": {},
   "source": [
    "#### Comparaciones e igualdades"
   ]
  },
  {
   "cell_type": "code",
   "execution_count": null,
   "id": "innocent-drive",
   "metadata": {
    "ExecuteTime": {
     "end_time": "2021-03-22T19:47:59.571799Z",
     "start_time": "2021-03-22T19:47:59.565834Z"
    }
   },
   "outputs": [],
   "source": [
    "variable_1 = True\n",
    "variable_2 = False"
   ]
  },
  {
   "cell_type": "markdown",
   "id": "cd5425b5-803b-448c-b018-6cfa02b429c9",
   "metadata": {},
   "source": [
    "#### Igualdad"
   ]
  },
  {
   "cell_type": "code",
   "execution_count": null,
   "id": "acquired-lambda",
   "metadata": {
    "ExecuteTime": {
     "end_time": "2021-03-22T19:48:24.654775Z",
     "start_time": "2021-03-22T19:48:24.645776Z"
    }
   },
   "outputs": [],
   "source": [
    "variable_1 == True"
   ]
  },
  {
   "cell_type": "code",
   "execution_count": null,
   "id": "94d0ecee-42b1-453e-941d-3db430af64c7",
   "metadata": {},
   "outputs": [],
   "source": [
    "variable_2 == True"
   ]
  },
  {
   "cell_type": "markdown",
   "id": "little-instrumentation",
   "metadata": {
    "ExecuteTime": {
     "end_time": "2021-03-22T15:16:11.183686Z",
     "start_time": "2021-03-22T15:16:11.173687Z"
    }
   },
   "source": [
    "> **Pregunta ❓:** ¿En otros lenguajes existen los operadores `&&` y `||`?¿Existen estos en python?"
   ]
  },
  {
   "cell_type": "markdown",
   "id": "stuck-dollar",
   "metadata": {
    "ExecuteTime": {
     "end_time": "2021-03-22T15:06:13.576207Z",
     "start_time": "2021-03-22T15:06:13.565203Z"
    }
   },
   "source": [
    "### Operadores Aritméticos y de Comparación e Igualdad"
   ]
  },
  {
   "cell_type": "markdown",
   "id": "9accd2b6-cf36-4f16-bbc4-2e0f9b55c3a6",
   "metadata": {},
   "source": [
    "#### Suma"
   ]
  },
  {
   "cell_type": "code",
   "execution_count": null,
   "id": "joined-deviation",
   "metadata": {
    "ExecuteTime": {
     "end_time": "2021-03-22T19:35:19.329013Z",
     "start_time": "2021-03-22T19:35:19.320006Z"
    }
   },
   "outputs": [
    {
     "data": {
      "text/plain": [
       "7"
      ]
     },
     "metadata": {},
     "output_type": "display_data"
    }
   ],
   "source": [
    "5 + 2"
   ]
  },
  {
   "cell_type": "markdown",
   "id": "d0d90047-e85e-4280-964e-a31f01420199",
   "metadata": {},
   "source": [
    "#### Resta"
   ]
  },
  {
   "cell_type": "code",
   "execution_count": null,
   "id": "a1e071e8-7b19-4b72-bb7f-7afcb43ccaf2",
   "metadata": {},
   "outputs": [
    {
     "data": {
      "text/plain": [
       "3"
      ]
     },
     "metadata": {},
     "output_type": "display_data"
    }
   ],
   "source": [
    "5 - 2"
   ]
  },
  {
   "cell_type": "markdown",
   "id": "f1af6141-e8ed-49c8-9032-3f963443484e",
   "metadata": {},
   "source": [
    "#### Multiplicación"
   ]
  },
  {
   "cell_type": "code",
   "execution_count": null,
   "id": "joined-interface",
   "metadata": {
    "ExecuteTime": {
     "end_time": "2021-03-22T19:35:21.891720Z",
     "start_time": "2021-03-22T19:35:21.876721Z"
    }
   },
   "outputs": [
    {
     "data": {
      "text/plain": [
       "10"
      ]
     },
     "metadata": {},
     "output_type": "display_data"
    }
   ],
   "source": [
    "5 * 2"
   ]
  },
  {
   "cell_type": "markdown",
   "id": "fe629f57-6c0d-42c5-ab44-9c9574cc78d9",
   "metadata": {},
   "source": [
    "#### División"
   ]
  },
  {
   "cell_type": "code",
   "execution_count": null,
   "id": "ordered-religious",
   "metadata": {
    "ExecuteTime": {
     "end_time": "2021-03-22T19:35:22.736640Z",
     "start_time": "2021-03-22T19:35:22.725640Z"
    }
   },
   "outputs": [
    {
     "data": {
      "text/plain": [
       "2.5"
      ]
     },
     "metadata": {},
     "output_type": "display_data"
    }
   ],
   "source": [
    "5 / 2"
   ]
  },
  {
   "cell_type": "markdown",
   "id": "d3916c1b-6a55-4d58-89dd-a894f89fc06a",
   "metadata": {},
   "source": [
    "#### División Entera\n",
    "\n",
    "Conserva solo la parte entera de la división."
   ]
  },
  {
   "cell_type": "code",
   "execution_count": null,
   "id": "correct-romantic",
   "metadata": {
    "ExecuteTime": {
     "end_time": "2021-03-22T19:35:24.591066Z",
     "start_time": "2021-03-22T19:35:24.571007Z"
    }
   },
   "outputs": [
    {
     "data": {
      "text/plain": [
       "2"
      ]
     },
     "metadata": {},
     "output_type": "display_data"
    }
   ],
   "source": [
    "5 // 2"
   ]
  },
  {
   "cell_type": "markdown",
   "id": "according-cabin",
   "metadata": {},
   "source": [
    "> **Pregunta ❓**: ¿Qué sucede con `//` con al operarlos con datos de tipo `float`?"
   ]
  },
  {
   "cell_type": "code",
   "execution_count": null,
   "id": "coral-satin",
   "metadata": {
    "ExecuteTime": {
     "end_time": "2021-03-22T19:36:41.810644Z",
     "start_time": "2021-03-22T19:36:41.789647Z"
    }
   },
   "outputs": [
    {
     "data": {
      "text/plain": [
       "1.25"
      ]
     },
     "metadata": {},
     "output_type": "display_data"
    }
   ],
   "source": [
    "2.5 / 2.0"
   ]
  },
  {
   "cell_type": "code",
   "execution_count": null,
   "id": "former-bermuda",
   "metadata": {
    "ExecuteTime": {
     "end_time": "2021-03-22T19:36:57.964286Z",
     "start_time": "2021-03-22T19:36:57.946286Z"
    },
    "scrolled": true
   },
   "outputs": [
    {
     "data": {
      "text/plain": [
       "1.0"
      ]
     },
     "metadata": {},
     "output_type": "display_data"
    }
   ],
   "source": [
    "2.5 // 2.0"
   ]
  },
  {
   "cell_type": "markdown",
   "id": "f1b3b93e-01cb-425d-9b4e-947ca43e0d00",
   "metadata": {},
   "source": [
    "#### Módulo (resto) de una división\n"
   ]
  },
  {
   "cell_type": "code",
   "execution_count": null,
   "id": "martial-bonus",
   "metadata": {
    "ExecuteTime": {
     "end_time": "2021-03-22T19:35:27.157300Z",
     "start_time": "2021-03-22T19:35:27.139301Z"
    },
    "scrolled": true
   },
   "outputs": [
    {
     "data": {
      "text/plain": [
       "1"
      ]
     },
     "metadata": {},
     "output_type": "display_data"
    }
   ],
   "source": [
    "5 % 2"
   ]
  },
  {
   "cell_type": "markdown",
   "id": "56e4cb85-0ba1-4611-abad-86dc4837a0c8",
   "metadata": {},
   "source": [
    "#### Potenciación \n",
    "\n",
    "2 elevado a 3:"
   ]
  },
  {
   "cell_type": "code",
   "execution_count": null,
   "id": "narrow-salmon",
   "metadata": {
    "ExecuteTime": {
     "end_time": "2021-03-22T19:35:48.238020Z",
     "start_time": "2021-03-22T19:35:48.220022Z"
    }
   },
   "outputs": [
    {
     "data": {
      "text/plain": [
       "8"
      ]
     },
     "metadata": {},
     "output_type": "display_data"
    }
   ],
   "source": [
    "2 ** 3"
   ]
  },
  {
   "cell_type": "code",
   "execution_count": null,
   "id": "c28e9fb5-ce62-4fe8-9c33-0ca0c01aae5a",
   "metadata": {},
   "outputs": [
    {
     "data": {
      "text/plain": [
       "0.125"
      ]
     },
     "metadata": {},
     "output_type": "display_data"
    }
   ],
   "source": [
    "2 ** -3"
   ]
  },
  {
   "cell_type": "code",
   "execution_count": null,
   "id": "0484298a-a8c4-46e5-a9dd-150269793eff",
   "metadata": {},
   "outputs": [
    {
     "data": {
      "text/plain": [
       "0.10632848158618281"
      ]
     },
     "metadata": {},
     "output_type": "display_data"
    }
   ],
   "source": [
    "2 ** -3.2334"
   ]
  },
  {
   "cell_type": "markdown",
   "id": "starting-timeline",
   "metadata": {
    "ExecuteTime": {
     "end_time": "2021-03-22T16:35:35.923564Z",
     "start_time": "2021-03-22T16:35:35.905524Z"
    }
   },
   "source": [
    "### Operadores de Comparación e Igualdad:"
   ]
  },
  {
   "cell_type": "markdown",
   "id": "6a2b026d-02c2-4630-b5e7-6426295d66f1",
   "metadata": {},
   "source": [
    "#### Igualdad"
   ]
  },
  {
   "cell_type": "code",
   "execution_count": null,
   "id": "2b291f92-1831-4ed0-801a-654b2d8c8fdf",
   "metadata": {},
   "outputs": [
    {
     "data": {
      "text/plain": [
       "True"
      ]
     },
     "metadata": {},
     "output_type": "display_data"
    }
   ],
   "source": [
    "# es 2 igual a 2?\n",
    "2 == 2"
   ]
  },
  {
   "cell_type": "code",
   "execution_count": null,
   "id": "4244aa9c-c268-4e30-9856-755bca4659d9",
   "metadata": {},
   "outputs": [
    {
     "data": {
      "text/plain": [
       "bool"
      ]
     },
     "metadata": {},
     "output_type": "display_data"
    }
   ],
   "source": [
    "type(2 == 2)"
   ]
  },
  {
   "cell_type": "code",
   "execution_count": null,
   "id": "noticed-facility",
   "metadata": {
    "ExecuteTime": {
     "end_time": "2021-03-22T19:37:45.602649Z",
     "start_time": "2021-03-22T19:37:45.583649Z"
    }
   },
   "outputs": [
    {
     "data": {
      "text/plain": [
       "False"
      ]
     },
     "metadata": {},
     "output_type": "display_data"
    }
   ],
   "source": [
    "2 == 4"
   ]
  },
  {
   "cell_type": "markdown",
   "id": "50eba53f-edc9-4b9b-8462-8ba670319d87",
   "metadata": {},
   "source": [
    "> **Pregunta ❓**: ¿Qué sucede con `==` cuando comparamos tipos distintos (`int` con `float` y `string`)?"
   ]
  },
  {
   "cell_type": "code",
   "execution_count": null,
   "id": "crazy-lighting",
   "metadata": {
    "ExecuteTime": {
     "end_time": "2021-03-22T19:38:19.828468Z",
     "start_time": "2021-03-22T19:38:19.808466Z"
    }
   },
   "outputs": [
    {
     "data": {
      "text/plain": [
       "True"
      ]
     },
     "metadata": {},
     "output_type": "display_data"
    }
   ],
   "source": [
    "2 == 2.0"
   ]
  },
  {
   "cell_type": "code",
   "execution_count": null,
   "id": "286893f0-738b-4ca1-93c9-069c35872c65",
   "metadata": {},
   "outputs": [
    {
     "data": {
      "text/plain": [
       "False"
      ]
     },
     "metadata": {},
     "output_type": "display_data"
    }
   ],
   "source": [
    "2 == \"2\""
   ]
  },
  {
   "cell_type": "code",
   "execution_count": null,
   "id": "0f84aab5-35ba-4725-b6e7-4c56565ae649",
   "metadata": {},
   "outputs": [
    {
     "data": {
      "text/plain": [
       "True"
      ]
     },
     "metadata": {},
     "output_type": "display_data"
    }
   ],
   "source": [
    "2 == int(\"2\")"
   ]
  },
  {
   "cell_type": "code",
   "execution_count": null,
   "id": "fdde9f58-e061-43af-ab3a-0f54a882e75e",
   "metadata": {},
   "outputs": [
    {
     "data": {
      "text/plain": [
       "True"
      ]
     },
     "metadata": {},
     "output_type": "display_data"
    }
   ],
   "source": [
    "2 == 2 + 0j"
   ]
  },
  {
   "cell_type": "markdown",
   "id": "a0424b09-7127-4032-93f9-96f3e5db8685",
   "metadata": {},
   "source": [
    "#### Mayor y mayor igual"
   ]
  },
  {
   "cell_type": "code",
   "execution_count": null,
   "id": "invisible-snake",
   "metadata": {
    "ExecuteTime": {
     "end_time": "2021-03-22T19:38:48.700702Z",
     "start_time": "2021-03-22T19:38:48.683700Z"
    }
   },
   "outputs": [
    {
     "data": {
      "text/plain": [
       "False"
      ]
     },
     "metadata": {},
     "output_type": "display_data"
    }
   ],
   "source": [
    "2 > 2"
   ]
  },
  {
   "cell_type": "code",
   "execution_count": null,
   "id": "3b609a2e-5971-404b-ac50-0dc7e76994a3",
   "metadata": {},
   "outputs": [
    {
     "data": {
      "text/plain": [
       "True"
      ]
     },
     "metadata": {},
     "output_type": "display_data"
    }
   ],
   "source": [
    "2 > 1"
   ]
  },
  {
   "cell_type": "code",
   "execution_count": null,
   "id": "f352e7f5-e8fd-448e-a11f-276db5d24282",
   "metadata": {},
   "outputs": [
    {
     "data": {
      "text/plain": [
       "False"
      ]
     },
     "metadata": {},
     "output_type": "display_data"
    }
   ],
   "source": [
    "2 > 3"
   ]
  },
  {
   "cell_type": "code",
   "execution_count": null,
   "id": "8d49b86e-1911-4893-9bc0-2dfe466db800",
   "metadata": {},
   "outputs": [
    {
     "data": {
      "text/plain": [
       "True"
      ]
     },
     "metadata": {},
     "output_type": "display_data"
    }
   ],
   "source": [
    "2 >= 2"
   ]
  },
  {
   "cell_type": "markdown",
   "id": "bd87d1bb-049d-4081-8470-146067f91662",
   "metadata": {},
   "source": [
    "> **Pregunta ❓**: ¿Qué sucede con `>`/`>=` cuando comparamos tipos distintos (`int` con `string`)?"
   ]
  },
  {
   "cell_type": "code",
   "execution_count": null,
   "id": "checked-baker",
   "metadata": {
    "ExecuteTime": {
     "end_time": "2021-03-22T19:39:52.016912Z",
     "start_time": "2021-03-22T19:39:51.989914Z"
    },
    "scrolled": true
   },
   "outputs": [
    {
     "ename": "TypeError",
     "evalue": "'>=' not supported between instances of 'int' and 'str'",
     "output_type": "error",
     "traceback": [
      "\u001b[0;31m---------------------------------------------------------------------------\u001b[0m\n",
      "\u001b[0;31mTypeError\u001b[0m                                 Traceback (most recent call last)\n",
      "Input \u001b[0;32mIn [74]\u001b[0m, in \u001b[0;36m<cell line: 1>\u001b[0;34m()\u001b[0m\n",
      "\u001b[0;32m----> 1\u001b[0m \u001b[38;5;241;43m3\u001b[39;49m\u001b[43m \u001b[49m\u001b[38;5;241;43m>\u001b[39;49m\u001b[38;5;241;43m=\u001b[39;49m\u001b[43m \u001b[49m\u001b[38;5;124;43m\"\u001b[39;49m\u001b[38;5;124;43m3\u001b[39;49m\u001b[38;5;124;43m\"\u001b[39;49m\n",
      "\n",
      "\u001b[0;31mTypeError\u001b[0m: '>=' not supported between instances of 'int' and 'str'"
     ]
    }
   ],
   "source": [
    "3 >= \"3\""
   ]
  },
  {
   "cell_type": "markdown",
   "id": "602938ee-6669-4b35-87ce-02355596ee35",
   "metadata": {},
   "source": [
    "#### Menor y menor igual\n",
    "\n",
    "Mismo caso que el anterior"
   ]
  },
  {
   "cell_type": "code",
   "execution_count": null,
   "id": "916267f8-fef4-40e3-8af5-18d2e5472c25",
   "metadata": {},
   "outputs": [
    {
     "data": {
      "text/plain": [
       "True"
      ]
     },
     "metadata": {},
     "output_type": "display_data"
    }
   ],
   "source": [
    "2 < 3"
   ]
  },
  {
   "cell_type": "code",
   "execution_count": null,
   "id": "93af0c82-99c5-4cf6-abba-26e923b57bf6",
   "metadata": {},
   "outputs": [
    {
     "data": {
      "text/plain": [
       "False"
      ]
     },
     "metadata": {},
     "output_type": "display_data"
    }
   ],
   "source": [
    "2 < 1"
   ]
  },
  {
   "cell_type": "markdown",
   "id": "twenty-customer",
   "metadata": {},
   "source": [
    "---\n",
    "\n",
    "### Operaciones con Strings\n",
    "\n",
    "\n",
    "#### Operadores de comparación"
   ]
  },
  {
   "cell_type": "code",
   "execution_count": null,
   "id": "df2356b8",
   "metadata": {},
   "outputs": [
    {
     "data": {
      "text/plain": [
       "True"
      ]
     },
     "metadata": {},
     "output_type": "display_data"
    }
   ],
   "source": [
    "'Avellana' == 'Avellana'"
   ]
  },
  {
   "cell_type": "code",
   "execution_count": null,
   "id": "2884d4b9-fdf1-4683-b461-6d64d8f4692a",
   "metadata": {},
   "outputs": [
    {
     "data": {
      "text/plain": [
       "False"
      ]
     },
     "metadata": {},
     "output_type": "display_data"
    }
   ],
   "source": [
    "'Avellana' == 'Manzana'"
   ]
  },
  {
   "cell_type": "markdown",
   "id": "950d3b4d-ec05-436b-a0f7-b148e78b0b93",
   "metadata": {},
   "source": [
    "> Pregunta ❓: Es posible comparar con '<'/'<=' y '>'/'>=' strings?\n",
    "\n",
    "\n",
    "Ver [Orden Lexicográfico en Wikipedia](https://es.wikipedia.org/wiki/Orden_lexicogr%C3%A1fico)."
   ]
  },
  {
   "cell_type": "code",
   "execution_count": null,
   "id": "55e186ce",
   "metadata": {
    "scrolled": true
   },
   "outputs": [
    {
     "data": {
      "text/plain": [
       "True"
      ]
     },
     "metadata": {},
     "output_type": "display_data"
    }
   ],
   "source": [
    "'Avellana' > 'Arvejas'"
   ]
  },
  {
   "cell_type": "code",
   "execution_count": null,
   "id": "c193ea0f",
   "metadata": {},
   "outputs": [
    {
     "data": {
      "text/plain": [
       "False"
      ]
     },
     "metadata": {},
     "output_type": "display_data"
    }
   ],
   "source": [
    "'3' > '5'"
   ]
  },
  {
   "cell_type": "markdown",
   "id": "b7c4f15b-a397-4f10-878a-3c88735a456d",
   "metadata": {},
   "source": [
    "#### Concatenación"
   ]
  },
  {
   "cell_type": "code",
   "execution_count": null,
   "id": "detailed-saver",
   "metadata": {
    "ExecuteTime": {
     "end_time": "2021-03-22T19:40:31.963073Z",
     "start_time": "2021-03-22T19:40:31.949079Z"
    }
   },
   "outputs": [],
   "source": [
    "pregunta = '¿quieres un '\n",
    "\n",
    "respuesta_a = 'tecito?'\n",
    "respuesta_b = 'cafecito?'"
   ]
  },
  {
   "cell_type": "code",
   "execution_count": null,
   "id": "regional-trauma",
   "metadata": {
    "ExecuteTime": {
     "end_time": "2021-03-22T19:40:32.799073Z",
     "start_time": "2021-03-22T19:40:32.785072Z"
    }
   },
   "outputs": [
    {
     "data": {
      "text/plain": [
       "'¿quieres un tecito?'"
      ]
     },
     "metadata": {},
     "output_type": "display_data"
    }
   ],
   "source": [
    "pregunta + respuesta_a"
   ]
  },
  {
   "cell_type": "markdown",
   "id": "speaking-replica",
   "metadata": {},
   "source": [
    "#### Formateo de strings"
   ]
  },
  {
   "cell_type": "code",
   "execution_count": null,
   "id": "mounted-transaction",
   "metadata": {
    "ExecuteTime": {
     "end_time": "2021-03-22T19:42:28.638229Z",
     "start_time": "2021-03-22T19:42:28.616228Z"
    }
   },
   "outputs": [
    {
     "data": {
      "text/plain": [
       "'¿deseas un cafecito?'"
      ]
     },
     "metadata": {},
     "output_type": "display_data"
    }
   ],
   "source": [
    "pregunta_completa = f\"¿deseas un {respuesta_b}\"\n",
    "pregunta_completa"
   ]
  },
  {
   "cell_type": "markdown",
   "id": "a287f29a-529e-4dd0-8a6c-75082af07821",
   "metadata": {},
   "source": [
    "#### Repetir strings"
   ]
  },
  {
   "cell_type": "code",
   "execution_count": null,
   "id": "accessory-pulse",
   "metadata": {
    "ExecuteTime": {
     "end_time": "2021-03-22T19:44:30.723837Z",
     "start_time": "2021-03-22T19:44:30.717836Z"
    },
    "scrolled": true
   },
   "outputs": [
    {
     "data": {
      "text/plain": [
       "'tecito?tecito?tecito?tecito?tecito?tecito?tecito?tecito?tecito?tecito?'"
      ]
     },
     "metadata": {},
     "output_type": "display_data"
    }
   ],
   "source": [
    "respuesta_a * 10"
   ]
  },
  {
   "cell_type": "code",
   "execution_count": null,
   "id": "10fc3179-18c1-42d1-a51d-56109249a9ed",
   "metadata": {},
   "outputs": [
    {
     "data": {
      "text/plain": [
       "'------------------------------------------------------------------------------------------------------------------------'"
      ]
     },
     "metadata": {},
     "output_type": "display_data"
    }
   ],
   "source": [
    "'------------------------------------------------------------------------------------------------------------------------'"
   ]
  },
  {
   "cell_type": "markdown",
   "id": "patent-trance",
   "metadata": {
    "ExecuteTime": {
     "end_time": "2021-03-22T15:05:16.889531Z",
     "start_time": "2021-03-22T15:05:16.869533Z"
    }
   },
   "source": [
    "> **Pregunta** : ¿ `a / 10` ? ¿ `a // 10` ? "
   ]
  },
  {
   "cell_type": "code",
   "execution_count": null,
   "id": "lasting-courage",
   "metadata": {
    "ExecuteTime": {
     "end_time": "2021-03-22T19:44:42.074505Z",
     "start_time": "2021-03-22T19:44:42.061506Z"
    }
   },
   "outputs": [
    {
     "ename": "TypeError",
     "evalue": "unsupported operand type(s) for /: 'str' and 'int'",
     "output_type": "error",
     "traceback": [
      "\u001b[0;31m---------------------------------------------------------------------------\u001b[0m\n",
      "\u001b[0;31mTypeError\u001b[0m                                 Traceback (most recent call last)\n",
      "Input \u001b[0;32mIn [90]\u001b[0m, in \u001b[0;36m<cell line: 1>\u001b[0;34m()\u001b[0m\n",
      "\u001b[0;32m----> 1\u001b[0m \u001b[43mrespuesta_a\u001b[49m\u001b[43m \u001b[49m\u001b[38;5;241;43m/\u001b[39;49m\u001b[43m \u001b[49m\u001b[38;5;241;43m10\u001b[39;49m\n",
      "\n",
      "\u001b[0;31mTypeError\u001b[0m: unsupported operand type(s) for /: 'str' and 'int'"
     ]
    }
   ],
   "source": [
    "respuesta_a / 10"
   ]
  },
  {
   "cell_type": "markdown",
   "id": "af4d30de-5447-4d70-8c6f-c46b6e335cd0",
   "metadata": {},
   "source": [
    "#### Operador `in`"
   ]
  },
  {
   "cell_type": "code",
   "execution_count": null,
   "id": "35add86b-206b-42ec-aa74-73690ee2e37a",
   "metadata": {},
   "outputs": [
    {
     "data": {
      "text/plain": [
       "'cafecito?'"
      ]
     },
     "metadata": {},
     "output_type": "display_data"
    }
   ],
   "source": [
    "respuesta_b"
   ]
  },
  {
   "cell_type": "code",
   "execution_count": null,
   "id": "disciplinary-clock",
   "metadata": {
    "ExecuteTime": {
     "end_time": "2021-03-22T19:45:43.393616Z",
     "start_time": "2021-03-22T19:45:43.384616Z"
    }
   },
   "outputs": [
    {
     "data": {
      "text/plain": [
       "False"
      ]
     },
     "metadata": {},
     "output_type": "display_data"
    }
   ],
   "source": [
    "'te' in respuesta_b"
   ]
  },
  {
   "cell_type": "code",
   "execution_count": null,
   "id": "corrected-shade",
   "metadata": {
    "ExecuteTime": {
     "end_time": "2021-03-22T19:45:46.932781Z",
     "start_time": "2021-03-22T19:45:46.912751Z"
    },
    "scrolled": true
   },
   "outputs": [
    {
     "data": {
      "text/plain": [
       "True"
      ]
     },
     "metadata": {},
     "output_type": "display_data"
    }
   ],
   "source": [
    "'cafe' in respuesta_b"
   ]
  },
  {
   "cell_type": "markdown",
   "id": "538b11d5-4402-4a86-ba33-0644c480dbac",
   "metadata": {},
   "source": [
    "#### Operador `not`"
   ]
  },
  {
   "cell_type": "code",
   "execution_count": null,
   "id": "specific-kazakhstan",
   "metadata": {
    "ExecuteTime": {
     "end_time": "2021-03-22T19:45:55.867701Z",
     "start_time": "2021-03-22T19:45:55.847673Z"
    }
   },
   "outputs": [
    {
     "data": {
      "text/plain": [
       "True"
      ]
     },
     "metadata": {},
     "output_type": "display_data"
    }
   ],
   "source": [
    "'te' not in respuesta_b"
   ]
  },
  {
   "cell_type": "code",
   "execution_count": null,
   "id": "73d477d9",
   "metadata": {},
   "outputs": [],
   "source": [
    "pregunta_completa"
   ]
  },
  {
   "cell_type": "markdown",
   "id": "42c50381-eea7-42bf-967b-8dea76e3bcb5",
   "metadata": {},
   "source": [
    "### Métodos: Funciones asociadas a `strings`"
   ]
  },
  {
   "cell_type": "markdown",
   "id": "7330a8c0-376e-46d0-9772-c941302c06d9",
   "metadata": {},
   "source": [
    "#### Cambiar a mayúscula, minúscula, etc..."
   ]
  },
  {
   "cell_type": "code",
   "execution_count": null,
   "id": "45ea8b6b-1e39-4550-8905-2f533852edf7",
   "metadata": {},
   "outputs": [
    {
     "data": {
      "text/plain": [
       "'¿deseas un cafecito?'"
      ]
     },
     "metadata": {},
     "output_type": "display_data"
    }
   ],
   "source": [
    "pregunta_completa"
   ]
  },
  {
   "cell_type": "code",
   "execution_count": null,
   "id": "satellite-volume",
   "metadata": {
    "ExecuteTime": {
     "end_time": "2021-03-22T19:46:07.738762Z",
     "start_time": "2021-03-22T19:46:07.724763Z"
    }
   },
   "outputs": [
    {
     "name": "stdout",
     "output_type": "stream",
     "text": [
      "Lower: ¿deseas un cafecito?\n",
      "Upper: ¿DESEAS UN CAFECITO?\n",
      "Title: ¿Deseas Un Cafecito?\n",
      "Capitalize: ¿deseas un cafecito?\n"
     ]
    }
   ],
   "source": [
    "print('Lower:', pregunta_completa.lower())\n",
    "print('Upper:', pregunta_completa.upper())\n",
    "print('Title:', pregunta_completa.title())\n",
    "print('Capitalize:', pregunta_completa.capitalize())"
   ]
  },
  {
   "cell_type": "markdown",
   "id": "1caa528f-cd90-4028-a8c8-31a07aba4c32",
   "metadata": {},
   "source": [
    "#### Reemplazar"
   ]
  },
  {
   "cell_type": "code",
   "execution_count": null,
   "id": "18fe284c-401a-4b4a-87fd-135542e87833",
   "metadata": {},
   "outputs": [
    {
     "data": {
      "text/plain": [
       "'¿deseas un cafecito?'"
      ]
     },
     "metadata": {},
     "output_type": "display_data"
    }
   ],
   "source": [
    "pregunta_completa"
   ]
  },
  {
   "cell_type": "code",
   "execution_count": null,
   "id": "fdaccb71-ea76-4877-850c-ea72c8b8be26",
   "metadata": {},
   "outputs": [
    {
     "data": {
      "text/plain": [
       "'¿deseas un tecito?'"
      ]
     },
     "metadata": {},
     "output_type": "display_data"
    }
   ],
   "source": [
    "pregunta_completa.replace('cafecito', 'tecito')"
   ]
  },
  {
   "cell_type": "markdown",
   "id": "094a6f84-5c15-4855-913f-8813803d79f1",
   "metadata": {},
   "source": [
    "#### Eliminar espacios del inicio y final"
   ]
  },
  {
   "cell_type": "code",
   "execution_count": null,
   "id": "f0e56d04-d520-410e-936f-f2a0d031506f",
   "metadata": {},
   "outputs": [
    {
     "data": {
      "text/plain": [
       "'    hola      '"
      ]
     },
     "metadata": {},
     "output_type": "display_data"
    }
   ],
   "source": [
    "hola = '    hola      '\n",
    "hola"
   ]
  },
  {
   "cell_type": "code",
   "execution_count": null,
   "id": "76be00e0-c205-4347-ac41-6c01a51d241b",
   "metadata": {},
   "outputs": [
    {
     "data": {
      "text/plain": [
       "'hola'"
      ]
     },
     "metadata": {},
     "output_type": "display_data"
    }
   ],
   "source": [
    "hola.strip()"
   ]
  },
  {
   "cell_type": "markdown",
   "id": "distinguished-basin",
   "metadata": {},
   "source": [
    "Más información y métodos (en inglés): \n",
    "    \n",
    "https://www.programiz.com/python-programming/string"
   ]
  },
  {
   "cell_type": "markdown",
   "id": "diagnostic-doctrine",
   "metadata": {
    "tags": []
   },
   "source": [
    "### Operadores con booleanos\n",
    "\n",
    "Las siguientes tablas muestran como funcionan las operaciones lógicas `and`, `or` y `not`."
   ]
  },
  {
   "cell_type": "markdown",
   "id": "physical-gathering",
   "metadata": {},
   "source": [
    "#### Operador `and`\n",
    "\n",
    "Implementa la operación lógica \"y\""
   ]
  },
  {
   "cell_type": "code",
   "execution_count": null,
   "id": "empty-episode",
   "metadata": {
    "ExecuteTime": {
     "end_time": "2021-03-22T19:47:25.648406Z",
     "start_time": "2021-03-22T19:47:25.636406Z"
    }
   },
   "outputs": [],
   "source": [
    "print('| Bool1  -  Bool2 |  Resultado')\n",
    "print('------------------------------')\n",
    "print('| True  and True  | ', True and True)\n",
    "print('| False and True  | ', False and True)\n",
    "print('| True  and False | ', True and False)\n",
    "print('| False and False | ', False and False)"
   ]
  },
  {
   "cell_type": "markdown",
   "id": "olympic-louisville",
   "metadata": {},
   "source": [
    "#### Operador `or`\n",
    "\n",
    "Implementa la operación lógica \"o\""
   ]
  },
  {
   "cell_type": "code",
   "execution_count": null,
   "id": "played-breakfast",
   "metadata": {
    "ExecuteTime": {
     "end_time": "2021-03-22T19:47:40.866246Z",
     "start_time": "2021-03-22T19:47:40.858245Z"
    }
   },
   "outputs": [],
   "source": [
    "print('| Bool1  -  Bool2 |  Resultado')\n",
    "print('------------------------------')\n",
    "print('| True  or True  | ', True or True)\n",
    "print('| False or True  | ', False or True)\n",
    "print('| True  or False | ', True or False)\n",
    "print('| False or False | ', False or False)"
   ]
  },
  {
   "cell_type": "markdown",
   "id": "grateful-atlas",
   "metadata": {},
   "source": [
    "#### Operador `not`\n",
    "\n",
    "\n",
    "Implementa la operación lógica \"negación\""
   ]
  },
  {
   "cell_type": "code",
   "execution_count": null,
   "id": "ad43ed3c-e999-41ad-9b5a-56079ccef153",
   "metadata": {},
   "outputs": [],
   "source": [
    "print('| Bool1      |  Resultado')\n",
    "print('-------------------------')\n",
    "print('| not True   | ', not True)\n",
    "print('| not False  | ', not False)"
   ]
  },
  {
   "cell_type": "markdown",
   "id": "polar-worst",
   "metadata": {},
   "source": [
    "#### Comparaciones e igualdades"
   ]
  },
  {
   "cell_type": "code",
   "execution_count": null,
   "id": "innocent-drive",
   "metadata": {
    "ExecuteTime": {
     "end_time": "2021-03-22T19:47:59.571799Z",
     "start_time": "2021-03-22T19:47:59.565834Z"
    }
   },
   "outputs": [],
   "source": [
    "variable_1 = True\n",
    "variable_2 = False"
   ]
  },
  {
   "cell_type": "markdown",
   "id": "cd5425b5-803b-448c-b018-6cfa02b429c9",
   "metadata": {},
   "source": [
    "#### Igualdad"
   ]
  },
  {
   "cell_type": "code",
   "execution_count": null,
   "id": "acquired-lambda",
   "metadata": {
    "ExecuteTime": {
     "end_time": "2021-03-22T19:48:24.654775Z",
     "start_time": "2021-03-22T19:48:24.645776Z"
    }
   },
   "outputs": [],
   "source": [
    "variable_1 == True"
   ]
  },
  {
   "cell_type": "code",
   "execution_count": null,
   "id": "94d0ecee-42b1-453e-941d-3db430af64c7",
   "metadata": {},
   "outputs": [],
   "source": [
    "variable_2 == True"
   ]
  },
  {
   "cell_type": "markdown",
   "id": "little-instrumentation",
   "metadata": {
    "ExecuteTime": {
     "end_time": "2021-03-22T15:16:11.183686Z",
     "start_time": "2021-03-22T15:16:11.173687Z"
    }
   },
   "source": [
    "> **Pregunta ❓:** ¿En otros lenguajes existen los operadores `&&` y `||`?¿Existen estos en python?"
   ]
  },
  {
   "attachments": {},
   "cell_type": "markdown",
   "metadata": {},
   "source": [
    "# Interacción con usuario"
   ]
  },
  {
   "cell_type": "code",
   "execution_count": null,
   "metadata": {},
   "outputs": [],
   "source": [
    "# Inputs\n",
    "name = input('¿Cuál es tu nombre? ')\n",
    "age = input('¿Cuántos años tienes? ')\n",
    "print(name)\n",
    "print(age)\n",
    "\n",
    "# Cambiamos su tipo\n",
    "name = 24\n",
    "age = \"joaquin\"\n",
    "print(name)\n",
    "print(age)\n",
    "\n",
    "# ¿Forzamos el tipo?\n",
    "address: str = \"Mi dirección\"\n",
    "address = True\n",
    "address = 5\n",
    "address = 1.2\n",
    "print(type(address))"
   ]
  },
  {
   "attachments": {},
   "cell_type": "markdown",
   "metadata": {},
   "source": [
    "# Ejercicios propuestos:\n",
    "\n",
    "1. Crea variables para almacenar tu nombre, edad y altura, y luego imprime estos valores en pantalla.\n",
    "\n",
    "2. Crea una variable para almacenar un número entero y otra para almacenar un número flotante. Realiza operaciones aritméticas con ambas variables y observa el resultado.\n",
    "\n",
    "3. Crea una variable para almacenar una cadena de caracteres y otra para almacenar un valor booleano. Imprime los valores de estas variables en pantalla y prueba algunas operaciones lógicas con ellas.\n",
    "\n",
    "4. Escribe un programa que lea dos números enteros del usuario y muestre el resultado de sumarlos, restarlos, multiplicarlos y dividirlos.\n",
    "\n",
    "5. Escribe un programa que lea una frase del usuario y cuente cuántas veces se repite cada letra en la frase.\n",
    "\n",
    "6. Escribe un programa que lea una fecha del usuario en formato \"dd/mm/aaaa\" y conviértala a formato \"aaaa-mm-dd\"."
   ]
  }
 ],
 "metadata": {
  "kernelspec": {
   "display_name": "model-chain-torch",
   "language": "python",
   "name": "python3"
  },
  "language_info": {
   "codemirror_mode": {
    "name": "ipython",
    "version": 3
   },
   "file_extension": ".py",
   "mimetype": "text/x-python",
   "name": "python",
   "nbconvert_exporter": "python",
   "pygments_lexer": "ipython3",
   "version": "3.9.13 (main, Oct 13 2022, 21:23:06) [MSC v.1916 64 bit (AMD64)]"
  },
  "orig_nbformat": 4,
  "vscode": {
   "interpreter": {
    "hash": "60bcaf085a2b53a717294cab3711cda615bb4acd2b3c7f620853f26e14e61f81"
   }
  }
 },
 "nbformat": 4,
 "nbformat_minor": 2
}
