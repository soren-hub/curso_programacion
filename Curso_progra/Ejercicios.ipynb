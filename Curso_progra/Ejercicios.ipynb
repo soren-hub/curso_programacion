{
 "cells": [
  {
   "attachments": {},
   "cell_type": "markdown",
   "metadata": {},
   "source": [
    "### EJERCICIO CLASE 22/12"
   ]
  },
  {
   "cell_type": "code",
   "execution_count": 2,
   "metadata": {},
   "outputs": [
    {
     "name": "stdout",
     "output_type": "stream",
     "text": [
      "12 + 21 = 33\n"
     ]
    }
   ],
   "source": [
    "#Ejercicio 2: Haz un programa que pida al usuario ingresar dos números y luego muestre la suma de los mismos.\n",
    "\n",
    "a = int(input('ingresa un numero'))\n",
    "b = int(input ('ingresa otro numero'))\n",
    "\n",
    "print(f'{a} + {b} = {a + b}')\n"
   ]
  },
  {
   "cell_type": "code",
   "execution_count": 10,
   "metadata": {},
   "outputs": [
    {
     "name": "stdout",
     "output_type": "stream",
     "text": [
      "0\n"
     ]
    }
   ],
   "source": [
    "# Ejercicio 3: Haz un programa que imprima el resultado de la resta de dos números.\n",
    "\n",
    "print(int(input('Ingrese un numero')) - int(input('Ingrese un numero')))"
   ]
  },
  {
   "attachments": {},
   "cell_type": "markdown",
   "metadata": {},
   "source": [
    "### EJERCICIO resumen TAREA 1 ; CLASE 27 / 12"
   ]
  },
  {
   "cell_type": "code",
   "execution_count": null,
   "metadata": {},
   "outputs": [],
   "source": [
    "# CALCULAR LAS GANANCIAS DE LOS ULTIMOS 3 MESES DEL AÑO DE UNA EMPRESA. 15000 18000 20000\n",
    "\n",
    "gan_oct = int(input('INGRESE GANANCIAS DE OCTUBRE'))\n",
    "gan_nov = int(input('INGRESE GANANCIAS DE NOVIEMBRE'))\n",
    "gan_dic = int(input('INGRESE GANANCIAS DE DICIEMBRE'))\n",
    "\n",
    "gan_totales = gan_oct + gan_nov + gan_dic\n",
    "\n",
    "print(f'LAS GANANCIAS FUERON DE ${gan_totales}.')\n",
    "\n",
    "(gan_totales > 50000) and (gan_totales < 60000)"
   ]
  },
  {
   "attachments": {},
   "cell_type": "markdown",
   "metadata": {},
   "source": [
    "### Ejercicio años biciestos\n",
    "\n"
   ]
  },
  {
   "cell_type": "code",
   "execution_count": 3,
   "metadata": {},
   "outputs": [
    {
     "name": "stdout",
     "output_type": "stream",
     "text": [
      "No es bisiesto\n"
     ]
    }
   ],
   "source": [
    "año = int(input('Introduce año')) #el año que queremos comprobar\n",
    "\n",
    "if año % 4 != 0: #no divisible entre 4\n",
    "\tprint(\"No es bisiesto\")\n",
    "elif año % 4 == 0 and año % 100 != 0: #divisible entre 4 y no entre 100 o 400\n",
    "    print(\"Es bisiesto\")\n",
    "elif año % 4 == 0 and año % 100 == 0 and año % 400 != 0: #divisible entre 4 y 100 y no entre 400\n",
    "\tprint(\"No es bisiesto\")\n",
    "elif año % 4 == 0 and año % 100 == 0 and año % 400 == 0: #divisible entre 4, 100 y 400\n",
    "\tprint(\"Es bisiesto\")\n",
    "\n",
    "    "
   ]
  },
  {
   "cell_type": "code",
   "execution_count": 4,
   "metadata": {},
   "outputs": [
    {
     "name": "stdout",
     "output_type": "stream",
     "text": [
      "Es bisiesto\n"
     ]
    }
   ],
   "source": [
    "año = int(input('Introduce año')) #el año que queremos comprobar\n",
    "\n",
    "if año % 4 == 0 and (año % 100 != 0 or año % 400 == 0): # año % 4 y ( año no% 100 y año si% 400 )\n",
    "\tprint(\"Es bisiesto\")\n",
    "else:\n",
    "\tprint(\"No es bisiesto\")"
   ]
  },
  {
   "attachments": {},
   "cell_type": "markdown",
   "metadata": {},
   "source": [
    "### EJERCICIOS PRINCIPIANTE\n"
   ]
  },
  {
   "cell_type": "code",
   "execution_count": 5,
   "metadata": {},
   "outputs": [
    {
     "name": "stdout",
     "output_type": "stream",
     "text": [
      "Alain Urrejola\n"
     ]
    }
   ],
   "source": [
    "# Ejercicio 1: Declara una variable llamada nombre y asigna tu nombre como valor. Luego imprime el valor de la variable.\n",
    "# Ejercicio 2: Declara una variable llamada edad y asigna tu edad como valor. Luego imprime el valor de la variable.\n",
    "\n",
    "nombre = 'Alain'\n",
    "apellido = 'Urrejola'\n",
    "\n",
    "print(nombre + ' ' + apellido)"
   ]
  },
  {
   "cell_type": "code",
   "execution_count": 6,
   "metadata": {},
   "outputs": [
    {
     "name": "stdout",
     "output_type": "stream",
     "text": [
      "173 cm \n"
     ]
    }
   ],
   "source": [
    "# Ejercicio 3: Declara una variable llamada altura y asigna tu altura en metros como valor. \n",
    "# Luego imprime el valor de la variable en centímetros.\n",
    "\n",
    "altura = 1.73 \n",
    "\n",
    "print(f'{int(altura * 100)} cm ') "
   ]
  },
  {
   "cell_type": "code",
   "execution_count": 7,
   "metadata": {},
   "outputs": [
    {
     "name": "stdout",
     "output_type": "stream",
     "text": [
      "El saldo es de: $ 35000.00\n"
     ]
    }
   ],
   "source": [
    "# Ejercicio 4: Declara una variable llamada saldo y asigna un valor numérico a la misma. \n",
    "# Luego imprime el valor de la variable en un formato legible para el usuario, con el símbolo de la moneda y dos decimales.\n",
    "\n",
    "saldo = 35000\n",
    "\n",
    "print(f'El saldo es de: ${saldo: .2f}')\n",
    "\n",
    "\n"
   ]
  },
  {
   "cell_type": "code",
   "execution_count": 8,
   "metadata": {},
   "outputs": [
    {
     "name": "stdout",
     "output_type": "stream",
     "text": [
      "<class 'int'>\n"
     ]
    }
   ],
   "source": [
    "# Ejercicio 1: Declara una variable llamada numero y asigna un valor numérico a la misma. Luego imprime el tipo de la variable.\n",
    "\n",
    "numero = 5 \n",
    "print(type(numero))"
   ]
  },
  {
   "cell_type": "code",
   "execution_count": null,
   "metadata": {},
   "outputs": [],
   "source": [
    "# Ejercicio 2: Declara una variable llamada texto y asigna una cadena de texto a la misma. Luego imprime el tipo de la variable.\n",
    "\n",
    "texto = 'ejercicios curso de phyton'\n",
    "\n",
    "print(type(texto))\n",
    "\n",
    "# Ejercicio 3: Declara una variable llamada booleano y asigna un valor booleano a la misma. Luego imprime el tipo de la variable.\n",
    "\n",
    "booleano = False\n",
    "\n",
    "print(type(booleano))\n",
    "\n"
   ]
  },
  {
   "cell_type": "code",
   "execution_count": 9,
   "metadata": {},
   "outputs": [
    {
     "name": "stdout",
     "output_type": "stream",
     "text": [
      "<class 'int'>\n",
      "<class 'int'>\n",
      "<class 'str'>\n",
      "<class 'int'>\n",
      "<class 'float'>\n",
      "<class 'list'>\n"
     ]
    }
   ],
   "source": [
    "# Ejercicio 4: Declara una variable llamada lista y asigna una lista de valores de diferentes tipos a la misma. \n",
    "# Luego itera sobre los elementos de la lista e imprime el tipo de cada uno.\n",
    "\n",
    "lista = [1, 2 , 'prueba', 0, 9.8, [4, 5, 6] ]\n",
    "\n",
    "for n in lista:\n",
    "    print(type(n))"
   ]
  },
  {
   "cell_type": "code",
   "execution_count": 11,
   "metadata": {},
   "outputs": [
    {
     "name": "stdout",
     "output_type": "stream",
     "text": [
      "¡Hola alain!.\n"
     ]
    }
   ],
   "source": [
    "# Ejercicio 1: Haz un programa que pida al usuario ingresar su nombre y luego lo salude.\n",
    "\n",
    "nombre = input('INFRESA TU NOMBRE: ')\n",
    "\n",
    "print(f'¡Hola {nombre}!.')"
   ]
  },
  {
   "cell_type": "code",
   "execution_count": 2,
   "metadata": {},
   "outputs": [
    {
     "name": "stdout",
     "output_type": "stream",
     "text": [
      "5 + 6 = 11\n"
     ]
    }
   ],
   "source": [
    "# Ejercicio 2: Haz un programa que pida al usuario ingresar dos números y luego muestre la suma de los mismos.\n",
    "\n",
    "num_1 = int(input('INGRESA UN NUMERO: '))\n",
    "\n",
    "num_2 = int(input('INGRESA OTRO NUMERO: '))\n",
    "\n",
    "print(f'{num_1} + {num_2} = {num_1 + num_2}')"
   ]
  },
  {
   "cell_type": "code",
   "execution_count": 12,
   "metadata": {},
   "outputs": [
    {
     "name": "stdout",
     "output_type": "stream",
     "text": [
      "[8, 16, 9]\n",
      "EL NÚMERO MAYOR DE LA LISTA ES: 16\n"
     ]
    }
   ],
   "source": [
    "# Ejercicio 3: Haz un programa que pida al usuario ingresar tres números y luego muestre el mayor de los mismos. \n",
    "\n",
    "num_1 = int(input('INGRESA UN NÚMERO: '))\n",
    "num_2 = int(input('INGRESA UN SEGUNDO NÚMERO: '))\n",
    "num_3 = int(input('INGRESA UN TERCER NÚMERO: '))\n",
    "\n",
    "lista = [num_1, num_2, num_3 ]\n",
    "\n",
    "print(lista)\n",
    "\n",
    "print(f'EL NÚMERO MAYOR DE LA LISTA ES: {max(lista)}')\n",
    "\n",
    "\n"
   ]
  },
  {
   "cell_type": "code",
   "execution_count": 13,
   "metadata": {},
   "outputs": [
    {
     "name": "stdout",
     "output_type": "stream",
     "text": [
      "{'r': 1, 'n': 1, 'g': 1, 'c': 2, 's': 1, 'e': 2, 'ó': 1, 'l': 1, 'o': 1, 'a': 2, ' ': 4, 'i': 1, 'u': 2, 'y': 1, 'm': 1}\n"
     ]
    }
   ],
   "source": [
    "# Ejercicio 4: Haz un programa que pida al usuario ingresar una frase y luego cuente cuántas veces se repite cada letra en la frase.\n",
    "\n",
    "frase = input('INGRESA UNA FRASE: ')\n",
    "\n",
    "set_letras = { letra for letra in frase }\n",
    "\n",
    "dict_repeticiones = {}\n",
    "\n",
    "for letra in set_letras:\n",
    "    cantidad_de_repeticiones = frase.count(letra)\n",
    "    dict_repeticiones[letra] = cantidad_de_repeticiones\n",
    "\n",
    "print(dict_repeticiones)\n"
   ]
  },
  {
   "cell_type": "code",
   "execution_count": 2,
   "metadata": {},
   "outputs": [
    {
     "name": "stdout",
     "output_type": "stream",
     "text": [
      "alain urrejola\n"
     ]
    }
   ],
   "source": [
    "# Ejercicio 1: Haz un programa que pida al usuario ingresar su nombre y apellido y luego los muestre juntos en una sola línea.\n",
    "\n",
    "nombre = input('INGRESA TU NOMBRE: ')\n",
    "apellido = input('INGRESA TU APELLIDO: ')\n",
    "\n",
    "print(nombre + ' ' + apellido)\n",
    "\n"
   ]
  },
  {
   "cell_type": "code",
   "execution_count": 14,
   "metadata": {},
   "outputs": [
    {
     "name": "stdout",
     "output_type": "stream",
     "text": [
      "tarresnom\n"
     ]
    }
   ],
   "source": [
    "# Ejercicio 2: Haz un programa que pida al usuario ingresar una frase y luego muestre la frase al revés.\n",
    "\n",
    "frase = input('INGRESA UNA FRASE: ')\n",
    "\n",
    "print ((frase)[::-1])\n"
   ]
  },
  {
   "cell_type": "code",
   "execution_count": 15,
   "metadata": {},
   "outputs": [
    {
     "data": {
      "text/plain": [
       "'MONSITA'"
      ]
     },
     "execution_count": 15,
     "metadata": {},
     "output_type": "execute_result"
    }
   ],
   "source": [
    "# Ejercicio 3: Haz un programa que pida al usuario ingresar una frase y luego muestre la frase en mayúsculas.\n",
    "\n",
    "frase = input('INGRESA UNA FRASE: ')\n",
    "\n",
    "frase.upper()\n",
    "\n",
    "\n",
    "\n"
   ]
  },
  {
   "cell_type": "code",
   "execution_count": 12,
   "metadata": {},
   "outputs": [
    {
     "name": "stdout",
     "output_type": "stream",
     "text": [
      "False\n"
     ]
    }
   ],
   "source": [
    "#Ejercicio 1: Haz un programa que pida al usuario ingresar dos números y luego muestre True si ambos números son iguales \n",
    "# y False en caso contrario.\n",
    "\n",
    "n1 = int(input('INGRESA UN NÚMERO: '))\n",
    "\n",
    "n2 = int(input('INGRESA OTRO NÚMERO: '))\n",
    "\n",
    "if n1 == n2: \n",
    "    print(True)\n",
    "else: \n",
    "    print(False)\n",
    "\n"
   ]
  },
  {
   "cell_type": "code",
   "execution_count": 16,
   "metadata": {},
   "outputs": [
    {
     "name": "stdout",
     "output_type": "stream",
     "text": [
      "True\n"
     ]
    }
   ],
   "source": [
    "# Ejercicio 3: Haz un programa que pida al usuario ingresar dos números y luego muestre True si el primer número es mayor que el segundo \n",
    "# y False en caso contrario.\n",
    "\n",
    "n1 = int(input('INGRESA UN NÚMERO: '))\n",
    "\n",
    "n2 = int(input('INGRESA OTRO NÚMERO: '))\n",
    "\n",
    "if n1 >= n2:\n",
    "    print(True)\n",
    "else:\n",
    "    print(False)\n",
    "\n",
    "\n"
   ]
  },
  {
   "attachments": {},
   "cell_type": "markdown",
   "metadata": {},
   "source": [
    "### Ejercicios obligatorio:\n"
   ]
  },
  {
   "cell_type": "code",
   "execution_count": null,
   "metadata": {},
   "outputs": [],
   "source": [
    "#Realizar un programa que emule el juego de piedra, papel o tijera. \n",
    "#El programa debe pedir al usuario que ingrese su elección y luego debe mostrar la elección del computador y el resultado de la partida.\n",
    "\n",
    "\n",
    "import random\n",
    "\n",
    "def jugar_ronda(eleccion_usuario, eleccion_computadora):\n",
    "\n",
    "    \n",
    "    if eleccion_usuario == \"piedra\" and eleccion_computadora == \"tijeras\":\n",
    "        print(\"¡Ganaste!\")\n",
    "    elif eleccion_usuario == \"papel\" and eleccion_computadora == \"piedra\":\n",
    "        print(\"¡Ganaste!\")\n",
    "    elif eleccion_usuario == \"tijeras\" and eleccion_computadora == \"papel\":\n",
    "        print(\"¡Ganaste!\")\n",
    "    elif eleccion_usuario == eleccion_computadora:\n",
    "        print(\"¡Empate!\")\n",
    "    else:\n",
    "        print(\"¡Perdiste!\")\n",
    "\n",
    "\n",
    "for i in range(3):\n",
    "    eleccion_valida = False\n",
    "    while not eleccion_valida:\n",
    "        eleccion_usuario = input(\"¿piedra, papel o tijeras? \")\n",
    "        if eleccion_usuario in [\"piedra\", \"papel\", \"tijeras\"]:\n",
    "            eleccion_valida = True\n",
    "        else:\n",
    "            print(\"Por favor elige una opción válida.\")\n",
    "    print(f\"Ronda {i + 1}:\")\n",
    "    print(f'ELECCION USUARIO: {eleccion_usuario}')\n",
    "    eleccion_computadora = random.choice([\"piedra\", \"papel\", \"tijeras\"])\n",
    "    print(f'ELECCION PC: {eleccion_computadora}')\n",
    "    jugar_ronda(eleccion_usuario, eleccion_computadora)\n",
    "\n",
    "\n",
    "\n"
   ]
  },
  {
   "cell_type": "code",
   "execution_count": 53,
   "metadata": {},
   "outputs": [
    {
     "name": "stdout",
     "output_type": "stream",
     "text": [
      "EL PROMEDIO ES : 2.0\n"
     ]
    }
   ],
   "source": [
    "# CREAR UN PROGRAMA QUE CALCULE EL PROMEDIO DE UNA LISTA INGRESADA POR EL USUARIO.\n",
    "# EJERCICIO MATI\n",
    "\n",
    "\n",
    "# cantidad de numeros de la lista\n",
    "# los numeros de la lista\n",
    "\n",
    "\n",
    "cantidad_de_numeros = int(input('INGRESAR CANTIDAD DE NUMEROS: '))\n",
    "\n",
    "lista_de_numeros = [ ]\n",
    "suma = 0 \n",
    "\n",
    "for i in range(cantidad_de_numeros):\n",
    "\n",
    "    numero = int(input(f'INGRESAR NUMERO CORRESPONDIENTE A LA POSICION {i} DE LA LISTA : '))\n",
    "    lista_de_numeros.append(numero)\n",
    "    suma += numero\n",
    "\n",
    "\n",
    "print(f'EL PROMEDIO ES : {suma / cantidad_de_numeros}')\n"
   ]
  },
  {
   "cell_type": "code",
   "execution_count": null,
   "metadata": {},
   "outputs": [],
   "source": []
  }
 ],
 "metadata": {
  "kernelspec": {
   "display_name": "APRENDIZAJE",
   "language": "python",
   "name": "python3"
  },
  "language_info": {
   "codemirror_mode": {
    "name": "ipython",
    "version": 3
   },
   "file_extension": ".py",
   "mimetype": "text/x-python",
   "name": "python",
   "nbconvert_exporter": "python",
   "pygments_lexer": "ipython3",
   "version": "3.9.15"
  },
  "orig_nbformat": 4,
  "vscode": {
   "interpreter": {
    "hash": "73369b4007d09f9dee8cba67e1bcef82294aca043eae1b9485c2a84ba598dee1"
   }
  }
 },
 "nbformat": 4,
 "nbformat_minor": 2
}
