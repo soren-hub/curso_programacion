{
 "cells": [
  {
   "attachments": {},
   "cell_type": "markdown",
   "metadata": {},
   "source": [
    "# RESUMEN CURSO PYTHON (tarea 27/12)\n",
    "\n",
    "#### ¿QUE ES PYTHON Y POR QUE ESTUDIARLO? \n",
    "```\n",
    "Python es un lenguaje de programación de alto nivel y fácil de aprender. \n",
    "\n",
    "```\n"
   ]
  },
  {
   "attachments": {},
   "cell_type": "markdown",
   "metadata": {},
   "source": [
    "### SINTAXIS DE PHYTON: \n",
    " > Un programa en Python comienza con un bloque de código que se ejecuta de arriba hacia abajo.\n",
    "\n",
    " > Orden especifico para escribir funciones, variables, etc. \n",
    " \n",
    " > Existen consensos para dar nombres a variables y para el mejor entendimiento de un codigo.\n"
   ]
  },
  {
   "attachments": {},
   "cell_type": "markdown",
   "metadata": {},
   "source": [
    "### PRIMEROS PASOS \n",
    "\n",
    "> Numeral: simbolo utilizado para dejar comentarios.\n",
    "\n",
    "> print()"
   ]
  },
  {
   "cell_type": "code",
   "execution_count": 2,
   "metadata": {},
   "outputs": [
    {
     "name": "stdout",
     "output_type": "stream",
     "text": [
      "\n",
      "¡Hola, mundo!\n",
      "Bienvenidos a la clase de introducción a Python\n",
      "123\n"
     ]
    }
   ],
   "source": [
    "# La primera funcion que hemos visto es:  \n",
    "print() \n",
    "#Nos permite ver en pantalla cualquier mensaje o expresion.\n",
    "\n",
    "#Ej:\n",
    "print('¡Hola, mundo!')\n",
    "print('Bienvenidos a la clase de introducción a Python')\n",
    "\n",
    "# Para escribir texto (str) dentro de la funcion , es necesario ecerrarlo dentro de comillas ( ' ' ).\n",
    "# Para escribibr datos numericos no es necesario. \n",
    "\n",
    "print(123)\n"
   ]
  },
  {
   "attachments": {},
   "cell_type": "markdown",
   "metadata": {},
   "source": [
    "### VARIABLES \n",
    "> ASIGNACION DE VARIABLES. \n",
    "\n",
    "> VARIABLE = VALOR DE VARIABLE"
   ]
  },
  {
   "cell_type": "code",
   "execution_count": null,
   "metadata": {},
   "outputs": [],
   "source": [
    "# SE REALIZA DANDO NOMBRE A UNA VARIABLE Y UN VALOR POR MEDIO DEL SIMBOLO IGUAL (=) LLAMADO SENTENCIA DE ASIGNACION. \n",
    "\n",
    "a = 10\n",
    "b = 9\n",
    "c = 'ocho'\n",
    "\n",
    "print(a, b , c)\n"
   ]
  },
  {
   "attachments": {},
   "cell_type": "markdown",
   "metadata": {},
   "source": [
    "### TIPOS DE DATOS"
   ]
  },
  {
   "cell_type": "code",
   "execution_count": null,
   "metadata": {},
   "outputs": [],
   "source": [
    "# ENTEROS: (int)\n",
    "a = 2\n",
    "\n",
    "# FLOTANTE: (float)\n",
    "b = 0.5 \n",
    "\n",
    "# COMPLEJOS: (complex)\n",
    "c = 10 + 1j\n",
    "\n",
    "#BOOLEANOS: (bool)\n",
    "d = True\n",
    "\n",
    "#SETS: (set)\n",
    "e = {1, 2, 3, 4 ,5} \n",
    "\n",
    "#DICCIONARIOS: (dict)\n",
    "f = {'nombre': 'Alain', 'edad': 25}\n",
    " \n",
    "\n"
   ]
  },
  {
   "attachments": {},
   "cell_type": "markdown",
   "metadata": {},
   "source": [
    "### FUNCIONES RELACIONADAS A LOS TIPOS DE DATOS\n",
    "\n",
    "> print(type()) : Es una función integrada que se utiliza para devolver el tipo de dato de una variable guardada en el programa.\n",
    "\n",
    "> isinstance(x, tipo) : La función devuelve True si el objeto especificado es del tipo especificado; de lo contrario, False."
   ]
  },
  {
   "cell_type": "code",
   "execution_count": null,
   "metadata": {},
   "outputs": [],
   "source": [
    "print(type(a)) \n",
    "\n",
    "isinstance(c, complex)\n",
    "\n",
    "#Funciones (metodos) relacionadas a los diccionarios: \n",
    "\n",
    "#f.items()\n",
    "#f.keys() "
   ]
  },
  {
   "attachments": {},
   "cell_type": "markdown",
   "metadata": {},
   "source": [
    "### TRANSFORMACION DEL TIPO DE DATO"
   ]
  },
  {
   "cell_type": "code",
   "execution_count": 26,
   "metadata": {},
   "outputs": [],
   "source": [
    "#Podemos usar las siguientes funciones para transformar  un dato de un tipo determinado en otro.\n",
    "\n",
    "int()\n",
    "float()\n",
    "str()\n",
    "\n",
    "#EJ: \n",
    "a = 2\n",
    "b = '50'\n",
    "\n"
   ]
  },
  {
   "attachments": {},
   "cell_type": "markdown",
   "metadata": {},
   "source": [
    "###  OPERACIONES ENTRE DATOS\n",
    "Los operadores son símbolos o palabras clave especiales que nos permiten realizar operaciones aritméticas o lógicas con los datos\n",
    "\n",
    "> Aritméticas :  + , - , * , ** , etc.\n",
    "\n",
    "> Comparación e igualdad : > , == , etc. \n",
    "\n",
    "\n"
   ]
  },
  {
   "cell_type": "code",
   "execution_count": null,
   "metadata": {},
   "outputs": [],
   "source": [
    "#Ejemplos: \n",
    "\n",
    "#5 / 2\n",
    "#2.5 // 2.0\n",
    "#5 % 2\n",
    "#'hola' == 'hola'\n",
    "#2 == int(\"2\")\n",
    "#7 > 10\n",
    "'Avellana' > 'Arvejas'\n",
    "\n",
    "\n"
   ]
  },
  {
   "attachments": {},
   "cell_type": "markdown",
   "metadata": {},
   "source": [
    "### OPERADORES LOGICOS CON BOOLEANOS\n",
    "\n",
    ">Las siguientes tablas muestran como funcionan las operaciones lógicas and, or y not."
   ]
  },
  {
   "cell_type": "code",
   "execution_count": 49,
   "metadata": {},
   "outputs": [
    {
     "name": "stdout",
     "output_type": "stream",
     "text": [
      "True\n",
      "False\n",
      "False\n",
      "False\n"
     ]
    }
   ],
   "source": [
    "#TABLA CON AND:\n",
    "\n",
    "print(True and True)\n",
    "print(False and True)\n",
    "print(True and False)\n",
    "print(False and False)"
   ]
  },
  {
   "cell_type": "code",
   "execution_count": 51,
   "metadata": {},
   "outputs": [
    {
     "name": "stdout",
     "output_type": "stream",
     "text": [
      "True\n",
      "True\n",
      "True\n",
      "False\n"
     ]
    }
   ],
   "source": [
    "#TABLA CON OR:\n",
    "\n",
    "print(True or True)\n",
    "print(False or True)\n",
    "print(True or False)\n",
    "print(False or False)"
   ]
  },
  {
   "cell_type": "code",
   "execution_count": 52,
   "metadata": {},
   "outputs": [
    {
     "name": "stdout",
     "output_type": "stream",
     "text": [
      "False\n",
      "True\n"
     ]
    }
   ],
   "source": [
    "#TABLA CON NOT:\n",
    "\n",
    "print(not True)\n",
    "print(not False)"
   ]
  },
  {
   "cell_type": "code",
   "execution_count": 54,
   "metadata": {},
   "outputs": [
    {
     "data": {
      "text/plain": [
       "False"
      ]
     },
     "execution_count": 54,
     "metadata": {},
     "output_type": "execute_result"
    }
   ],
   "source": [
    "#EJEMPLO:\n",
    "\n",
    "a = 10\n",
    "b = 15\n",
    "c = 20 \n",
    "\n",
    "((a<b) and (b>c))\n"
   ]
  },
  {
   "attachments": {},
   "cell_type": "markdown",
   "metadata": {},
   "source": [
    "### CONCATENACIÓN \n",
    "\n",
    "> 4 + 5 => (suma) \n",
    "\n",
    "> 'a' + 'b' => (concatenación) "
   ]
  },
  {
   "cell_type": "code",
   "execution_count": null,
   "metadata": {},
   "outputs": [],
   "source": [
    "#EJEMPLO: \n",
    "\n",
    "saludo = 'Buenas tardes' \n",
    "nombre = 'Matías Lopez'\n",
    "\n",
    "print(saludo + ', ' + nombre)\n",
    "\n"
   ]
  },
  {
   "attachments": {},
   "cell_type": "markdown",
   "metadata": {},
   "source": [
    "### CONCATENACIÓN CON f-strings\n",
    "\n",
    "> Forma de concatenar mas eficiente"
   ]
  },
  {
   "cell_type": "code",
   "execution_count": null,
   "metadata": {},
   "outputs": [],
   "source": [
    "#SINTAXIS: f' texto {variables u operaciones numericas} texto.'\n",
    "\n",
    "#EJEMPLO:\n",
    "nombre = 'Matías'\n",
    "edad = 27\n",
    "estatura = 1.8\n",
    "\n",
    "print(f'Hola {nombre}, tu edad es de {edad} y mides {estatura} metros. ')"
   ]
  },
  {
   "attachments": {},
   "cell_type": "markdown",
   "metadata": {},
   "source": [
    "### INTERACCIÓN CON EL USUSARIO\n",
    "\n",
    "> FUNCION:  input()\n",
    "\n",
    "> Permite pedirle a un usuario alguna entrada de texto"
   ]
  },
  {
   "cell_type": "code",
   "execution_count": 60,
   "metadata": {},
   "outputs": [
    {
     "data": {
      "text/plain": [
       "'alain'"
      ]
     },
     "execution_count": 60,
     "metadata": {},
     "output_type": "execute_result"
    }
   ],
   "source": [
    "#EJEMPLO: \n",
    "\n",
    "input('ingresa tu nombre')\n"
   ]
  }
 ],
 "metadata": {
  "kernelspec": {
   "display_name": "APRENDIZAJE",
   "language": "python",
   "name": "python3"
  },
  "language_info": {
   "codemirror_mode": {
    "name": "ipython",
    "version": 3
   },
   "file_extension": ".py",
   "mimetype": "text/x-python",
   "name": "python",
   "nbconvert_exporter": "python",
   "pygments_lexer": "ipython3",
   "version": "3.9.15 (main, Nov 24 2022, 14:39:17) [MSC v.1916 64 bit (AMD64)]"
  },
  "orig_nbformat": 4,
  "vscode": {
   "interpreter": {
    "hash": "73369b4007d09f9dee8cba67e1bcef82294aca043eae1b9485c2a84ba598dee1"
   }
  }
 },
 "nbformat": 4,
 "nbformat_minor": 2
}
